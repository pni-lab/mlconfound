{
 "cells": [
  {
   "cell_type": "code",
   "execution_count": 7,
   "metadata": {
    "collapsed": true
   },
   "outputs": [],
   "source": [
    "from mlconfound.stats import test_fully_confounded, test_partially_confounded, _r2_cat_cont, _r2_cat_cat, _r2_cont_cat\n",
    "from mlconfound.plot import plot_graph\n",
    "\n",
    "import warnings\n",
    "warnings.filterwarnings(\"error\")"
   ]
  },
  {
   "cell_type": "code",
   "execution_count": 2,
   "outputs": [
    {
     "data": {
      "text/plain": "0.7777777777777778"
     },
     "execution_count": 2,
     "metadata": {},
     "output_type": "execute_result"
    }
   ],
   "source": [
    "_r2_cat_cont([1,1,1,2,2,2,3,3,3],  [1,2,1,2,1,2,3,3,3])"
   ],
   "metadata": {
    "collapsed": false,
    "pycharm": {
     "name": "#%%\n"
    }
   }
  },
  {
   "cell_type": "code",
   "execution_count": 3,
   "outputs": [
    {
     "data": {
      "text/plain": "0.39999888499474023"
     },
     "execution_count": 3,
     "metadata": {},
     "output_type": "execute_result"
    }
   ],
   "source": [
    "_r2_cat_cat([1,1,1,2,2,2,3,3,3],  [1,2,1,2,1,2,3,3,1])"
   ],
   "metadata": {
    "collapsed": false,
    "pycharm": {
     "name": "#%%\n"
    }
   }
  },
  {
   "cell_type": "code",
   "execution_count": 49,
   "outputs": [
    {
     "name": "stderr",
     "output_type": "stream",
     "text": [
      "Permuting: 100%|██████████| 100/100 [00:01<00:00, 78.85it/s] \n"
     ]
    },
    {
     "data": {
      "text/plain": "ResultsFullyConfounded(r2_y_c=0.03442875145739954, r2_y_yhat=0.2703513991760821, r2_yhat_c=0.13950986848975155, p=0.34, p_ci=(0.24822350154484416, 0.4415332677509589), null_distribution=None)"
     },
     "execution_count": 49,
     "metadata": {},
     "output_type": "execute_result"
    }
   ],
   "source": [
    "# x y    z\n",
    "# y yhat c\n",
    "\n",
    "with warnings.catch_warnings():\n",
    "     warnings.simplefilter(\"error\")\n",
    "     res = test_fully_confounded(     [2,1,3,2,2,1,3,2,1,3,2,3],\n",
    "                                [1,2,1,2,1,2,3,3,2,2,3,1],\n",
    "                                [1,1,1,1,2,2,2,2,3,3,3,3],\n",
    "                                 cat_y=True, cat_yhat=True, cat_c=True,\n",
    "                                 random_state=42, num_perms=100, n_jobs=-1)\n",
    "res"
   ],
   "metadata": {
    "collapsed": false,
    "pycharm": {
     "name": "#%%\n"
    }
   }
  },
  {
   "cell_type": "code",
   "execution_count": 41,
   "outputs": [
    {
     "ename": "HessianInversionWarning",
     "evalue": "Inverting hessian failed, no bse or cov_params available",
     "output_type": "error",
     "traceback": [
      "\u001B[0;31m---------------------------------------------------------------------------\u001B[0m",
      "\u001B[0;31mHessianInversionWarning\u001B[0m                   Traceback (most recent call last)",
      "\u001B[0;32m/tmp/ipykernel_128855/1878391673.py\u001B[0m in \u001B[0;36m<module>\u001B[0;34m\u001B[0m\n\u001B[1;32m      1\u001B[0m \u001B[0;32mwith\u001B[0m \u001B[0mwarnings\u001B[0m\u001B[0;34m.\u001B[0m\u001B[0mcatch_warnings\u001B[0m\u001B[0;34m(\u001B[0m\u001B[0;34m)\u001B[0m\u001B[0;34m:\u001B[0m\u001B[0;34m\u001B[0m\u001B[0;34m\u001B[0m\u001B[0m\n\u001B[1;32m      2\u001B[0m      \u001B[0mwarnings\u001B[0m\u001B[0;34m.\u001B[0m\u001B[0msimplefilter\u001B[0m\u001B[0;34m(\u001B[0m\u001B[0;34m\"error\"\u001B[0m\u001B[0;34m)\u001B[0m\u001B[0;34m\u001B[0m\u001B[0;34m\u001B[0m\u001B[0m\n\u001B[0;32m----> 3\u001B[0;31m      test_partially_confounded( [2,1,1,2,2,2,2,2,1,3,3,3],\n\u001B[0m\u001B[1;32m      4\u001B[0m                                 \u001B[0;34m[\u001B[0m\u001B[0;36m1\u001B[0m\u001B[0;34m,\u001B[0m\u001B[0;36m2\u001B[0m\u001B[0;34m,\u001B[0m\u001B[0;36m1\u001B[0m\u001B[0;34m,\u001B[0m\u001B[0;36m2\u001B[0m\u001B[0;34m,\u001B[0m\u001B[0;36m1\u001B[0m\u001B[0;34m,\u001B[0m\u001B[0;36m2\u001B[0m\u001B[0;34m,\u001B[0m\u001B[0;36m3\u001B[0m\u001B[0;34m,\u001B[0m\u001B[0;36m3\u001B[0m\u001B[0;34m,\u001B[0m\u001B[0;36m2\u001B[0m\u001B[0;34m,\u001B[0m\u001B[0;36m2\u001B[0m\u001B[0;34m,\u001B[0m\u001B[0;36m3\u001B[0m\u001B[0;34m,\u001B[0m\u001B[0;36m1\u001B[0m\u001B[0;34m]\u001B[0m\u001B[0;34m,\u001B[0m\u001B[0;34m\u001B[0m\u001B[0;34m\u001B[0m\u001B[0m\n\u001B[1;32m      5\u001B[0m                                 \u001B[0;34m[\u001B[0m\u001B[0;36m1\u001B[0m\u001B[0;34m,\u001B[0m\u001B[0;36m1\u001B[0m\u001B[0;34m,\u001B[0m\u001B[0;36m1\u001B[0m\u001B[0;34m,\u001B[0m\u001B[0;36m1\u001B[0m\u001B[0;34m,\u001B[0m\u001B[0;36m2\u001B[0m\u001B[0;34m,\u001B[0m\u001B[0;36m2\u001B[0m\u001B[0;34m,\u001B[0m\u001B[0;36m2\u001B[0m\u001B[0;34m,\u001B[0m\u001B[0;36m2\u001B[0m\u001B[0;34m,\u001B[0m\u001B[0;36m3\u001B[0m\u001B[0;34m,\u001B[0m\u001B[0;36m3\u001B[0m\u001B[0;34m,\u001B[0m\u001B[0;36m3\u001B[0m\u001B[0;34m,\u001B[0m\u001B[0;36m3\u001B[0m\u001B[0;34m]\u001B[0m\u001B[0;34m,\u001B[0m\u001B[0;34m\u001B[0m\u001B[0;34m\u001B[0m\u001B[0m\n",
      "\u001B[0;32m~/src/mlconfound/mlconfound/stats.py\u001B[0m in \u001B[0;36mtest_partially_confounded\u001B[0;34m(y, yhat, c, num_perms, cat_y, cat_yhat, cat_c, mcmc_nstep, cond_dist_method, return_null_dist, random_state, progress, n_jobs)\u001B[0m\n\u001B[1;32m    285\u001B[0m     \"\"\"\n\u001B[1;32m    286\u001B[0m     return ResultsPartiallyConfounded(\n\u001B[0;32m--> 287\u001B[0;31m         *cpt(x=c, y=yhat, z=y, num_perms=num_perms, cat_x=cat_c, cat_y=cat_yhat, cat_z=cat_y, mcmc_nstep=mcmc_nstep,\n\u001B[0m\u001B[1;32m    288\u001B[0m              \u001B[0mcond_dist_method\u001B[0m\u001B[0;34m=\u001B[0m\u001B[0mcond_dist_method\u001B[0m\u001B[0;34m,\u001B[0m \u001B[0mreturn_null_dist\u001B[0m\u001B[0;34m=\u001B[0m\u001B[0mreturn_null_dist\u001B[0m\u001B[0;34m,\u001B[0m \u001B[0mrandom_state\u001B[0m\u001B[0;34m=\u001B[0m\u001B[0mrandom_state\u001B[0m\u001B[0;34m,\u001B[0m\u001B[0;34m\u001B[0m\u001B[0;34m\u001B[0m\u001B[0m\n\u001B[1;32m    289\u001B[0m              progress=progress, n_jobs=n_jobs))\n",
      "\u001B[0;32m~/src/mlconfound/mlconfound/stats.py\u001B[0m in \u001B[0;36mcpt\u001B[0;34m(x, y, z, num_perms, cat_x, cat_y, cat_z, mcmc_nstep, cond_dist_method, return_null_dist, random_state, progress, n_jobs)\u001B[0m\n\u001B[1;32m    148\u001B[0m     \u001B[0mx\u001B[0m \u001B[0;34m=\u001B[0m \u001B[0mnp\u001B[0m\u001B[0;34m.\u001B[0m\u001B[0marray\u001B[0m\u001B[0;34m(\u001B[0m\u001B[0mx\u001B[0m\u001B[0;34m)\u001B[0m\u001B[0;34m\u001B[0m\u001B[0;34m\u001B[0m\u001B[0m\n\u001B[1;32m    149\u001B[0m \u001B[0;34m\u001B[0m\u001B[0m\n\u001B[0;32m--> 150\u001B[0;31m     \u001B[0mr2_x_z\u001B[0m \u001B[0;34m=\u001B[0m \u001B[0mr2_xz\u001B[0m\u001B[0;34m(\u001B[0m\u001B[0mx\u001B[0m\u001B[0;34m,\u001B[0m \u001B[0mz\u001B[0m\u001B[0;34m)\u001B[0m\u001B[0;34m\u001B[0m\u001B[0;34m\u001B[0m\u001B[0m\n\u001B[0m\u001B[1;32m    151\u001B[0m     \u001B[0mr2_y_z\u001B[0m \u001B[0;34m=\u001B[0m \u001B[0mr2_yz\u001B[0m\u001B[0;34m(\u001B[0m\u001B[0my\u001B[0m\u001B[0;34m,\u001B[0m \u001B[0mz\u001B[0m\u001B[0;34m)\u001B[0m\u001B[0;34m\u001B[0m\u001B[0;34m\u001B[0m\u001B[0m\n\u001B[1;32m    152\u001B[0m     \u001B[0mr2_x_y\u001B[0m \u001B[0;34m=\u001B[0m \u001B[0mr2_xy\u001B[0m\u001B[0;34m(\u001B[0m\u001B[0mx\u001B[0m\u001B[0;34m,\u001B[0m \u001B[0my\u001B[0m\u001B[0;34m)\u001B[0m\u001B[0;34m\u001B[0m\u001B[0;34m\u001B[0m\u001B[0m\n",
      "\u001B[0;32m~/src/mlconfound/mlconfound/stats.py\u001B[0m in \u001B[0;36m_r2_cat_cat\u001B[0;34m(x, y)\u001B[0m\n\u001B[1;32m     34\u001B[0m         \u001B[0;34m'y'\u001B[0m\u001B[0;34m:\u001B[0m \u001B[0my\u001B[0m\u001B[0;34m\u001B[0m\u001B[0;34m\u001B[0m\u001B[0m\n\u001B[1;32m     35\u001B[0m     })\n\u001B[0;32m---> 36\u001B[0;31m     \u001B[0mfit\u001B[0m \u001B[0;34m=\u001B[0m \u001B[0mmnlogit\u001B[0m\u001B[0;34m(\u001B[0m\u001B[0;34m'y ~ C(x)'\u001B[0m\u001B[0;34m,\u001B[0m \u001B[0mdata\u001B[0m\u001B[0;34m=\u001B[0m\u001B[0mdf\u001B[0m\u001B[0;34m)\u001B[0m\u001B[0;34m.\u001B[0m\u001B[0mfit\u001B[0m\u001B[0;34m(\u001B[0m\u001B[0mdisp\u001B[0m\u001B[0;34m=\u001B[0m\u001B[0;36m0\u001B[0m\u001B[0;34m,\u001B[0m \u001B[0mmethod\u001B[0m\u001B[0;34m=\u001B[0m\u001B[0;34m'powell'\u001B[0m\u001B[0;34m)\u001B[0m\u001B[0;34m\u001B[0m\u001B[0;34m\u001B[0m\u001B[0m\n\u001B[0m\u001B[1;32m     37\u001B[0m     \u001B[0;32mreturn\u001B[0m \u001B[0mfit\u001B[0m\u001B[0;34m.\u001B[0m\u001B[0mprsquared\u001B[0m\u001B[0;34m\u001B[0m\u001B[0;34m\u001B[0m\u001B[0m\n\u001B[1;32m     38\u001B[0m \u001B[0;34m\u001B[0m\u001B[0m\n",
      "\u001B[0;32m~/src/mlconfound/venv/lib/python3.8/site-packages/statsmodels/discrete/discrete_model.py\u001B[0m in \u001B[0;36mfit\u001B[0;34m(self, start_params, method, maxiter, full_output, disp, callback, **kwargs)\u001B[0m\n\u001B[1;32m    648\u001B[0m         \u001B[0mcallback\u001B[0m \u001B[0;34m=\u001B[0m \u001B[0;32mlambda\u001B[0m \u001B[0mx\u001B[0m \u001B[0;34m:\u001B[0m \u001B[0;32mNone\u001B[0m \u001B[0;31m# placeholder until check_perfect_pred\u001B[0m\u001B[0;34m\u001B[0m\u001B[0;34m\u001B[0m\u001B[0m\n\u001B[1;32m    649\u001B[0m         \u001B[0;31m# skip calling super to handle results from LikelihoodModel\u001B[0m\u001B[0;34m\u001B[0m\u001B[0;34m\u001B[0m\u001B[0;34m\u001B[0m\u001B[0m\n\u001B[0;32m--> 650\u001B[0;31m         mnfit = base.LikelihoodModel.fit(self, start_params = start_params,\n\u001B[0m\u001B[1;32m    651\u001B[0m                 \u001B[0mmethod\u001B[0m\u001B[0;34m=\u001B[0m\u001B[0mmethod\u001B[0m\u001B[0;34m,\u001B[0m \u001B[0mmaxiter\u001B[0m\u001B[0;34m=\u001B[0m\u001B[0mmaxiter\u001B[0m\u001B[0;34m,\u001B[0m \u001B[0mfull_output\u001B[0m\u001B[0;34m=\u001B[0m\u001B[0mfull_output\u001B[0m\u001B[0;34m,\u001B[0m\u001B[0;34m\u001B[0m\u001B[0;34m\u001B[0m\u001B[0m\n\u001B[1;32m    652\u001B[0m                 disp=disp, callback=callback, **kwargs)\n",
      "\u001B[0;32m~/src/mlconfound/venv/lib/python3.8/site-packages/statsmodels/base/model.py\u001B[0m in \u001B[0;36mfit\u001B[0;34m(self, start_params, method, maxiter, full_output, disp, fargs, callback, retall, skip_hessian, **kwargs)\u001B[0m\n\u001B[1;32m    545\u001B[0m                 \u001B[0mHinv\u001B[0m \u001B[0;34m=\u001B[0m \u001B[0mnp\u001B[0m\u001B[0;34m.\u001B[0m\u001B[0masfortranarray\u001B[0m\u001B[0;34m(\u001B[0m\u001B[0;34m(\u001B[0m\u001B[0mHinv\u001B[0m \u001B[0;34m+\u001B[0m \u001B[0mHinv\u001B[0m\u001B[0;34m.\u001B[0m\u001B[0mT\u001B[0m\u001B[0;34m)\u001B[0m \u001B[0;34m/\u001B[0m \u001B[0;36m2.0\u001B[0m\u001B[0;34m)\u001B[0m\u001B[0;34m\u001B[0m\u001B[0;34m\u001B[0m\u001B[0m\n\u001B[1;32m    546\u001B[0m             \u001B[0;32melse\u001B[0m\u001B[0;34m:\u001B[0m\u001B[0;34m\u001B[0m\u001B[0;34m\u001B[0m\u001B[0m\n\u001B[0;32m--> 547\u001B[0;31m                 warnings.warn('Inverting hessian failed, no bse or cov_params '\n\u001B[0m\u001B[1;32m    548\u001B[0m                               'available', HessianInversionWarning)\n\u001B[1;32m    549\u001B[0m                 \u001B[0mHinv\u001B[0m \u001B[0;34m=\u001B[0m \u001B[0;32mNone\u001B[0m\u001B[0;34m\u001B[0m\u001B[0;34m\u001B[0m\u001B[0m\n",
      "\u001B[0;31mHessianInversionWarning\u001B[0m: Inverting hessian failed, no bse or cov_params available"
     ]
    }
   ],
   "source": [
    "with warnings.catch_warnings():\n",
    "     warnings.simplefilter(\"error\")\n",
    "     test_partially_confounded( [2,1,1,2,2,2,2,2,1,3,3,3],\n",
    "                                [1,2,1,2,1,2,3,3,2,2,3,1],\n",
    "                                [1,1,1,1,2,2,2,2,3,3,3,3],\n",
    "                                 cat_y=True, cat_yhat=True, cat_c=True,\n",
    "                                 random_state=42)"
   ],
   "metadata": {
    "collapsed": false,
    "pycharm": {
     "name": "#%%\n"
    }
   }
  },
  {
   "cell_type": "code",
   "execution_count": 32,
   "outputs": [],
   "source": [
    "from statsmodels.formula.api import ols, mnlogit\n",
    "import pandas as pd\n",
    "\n",
    "# c yhat y\n",
    "# x y    z\n",
    "df = pd.DataFrame({\n",
    "        'x': [2,1,1,2,2,2,2,2,1,3,3,3],\n",
    "        'y': [1,2,1,2,1,2,3,3,2,2,3,1]\n",
    "    })\n",
    "fit = mnlogit('y ~ C(x)', data=df).fit(disp=0, method='powell')"
   ],
   "metadata": {
    "collapsed": false,
    "pycharm": {
     "name": "#%%\n"
    }
   }
  },
  {
   "cell_type": "code",
   "execution_count": null,
   "outputs": [],
   "source": [],
   "metadata": {
    "collapsed": false,
    "pycharm": {
     "name": "#%%\n"
    }
   }
  }
 ],
 "metadata": {
  "kernelspec": {
   "display_name": "Python 3",
   "language": "python",
   "name": "python3"
  },
  "language_info": {
   "codemirror_mode": {
    "name": "ipython",
    "version": 2
   },
   "file_extension": ".py",
   "mimetype": "text/x-python",
   "name": "python",
   "nbconvert_exporter": "python",
   "pygments_lexer": "ipython2",
   "version": "2.7.6"
  }
 },
 "nbformat": 4,
 "nbformat_minor": 0
}