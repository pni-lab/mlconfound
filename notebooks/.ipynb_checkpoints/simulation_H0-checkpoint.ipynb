{
 "cells": [
  {
   "cell_type": "code",
   "execution_count": 1,
   "metadata": {
    "ExecuteTime": {
     "end_time": "2021-07-19T19:18:03.559494Z",
     "start_time": "2021-07-19T19:18:02.292969Z"
    }
   },
   "outputs": [],
   "source": [
    "import sys\n",
    "sys.path.insert(0, '..')\n",
    "from mlconfound.stats import confound_test\n",
    "from mlconfound.simulate import simulate\n",
    "\n",
    "import numpy as np\n",
    "import pandas as pd\n",
    "import warnings\n",
    "warnings.simplefilter(\"always\")\n",
    "import seaborn as sns\n",
    "sns.set_style(\"whitegrid\")\n",
    "import matplotlib.pyplot as plt"
   ]
  },
  {
   "cell_type": "code",
   "execution_count": 3,
   "metadata": {
    "ExecuteTime": {
     "end_time": "2021-07-19T19:18:55.245679Z",
     "start_time": "2021-07-19T19:18:44.110270Z"
    }
   },
   "outputs": [
    {
     "name": "stderr",
     "output_type": "stream",
     "text": [
      "Permuting:  99%|█████████▉| 9879/10000 [00:11<00:00, 891.55it/s] \n"
     ]
    },
    {
     "ename": "KeyboardInterrupt",
     "evalue": "",
     "output_type": "error",
     "traceback": [
      "\u001b[0;31m---------------------------------------------------------------------------\u001b[0m",
      "\u001b[0;31mKeyboardInterrupt\u001b[0m                         Traceback (most recent call last)",
      "\u001b[0;32m<ipython-input-3-db4434bb7946>\u001b[0m in \u001b[0;36m<module>\u001b[0;34m\u001b[0m\n\u001b[1;32m     24\u001b[0m         \u001b[0;31m# test for confound\u001b[0m\u001b[0;34m\u001b[0m\u001b[0;34m\u001b[0m\u001b[0;34m\u001b[0m\u001b[0m\n\u001b[1;32m     25\u001b[0m         ret=confound_test(y, yhat, c, num_perms=num_perms, return_null_dist=False,\n\u001b[0;32m---> 26\u001b[0;31m                           random_state=iteration, n_jobs=-1)\n\u001b[0m\u001b[1;32m     27\u001b[0m \u001b[0;34m\u001b[0m\u001b[0m\n\u001b[1;32m     28\u001b[0m         results.append(\n",
      "\u001b[0;32m~/Dropbox/src/mlconfound/mlconfound/stats.py\u001b[0m in \u001b[0;36mconfound_test\u001b[0;34m(y, yhat, c, num_perms, cat_y, cat_c, nstep, return_null_dist, random_state, n_jobs)\u001b[0m\n\u001b[1;32m    115\u001b[0m \u001b[0;34m\u001b[0m\u001b[0m\n\u001b[1;32m    116\u001b[0m     \u001b[0;32mwith\u001b[0m \u001b[0mtqdm_joblib\u001b[0m\u001b[0;34m(\u001b[0m\u001b[0mtqdm\u001b[0m\u001b[0;34m(\u001b[0m\u001b[0mdesc\u001b[0m\u001b[0;34m=\u001b[0m\u001b[0;34m'Permuting'\u001b[0m\u001b[0;34m,\u001b[0m \u001b[0mtotal\u001b[0m\u001b[0;34m=\u001b[0m\u001b[0mnum_perms\u001b[0m\u001b[0;34m)\u001b[0m\u001b[0;34m)\u001b[0m \u001b[0;32mas\u001b[0m \u001b[0mprogress_bar\u001b[0m\u001b[0;34m:\u001b[0m\u001b[0;34m\u001b[0m\u001b[0;34m\u001b[0m\u001b[0m\n\u001b[0;32m--> 117\u001b[0;31m         \u001b[0mr2_yhat_c_star\u001b[0m \u001b[0;34m=\u001b[0m \u001b[0mnp\u001b[0m\u001b[0;34m.\u001b[0m\u001b[0marray\u001b[0m\u001b[0;34m(\u001b[0m\u001b[0mParallel\u001b[0m\u001b[0;34m(\u001b[0m\u001b[0mn_jobs\u001b[0m\u001b[0;34m=\u001b[0m\u001b[0mn_jobs\u001b[0m\u001b[0;34m)\u001b[0m\u001b[0;34m(\u001b[0m\u001b[0mdelayed\u001b[0m\u001b[0;34m(\u001b[0m\u001b[0mworkhorse\u001b[0m\u001b[0;34m)\u001b[0m\u001b[0;34m(\u001b[0m\u001b[0mi\u001b[0m\u001b[0;34m)\u001b[0m \u001b[0;32mfor\u001b[0m \u001b[0mi\u001b[0m \u001b[0;32min\u001b[0m \u001b[0mrandom_sates\u001b[0m\u001b[0;34m)\u001b[0m\u001b[0;34m)\u001b[0m\u001b[0;34m\u001b[0m\u001b[0;34m\u001b[0m\u001b[0m\n\u001b[0m\u001b[1;32m    118\u001b[0m \u001b[0;34m\u001b[0m\u001b[0m\n\u001b[1;32m    119\u001b[0m     \u001b[0mp\u001b[0m \u001b[0;34m=\u001b[0m \u001b[0mnp\u001b[0m\u001b[0;34m.\u001b[0m\u001b[0msum\u001b[0m\u001b[0;34m(\u001b[0m\u001b[0mr2_yhat_c_star\u001b[0m \u001b[0;34m>=\u001b[0m \u001b[0mr2_yhat_c\u001b[0m\u001b[0;34m)\u001b[0m \u001b[0;34m/\u001b[0m \u001b[0mlen\u001b[0m\u001b[0;34m(\u001b[0m\u001b[0mr2_yhat_c_star\u001b[0m\u001b[0;34m)\u001b[0m\u001b[0;34m\u001b[0m\u001b[0;34m\u001b[0m\u001b[0m\n",
      "\u001b[0;32m/opt/anaconda3/lib/python3.7/site-packages/joblib/parallel.py\u001b[0m in \u001b[0;36m__call__\u001b[0;34m(self, iterable)\u001b[0m\n\u001b[1;32m    932\u001b[0m \u001b[0;34m\u001b[0m\u001b[0m\n\u001b[1;32m    933\u001b[0m             \u001b[0;32mwith\u001b[0m \u001b[0mself\u001b[0m\u001b[0;34m.\u001b[0m\u001b[0m_backend\u001b[0m\u001b[0;34m.\u001b[0m\u001b[0mretrieval_context\u001b[0m\u001b[0;34m(\u001b[0m\u001b[0;34m)\u001b[0m\u001b[0;34m:\u001b[0m\u001b[0;34m\u001b[0m\u001b[0;34m\u001b[0m\u001b[0m\n\u001b[0;32m--> 934\u001b[0;31m                 \u001b[0mself\u001b[0m\u001b[0;34m.\u001b[0m\u001b[0mretrieve\u001b[0m\u001b[0;34m(\u001b[0m\u001b[0;34m)\u001b[0m\u001b[0;34m\u001b[0m\u001b[0;34m\u001b[0m\u001b[0m\n\u001b[0m\u001b[1;32m    935\u001b[0m             \u001b[0;31m# Make sure that we get a last message telling us we are done\u001b[0m\u001b[0;34m\u001b[0m\u001b[0;34m\u001b[0m\u001b[0;34m\u001b[0m\u001b[0m\n\u001b[1;32m    936\u001b[0m             \u001b[0melapsed_time\u001b[0m \u001b[0;34m=\u001b[0m \u001b[0mtime\u001b[0m\u001b[0;34m.\u001b[0m\u001b[0mtime\u001b[0m\u001b[0;34m(\u001b[0m\u001b[0;34m)\u001b[0m \u001b[0;34m-\u001b[0m \u001b[0mself\u001b[0m\u001b[0;34m.\u001b[0m\u001b[0m_start_time\u001b[0m\u001b[0;34m\u001b[0m\u001b[0;34m\u001b[0m\u001b[0m\n",
      "\u001b[0;32m/opt/anaconda3/lib/python3.7/site-packages/joblib/parallel.py\u001b[0m in \u001b[0;36mretrieve\u001b[0;34m(self)\u001b[0m\n\u001b[1;32m    831\u001b[0m             \u001b[0;32mtry\u001b[0m\u001b[0;34m:\u001b[0m\u001b[0;34m\u001b[0m\u001b[0;34m\u001b[0m\u001b[0m\n\u001b[1;32m    832\u001b[0m                 \u001b[0;32mif\u001b[0m \u001b[0mgetattr\u001b[0m\u001b[0;34m(\u001b[0m\u001b[0mself\u001b[0m\u001b[0;34m.\u001b[0m\u001b[0m_backend\u001b[0m\u001b[0;34m,\u001b[0m \u001b[0;34m'supports_timeout'\u001b[0m\u001b[0;34m,\u001b[0m \u001b[0;32mFalse\u001b[0m\u001b[0;34m)\u001b[0m\u001b[0;34m:\u001b[0m\u001b[0;34m\u001b[0m\u001b[0;34m\u001b[0m\u001b[0m\n\u001b[0;32m--> 833\u001b[0;31m                     \u001b[0mself\u001b[0m\u001b[0;34m.\u001b[0m\u001b[0m_output\u001b[0m\u001b[0;34m.\u001b[0m\u001b[0mextend\u001b[0m\u001b[0;34m(\u001b[0m\u001b[0mjob\u001b[0m\u001b[0;34m.\u001b[0m\u001b[0mget\u001b[0m\u001b[0;34m(\u001b[0m\u001b[0mtimeout\u001b[0m\u001b[0;34m=\u001b[0m\u001b[0mself\u001b[0m\u001b[0;34m.\u001b[0m\u001b[0mtimeout\u001b[0m\u001b[0;34m)\u001b[0m\u001b[0;34m)\u001b[0m\u001b[0;34m\u001b[0m\u001b[0;34m\u001b[0m\u001b[0m\n\u001b[0m\u001b[1;32m    834\u001b[0m                 \u001b[0;32melse\u001b[0m\u001b[0;34m:\u001b[0m\u001b[0;34m\u001b[0m\u001b[0;34m\u001b[0m\u001b[0m\n\u001b[1;32m    835\u001b[0m                     \u001b[0mself\u001b[0m\u001b[0;34m.\u001b[0m\u001b[0m_output\u001b[0m\u001b[0;34m.\u001b[0m\u001b[0mextend\u001b[0m\u001b[0;34m(\u001b[0m\u001b[0mjob\u001b[0m\u001b[0;34m.\u001b[0m\u001b[0mget\u001b[0m\u001b[0;34m(\u001b[0m\u001b[0;34m)\u001b[0m\u001b[0;34m)\u001b[0m\u001b[0;34m\u001b[0m\u001b[0;34m\u001b[0m\u001b[0m\n",
      "\u001b[0;32m/opt/anaconda3/lib/python3.7/site-packages/joblib/_parallel_backends.py\u001b[0m in \u001b[0;36mwrap_future_result\u001b[0;34m(future, timeout)\u001b[0m\n\u001b[1;32m    519\u001b[0m         AsyncResults.get from multiprocessing.\"\"\"\n\u001b[1;32m    520\u001b[0m         \u001b[0;32mtry\u001b[0m\u001b[0;34m:\u001b[0m\u001b[0;34m\u001b[0m\u001b[0;34m\u001b[0m\u001b[0m\n\u001b[0;32m--> 521\u001b[0;31m             \u001b[0;32mreturn\u001b[0m \u001b[0mfuture\u001b[0m\u001b[0;34m.\u001b[0m\u001b[0mresult\u001b[0m\u001b[0;34m(\u001b[0m\u001b[0mtimeout\u001b[0m\u001b[0;34m=\u001b[0m\u001b[0mtimeout\u001b[0m\u001b[0;34m)\u001b[0m\u001b[0;34m\u001b[0m\u001b[0;34m\u001b[0m\u001b[0m\n\u001b[0m\u001b[1;32m    522\u001b[0m         \u001b[0;32mexcept\u001b[0m \u001b[0mLokyTimeoutError\u001b[0m\u001b[0;34m:\u001b[0m\u001b[0;34m\u001b[0m\u001b[0;34m\u001b[0m\u001b[0m\n\u001b[1;32m    523\u001b[0m             \u001b[0;32mraise\u001b[0m \u001b[0mTimeoutError\u001b[0m\u001b[0;34m(\u001b[0m\u001b[0;34m)\u001b[0m\u001b[0;34m\u001b[0m\u001b[0;34m\u001b[0m\u001b[0m\n",
      "\u001b[0;32m/opt/anaconda3/lib/python3.7/concurrent/futures/_base.py\u001b[0m in \u001b[0;36mresult\u001b[0;34m(self, timeout)\u001b[0m\n\u001b[1;32m    428\u001b[0m                 \u001b[0;32mreturn\u001b[0m \u001b[0mself\u001b[0m\u001b[0;34m.\u001b[0m\u001b[0m__get_result\u001b[0m\u001b[0;34m(\u001b[0m\u001b[0;34m)\u001b[0m\u001b[0;34m\u001b[0m\u001b[0;34m\u001b[0m\u001b[0m\n\u001b[1;32m    429\u001b[0m \u001b[0;34m\u001b[0m\u001b[0m\n\u001b[0;32m--> 430\u001b[0;31m             \u001b[0mself\u001b[0m\u001b[0;34m.\u001b[0m\u001b[0m_condition\u001b[0m\u001b[0;34m.\u001b[0m\u001b[0mwait\u001b[0m\u001b[0;34m(\u001b[0m\u001b[0mtimeout\u001b[0m\u001b[0;34m)\u001b[0m\u001b[0;34m\u001b[0m\u001b[0;34m\u001b[0m\u001b[0m\n\u001b[0m\u001b[1;32m    431\u001b[0m \u001b[0;34m\u001b[0m\u001b[0m\n\u001b[1;32m    432\u001b[0m             \u001b[0;32mif\u001b[0m \u001b[0mself\u001b[0m\u001b[0;34m.\u001b[0m\u001b[0m_state\u001b[0m \u001b[0;32min\u001b[0m \u001b[0;34m[\u001b[0m\u001b[0mCANCELLED\u001b[0m\u001b[0;34m,\u001b[0m \u001b[0mCANCELLED_AND_NOTIFIED\u001b[0m\u001b[0;34m]\u001b[0m\u001b[0;34m:\u001b[0m\u001b[0;34m\u001b[0m\u001b[0;34m\u001b[0m\u001b[0m\n",
      "\u001b[0;32m/opt/anaconda3/lib/python3.7/threading.py\u001b[0m in \u001b[0;36mwait\u001b[0;34m(self, timeout)\u001b[0m\n\u001b[1;32m    294\u001b[0m         \u001b[0;32mtry\u001b[0m\u001b[0;34m:\u001b[0m    \u001b[0;31m# restore state no matter what (e.g., KeyboardInterrupt)\u001b[0m\u001b[0;34m\u001b[0m\u001b[0;34m\u001b[0m\u001b[0m\n\u001b[1;32m    295\u001b[0m             \u001b[0;32mif\u001b[0m \u001b[0mtimeout\u001b[0m \u001b[0;32mis\u001b[0m \u001b[0;32mNone\u001b[0m\u001b[0;34m:\u001b[0m\u001b[0;34m\u001b[0m\u001b[0;34m\u001b[0m\u001b[0m\n\u001b[0;32m--> 296\u001b[0;31m                 \u001b[0mwaiter\u001b[0m\u001b[0;34m.\u001b[0m\u001b[0macquire\u001b[0m\u001b[0;34m(\u001b[0m\u001b[0;34m)\u001b[0m\u001b[0;34m\u001b[0m\u001b[0;34m\u001b[0m\u001b[0m\n\u001b[0m\u001b[1;32m    297\u001b[0m                 \u001b[0mgotit\u001b[0m \u001b[0;34m=\u001b[0m \u001b[0;32mTrue\u001b[0m\u001b[0;34m\u001b[0m\u001b[0;34m\u001b[0m\u001b[0m\n\u001b[1;32m    298\u001b[0m             \u001b[0;32melse\u001b[0m\u001b[0;34m:\u001b[0m\u001b[0;34m\u001b[0m\u001b[0;34m\u001b[0m\u001b[0m\n",
      "\u001b[0;31mKeyboardInterrupt\u001b[0m: "
     ]
    }
   ],
   "source": [
    "ts_ratio_y = 0.7\n",
    "cs_ratio_y = 0.1\n",
    "ts_ratio_c = 0.0\n",
    "cs_ratio_c = 0.8\n",
    "#ts_ratio_yhat # THIS IS VARIED\n",
    "cs_ratio_yhat = 0.1  # NO BIAS\n",
    "num_perms = 10000\n",
    "n=100\n",
    "\n",
    "\n",
    "\n",
    "results = []\n",
    "\n",
    "for iteration in range(100):\n",
    "    for ts_ratio_yhat in [0.6]:\n",
    "        # simuklate data without confounder-bias\n",
    "        #                 true signal    confounder\n",
    "        y, yhat, c = simulate(ts_ratio_y,       cs_ratio_y,     # y\n",
    "                              ts_ratio_c,       cs_ratio_c,     # c\n",
    "                              ts_ratio_yhat,    cs_ratio_yhat,  # yhat\n",
    "                              n=n,                            # simulated sample size\n",
    "                              random_state=iteration\n",
    "                              )\n",
    "        # test for confound\n",
    "        ret=confound_test(y, yhat, c, num_perms=num_perms, return_null_dist=False,\n",
    "                          random_state=iteration, n_jobs=-1)\n",
    "        \n",
    "        results.append(\n",
    "            np.array([\n",
    "                iteration,       #0\n",
    "                n,               #1\n",
    "                ts_ratio_y,      #2\n",
    "                cs_ratio_y,      #3\n",
    "                ts_ratio_c,      #4\n",
    "                cs_ratio_c,      #5\n",
    "                ts_ratio_yhat,   #6\n",
    "                cs_ratio_yhat,   #7\n",
    "                num_perms,       #8\n",
    "                ret.r2_y_c,      #9\n",
    "                ret.r2_yhat_c,   #10\n",
    "                ret.r2_y_yhat,   #11\n",
    "                ret.p,           #12\n",
    "                ret.p_ci[0],     #13\n",
    "                ret.p_ci[1],     #14\n",
    "                ret.found        #15\n",
    "                ]))\n",
    "        print('p              :', ret.p)\n",
    "        print('false positives:', np.sum(np.array(results)[:,12]<0.05), 'out of', len(results))"
   ]
  },
  {
   "cell_type": "code",
   "execution_count": null,
   "metadata": {
    "ExecuteTime": {
     "end_time": "2021-07-19T19:18:36.016396Z",
     "start_time": "2021-07-19T19:18:02.298Z"
    }
   },
   "outputs": [],
   "source": [
    "df = pd.DataFrame(results, columns = [\n",
    "                \"iteration\",       #0\n",
    "                'n',               #1\n",
    "                \"ts_ratio_y\",      #2\n",
    "                \"cs_ratio_y\",      #3\n",
    "                \"ts_ratio_c\",      #4\n",
    "                \"cs_ratio_c\",      #5\n",
    "                \"ts_ratio_yhat\",   #6\n",
    "                \"cs_ratio_yhat\",   #7\n",
    "                \"num_perms\",       #8\n",
    "                \"tolerance\",       #9\n",
    "                \"res_r2_y_c\",      #10\n",
    "                \"res_r2_yhat_c\",   #11\n",
    "                \"res_r2_y_yhat\",   #12\n",
    "                \"res_p\",           #13\n",
    "                \"res_p_ci_lower\",  #14\n",
    "                \"res_p_ci_upper\",  #15\n",
    "                \"res_subsample\",   #16\n",
    "                \"res_found\"        #17\n",
    "        ])\n",
    "df.describe()"
   ]
  },
  {
   "cell_type": "code",
   "execution_count": null,
   "metadata": {
    "ExecuteTime": {
     "end_time": "2021-07-19T19:18:36.018388Z",
     "start_time": "2021-07-19T19:18:02.302Z"
    }
   },
   "outputs": [],
   "source": [
    "df.to_csv(\"H0_n100_tol0.01__varied_ts_ratio_yhat.csv\")"
   ]
  },
  {
   "cell_type": "code",
   "execution_count": null,
   "metadata": {
    "ExecuteTime": {
     "end_time": "2021-07-19T19:18:36.021565Z",
     "start_time": "2021-07-19T19:18:02.305Z"
    }
   },
   "outputs": [],
   "source": [
    "ts_ratio_y = 0.7\n",
    "cs_ratio_y = 0.1\n",
    "ts_ratio_c = 0.0\n",
    "cs_ratio_c = 0.8\n",
    "#ts_ratio_yhat # THIS IS VARIED\n",
    "cs_ratio_yhat = 0.0  # NO BIAS\n",
    "num_perms = 100000\n",
    "tolerance = 0.1\n",
    "n=100\n",
    "\n",
    "\n",
    "\n",
    "results = []\n",
    "\n",
    "for iteration in range(100):\n",
    "    for ts_ratio_yhat in [0, 0.1, 0.2, 0.3, 0.4, 0.5]:\n",
    "        # simuklate data without confounder-bias\n",
    "        #                 true signal    confounder\n",
    "        y, yhat, c = simulate(ts_ratio_y,       cs_ratio_y,     # y\n",
    "                              ts_ratio_c,       cs_ratio_c,     # c\n",
    "                              ts_ratio_yhat,    cs_ratio_yhat,  # yhat\n",
    "                              n=n,                            # simulated sample size\n",
    "                              random_state=iteration\n",
    "                              )\n",
    "        # test for confound\n",
    "        ret=confound_test(y, yhat, c, num_perms=num_perms, tolerance=tolerance, subsample='auto',\n",
    "                                return_null_dist=False, random_state=iteration, n_jobs=-1)\n",
    "        \n",
    "        results.append(\n",
    "            np.array([\n",
    "                iteration,       #0\n",
    "                n,               #1\n",
    "                ts_ratio_y,      #2\n",
    "                cs_ratio_y,      #3\n",
    "                ts_ratio_c,      #4\n",
    "                cs_ratio_c,      #5\n",
    "                ts_ratio_yhat,   #6\n",
    "                cs_ratio_yhat,   #7\n",
    "                num_perms,       #8\n",
    "                tolerance,       #9\n",
    "                ret.r2_y_c,      #10\n",
    "                ret.r2_yhat_c,   #11\n",
    "                ret.r2_y_yhat,   #12\n",
    "                ret.p,           #13\n",
    "                ret.p_ci[0],     #14\n",
    "                ret.p_ci[1],     #15\n",
    "                ret.subsample,   #16\n",
    "                ret.found        #17\n",
    "                ]))\n",
    "        print('p              :', np.array(results)[-1,13])\n",
    "        print('false positives:', np.sum(np.array(results)[:,13]<0.05), 'out of', len(results))"
   ]
  },
  {
   "cell_type": "code",
   "execution_count": null,
   "metadata": {
    "ExecuteTime": {
     "end_time": "2021-07-19T19:18:36.025407Z",
     "start_time": "2021-07-19T19:18:02.309Z"
    }
   },
   "outputs": [],
   "source": [
    "ts_ratio_y = 0.6\n",
    "cs_ratio_y = 0.4\n",
    "ts_ratio_c = 0.0\n",
    "cs_ratio_c = 0.8\n",
    "#ts_ratio_yhat # THIS IS VARIED\n",
    "#cs_ratio_yhat = 0.0  # NO BIAS\n",
    "num_perms = 100000\n",
    "tolerance = 0.1\n",
    "n=10000\n",
    "\n",
    "\n",
    "\n",
    "results = []\n",
    "\n",
    "for iteration in range(100):\n",
    "    for ts_ratio_yhat in [0, 0.1, 0.2, 0.3, 0.4, 0.5, 0.6]:\n",
    "        cs_ratio_yhat = 2/3 * ts_ratio_yhat \n",
    "        # simulate data without confounder-bias\n",
    "        #                     true signal       confounder\n",
    "        y, yhat, c = simulate(ts_ratio_y,       cs_ratio_y,     # y\n",
    "                              ts_ratio_c,       cs_ratio_c,     # c\n",
    "                              ts_ratio_yhat,    cs_ratio_yhat,  # yhat\n",
    "                              n=n,                            # simulated sample size\n",
    "                              random_state=iteration\n",
    "                              )\n",
    "        # test for confound\n",
    "        ret=confound_test(y, yhat, c, num_perms=num_perms, tolerance=tolerance, subsample='auto',\n",
    "                                return_null_dist=False, random_state=iteration, n_jobs=-1)\n",
    "        \n",
    "        results.append(\n",
    "            np.array([\n",
    "                iteration,       #0\n",
    "                n,               #1\n",
    "                ts_ratio_y,      #2\n",
    "                cs_ratio_y,      #3\n",
    "                ts_ratio_c,      #4\n",
    "                cs_ratio_c,      #5\n",
    "                ts_ratio_yhat,   #6\n",
    "                cs_ratio_yhat,   #7\n",
    "                num_perms,       #8\n",
    "                tolerance,       #9\n",
    "                ret.r2_y_c,      #10\n",
    "                ret.r2_yhat_c,   #11\n",
    "                ret.r2_y_yhat,   #12\n",
    "                ret.p,           #13\n",
    "                ret.p_ci[0],     #14\n",
    "                ret.p_ci[1],     #15\n",
    "                ret.subsample,   #16\n",
    "                ret.found        #17\n",
    "                ]))\n",
    "        print('p              :', np.array(results)[-1,13])\n",
    "        print('false positives:', np.sum(np.array(results)[:,13]<0.05), 'out of', len(results))\n",
    "        print(ret.subsample, ret.found, ret.r2_y_c, ret.r2_yhat_c)"
   ]
  },
  {
   "cell_type": "code",
   "execution_count": null,
   "metadata": {
    "ExecuteTime": {
     "end_time": "2021-07-19T19:18:36.028527Z",
     "start_time": "2021-07-19T19:18:02.315Z"
    }
   },
   "outputs": [],
   "source": [
    "ts_ratio_y = 0.1\n",
    "cs_ratio_y = 0.8\n",
    "ts_ratio_c = 0.0\n",
    "cs_ratio_c = 0.8\n",
    "#ts_ratio_yhat # THIS IS VARIED\n",
    "cs_ratio_yhat = 0.8  # NO BIAS\n",
    "num_perms = 100000\n",
    "tolerance = 0.1\n",
    "n=10000\n",
    "\n",
    "\n",
    "\n",
    "results = []\n",
    "\n",
    "for iteration in range(100):\n",
    "    for ts_ratio_yhat in [0]:\n",
    "        # simulate data without confounder-bias\n",
    "        #                     true signal       confounder\n",
    "        y, yhat, c = simulate(ts_ratio_y,       cs_ratio_y,     # y\n",
    "                              ts_ratio_c,       cs_ratio_c,     # c\n",
    "                              ts_ratio_yhat,    cs_ratio_yhat,  # yhat\n",
    "                              n=n,                              # simulated sample size\n",
    "                              random_state=iteration\n",
    "                              )\n",
    "        # test for confound\n",
    "        ret=confound_test(y, yhat, c, num_perms=num_perms, tolerance=tolerance, subsample='auto',\n",
    "                                return_null_dist=False, random_state=iteration, n_jobs=-1)\n",
    "        \n",
    "        results.append(\n",
    "            np.array([\n",
    "                iteration,       #0\n",
    "                n,               #1\n",
    "                ts_ratio_y,      #2\n",
    "                cs_ratio_y,      #3\n",
    "                ts_ratio_c,      #4\n",
    "                cs_ratio_c,      #5\n",
    "                ts_ratio_yhat,   #6\n",
    "                cs_ratio_yhat,   #7\n",
    "                num_perms,       #8\n",
    "                tolerance,       #9\n",
    "                ret.r2_y_c,      #10\n",
    "                ret.r2_yhat_c,   #11\n",
    "                ret.r2_y_yhat,   #12\n",
    "                ret.p,           #13\n",
    "                ret.p_ci[0],     #14\n",
    "                ret.p_ci[1],     #15\n",
    "                ret.subsample,   #16\n",
    "                ret.found        #17\n",
    "                ]))\n",
    "        print('p              :', np.array(results)[-1,13])\n",
    "        print('false positives:', np.sum(np.array(results)[:,13]<0.05), 'out of', len(results))\n",
    "        print(ret.subsample, ret.found, ret.r2_y_c, ret.r2_yhat_c)"
   ]
  },
  {
   "cell_type": "code",
   "execution_count": null,
   "metadata": {
    "ExecuteTime": {
     "end_time": "2021-07-19T19:18:36.032334Z",
     "start_time": "2021-07-19T19:18:02.332Z"
    }
   },
   "outputs": [],
   "source": [
    "ts_ratio_y = 0.1\n",
    "cs_ratio_y = 0.8\n",
    "ts_ratio_c = 0.0\n",
    "cs_ratio_c = 0.8\n",
    "#ts_ratio_yhat # THIS IS VARIED\n",
    "cs_ratio_yhat = 0.8  # NO BIAS\n",
    "num_perms = 1000000\n",
    "tolerance = 0.1\n",
    "n=10000\n",
    "\n",
    "\n",
    "\n",
    "results = []\n",
    "\n",
    "for iteration in range(100):\n",
    "    for ts_ratio_yhat in [0]:\n",
    "        # simulate data without confounder-bias\n",
    "        #                     true signal       confounder\n",
    "        y, yhat, c = simulate(ts_ratio_y,       cs_ratio_y,     # y\n",
    "                              ts_ratio_c,       cs_ratio_c,     # c\n",
    "                              ts_ratio_yhat,    cs_ratio_yhat,  # yhat\n",
    "                              n=n,                            # simulated sample size\n",
    "                              random_state=iteration\n",
    "                              )\n",
    "        # test for confound\n",
    "        ret=confound_test(y, yhat, c, num_perms=num_perms, tolerance=tolerance, subsample='auto',\n",
    "                                return_null_dist=False, random_state=iteration, n_jobs=-1)\n",
    "        \n",
    "        results.append(\n",
    "            np.array([\n",
    "                iteration,       #0\n",
    "                n,               #1\n",
    "                ts_ratio_y,      #2\n",
    "                cs_ratio_y,      #3\n",
    "                ts_ratio_c,      #4\n",
    "                cs_ratio_c,      #5\n",
    "                ts_ratio_yhat,   #6\n",
    "                cs_ratio_yhat,   #7\n",
    "                num_perms,       #8\n",
    "                tolerance,       #9\n",
    "                ret.r2_y_c,      #10\n",
    "                ret.r2_yhat_c,   #11\n",
    "                ret.r2_y_yhat,   #12\n",
    "                ret.p,           #13\n",
    "                ret.p_ci[0],     #14\n",
    "                ret.p_ci[1],     #15\n",
    "                ret.subsample,   #16\n",
    "                ret.found        #17\n",
    "                ]))\n",
    "        print('p              :', np.array(results)[-1,13])\n",
    "        print('false positives:', np.sum(np.array(results)[:,13]<0.05), 'out of', len(results))\n",
    "        print(ret.subsample, ret.found, ret.r2_y_c, ret.r2_yhat_c)"
   ]
  },
  {
   "cell_type": "code",
   "execution_count": null,
   "metadata": {
    "ExecuteTime": {
     "end_time": "2021-07-19T19:18:36.036322Z",
     "start_time": "2021-07-19T19:18:02.334Z"
    }
   },
   "outputs": [],
   "source": [
    "np.array(1)"
   ]
  },
  {
   "cell_type": "code",
   "execution_count": null,
   "metadata": {},
   "outputs": [],
   "source": []
  }
 ],
 "metadata": {
  "hide_input": false,
  "kernelspec": {
   "display_name": "Python 3",
   "language": "python",
   "name": "python3"
  },
  "language_info": {
   "codemirror_mode": {
    "name": "ipython",
    "version": 3
   },
   "file_extension": ".py",
   "mimetype": "text/x-python",
   "name": "python",
   "nbconvert_exporter": "python",
   "pygments_lexer": "ipython3",
   "version": "3.7.4"
  }
 },
 "nbformat": 4,
 "nbformat_minor": 2
}
