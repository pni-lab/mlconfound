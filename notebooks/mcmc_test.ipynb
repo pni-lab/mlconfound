{
 "cells": [
  {
   "cell_type": "code",
   "execution_count": 1,
   "metadata": {
    "ExecuteTime": {
     "end_time": "2021-07-19T18:36:57.535583Z",
     "start_time": "2021-07-19T18:36:55.673010Z"
    }
   },
   "outputs": [],
   "source": [
    "import sys\n",
    "sys.path.insert(0, '..')\n",
    "from mlconfound.stats import confound_test\n",
    "from mlconfound.simulate import simulate\n",
    "\n",
    "import numpy as np\n",
    "import pandas as pd\n",
    "import warnings\n",
    "warnings.simplefilter(\"always\")\n",
    "import seaborn as sns\n",
    "sns.set_style(\"whitegrid\")\n",
    "import matplotlib.pyplot as plt\n",
    "\n",
    "from scipy.stats import linregress"
   ]
  },
  {
   "cell_type": "code",
   "execution_count": 10,
   "metadata": {
    "ExecuteTime": {
     "end_time": "2021-07-19T18:38:04.312945Z",
     "start_time": "2021-07-19T18:38:04.307420Z"
    }
   },
   "outputs": [],
   "source": [
    "#                     true signal     confounder\n",
    "y, yhat, c = simulate(0.6,       0.3,     # y\n",
    "                      0,         0.9,     # c\n",
    "                      0.4,       0.0,  # yhat\n",
    "                      n=30,                            # simulated sample size\n",
    "                      random_state=42\n",
    "                      )"
   ]
  },
  {
   "cell_type": "code",
   "execution_count": 23,
   "metadata": {
    "ExecuteTime": {
     "end_time": "2021-07-19T18:40:31.443299Z",
     "start_time": "2021-07-19T18:40:31.425880Z"
    }
   },
   "outputs": [],
   "source": [
    "def conditional_permutation_gaussian(nstep, M, X0)\n",
    "\n",
    "\n",
    "# generate CPT copies of X when the conditional distribution is Gaussian\n",
    "# i.e. X | Z=Z_i ~ N(mu[i],sig2[i])\n",
    "def generate_X_CPT_gaussian(nstep,M,X0,mu,sig2):\n",
    "    log_lik_mat = - np.power(X0,2)[:,None] * (1/2/sig2)[None,:] + X0[:,None] * (mu/sig2)[None,:]\n",
    "    Pi_mat = generate_X_CPT(nstep,M,log_lik_mat)\n",
    "    return X0[Pi_mat]\n",
    "\n",
    "# generate CPT copies of X in general case\n",
    "# log_lik_mat[i,j] = q(X[i]|Z[j]) where q(x|z) is the conditional density for X|Z\n",
    "def generate_X_CPT(nstep,M,log_lik_mat,Pi_init=[]):\n",
    "    n = log_lik_mat.shape[0]\n",
    "    if len(Pi_init)==0:\n",
    "        Pi_init = np.arange(n,dtype=int)\n",
    "    Pi_ = generate_X_CPT_MC(nstep,log_lik_mat,Pi_init)\n",
    "    Pi_mat = np.zeros((M,n),dtype=int)\n",
    "    for m in range(M):\n",
    "        Pi_mat[m] = generate_X_CPT_MC(nstep,log_lik_mat,Pi_)\n",
    "    return Pi_mat\n",
    "\n",
    "def generate_X_CPT_MC(nstep,log_lik_mat,Pi):\n",
    "    n = len(Pi)\n",
    "    npair = np.floor(n/2).astype(int)\n",
    "    for istep in range(nstep):\n",
    "        perm = np.random.choice(n,n,replace=False)\n",
    "        #print(perm)\n",
    "        inds_i = perm[0:npair]\n",
    "        inds_j = perm[npair:(2*npair)]\n",
    "        # for each k=1,...,npair, decide whether to swap Pi[inds_i[k]] with Pi[inds_j[k]]\n",
    "        log_odds = log_lik_mat[Pi[inds_i],inds_j] + log_lik_mat[Pi[inds_j],inds_i] \\\n",
    "            - log_lik_mat[Pi[inds_i],inds_i] - log_lik_mat[Pi[inds_j],inds_j]\n",
    "        swaps = np.random.binomial(1,1/(1+np.exp(-np.maximum(-500,log_odds))))\n",
    "        Pi[inds_i], Pi[inds_j] = Pi[inds_i] + swaps*(Pi[inds_j]-Pi[inds_i]), Pi[inds_j] - \\\n",
    "            swaps*(Pi[inds_j]-Pi[inds_i])   \n",
    "    #print(Pi)\n",
    "    return Pi"
   ]
  },
  {
   "cell_type": "code",
   "execution_count": 13,
   "metadata": {
    "ExecuteTime": {
     "end_time": "2021-07-19T18:38:06.239752Z",
     "start_time": "2021-07-19T18:38:06.233895Z"
    }
   },
   "outputs": [
    {
     "data": {
      "text/plain": [
       "array([1, 4, 9, 8, 2, 6, 7, 5, 0, 3])"
      ]
     },
     "execution_count": 13,
     "metadata": {},
     "output_type": "execute_result"
    }
   ],
   "source": [
    "np.random.choice(10,10,replace=False)"
   ]
  },
  {
   "cell_type": "code",
   "execution_count": 16,
   "metadata": {
    "ExecuteTime": {
     "end_time": "2021-07-19T18:39:17.455645Z",
     "start_time": "2021-07-19T18:39:17.448775Z"
    }
   },
   "outputs": [
    {
     "data": {
      "text/plain": [
       "0.3125001134464917"
      ]
     },
     "execution_count": 16,
     "metadata": {},
     "output_type": "execute_result"
    }
   ],
   "source": [
    "fit = linregress(y,c)\n",
    "chat = fit.intercept + fit.slope*y\n",
    "resid = c - chat\n",
    "resid_std = np.std(resid)\n",
    "resid_sigma2 = np.repeat( np.power(resid_std, 2), len(y))\n",
    "fit.rvalue"
   ]
  },
  {
   "cell_type": "code",
   "execution_count": 17,
   "metadata": {
    "ExecuteTime": {
     "end_time": "2021-07-19T18:39:54.903070Z",
     "start_time": "2021-07-19T18:39:54.660484Z"
    }
   },
   "outputs": [
    {
     "data": {
      "image/png": "[encoded data removed]",
      "text/plain": [
       "<Figure size 432x288 with 1 Axes>"
      ]
     },
     "metadata": {
      "needs_background": "light"
     },
     "output_type": "display_data"
    },
    {
     "data": {
      "text/plain": [
       "array([0.44771697, 0.44771697, 0.44771697, 0.44771697, 0.44771697,\n",
       "       0.44771697, 0.44771697, 0.44771697, 0.44771697, 0.44771697,\n",
       "       0.44771697, 0.44771697, 0.44771697, 0.44771697, 0.44771697,\n",
       "       0.44771697, 0.44771697, 0.44771697, 0.44771697, 0.44771697,\n",
       "       0.44771697, 0.44771697, 0.44771697, 0.44771697, 0.44771697,\n",
       "       0.44771697, 0.44771697, 0.44771697, 0.44771697, 0.44771697])"
      ]
     },
     "execution_count": 17,
     "metadata": {},
     "output_type": "execute_result"
    }
   ],
   "source": [
    "plt.plot(y, c, 'o', label='original data', alpha=0.5)\n",
    "plt.plot(y, chat, 'r', label='fitted line')\n",
    "plt.legend()\n",
    "plt.show()\n",
    "resid_sigma2"
   ]
  },
  {
   "cell_type": "code",
   "execution_count": 57,
   "metadata": {
    "ExecuteTime": {
     "end_time": "2021-07-19T18:44:23.080928Z",
     "start_time": "2021-07-19T18:44:22.810833Z"
    }
   },
   "outputs": [
    {
     "data": {
      "image/png": "[encoded data removed]",
      "text/plain": [
       "<Figure size 432x288 with 1 Axes>"
      ]
     },
     "metadata": {
      "needs_background": "light"
     },
     "output_type": "display_data"
    },
    {
     "data": {
      "text/plain": [
       "0.28323067054879497"
      ]
     },
     "execution_count": 57,
     "metadata": {},
     "output_type": "execute_result"
    }
   ],
   "source": [
    "cstars = generate_X_CPT_gaussian(10, 1, c, chat, resid_sigma2)\n",
    "plt.plot(y, cstars.flatten(), 'o', label='original data', alpha=0.5)\n",
    "plt.plot(y, chat, 'r', label='fitted line')\n",
    "plt.legend()\n",
    "plt.show()\n",
    "resid_sigma2\n",
    "np.mean(np.corrcoef(y, cstars)[0,1:])"
   ]
  },
  {
   "cell_type": "code",
   "execution_count": 344,
   "metadata": {
    "ExecuteTime": {
     "end_time": "2021-07-19T15:39:17.330479Z",
     "start_time": "2021-07-19T15:39:17.296320Z"
    }
   },
   "outputs": [
    {
     "ename": "IndexError",
     "evalue": "invalid index to scalar variable.",
     "output_type": "error",
     "traceback": [
      "\u001b[0;31m---------------------------------------------------------------------------\u001b[0m",
      "\u001b[0;31mIndexError\u001b[0m                                Traceback (most recent call last)",
      "\u001b[0;32m<ipython-input-344-98e5f02f85dc>\u001b[0m in \u001b[0;36m<module>\u001b[0;34m\u001b[0m\n\u001b[1;32m      1\u001b[0m \u001b[0mchat_sigma2\u001b[0m \u001b[0;34m=\u001b[0m \u001b[0mnp\u001b[0m\u001b[0;34m.\u001b[0m\u001b[0marray\u001b[0m\u001b[0;34m(\u001b[0m \u001b[0mnp\u001b[0m\u001b[0;34m.\u001b[0m\u001b[0mpower\u001b[0m\u001b[0;34m(\u001b[0m\u001b[0mfit\u001b[0m\u001b[0;34m.\u001b[0m\u001b[0mstderr\u001b[0m\u001b[0;34m/\u001b[0m\u001b[0mnp\u001b[0m\u001b[0;34m.\u001b[0m\u001b[0msqrt\u001b[0m\u001b[0;34m(\u001b[0m\u001b[0mlen\u001b[0m\u001b[0;34m(\u001b[0m\u001b[0mc\u001b[0m\u001b[0;34m)\u001b[0m\u001b[0;34m)\u001b[0m\u001b[0;34m,\u001b[0m \u001b[0;36m2\u001b[0m\u001b[0;34m)\u001b[0m\u001b[0;34m)\u001b[0m\u001b[0;34m\u001b[0m\u001b[0;34m\u001b[0m\u001b[0m\n\u001b[0;32m----> 2\u001b[0;31m \u001b[0mcstars\u001b[0m \u001b[0;34m=\u001b[0m \u001b[0mgenerate_X_CPT_gaussian\u001b[0m\u001b[0;34m(\u001b[0m\u001b[0;36m10\u001b[0m\u001b[0;34m,\u001b[0m \u001b[0;36m10\u001b[0m\u001b[0;34m,\u001b[0m \u001b[0mnp\u001b[0m\u001b[0;34m.\u001b[0m\u001b[0mrandom\u001b[0m\u001b[0;34m.\u001b[0m\u001b[0mpermutation\u001b[0m\u001b[0;34m(\u001b[0m\u001b[0mc\u001b[0m\u001b[0;34m)\u001b[0m\u001b[0;34m,\u001b[0m \u001b[0mc\u001b[0m\u001b[0;34m,\u001b[0m \u001b[0mchat_sigma2\u001b[0m\u001b[0;34m)\u001b[0m\u001b[0;34m\u001b[0m\u001b[0;34m\u001b[0m\u001b[0m\n\u001b[0m\u001b[1;32m      3\u001b[0m \u001b[0mnp\u001b[0m\u001b[0;34m.\u001b[0m\u001b[0mmean\u001b[0m\u001b[0;34m(\u001b[0m\u001b[0mnp\u001b[0m\u001b[0;34m.\u001b[0m\u001b[0mcorrcoef\u001b[0m\u001b[0;34m(\u001b[0m\u001b[0my\u001b[0m\u001b[0;34m,\u001b[0m \u001b[0mcstars\u001b[0m\u001b[0;34m)\u001b[0m\u001b[0;34m[\u001b[0m\u001b[0;36m0\u001b[0m\u001b[0;34m,\u001b[0m\u001b[0;36m1\u001b[0m\u001b[0;34m:\u001b[0m\u001b[0;34m]\u001b[0m\u001b[0;34m)\u001b[0m\u001b[0;34m\u001b[0m\u001b[0;34m\u001b[0m\u001b[0m\n",
      "\u001b[0;32m<ipython-input-336-ab70d05e71f1>\u001b[0m in \u001b[0;36mgenerate_X_CPT_gaussian\u001b[0;34m(nstep, M, X0, mu, sig2)\u001b[0m\n\u001b[1;32m      2\u001b[0m \u001b[0;31m# i.e. X | Z=Z_i ~ N(mu[i],sig2[i])\u001b[0m\u001b[0;34m\u001b[0m\u001b[0;34m\u001b[0m\u001b[0;34m\u001b[0m\u001b[0m\n\u001b[1;32m      3\u001b[0m \u001b[0;32mdef\u001b[0m \u001b[0mgenerate_X_CPT_gaussian\u001b[0m\u001b[0;34m(\u001b[0m\u001b[0mnstep\u001b[0m\u001b[0;34m,\u001b[0m\u001b[0mM\u001b[0m\u001b[0;34m,\u001b[0m\u001b[0mX0\u001b[0m\u001b[0;34m,\u001b[0m\u001b[0mmu\u001b[0m\u001b[0;34m,\u001b[0m\u001b[0msig2\u001b[0m\u001b[0;34m)\u001b[0m\u001b[0;34m:\u001b[0m\u001b[0;34m\u001b[0m\u001b[0;34m\u001b[0m\u001b[0m\n\u001b[0;32m----> 4\u001b[0;31m     \u001b[0mlog_lik_mat\u001b[0m \u001b[0;34m=\u001b[0m \u001b[0;34m-\u001b[0m \u001b[0mnp\u001b[0m\u001b[0;34m.\u001b[0m\u001b[0mpower\u001b[0m\u001b[0;34m(\u001b[0m\u001b[0mX0\u001b[0m\u001b[0;34m,\u001b[0m\u001b[0;36m2\u001b[0m\u001b[0;34m)\u001b[0m\u001b[0;34m[\u001b[0m\u001b[0;34m:\u001b[0m\u001b[0;34m,\u001b[0m\u001b[0;32mNone\u001b[0m\u001b[0;34m]\u001b[0m \u001b[0;34m*\u001b[0m \u001b[0;34m(\u001b[0m\u001b[0;36m1\u001b[0m\u001b[0;34m/\u001b[0m\u001b[0;36m2\u001b[0m\u001b[0;34m/\u001b[0m\u001b[0msig2\u001b[0m\u001b[0;34m)\u001b[0m\u001b[0;34m[\u001b[0m\u001b[0;32mNone\u001b[0m\u001b[0;34m,\u001b[0m\u001b[0;34m:\u001b[0m\u001b[0;34m]\u001b[0m \u001b[0;34m+\u001b[0m \u001b[0mX0\u001b[0m\u001b[0;34m[\u001b[0m\u001b[0;34m:\u001b[0m\u001b[0;34m,\u001b[0m\u001b[0;32mNone\u001b[0m\u001b[0;34m]\u001b[0m \u001b[0;34m*\u001b[0m \u001b[0;34m(\u001b[0m\u001b[0mmu\u001b[0m\u001b[0;34m/\u001b[0m\u001b[0msig2\u001b[0m\u001b[0;34m)\u001b[0m\u001b[0;34m[\u001b[0m\u001b[0;32mNone\u001b[0m\u001b[0;34m,\u001b[0m\u001b[0;34m:\u001b[0m\u001b[0;34m]\u001b[0m\u001b[0;34m\u001b[0m\u001b[0;34m\u001b[0m\u001b[0m\n\u001b[0m\u001b[1;32m      5\u001b[0m     \u001b[0mPi_mat\u001b[0m \u001b[0;34m=\u001b[0m \u001b[0mgenerate_X_CPT\u001b[0m\u001b[0;34m(\u001b[0m\u001b[0mnstep\u001b[0m\u001b[0;34m,\u001b[0m\u001b[0mM\u001b[0m\u001b[0;34m,\u001b[0m\u001b[0mlog_lik_mat\u001b[0m\u001b[0;34m)\u001b[0m\u001b[0;34m\u001b[0m\u001b[0;34m\u001b[0m\u001b[0m\n\u001b[1;32m      6\u001b[0m     \u001b[0;32mreturn\u001b[0m \u001b[0mX0\u001b[0m\u001b[0;34m[\u001b[0m\u001b[0mPi_mat\u001b[0m\u001b[0;34m]\u001b[0m\u001b[0;34m\u001b[0m\u001b[0;34m\u001b[0m\u001b[0m\n",
      "\u001b[0;31mIndexError\u001b[0m: invalid index to scalar variable."
     ]
    }
   ],
   "source": [
    "# c | y=y_i ~ N(c[i],sig2)\n",
    "\n",
    "chat_sigma2 = np.array( np.power(fit.stderr/np.sqrt(len(c)), 2), len(y))\n",
    "cstars = generate_X_CPT_gaussian(10, 10, np.random.permutation(c), c, chat_sigma2)\n",
    "np.mean(np.corrcoef(y, cstars)[0,1:])"
   ]
  },
  {
   "cell_type": "code",
   "execution_count": 341,
   "metadata": {
    "ExecuteTime": {
     "end_time": "2021-07-19T15:38:33.647629Z",
     "start_time": "2021-07-19T15:38:33.634741Z"
    }
   },
   "outputs": [
    {
     "name": "stdout",
     "output_type": "stream",
     "text": [
      "0.6235306553959012\n",
      "0.6727177641225096\n",
      "0.6649582583309656\n",
      "0.6649582583309656\n",
      "0.6667116228718885\n",
      "0.6649582583309656\n",
      "0.6649582583309656\n",
      "0.6705071006680026\n",
      "0.6705071006680026\n",
      "0.6645009594173814\n"
     ]
    }
   ],
   "source": [
    "for cstar in cstars:\n",
    "    print(np.corrcoef(y, cstar)[0,1])"
   ]
  },
  {
   "cell_type": "code",
   "execution_count": 342,
   "metadata": {
    "ExecuteTime": {
     "end_time": "2021-07-19T15:38:37.975521Z",
     "start_time": "2021-07-19T15:38:37.969296Z"
    }
   },
   "outputs": [
    {
     "data": {
      "text/plain": [
       "0.3744822245697951"
      ]
     },
     "execution_count": 342,
     "metadata": {},
     "output_type": "execute_result"
    }
   ],
   "source": [
    "np.sqrt(np.mean(np.power(y-yhat, 2)))"
   ]
  },
  {
   "cell_type": "code",
   "execution_count": 343,
   "metadata": {
    "ExecuteTime": {
     "end_time": "2021-07-19T15:38:40.495374Z",
     "start_time": "2021-07-19T15:38:40.465706Z"
    }
   },
   "outputs": [
    {
     "name": "stdout",
     "output_type": "stream",
     "text": [
      "[6 0 2 8 9 4 5 7 3 1]\n",
      "[6 1 8 5 0 7 9 2 4 3]\n",
      "[6 8 4 0 9 2 1 3 5 7]\n",
      "[0 3 7 8 9 6 1 4 5 2]\n",
      "[6 3 0 5 1 9 8 7 4 2]\n",
      "[2 7 8 3 4 0 6 5 1 9]\n",
      "[8 5 0 6 3 4 7 1 2 9]\n",
      "[5 1 6 9 7 4 0 8 2 3]\n",
      "[0 3 5 6 7 8 4 1 9 2]\n",
      "[0 2 4 8 6 3 9 1 5 7]\n",
      "[4 7 1 0 2 8 9 6 5 3]\n"
     ]
    },
    {
     "data": {
      "text/plain": [
       "0.20867438558494614"
      ]
     },
     "execution_count": 343,
     "metadata": {},
     "output_type": "execute_result"
    }
   ],
   "source": [
    "chat_sigma2 = np.repeat( 0.3894536006472516*np.sqrt(len(y)), len(y))\n",
    "cstars = generate_X_CPT_gaussian(10, 10, np.random.permutation(c), chat, chat_sigma2)\n",
    "np.mean(np.corrcoef(y, cstars)[0,1:])"
   ]
  },
  {
   "cell_type": "code",
   "execution_count": 345,
   "metadata": {
    "ExecuteTime": {
     "end_time": "2021-07-19T16:00:57.546313Z",
     "start_time": "2021-07-19T16:00:57.527720Z"
    }
   },
   "outputs": [
    {
     "data": {
      "text/plain": [
       "array([[0.41510916, 0.27473102],\n",
       "       [0.27473102, 0.4112106 ]])"
      ]
     },
     "execution_count": 345,
     "metadata": {},
     "output_type": "execute_result"
    }
   ],
   "source": [
    "np.cov(y,c)"
   ]
  },
  {
   "cell_type": "code",
   "execution_count": 425,
   "metadata": {
    "ExecuteTime": {
     "end_time": "2021-07-19T16:07:06.656732Z",
     "start_time": "2021-07-19T16:07:06.406512Z"
    }
   },
   "outputs": [
    {
     "name": "stdout",
     "output_type": "stream",
     "text": [
      "0.4414677516922771\n"
     ]
    },
    {
     "data": {
      "text/plain": [
       "0.3769825037766437"
      ]
     },
     "execution_count": 425,
     "metadata": {},
     "output_type": "execute_result"
    }
   ],
   "source": [
    "y, yhat, c = simulate(0.6,       0.3,     # y\n",
    "                      0,         0.9,     # c\n",
    "                      0.4,       0.0,  # yhat\n",
    "                      n=100000,                            # simulated sample size\n",
    "                      random_state=None\n",
    "                      )\n",
    "print(np.corrcoef(y, c)[0,1])\n",
    "ret=[]\n",
    "for i in range(100):\n",
    " ret.append(np.corrcoef(np.random.multivariate_normal(np.mean((y,c), axis=1), np.cov(y, c), 10).transpose())[0,1])\n",
    "np.mean(ret)"
   ]
  },
  {
   "cell_type": "code",
   "execution_count": 375,
   "metadata": {
    "ExecuteTime": {
     "end_time": "2021-07-19T16:04:18.746378Z",
     "start_time": "2021-07-19T16:04:18.742580Z"
    }
   },
   "outputs": [
    {
     "data": {
      "text/plain": [
       "array([-0.11016888,  0.25436707])"
      ]
     },
     "execution_count": 375,
     "metadata": {},
     "output_type": "execute_result"
    }
   ],
   "source": [
    "np.mean((y,c), axis=1)"
   ]
  },
  {
   "cell_type": "code",
   "execution_count": 428,
   "metadata": {
    "ExecuteTime": {
     "end_time": "2021-07-19T16:35:51.100796Z",
     "start_time": "2021-07-19T16:35:51.092717Z"
    }
   },
   "outputs": [
    {
     "data": {
      "text/plain": [
       "array([[2.5, 2.5, 2.5, 2.5, 2.5, 2.5],\n",
       "       [4. , 4. , 4. , 4. , 4. , 4. ],\n",
       "       [4.5, 4.5, 4.5, 4.5, 4.5, 4.5],\n",
       "       [4. , 4. , 4. , 4. , 4. , 4. ],\n",
       "       [2.5, 2.5, 2.5, 2.5, 2.5, 2.5],\n",
       "       [0. , 0. , 0. , 0. , 0. , 0. ]])"
      ]
     },
     "execution_count": 428,
     "metadata": {},
     "output_type": "execute_result"
    }
   ],
   "source": [
    "X0 = np.array([1,2,3,4,5,6])\n",
    "mu = np.array([3,3,3,3,3,3])\n",
    "sig2 = np.array([1,1,1,1,1,1])\n",
    "- np.power(X0,2)[:,None] * (1/2/sig2)[None,:] + X0[:,None] * (mu/sig2)[None,:]"
   ]
  },
  {
   "cell_type": "code",
   "execution_count": null,
   "metadata": {},
   "outputs": [],
   "source": []
  }
 ],
 "metadata": {
  "hide_input": false,
  "kernelspec": {
   "display_name": "Python 3",
   "language": "python",
   "name": "python3"
  },
  "language_info": {
   "codemirror_mode": {
    "name": "ipython",
    "version": 3
   },
   "file_extension": ".py",
   "mimetype": "text/x-python",
   "name": "python",
   "nbconvert_exporter": "python",
   "pygments_lexer": "ipython3",
   "version": "3.7.4"
  }
 },
 "nbformat": 4,
 "nbformat_minor": 2
}
