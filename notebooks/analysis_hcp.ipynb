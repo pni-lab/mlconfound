{
 "cells": [
  {
   "cell_type": "markdown",
   "metadata": {},
   "source": [
    "# Analysis of the Human Connectome Project (funcional connectome)\n",
    "\n",
    "## Imports"
   ]
  },
  {
   "cell_type": "code",
   "execution_count": 38,
   "metadata": {
    "ExecuteTime": {
     "end_time": "2021-08-03T20:04:15.431840Z",
     "start_time": "2021-08-03T20:04:14.753565Z"
    }
   },
   "outputs": [],
   "source": [
    "import numpy as np\n",
    "import pandas as pd\n",
    "import matplotlib.pyplot as plt\n",
    "import seaborn as sns\n",
    "sns.set_style(\"whitegrid\")\n",
    "from mlconfound.stats import test_fully_confounded, test_partially_confounded\n",
    "from mlconfound.plot import plot_graph\n",
    "from mlconfound.stats import _r2_cat_cont, _r2_cont_cont\n",
    "\n",
    "from mlxtend.evaluate import permutation_test\n",
    "\n",
    "import statsmodels.api as sm\n",
    "from statsmodels.regression.linear_model import OLS\n",
    "from statsmodels.formula.api import ols as ols_f\n",
    "from scipy.stats import kurtosis, skew\n",
    "\n",
    "from sklearn.pipeline import Pipeline\n",
    "from sklearn.feature_selection import VarianceThreshold, SelectKBest, f_regression\n",
    "from sklearn.linear_model import Ridge\n",
    "from sklearn.model_selection import KFold, GridSearchCV\n",
    "from sklearn.metrics import mean_squared_error\n",
    "from sklearn.preprocessing import quantile_transform\n",
    "\n",
    "from neurocombat_sklearn import CombatModel"
   ]
  },
  {
   "cell_type": "markdown",
   "metadata": {},
   "source": [
    "## Load data"
   ]
  },
  {
   "cell_type": "code",
   "execution_count": 39,
   "metadata": {
    "ExecuteTime": {
     "end_time": "2021-08-01T12:43:07.129883Z",
     "start_time": "2021-08-01T12:42:54.233102Z"
    }
   },
   "outputs": [
    {
     "data": {
      "text/plain": "        Release Acquisition Gender    Age  3T_Full_MR_Compl  T1_Count  \\\nSubject                                                                 \n100004     S900         Q06      M  22-25             False         0   \n100206     S900         Q11      M  26-30              True         1   \n100307       Q1         Q01      F  26-30              True         1   \n100408       Q3         Q03      M  31-35              True         1   \n100610     S900         Q08      M  26-30              True         2   \n...         ...         ...    ...    ...               ...       ...   \n992774       Q2         Q02      M  31-35              True         2   \n993675     S900         Q09      F  26-30              True         2   \n994273     S500         Q06      M  26-30              True         1   \n995174    S1200         Q13      M  22-25             False         1   \n996782     S900         Q08      F  26-30              True         2   \n\n         T2_Count  3T_RS-fMRI_Count  3T_RS-fMRI_PctCompl  3T_Full_Task_fMRI  \\\nSubject                                                                       \n100004          0                 0                  0.0              False   \n100206          1                 4                100.0               True   \n100307          1                 4                100.0               True   \n100408          1                 4                100.0               True   \n100610          1                 4                100.0               True   \n...           ...               ...                  ...                ...   \n992774          2                 4                100.0               True   \n993675          2                 4                100.0               True   \n994273          1                 4                100.0               True   \n995174          1                 2                  0.0               True   \n996782          2                 4                100.0               True   \n\n         ...  Odor_Unadj  Odor_AgeAdj  PainIntens_RawScore  PainInterf_Tscore  \\\nSubject  ...                                                                    \n100004   ...      101.12        86.45                  2.0               45.9   \n100206   ...      108.79        97.19                  1.0               49.7   \n100307   ...      101.12        86.45                  0.0               38.6   \n100408   ...      108.79        98.04                  2.0               52.6   \n100610   ...      122.25       110.45                  0.0               38.6   \n...      ...         ...          ...                  ...                ...   \n992774   ...      122.25       111.41                  4.0               50.1   \n993675   ...      122.25       110.45                  0.0               38.6   \n994273   ...      122.25       111.41                  7.0               63.8   \n995174   ...       88.61        64.58                  3.0               50.1   \n996782   ...      108.79        97.19                  0.0               38.6   \n\n         Taste_Unadj  Taste_AgeAdj  Mars_Log_Score  Mars_Errs  Mars_Final  \\\nSubject                                                                     \n100004        107.17        105.31            1.80        0.0        1.80   \n100206         72.63         72.03            1.84        0.0        1.84   \n100307         71.69         71.76            1.76        0.0        1.76   \n100408        114.01        113.59            1.76        2.0        1.68   \n100610         84.84         85.31            1.92        1.0        1.88   \n...              ...           ...             ...        ...         ...   \n992774        107.17        103.55            1.76        0.0        1.76   \n993675         84.07         84.25            1.80        1.0        1.76   \n994273        110.65        109.73            1.80        1.0        1.76   \n995174        117.16        117.40            1.80        0.0        1.80   \n996782         75.43         73.72            1.84        0.0        1.84   \n\n          age  \nSubject        \n100004   23.5  \n100206   28.0  \n100307   28.0  \n100408   33.0  \n100610   28.0  \n...       ...  \n992774   33.0  \n993675   28.0  \n994273   28.0  \n995174   23.5  \n996782   28.0  \n\n[1206 rows x 582 columns]",
      "text/html": "<div>\n<style scoped>\n    .dataframe tbody tr th:only-of-type {\n        vertical-align: middle;\n    }\n\n    .dataframe tbody tr th {\n        vertical-align: top;\n    }\n\n    .dataframe thead th {\n        text-align: right;\n    }\n</style>\n<table border=\"1\" class=\"dataframe\">\n  <thead>\n    <tr style=\"text-align: right;\">\n      <th></th>\n      <th>Release</th>\n      <th>Acquisition</th>\n      <th>Gender</th>\n      <th>Age</th>\n      <th>3T_Full_MR_Compl</th>\n      <th>T1_Count</th>\n      <th>T2_Count</th>\n      <th>3T_RS-fMRI_Count</th>\n      <th>3T_RS-fMRI_PctCompl</th>\n      <th>3T_Full_Task_fMRI</th>\n      <th>...</th>\n      <th>Odor_Unadj</th>\n      <th>Odor_AgeAdj</th>\n      <th>PainIntens_RawScore</th>\n      <th>PainInterf_Tscore</th>\n      <th>Taste_Unadj</th>\n      <th>Taste_AgeAdj</th>\n      <th>Mars_Log_Score</th>\n      <th>Mars_Errs</th>\n      <th>Mars_Final</th>\n      <th>age</th>\n    </tr>\n    <tr>\n      <th>Subject</th>\n      <th></th>\n      <th></th>\n      <th></th>\n      <th></th>\n      <th></th>\n      <th></th>\n      <th></th>\n      <th></th>\n      <th></th>\n      <th></th>\n      <th></th>\n      <th></th>\n      <th></th>\n      <th></th>\n      <th></th>\n      <th></th>\n      <th></th>\n      <th></th>\n      <th></th>\n      <th></th>\n      <th></th>\n    </tr>\n  </thead>\n  <tbody>\n    <tr>\n      <th>100004</th>\n      <td>S900</td>\n      <td>Q06</td>\n      <td>M</td>\n      <td>22-25</td>\n      <td>False</td>\n      <td>0</td>\n      <td>0</td>\n      <td>0</td>\n      <td>0.0</td>\n      <td>False</td>\n      <td>...</td>\n      <td>101.12</td>\n      <td>86.45</td>\n      <td>2.0</td>\n      <td>45.9</td>\n      <td>107.17</td>\n      <td>105.31</td>\n      <td>1.80</td>\n      <td>0.0</td>\n      <td>1.80</td>\n      <td>23.5</td>\n    </tr>\n    <tr>\n      <th>100206</th>\n      <td>S900</td>\n      <td>Q11</td>\n      <td>M</td>\n      <td>26-30</td>\n      <td>True</td>\n      <td>1</td>\n      <td>1</td>\n      <td>4</td>\n      <td>100.0</td>\n      <td>True</td>\n      <td>...</td>\n      <td>108.79</td>\n      <td>97.19</td>\n      <td>1.0</td>\n      <td>49.7</td>\n      <td>72.63</td>\n      <td>72.03</td>\n      <td>1.84</td>\n      <td>0.0</td>\n      <td>1.84</td>\n      <td>28.0</td>\n    </tr>\n    <tr>\n      <th>100307</th>\n      <td>Q1</td>\n      <td>Q01</td>\n      <td>F</td>\n      <td>26-30</td>\n      <td>True</td>\n      <td>1</td>\n      <td>1</td>\n      <td>4</td>\n      <td>100.0</td>\n      <td>True</td>\n      <td>...</td>\n      <td>101.12</td>\n      <td>86.45</td>\n      <td>0.0</td>\n      <td>38.6</td>\n      <td>71.69</td>\n      <td>71.76</td>\n      <td>1.76</td>\n      <td>0.0</td>\n      <td>1.76</td>\n      <td>28.0</td>\n    </tr>\n    <tr>\n      <th>100408</th>\n      <td>Q3</td>\n      <td>Q03</td>\n      <td>M</td>\n      <td>31-35</td>\n      <td>True</td>\n      <td>1</td>\n      <td>1</td>\n      <td>4</td>\n      <td>100.0</td>\n      <td>True</td>\n      <td>...</td>\n      <td>108.79</td>\n      <td>98.04</td>\n      <td>2.0</td>\n      <td>52.6</td>\n      <td>114.01</td>\n      <td>113.59</td>\n      <td>1.76</td>\n      <td>2.0</td>\n      <td>1.68</td>\n      <td>33.0</td>\n    </tr>\n    <tr>\n      <th>100610</th>\n      <td>S900</td>\n      <td>Q08</td>\n      <td>M</td>\n      <td>26-30</td>\n      <td>True</td>\n      <td>2</td>\n      <td>1</td>\n      <td>4</td>\n      <td>100.0</td>\n      <td>True</td>\n      <td>...</td>\n      <td>122.25</td>\n      <td>110.45</td>\n      <td>0.0</td>\n      <td>38.6</td>\n      <td>84.84</td>\n      <td>85.31</td>\n      <td>1.92</td>\n      <td>1.0</td>\n      <td>1.88</td>\n      <td>28.0</td>\n    </tr>\n    <tr>\n      <th>...</th>\n      <td>...</td>\n      <td>...</td>\n      <td>...</td>\n      <td>...</td>\n      <td>...</td>\n      <td>...</td>\n      <td>...</td>\n      <td>...</td>\n      <td>...</td>\n      <td>...</td>\n      <td>...</td>\n      <td>...</td>\n      <td>...</td>\n      <td>...</td>\n      <td>...</td>\n      <td>...</td>\n      <td>...</td>\n      <td>...</td>\n      <td>...</td>\n      <td>...</td>\n      <td>...</td>\n    </tr>\n    <tr>\n      <th>992774</th>\n      <td>Q2</td>\n      <td>Q02</td>\n      <td>M</td>\n      <td>31-35</td>\n      <td>True</td>\n      <td>2</td>\n      <td>2</td>\n      <td>4</td>\n      <td>100.0</td>\n      <td>True</td>\n      <td>...</td>\n      <td>122.25</td>\n      <td>111.41</td>\n      <td>4.0</td>\n      <td>50.1</td>\n      <td>107.17</td>\n      <td>103.55</td>\n      <td>1.76</td>\n      <td>0.0</td>\n      <td>1.76</td>\n      <td>33.0</td>\n    </tr>\n    <tr>\n      <th>993675</th>\n      <td>S900</td>\n      <td>Q09</td>\n      <td>F</td>\n      <td>26-30</td>\n      <td>True</td>\n      <td>2</td>\n      <td>2</td>\n      <td>4</td>\n      <td>100.0</td>\n      <td>True</td>\n      <td>...</td>\n      <td>122.25</td>\n      <td>110.45</td>\n      <td>0.0</td>\n      <td>38.6</td>\n      <td>84.07</td>\n      <td>84.25</td>\n      <td>1.80</td>\n      <td>1.0</td>\n      <td>1.76</td>\n      <td>28.0</td>\n    </tr>\n    <tr>\n      <th>994273</th>\n      <td>S500</td>\n      <td>Q06</td>\n      <td>M</td>\n      <td>26-30</td>\n      <td>True</td>\n      <td>1</td>\n      <td>1</td>\n      <td>4</td>\n      <td>100.0</td>\n      <td>True</td>\n      <td>...</td>\n      <td>122.25</td>\n      <td>111.41</td>\n      <td>7.0</td>\n      <td>63.8</td>\n      <td>110.65</td>\n      <td>109.73</td>\n      <td>1.80</td>\n      <td>1.0</td>\n      <td>1.76</td>\n      <td>28.0</td>\n    </tr>\n    <tr>\n      <th>995174</th>\n      <td>S1200</td>\n      <td>Q13</td>\n      <td>M</td>\n      <td>22-25</td>\n      <td>False</td>\n      <td>1</td>\n      <td>1</td>\n      <td>2</td>\n      <td>0.0</td>\n      <td>True</td>\n      <td>...</td>\n      <td>88.61</td>\n      <td>64.58</td>\n      <td>3.0</td>\n      <td>50.1</td>\n      <td>117.16</td>\n      <td>117.40</td>\n      <td>1.80</td>\n      <td>0.0</td>\n      <td>1.80</td>\n      <td>23.5</td>\n    </tr>\n    <tr>\n      <th>996782</th>\n      <td>S900</td>\n      <td>Q08</td>\n      <td>F</td>\n      <td>26-30</td>\n      <td>True</td>\n      <td>2</td>\n      <td>2</td>\n      <td>4</td>\n      <td>100.0</td>\n      <td>True</td>\n      <td>...</td>\n      <td>108.79</td>\n      <td>97.19</td>\n      <td>0.0</td>\n      <td>38.6</td>\n      <td>75.43</td>\n      <td>73.72</td>\n      <td>1.84</td>\n      <td>0.0</td>\n      <td>1.84</td>\n      <td>28.0</td>\n    </tr>\n  </tbody>\n</table>\n<p>1206 rows × 582 columns</p>\n</div>"
     },
     "execution_count": 39,
     "metadata": {},
     "output_type": "execute_result"
    }
   ],
   "source": [
    "# HCP data can be obtained from the connectomeDB with special license\n",
    "# data is not part of this repository\n",
    "subjectIDs = pd.read_csv('../data_in/hcp/subjectIDs.txt', header=None)\n",
    "\n",
    "netmats_pearson = pd.read_csv('../data_in/hcp/netmats1_correlationZ.txt',\n",
    "                             sep=' ',\n",
    "                             header=None)\n",
    "netmats_pearson['ID'] = subjectIDs[0]\n",
    "netmats_pearson.set_index('ID', drop=True, inplace=True)\n",
    "\n",
    "\n",
    "netmats_parcor = pd.read_csv('../data_in/hcp/netmats2_partial-correlation.txt',\n",
    "                             sep=' ',\n",
    "                             header=None)\n",
    "netmats_parcor['ID'] = subjectIDs[0]\n",
    "netmats_parcor.set_index('ID', drop=True, inplace=True)\n",
    "\n",
    "behavior = pd.read_csv('../data_in/hcp/hcp1200_behavioral_data.csv')\n",
    "behavior = behavior.set_index('Subject', drop=True)\n",
    "\n",
    "# convert age to numeric\n",
    "age = []\n",
    "for s in behavior['Age']:\n",
    "    if s == '36+':\n",
    "        age.append(36)\n",
    "    else:\n",
    "        split = s.split(sep='-')\n",
    "        age.append(np.mean((float(split[0]), float(split[1]))))\n",
    "\n",
    "behavior['age'] = age\n",
    "behavior\n"
   ]
  },
  {
   "cell_type": "markdown",
   "metadata": {
    "ExecuteTime": {
     "end_time": "2021-07-31T17:57:39.453512Z",
     "start_time": "2021-07-31T17:57:39.441003Z"
    }
   },
   "source": [
    "### Select target variable"
   ]
  },
  {
   "cell_type": "code",
   "execution_count": 40,
   "metadata": {
    "ExecuteTime": {
     "end_time": "2021-08-01T12:43:11.348485Z",
     "start_time": "2021-08-01T12:43:07.132838Z"
    }
   },
   "outputs": [
    {
     "data": {
      "text/plain": "<Figure size 432x288 with 1 Axes>",
      "image/png": "[encoded data removed]"
     },
     "metadata": {},
     "output_type": "display_data"
    }
   ],
   "source": [
    "##########################################################\n",
    "# change these\n",
    "target = 'PMAT24_A_CR' # fluid intelligence\n",
    "feature_data = netmats_parcor\n",
    "##########################################################\n",
    "\n",
    "sns.histplot(behavior[target], color='gray')\n",
    "plt.savefig('../data_out/fig/hcp_iq_nonnorm_hist.pdf')\n",
    "\n",
    "# it's a good practice to use pandas for merging, messing up subject order can be painful\n",
    "features = feature_data.columns\n",
    "df = behavior\n",
    "df = df.merge(feature_data, left_index=True, right_index=True, how='left')\n",
    "df = df.dropna(subset = [target] + features.values.tolist())\n",
    "y = df[target].values\n",
    "X = df[features].values"
   ]
  },
  {
   "cell_type": "markdown",
   "metadata": {
    "ExecuteTime": {
     "end_time": "2021-07-31T17:58:26.814045Z",
     "start_time": "2021-07-31T17:58:26.811341Z"
    }
   },
   "source": [
    "### Normalize target"
   ]
  },
  {
   "cell_type": "code",
   "execution_count": 41,
   "metadata": {
    "ExecuteTime": {
     "end_time": "2021-08-01T12:43:11.757399Z",
     "start_time": "2021-08-01T12:43:11.351829Z"
    }
   },
   "outputs": [
    {
     "name": "stderr",
     "output_type": "stream",
     "text": [
      "/home/tspisak/src/mlconfound/venv/lib/python3.8/site-packages/sklearn/preprocessing/_data.py:2612: UserWarning: n_quantiles (1000) is greater than the total number of samples (999). n_quantiles is set to n_samples.\n",
      "  warnings.warn(\"n_quantiles (%s) is greater than the total number \"\n"
     ]
    },
    {
     "data": {
      "text/plain": "<Figure size 432x288 with 1 Axes>",
      "image/png": "[encoded data removed]"
     },
     "metadata": {},
     "output_type": "display_data"
    }
   ],
   "source": [
    "rng = np.random.default_rng(42)\n",
    "y_trf = quantile_transform(np.array([y+rng.uniform(0,1,len(y))-0.5]).T, output_distribution='normal', n_quantiles=1000).flatten()\n",
    "\n",
    "sns.histplot(y_trf, color='gray')\n",
    "plt.savefig('../data_out/fig/hcp_iq_quanttrf_hist.pdf')\n",
    "\n",
    "kurtosis(y_trf), skew(y_trf)\n",
    "y=y_trf\n"
   ]
  },
  {
   "cell_type": "markdown",
   "metadata": {
    "ExecuteTime": {
     "end_time": "2021-07-31T17:58:55.155295Z",
     "start_time": "2021-07-31T17:58:55.151811Z"
    }
   },
   "source": [
    "# Machine Learning on raw data"
   ]
  },
  {
   "cell_type": "code",
   "execution_count": 42,
   "metadata": {
    "ExecuteTime": {
     "end_time": "2021-08-01T12:43:11.765603Z",
     "start_time": "2021-08-01T12:43:11.760627Z"
    }
   },
   "outputs": [],
   "source": [
    "model = Pipeline([\n",
    "    ('varthr', VarianceThreshold(0)),   # omit zero variance columns (diagonal)\n",
    "    #('fsel', SelectKBest(f_regression)),\n",
    "    ('model', Ridge(max_iter=100000))])\n",
    "\n",
    "p_grid = {#'fsel__k': [500, 1000, 2000],\n",
    "          'model__alpha': [0.000001, 0.01, 0.1, 1, 10, 100, 1000000]}\n"
   ]
  },
  {
   "cell_type": "code",
   "execution_count": 43,
   "metadata": {
    "ExecuteTime": {
     "end_time": "2021-08-01T12:46:30.619416Z",
     "start_time": "2021-08-01T12:43:11.767453Z"
    }
   },
   "outputs": [
    {
     "name": "stdout",
     "output_type": "stream",
     "text": [
      "model\tinner_cv mean score\touter vc score\n",
      "cv: 0 {'model__alpha': 1000000} -0.9971629899144607 -1.1059089180546404\n",
      "cv: 1 {'model__alpha': 1000000} -0.9854781777484505 -1.2081902010712973\n",
      "cv: 2 {'model__alpha': 1000000} -1.0160458883937253 -0.9305687932051231\n",
      "cv: 3 {'model__alpha': 1000000} -0.9919712794983215 -1.1333921672063918\n",
      "cv: 4 {'model__alpha': 1000000} -1.0117897021989364 -0.9710832984957432\n",
      "cv: 5 {'model__alpha': 1000000} -1.0360042276155048 -0.7549679227616823\n",
      "cv: 6 {'model__alpha': 1000000} -1.0058227128908288 -1.0040094862896582\n",
      "cv: 7 {'model__alpha': 1000000} -1.0009918252864112 -1.0616518029734605\n",
      "cv: 8 {'model__alpha': 1000000} -0.9985595938625835 -1.07808709237049\n",
      "cv: 9 {'model__alpha': 1000000} -1.028416763376606 -0.8157743553374213\n"
     ]
    }
   ],
   "source": [
    "# nested cv\n",
    "outer_cv = KFold(10)\n",
    "inner_cv = KFold(10)                                    \n",
    "clf = GridSearchCV(estimator=model, param_grid=p_grid, cv=inner_cv,\n",
    "                   scoring=\"neg_mean_squared_error\", return_train_score=False,\n",
    "                   n_jobs=-1)\n",
    "\n",
    "all_models = []\n",
    "best_params = []\n",
    "predicted = np.zeros(len(y))\n",
    "nested_scores_train = np.zeros(outer_cv.get_n_splits(X))\n",
    "nested_scores_test = np.zeros(outer_cv.get_n_splits(X))   \n",
    "                                    \n",
    "print(\"model\\tinner_cv mean score\\touter vc score\")\n",
    "i=0\n",
    "for train, test in outer_cv.split(X, y):\n",
    "\n",
    "    clf.fit(X[train], y[train])\n",
    "                                    \n",
    "    print('cv:', i, str(clf.best_params_) + \" \" + str(clf.best_score_) + \" \" + str(clf.score(X[test], y[test])))\n",
    "                                    \n",
    "    all_models.append(clf.best_estimator_)\n",
    "    best_params.append(clf.best_params_)\n",
    "    \n",
    "    predicted[test] = clf.predict(X[test])\n",
    "                                    \n",
    "    nested_scores_train[i] = clf.best_score_\n",
    "    nested_scores_test[i] = clf.score(X[test], y[test])\n",
    "    i = i+1"
   ]
  },
  {
   "cell_type": "markdown",
   "metadata": {
    "ExecuteTime": {
     "end_time": "2021-07-31T17:59:28.540617Z",
     "start_time": "2021-07-31T17:59:28.536907Z"
    }
   },
   "source": [
    "### Results (raw data)"
   ]
  },
  {
   "cell_type": "code",
   "execution_count": 44,
   "metadata": {
    "ExecuteTime": {
     "end_time": "2021-08-01T12:46:35.118658Z",
     "start_time": "2021-08-01T12:46:30.628840Z"
    }
   },
   "outputs": [
    {
     "name": "stdout",
     "output_type": "stream",
     "text": [
      "*** Score on mean as model:\t-1.0401469064852684\n",
      "** Mean score in the inner crossvaludation (inner_cv):\t-1.007224316078583\n",
      "** Mean Nested Crossvalidation Score (outer_cv):\t-1.0063634037765907\n",
      "Explained Variance: 0.03247954928100938\n",
      "Correlation: 0.2856856783964622\n"
     ]
    },
    {
     "data": {
      "text/plain": "<Figure size 360x144 with 1 Axes>",
      "image/png": "[encoded data removed]"
     },
     "metadata": {},
     "output_type": "display_data"
    },
    {
     "data": {
      "text/plain": "<Figure size 360x144 with 1 Axes>",
      "image/png": "[encoded data removed]"
     },
     "metadata": {},
     "output_type": "display_data"
    }
   ],
   "source": [
    "print(\"*** Score on mean as model:\\t\" + str(-mean_squared_error(np.repeat(y.mean(), len(y)), y)))\n",
    "print(\"** Mean score in the inner crossvaludation (inner_cv):\\t\" + str(nested_scores_train.mean()))\n",
    "print(\"** Mean Nested Crossvalidation Score (outer_cv):\\t\" + str(nested_scores_test.mean()))\n",
    "print(\"Explained Variance: \" +  str( 1- nested_scores_test.mean()/-mean_squared_error(np.repeat(y.mean(), len(y)), y) ))\n",
    "print(\"Correlation: \" + str(np.corrcoef(y, predicted)[0,1]))\n",
    "\n",
    "plt.figure(figsize=(5,2))\n",
    "sns.regplot(x=y, y=predicted, scatter=False, color='gray')\n",
    "sns.scatterplot(x=y, y=predicted, hue=df.age, palette=sns.color_palette(\"coolwarm\", as_cmap=True), alpha=0.4)\n",
    "plt.savefig('../data_out/fig/hcp_age_raw_regplot.pdf')\n",
    "plt.show()\n",
    "\n",
    "plt.figure(figsize=(5,2))\n",
    "sns.regplot(x=y, y=predicted, scatter=False, color='gray')\n",
    "sns.scatterplot(x=y, y=predicted, hue=df.Acquisition.astype(\"category\").cat.codes.values,\n",
    "                palette=sns.color_palette(\"coolwarm\", as_cmap=True), alpha=0.4)\n",
    "plt.savefig('../data_out/fig/hcp_acq_raw_regplot.pdf')\n"
   ]
  },
  {
   "cell_type": "markdown",
   "metadata": {
    "ExecuteTime": {
     "end_time": "2021-07-31T18:00:09.490554Z",
     "start_time": "2021-07-31T18:00:09.486785Z"
    }
   },
   "source": [
    "## Confound testing: age groups (raw)"
   ]
  },
  {
   "cell_type": "code",
   "execution_count": 45,
   "metadata": {
    "ExecuteTime": {
     "end_time": "2021-08-01T12:46:45.146084Z",
     "start_time": "2021-08-01T12:46:35.125796Z"
    }
   },
   "outputs": [
    {
     "name": "stderr",
     "output_type": "stream",
     "text": [
      "Permuting: 100%|██████████| 1000/1000 [00:01<00:00, 533.36it/s]\n"
     ]
    },
    {
     "data": {
      "text/plain": "<graphviz.dot.Graph at 0x7fda5930cbb0>",
      "image/svg+xml": "<?xml version=\"1.0\" encoding=\"UTF-8\" standalone=\"no\"?>\n<!DOCTYPE svg PUBLIC \"-//W3C//DTD SVG 1.1//EN\"\n \"http://www.w3.org/Graphics/SVG/1.1/DTD/svg11.dtd\">\n<!-- Generated by graphviz version 2.43.0 (0)\n -->\n<!-- Title: %3 Pages: 1 -->\n<svg width=\"403pt\" height=\"79pt\"\n viewBox=\"0.00 0.00 403.00 79.00\" xmlns=\"http://www.w3.org/2000/svg\" xmlns:xlink=\"http://www.w3.org/1999/xlink\">\n<g id=\"graph0\" class=\"graph\" transform=\"scale(1 1) rotate(0) translate(4 75)\">\n<title>%3</title>\n<polygon fill=\"white\" stroke=\"transparent\" points=\"-4,4 -4,-75 399,-75 399,4 -4,4\"/>\n<!-- c -->\n<g id=\"node1\" class=\"node\">\n<title>c</title>\n<ellipse fill=\"none\" stroke=\"black\" cx=\"27\" cy=\"-18\" rx=\"27\" ry=\"18\"/>\n<text text-anchor=\"middle\" x=\"27\" y=\"-14.3\" font-family=\"Times,serif\" font-size=\"14.00\">c</text>\n</g>\n<!-- y -->\n<g id=\"node2\" class=\"node\">\n<title>y</title>\n<ellipse fill=\"none\" stroke=\"black\" cx=\"197.5\" cy=\"-53\" rx=\"27\" ry=\"18\"/>\n<text text-anchor=\"middle\" x=\"197.5\" y=\"-49.3\" font-family=\"Times,serif\" font-size=\"14.00\">y</text>\n</g>\n<!-- c&#45;&#45;y -->\n<g id=\"edge2\" class=\"edge\">\n<title>c&#45;&#45;y</title>\n<path fill=\"none\" stroke=\"black\" d=\"M53.23,-23.24C85.08,-29.86 139.57,-41.17 171.38,-47.78\"/>\n<text text-anchor=\"middle\" x=\"92.5\" y=\"-38.8\" font-family=\"Times,serif\" font-size=\"14.00\">0.011</text>\n</g>\n<!-- yhat -->\n<g id=\"node3\" class=\"node\">\n<title>yhat</title>\n<ellipse fill=\"none\" stroke=\"black\" cx=\"368\" cy=\"-18\" rx=\"27\" ry=\"18\"/>\n<text text-anchor=\"start\" x=\"363.5\" y=\"-14.3\" font-family=\"Times,serif\" font-size=\"14.00\">ŷ</text>\n</g>\n<!-- c&#45;&#45;yhat -->\n<g id=\"edge1\" class=\"edge\">\n<title>c&#45;&#45;yhat</title>\n<path fill=\"none\" stroke=\"black\" stroke-dasharray=\"5,2\" d=\"M53.8,-15.76C74.61,-14.07 104.67,-11.89 131,-11 190.08,-8.99 204.92,-8.99 264,-11 290.33,-11.89 320.39,-14.07 341.2,-15.76\"/>\n<text text-anchor=\"middle\" x=\"197.5\" y=\"-14.8\" font-family=\"Times,serif\" font-size=\"14.00\">0.041 (p&lt;0.0001*)</text>\n</g>\n<!-- y&#45;&#45;yhat -->\n<g id=\"edge3\" class=\"edge\">\n<title>y&#45;&#45;yhat</title>\n<path fill=\"none\" stroke=\"black\" d=\"M223.73,-47.76C255.58,-41.14 310.07,-29.83 341.88,-23.22\"/>\n<text text-anchor=\"middle\" x=\"302.5\" y=\"-38.8\" font-family=\"Times,serif\" font-size=\"14.00\">0.082</text>\n</g>\n</g>\n</svg>\n"
     },
     "execution_count": 45,
     "metadata": {},
     "output_type": "execute_result"
    }
   ],
   "source": [
    "plot_graph(test_partially_confounded(y, predicted, df['age'],\n",
    "                                     random_state=42), outfile_base='../data_out/fig/hcp_age_raw_partial')"
   ]
  },
  {
   "cell_type": "code",
   "execution_count": 46,
   "metadata": {
    "ExecuteTime": {
     "end_time": "2021-08-01T12:46:53.862711Z",
     "start_time": "2021-08-01T12:46:45.154913Z"
    }
   },
   "outputs": [
    {
     "name": "stderr",
     "output_type": "stream",
     "text": [
      "Permuting: 100%|██████████| 1000/1000 [00:01<00:00, 850.86it/s]\n"
     ]
    },
    {
     "data": {
      "text/plain": "<graphviz.dot.Graph at 0x7fda4f4b9910>",
      "image/svg+xml": "<?xml version=\"1.0\" encoding=\"UTF-8\" standalone=\"no\"?>\n<!DOCTYPE svg PUBLIC \"-//W3C//DTD SVG 1.1//EN\"\n \"http://www.w3.org/Graphics/SVG/1.1/DTD/svg11.dtd\">\n<!-- Generated by graphviz version 2.43.0 (0)\n -->\n<!-- Title: %3 Pages: 1 -->\n<svg width=\"416pt\" height=\"79pt\"\n viewBox=\"0.00 0.00 416.00 79.00\" xmlns=\"http://www.w3.org/2000/svg\" xmlns:xlink=\"http://www.w3.org/1999/xlink\">\n<g id=\"graph0\" class=\"graph\" transform=\"scale(1 1) rotate(0) translate(4 75)\">\n<title>%3</title>\n<polygon fill=\"white\" stroke=\"transparent\" points=\"-4,4 -4,-75 412,-75 412,4 -4,4\"/>\n<!-- c -->\n<g id=\"node1\" class=\"node\">\n<title>c</title>\n<ellipse fill=\"none\" stroke=\"black\" cx=\"27\" cy=\"-18\" rx=\"27\" ry=\"18\"/>\n<text text-anchor=\"middle\" x=\"27\" y=\"-14.3\" font-family=\"Times,serif\" font-size=\"14.00\">c</text>\n</g>\n<!-- y -->\n<g id=\"node2\" class=\"node\">\n<title>y</title>\n<ellipse fill=\"none\" stroke=\"black\" cx=\"158\" cy=\"-53\" rx=\"27\" ry=\"18\"/>\n<text text-anchor=\"middle\" x=\"158\" y=\"-49.3\" font-family=\"Times,serif\" font-size=\"14.00\">y</text>\n</g>\n<!-- c&#45;&#45;y -->\n<g id=\"edge2\" class=\"edge\">\n<title>c&#45;&#45;y</title>\n<path fill=\"none\" stroke=\"black\" d=\"M52.26,-24.58C75.33,-30.84 109.82,-40.2 132.84,-46.45\"/>\n<text text-anchor=\"middle\" x=\"92.5\" y=\"-43.8\" font-family=\"Times,serif\" font-size=\"14.00\">0.011</text>\n</g>\n<!-- yhat -->\n<g id=\"node3\" class=\"node\">\n<title>yhat</title>\n<ellipse fill=\"none\" stroke=\"black\" cx=\"381\" cy=\"-18\" rx=\"27\" ry=\"18\"/>\n<text text-anchor=\"start\" x=\"376.5\" y=\"-14.3\" font-family=\"Times,serif\" font-size=\"14.00\">ŷ</text>\n</g>\n<!-- c&#45;&#45;yhat -->\n<g id=\"edge1\" class=\"edge\">\n<title>c&#45;&#45;yhat</title>\n<path fill=\"none\" stroke=\"black\" d=\"M53.8,-15.76C74.61,-14.07 104.67,-11.89 131,-11 212.26,-8.24 308.45,-13.31 353.83,-16.2\"/>\n<text text-anchor=\"middle\" x=\"158\" y=\"-14.8\" font-family=\"Times,serif\" font-size=\"14.00\">0.041</text>\n</g>\n<!-- y&#45;&#45;yhat -->\n<g id=\"edge3\" class=\"edge\">\n<title>y&#45;&#45;yhat</title>\n<path fill=\"none\" stroke=\"black\" stroke-dasharray=\"5,2\" d=\"M184.35,-48.99C226.87,-42.25 312.06,-28.76 354.6,-22.02\"/>\n<text text-anchor=\"middle\" x=\"269.5\" y=\"-48.8\" font-family=\"Times,serif\" font-size=\"14.00\">0.082 (p&lt;0.0001*)</text>\n</g>\n</g>\n</svg>\n"
     },
     "execution_count": 46,
     "metadata": {},
     "output_type": "execute_result"
    }
   ],
   "source": [
    "plot_graph(test_fully_confounded(y, predicted, df['age'],\n",
    "                                random_state=42), outfile_base='../data_out/fig/hcp_age_raw_full')"
   ]
  },
  {
   "cell_type": "code",
   "execution_count": 47,
   "outputs": [
    {
     "name": "stdout",
     "output_type": "stream",
     "text": [
      "0.040732252526673805\n"
     ]
    },
    {
     "data": {
      "text/plain": "0.0"
     },
     "execution_count": 47,
     "metadata": {},
     "output_type": "execute_result"
    }
   ],
   "source": [
    "nulldist = []\n",
    "unpermuted = _r2_cont_cont(predicted, df['age'])\n",
    "\n",
    "print(unpermuted)\n",
    "\n",
    "for i in range(1000):\n",
    "    yperm = np.random.permutation(predicted)\n",
    "    nulldist.append(_r2_cont_cont(yperm, df['age']))\n",
    "(nulldist >= unpermuted).sum()/len(nulldist)"
   ],
   "metadata": {
    "collapsed": false,
    "pycharm": {
     "name": "#%%\n"
    }
   }
  },
  {
   "cell_type": "code",
   "execution_count": 48,
   "outputs": [
    {
     "name": "stdout",
     "output_type": "stream",
     "text": [
      "0.08161630684084682\n"
     ]
    },
    {
     "data": {
      "text/plain": "0.0"
     },
     "execution_count": 48,
     "metadata": {},
     "output_type": "execute_result"
    }
   ],
   "source": [
    "nulldist = []\n",
    "unpermuted = _r2_cont_cont(y, predicted)\n",
    "\n",
    "print(unpermuted)\n",
    "\n",
    "for i in range(1000):\n",
    "    yperm = np.random.\\\n",
    "        permutation(predicted)\n",
    "    nulldist.append(_r2_cont_cont(y, yperm))\n",
    "(nulldist >= unpermuted).sum()/len(nulldist)\n"
   ],
   "metadata": {
    "collapsed": false,
    "pycharm": {
     "name": "#%%\n"
    }
   }
  },
  {
   "cell_type": "markdown",
   "metadata": {},
   "source": [
    "## Confound testing: acquisition batch (raw)"
   ]
  },
  {
   "cell_type": "code",
   "execution_count": 49,
   "metadata": {
    "ExecuteTime": {
     "end_time": "2021-08-01T12:47:10.084704Z",
     "start_time": "2021-08-01T12:46:53.868101Z"
    }
   },
   "outputs": [
    {
     "name": "stderr",
     "output_type": "stream",
     "text": [
      "Permuting: 100%|██████████| 1000/1000 [00:02<00:00, 454.04it/s]\n"
     ]
    },
    {
     "data": {
      "text/plain": "<graphviz.dot.Graph at 0x7fda4f4b9970>",
      "image/svg+xml": "<?xml version=\"1.0\" encoding=\"UTF-8\" standalone=\"no\"?>\n<!DOCTYPE svg PUBLIC \"-//W3C//DTD SVG 1.1//EN\"\n \"http://www.w3.org/Graphics/SVG/1.1/DTD/svg11.dtd\">\n<!-- Generated by graphviz version 2.43.0 (0)\n -->\n<!-- Title: %3 Pages: 1 -->\n<svg width=\"403pt\" height=\"79pt\"\n viewBox=\"0.00 0.00 403.00 79.00\" xmlns=\"http://www.w3.org/2000/svg\" xmlns:xlink=\"http://www.w3.org/1999/xlink\">\n<g id=\"graph0\" class=\"graph\" transform=\"scale(1 1) rotate(0) translate(4 75)\">\n<title>%3</title>\n<polygon fill=\"white\" stroke=\"transparent\" points=\"-4,4 -4,-75 399,-75 399,4 -4,4\"/>\n<!-- c -->\n<g id=\"node1\" class=\"node\">\n<title>c</title>\n<ellipse fill=\"none\" stroke=\"black\" cx=\"27\" cy=\"-18\" rx=\"27\" ry=\"18\"/>\n<text text-anchor=\"middle\" x=\"27\" y=\"-14.3\" font-family=\"Times,serif\" font-size=\"14.00\">c</text>\n</g>\n<!-- y -->\n<g id=\"node2\" class=\"node\">\n<title>y</title>\n<ellipse fill=\"none\" stroke=\"black\" cx=\"197.5\" cy=\"-53\" rx=\"27\" ry=\"18\"/>\n<text text-anchor=\"middle\" x=\"197.5\" y=\"-49.3\" font-family=\"Times,serif\" font-size=\"14.00\">y</text>\n</g>\n<!-- c&#45;&#45;y -->\n<g id=\"edge2\" class=\"edge\">\n<title>c&#45;&#45;y</title>\n<path fill=\"none\" stroke=\"black\" d=\"M53.23,-23.24C85.08,-29.86 139.57,-41.17 171.38,-47.78\"/>\n<text text-anchor=\"middle\" x=\"92.5\" y=\"-38.8\" font-family=\"Times,serif\" font-size=\"14.00\">0.032</text>\n</g>\n<!-- yhat -->\n<g id=\"node3\" class=\"node\">\n<title>yhat</title>\n<ellipse fill=\"none\" stroke=\"black\" cx=\"368\" cy=\"-18\" rx=\"27\" ry=\"18\"/>\n<text text-anchor=\"start\" x=\"363.5\" y=\"-14.3\" font-family=\"Times,serif\" font-size=\"14.00\">ŷ</text>\n</g>\n<!-- c&#45;&#45;yhat -->\n<g id=\"edge1\" class=\"edge\">\n<title>c&#45;&#45;yhat</title>\n<path fill=\"none\" stroke=\"black\" stroke-dasharray=\"5,2\" d=\"M53.8,-15.76C74.61,-14.07 104.67,-11.89 131,-11 190.08,-8.99 204.92,-8.99 264,-11 290.33,-11.89 320.39,-14.07 341.2,-15.76\"/>\n<text text-anchor=\"middle\" x=\"197.5\" y=\"-14.8\" font-family=\"Times,serif\" font-size=\"14.00\">0.084 (p&lt;0.0001*)</text>\n</g>\n<!-- y&#45;&#45;yhat -->\n<g id=\"edge3\" class=\"edge\">\n<title>y&#45;&#45;yhat</title>\n<path fill=\"none\" stroke=\"black\" d=\"M223.73,-47.76C255.58,-41.14 310.07,-29.83 341.88,-23.22\"/>\n<text text-anchor=\"middle\" x=\"302.5\" y=\"-38.8\" font-family=\"Times,serif\" font-size=\"14.00\">0.082</text>\n</g>\n</g>\n</svg>\n"
     },
     "execution_count": 49,
     "metadata": {},
     "output_type": "execute_result"
    }
   ],
   "source": [
    "plot_graph(test_partially_confounded(y, predicted, pd.Categorical(df['Acquisition'].values).codes, cat_c=True,\n",
    "                                     random_state=42), outfile_base='../data_out/fig/hcp_acq_raw_partial')"
   ]
  },
  {
   "cell_type": "code",
   "execution_count": 50,
   "metadata": {
    "ExecuteTime": {
     "end_time": "2021-08-01T12:47:17.687890Z",
     "start_time": "2021-08-01T12:47:10.089889Z"
    }
   },
   "outputs": [
    {
     "name": "stderr",
     "output_type": "stream",
     "text": [
      "Permuting: 100%|██████████| 1000/1000 [00:01<00:00, 794.01it/s]\n"
     ]
    },
    {
     "data": {
      "text/plain": "<graphviz.dot.Graph at 0x7fda4f4b9be0>",
      "image/svg+xml": "<?xml version=\"1.0\" encoding=\"UTF-8\" standalone=\"no\"?>\n<!DOCTYPE svg PUBLIC \"-//W3C//DTD SVG 1.1//EN\"\n \"http://www.w3.org/Graphics/SVG/1.1/DTD/svg11.dtd\">\n<!-- Generated by graphviz version 2.43.0 (0)\n -->\n<!-- Title: %3 Pages: 1 -->\n<svg width=\"416pt\" height=\"79pt\"\n viewBox=\"0.00 0.00 416.00 79.00\" xmlns=\"http://www.w3.org/2000/svg\" xmlns:xlink=\"http://www.w3.org/1999/xlink\">\n<g id=\"graph0\" class=\"graph\" transform=\"scale(1 1) rotate(0) translate(4 75)\">\n<title>%3</title>\n<polygon fill=\"white\" stroke=\"transparent\" points=\"-4,4 -4,-75 412,-75 412,4 -4,4\"/>\n<!-- c -->\n<g id=\"node1\" class=\"node\">\n<title>c</title>\n<ellipse fill=\"none\" stroke=\"black\" cx=\"27\" cy=\"-18\" rx=\"27\" ry=\"18\"/>\n<text text-anchor=\"middle\" x=\"27\" y=\"-14.3\" font-family=\"Times,serif\" font-size=\"14.00\">c</text>\n</g>\n<!-- y -->\n<g id=\"node2\" class=\"node\">\n<title>y</title>\n<ellipse fill=\"none\" stroke=\"black\" cx=\"158\" cy=\"-53\" rx=\"27\" ry=\"18\"/>\n<text text-anchor=\"middle\" x=\"158\" y=\"-49.3\" font-family=\"Times,serif\" font-size=\"14.00\">y</text>\n</g>\n<!-- c&#45;&#45;y -->\n<g id=\"edge2\" class=\"edge\">\n<title>c&#45;&#45;y</title>\n<path fill=\"none\" stroke=\"black\" d=\"M52.26,-24.58C75.33,-30.84 109.82,-40.2 132.84,-46.45\"/>\n<text text-anchor=\"middle\" x=\"92.5\" y=\"-43.8\" font-family=\"Times,serif\" font-size=\"14.00\">0.032</text>\n</g>\n<!-- yhat -->\n<g id=\"node3\" class=\"node\">\n<title>yhat</title>\n<ellipse fill=\"none\" stroke=\"black\" cx=\"381\" cy=\"-18\" rx=\"27\" ry=\"18\"/>\n<text text-anchor=\"start\" x=\"376.5\" y=\"-14.3\" font-family=\"Times,serif\" font-size=\"14.00\">ŷ</text>\n</g>\n<!-- c&#45;&#45;yhat -->\n<g id=\"edge1\" class=\"edge\">\n<title>c&#45;&#45;yhat</title>\n<path fill=\"none\" stroke=\"black\" d=\"M53.8,-15.76C74.61,-14.07 104.67,-11.89 131,-11 212.26,-8.24 308.45,-13.31 353.83,-16.2\"/>\n<text text-anchor=\"middle\" x=\"158\" y=\"-14.8\" font-family=\"Times,serif\" font-size=\"14.00\">0.084</text>\n</g>\n<!-- y&#45;&#45;yhat -->\n<g id=\"edge3\" class=\"edge\">\n<title>y&#45;&#45;yhat</title>\n<path fill=\"none\" stroke=\"black\" stroke-dasharray=\"5,2\" d=\"M184.35,-48.99C226.87,-42.25 312.06,-28.76 354.6,-22.02\"/>\n<text text-anchor=\"middle\" x=\"269.5\" y=\"-48.8\" font-family=\"Times,serif\" font-size=\"14.00\">0.082 (p&lt;0.0001*)</text>\n</g>\n</g>\n</svg>\n"
     },
     "execution_count": 50,
     "metadata": {},
     "output_type": "execute_result"
    }
   ],
   "source": [
    "plot_graph(test_fully_confounded(y, predicted, pd.Categorical(df['Acquisition'].values).codes, cat_c=True,\n",
    "                                random_state=42), outfile_base='../data_out/fig/hcp_acq_raw_full')"
   ]
  },
  {
   "cell_type": "code",
   "execution_count": 51,
   "outputs": [
    {
     "name": "stdout",
     "output_type": "stream",
     "text": [
      "0.08355656212579454\n"
     ]
    },
    {
     "data": {
      "text/plain": "0.0"
     },
     "execution_count": 51,
     "metadata": {},
     "output_type": "execute_result"
    }
   ],
   "source": [
    "nulldist = []\n",
    "unpermuted = _r2_cat_cont(pd.Categorical(df['Acquisition'].values).codes, predicted)\n",
    "\n",
    "print(unpermuted)\n",
    "\n",
    "for i in range(1000):\n",
    "    yperm = np.random.permutation(predicted)\n",
    "    nulldist.append(_r2_cat_cont(pd.Categorical(df['Acquisition'].values).codes, yperm))\n",
    "(nulldist >= unpermuted).sum()/len(nulldist)\n"
   ],
   "metadata": {
    "collapsed": false,
    "pycharm": {
     "name": "#%%\n"
    }
   }
  },
  {
   "cell_type": "code",
   "execution_count": 52,
   "outputs": [
    {
     "name": "stdout",
     "output_type": "stream",
     "text": [
      "0.08161630684084682\n"
     ]
    },
    {
     "data": {
      "text/plain": "0.0"
     },
     "execution_count": 52,
     "metadata": {},
     "output_type": "execute_result"
    }
   ],
   "source": [
    "nulldist = []\n",
    "unpermuted = _r2_cont_cont(y, predicted)\n",
    "\n",
    "print(unpermuted)\n",
    "\n",
    "for i in range(1000):\n",
    "    yperm = np.random.\\\n",
    "        permutation(predicted)\n",
    "    nulldist.append(_r2_cont_cont(y, yperm))\n",
    "(nulldist >= unpermuted).sum()/len(nulldist)"
   ],
   "metadata": {
    "collapsed": false,
    "pycharm": {
     "name": "#%%\n"
    }
   }
  },
  {
   "cell_type": "markdown",
   "metadata": {},
   "source": [
    "# Regress out confounder from features"
   ]
  },
  {
   "cell_type": "code",
   "execution_count": 53,
   "metadata": {
    "ExecuteTime": {
     "end_time": "2021-08-01T12:47:45.869582Z",
     "start_time": "2021-08-01T12:47:17.692941Z"
    }
   },
   "outputs": [
    {
     "name": "stderr",
     "output_type": "stream",
     "text": [
      "/home/tspisak/src/mlconfound/venv/lib/python3.8/site-packages/statsmodels/tsa/tsatools.py:142: FutureWarning: In a future version of pandas all arguments of concat except for the argument 'objs' will be keyword-only\n",
      "  x = pd.concat(x[::order], 1)\n"
     ]
    }
   ],
   "source": [
    "# regress-out age from connectivity\n",
    "X_adj = np.zeros_like(X)\n",
    "for i in range(X.shape[1]):\n",
    "    OLS_model = OLS(X[:,i], sm.add_constant(df.age)).fit()  # training the model\n",
    "    X_adj[:, i] = OLS_model.resid.values"
   ]
  },
  {
   "cell_type": "code",
   "execution_count": 54,
   "metadata": {
    "ExecuteTime": {
     "end_time": "2021-08-01T12:50:33.907548Z",
     "start_time": "2021-08-01T12:47:46.089537Z"
    }
   },
   "outputs": [
    {
     "name": "stdout",
     "output_type": "stream",
     "text": [
      "model\tinner_cv mean score\touter vc score\n",
      "Fitting 10 folds for each of 7 candidates, totalling 70 fits\n",
      "cv: 0 {'model__alpha': 1000000} -1.0017036023904737 -1.1087264950221378\n",
      "Fitting 10 folds for each of 7 candidates, totalling 70 fits\n",
      "cv: 1 {'model__alpha': 1000000} -0.9890052534025264 -1.2157623115352036\n",
      "Fitting 10 folds for each of 7 candidates, totalling 70 fits\n",
      "cv: 2 {'model__alpha': 1000000} -1.019682486999432 -0.9380702980628939\n",
      "Fitting 10 folds for each of 7 candidates, totalling 70 fits\n",
      "cv: 3 {'model__alpha': 1000000} -0.9969336707908178 -1.1346510129679486\n",
      "Fitting 10 folds for each of 7 candidates, totalling 70 fits\n",
      "cv: 4 {'model__alpha': 1000000} -1.0156487330977628 -0.9776813077271918\n",
      "Fitting 10 folds for each of 7 candidates, totalling 70 fits\n",
      "cv: 5 {'model__alpha': 1000000} -1.041121099916945 -0.7542124205899899\n",
      "Fitting 10 folds for each of 7 candidates, totalling 70 fits\n",
      "cv: 6 {'model__alpha': 1000000} -1.0103299336509797 -1.006804386805516\n",
      "Fitting 10 folds for each of 7 candidates, totalling 70 fits\n",
      "cv: 7 {'model__alpha': 1000000} -1.0039453989083758 -1.0717431646941527\n",
      "Fitting 10 folds for each of 7 candidates, totalling 70 fits\n",
      "cv: 8 {'model__alpha': 1000000} -1.0031655578049217 -1.0801900775887148\n",
      "Fitting 10 folds for each of 7 candidates, totalling 70 fits\n",
      "cv: 9 {'model__alpha': 1000000} -1.032403205043421 -0.820893407702294\n"
     ]
    }
   ],
   "source": [
    "# nested cv\n",
    "outer_cv = KFold(10)\n",
    "inner_cv = KFold(10)                                    \n",
    "clf = GridSearchCV(estimator=model, param_grid=p_grid, cv=inner_cv,\n",
    "                   scoring=\"neg_mean_squared_error\", verbose=True, return_train_score=False,\n",
    "                   n_jobs=-1)\n",
    "\n",
    "all_models = []\n",
    "best_params = []\n",
    "predicted = np.zeros(len(y))\n",
    "nested_scores_train = np.zeros(outer_cv.get_n_splits(X_adj))\n",
    "nested_scores_test = np.zeros(outer_cv.get_n_splits(X_adj))   \n",
    "                                    \n",
    "print(\"model\\tinner_cv mean score\\touter vc score\")\n",
    "i=0\n",
    "for train, test in outer_cv.split(X_adj, y):\n",
    "\n",
    "    clf.fit(X_adj[train], y[train])\n",
    "                                    \n",
    "    print('cv:', i, str(clf.best_params_) + \" \" + str(clf.best_score_) + \" \" + str(clf.score(X_adj[test], y[test])))\n",
    "                                    \n",
    "    all_models.append(clf.best_estimator_)\n",
    "    best_params.append(clf.best_params_)\n",
    "    \n",
    "    predicted[test] = clf.predict(X_adj[test])\n",
    "                                    \n",
    "    nested_scores_train[i] = clf.best_score_\n",
    "    nested_scores_test[i] = clf.score(X_adj[test], y[test])\n",
    "    i = i+1"
   ]
  },
  {
   "cell_type": "markdown",
   "metadata": {},
   "source": [
    "## Results (feature regression)"
   ]
  },
  {
   "cell_type": "code",
   "execution_count": 55,
   "metadata": {
    "ExecuteTime": {
     "end_time": "2021-08-01T12:50:35.239315Z",
     "start_time": "2021-08-01T12:50:33.912296Z"
    }
   },
   "outputs": [
    {
     "name": "stdout",
     "output_type": "stream",
     "text": [
      "*** Score on mean as model:\t-1.0401469064852684\n",
      "** Mean score in the inner crossvaludation (inner_cv):\t-1.0113938942005656\n",
      "** Mean Nested Crossvalidation Score (outer_cv):\t-1.010873488269604\n",
      "Explained Variance: 0.02814354206424685\n",
      "Correlation: 0.2646447299991951\n"
     ]
    },
    {
     "data": {
      "text/plain": "<Figure size 360x144 with 1 Axes>",
      "image/png": "[encoded data removed]"
     },
     "metadata": {},
     "output_type": "display_data"
    }
   ],
   "source": [
    "print(\"*** Score on mean as model:\\t\" + str(-mean_squared_error(np.repeat(y.mean(), len(y)), y)))\n",
    "print(\"** Mean score in the inner crossvaludation (inner_cv):\\t\" + str(nested_scores_train.mean()))\n",
    "print(\"** Mean Nested Crossvalidation Score (outer_cv):\\t\" + str(nested_scores_test.mean()))\n",
    "print(\"Explained Variance: \" +  str( 1- nested_scores_test.mean()/-mean_squared_error(np.repeat(y.mean(), len(y)), y) ))\n",
    "print(\"Correlation: \" + str(np.corrcoef(y, predicted)[0,1]))\n",
    "\n",
    "plt.figure(figsize=(5,2))\n",
    "sns.regplot(x=y, y=predicted, scatter=False, color='gray')\n",
    "sns.scatterplot(x=y, y=predicted, hue=df.age, palette=sns.color_palette(\"coolwarm\", as_cmap=True), alpha=0.4)\n",
    "plt.savefig('../data_out/fig/hcp_age_reg_regplot.pdf')"
   ]
  },
  {
   "cell_type": "markdown",
   "metadata": {},
   "source": [
    "#### Confound test (feature regression)"
   ]
  },
  {
   "cell_type": "code",
   "execution_count": 56,
   "metadata": {
    "ExecuteTime": {
     "end_time": "2021-08-01T12:50:41.963426Z",
     "start_time": "2021-08-01T12:50:35.243799Z"
    }
   },
   "outputs": [
    {
     "name": "stderr",
     "output_type": "stream",
     "text": [
      "Permuting: 100%|██████████| 1000/1000 [00:01<00:00, 713.03it/s]\n"
     ]
    },
    {
     "data": {
      "text/plain": "<graphviz.dot.Graph at 0x7fdaa050fb20>",
      "image/svg+xml": "<?xml version=\"1.0\" encoding=\"UTF-8\" standalone=\"no\"?>\n<!DOCTYPE svg PUBLIC \"-//W3C//DTD SVG 1.1//EN\"\n \"http://www.w3.org/Graphics/SVG/1.1/DTD/svg11.dtd\">\n<!-- Generated by graphviz version 2.43.0 (0)\n -->\n<!-- Title: %3 Pages: 1 -->\n<svg width=\"361pt\" height=\"79pt\"\n viewBox=\"0.00 0.00 361.00 79.00\" xmlns=\"http://www.w3.org/2000/svg\" xmlns:xlink=\"http://www.w3.org/1999/xlink\">\n<g id=\"graph0\" class=\"graph\" transform=\"scale(1 1) rotate(0) translate(4 75)\">\n<title>%3</title>\n<polygon fill=\"white\" stroke=\"transparent\" points=\"-4,4 -4,-75 357,-75 357,4 -4,4\"/>\n<!-- c -->\n<g id=\"node1\" class=\"node\">\n<title>c</title>\n<ellipse fill=\"none\" stroke=\"black\" cx=\"27\" cy=\"-18\" rx=\"27\" ry=\"18\"/>\n<text text-anchor=\"middle\" x=\"27\" y=\"-14.3\" font-family=\"Times,serif\" font-size=\"14.00\">c</text>\n</g>\n<!-- y -->\n<g id=\"node2\" class=\"node\">\n<title>y</title>\n<ellipse fill=\"none\" stroke=\"black\" cx=\"181\" cy=\"-53\" rx=\"27\" ry=\"18\"/>\n<text text-anchor=\"middle\" x=\"181\" y=\"-49.3\" font-family=\"Times,serif\" font-size=\"14.00\">y</text>\n</g>\n<!-- c&#45;&#45;y -->\n<g id=\"edge2\" class=\"edge\">\n<title>c&#45;&#45;y</title>\n<path fill=\"none\" stroke=\"black\" d=\"M52.76,-23.7C81.03,-30.21 126.99,-40.79 155.25,-47.3\"/>\n<text text-anchor=\"middle\" x=\"92.5\" y=\"-39.8\" font-family=\"Times,serif\" font-size=\"14.00\">0.011</text>\n</g>\n<!-- yhat -->\n<g id=\"node3\" class=\"node\">\n<title>yhat</title>\n<ellipse fill=\"none\" stroke=\"black\" cx=\"326\" cy=\"-18\" rx=\"27\" ry=\"18\"/>\n<text text-anchor=\"start\" x=\"321.5\" y=\"-14.3\" font-family=\"Times,serif\" font-size=\"14.00\">ŷ</text>\n</g>\n<!-- c&#45;&#45;yhat -->\n<g id=\"edge1\" class=\"edge\">\n<title>c&#45;&#45;yhat</title>\n<path fill=\"none\" stroke=\"black\" stroke-dasharray=\"5,2\" d=\"M53.8,-15.76C74.61,-14.07 104.67,-11.89 131,-11 175.42,-9.49 186.59,-9.35 231,-11 254.06,-11.86 280.23,-13.89 299.09,-15.55\"/>\n<text text-anchor=\"middle\" x=\"181\" y=\"-14.8\" font-family=\"Times,serif\" font-size=\"14.00\">0.001 (p=0.5)</text>\n</g>\n<!-- y&#45;&#45;yhat -->\n<g id=\"edge3\" class=\"edge\">\n<title>y&#45;&#45;yhat</title>\n<path fill=\"none\" stroke=\"black\" d=\"M206.58,-46.98C232.78,-40.57 274.01,-30.48 300.26,-24.06\"/>\n<text text-anchor=\"middle\" x=\"265\" y=\"-39.8\" font-family=\"Times,serif\" font-size=\"14.00\">0.07</text>\n</g>\n</g>\n</svg>\n"
     },
     "execution_count": 56,
     "metadata": {},
     "output_type": "execute_result"
    }
   ],
   "source": [
    "plot_graph(test_partially_confounded(y, predicted, df['age'], random_state=42),\n",
    "          outfile_base='../data_out/fig/hcp_age_reg_partial')"
   ]
  },
  {
   "cell_type": "code",
   "execution_count": 57,
   "metadata": {
    "ExecuteTime": {
     "end_time": "2021-08-01T12:50:48.180928Z",
     "start_time": "2021-08-01T12:50:41.966080Z"
    }
   },
   "outputs": [
    {
     "name": "stderr",
     "output_type": "stream",
     "text": [
      "Permuting: 100%|██████████| 1000/1000 [00:01<00:00, 757.90it/s]\n"
     ]
    },
    {
     "data": {
      "text/plain": "<graphviz.dot.Graph at 0x7fda546a2a90>",
      "image/svg+xml": "<?xml version=\"1.0\" encoding=\"UTF-8\" standalone=\"no\"?>\n<!DOCTYPE svg PUBLIC \"-//W3C//DTD SVG 1.1//EN\"\n \"http://www.w3.org/Graphics/SVG/1.1/DTD/svg11.dtd\">\n<!-- Generated by graphviz version 2.43.0 (0)\n -->\n<!-- Title: %3 Pages: 1 -->\n<svg width=\"407pt\" height=\"79pt\"\n viewBox=\"0.00 0.00 407.00 79.00\" xmlns=\"http://www.w3.org/2000/svg\" xmlns:xlink=\"http://www.w3.org/1999/xlink\">\n<g id=\"graph0\" class=\"graph\" transform=\"scale(1 1) rotate(0) translate(4 75)\">\n<title>%3</title>\n<polygon fill=\"white\" stroke=\"transparent\" points=\"-4,4 -4,-75 403,-75 403,4 -4,4\"/>\n<!-- c -->\n<g id=\"node1\" class=\"node\">\n<title>c</title>\n<ellipse fill=\"none\" stroke=\"black\" cx=\"27\" cy=\"-18\" rx=\"27\" ry=\"18\"/>\n<text text-anchor=\"middle\" x=\"27\" y=\"-14.3\" font-family=\"Times,serif\" font-size=\"14.00\">c</text>\n</g>\n<!-- y -->\n<g id=\"node2\" class=\"node\">\n<title>y</title>\n<ellipse fill=\"none\" stroke=\"black\" cx=\"158\" cy=\"-53\" rx=\"27\" ry=\"18\"/>\n<text text-anchor=\"middle\" x=\"158\" y=\"-49.3\" font-family=\"Times,serif\" font-size=\"14.00\">y</text>\n</g>\n<!-- c&#45;&#45;y -->\n<g id=\"edge2\" class=\"edge\">\n<title>c&#45;&#45;y</title>\n<path fill=\"none\" stroke=\"black\" d=\"M52.26,-24.58C75.33,-30.84 109.82,-40.2 132.84,-46.45\"/>\n<text text-anchor=\"middle\" x=\"92.5\" y=\"-43.8\" font-family=\"Times,serif\" font-size=\"14.00\">0.011</text>\n</g>\n<!-- yhat -->\n<g id=\"node3\" class=\"node\">\n<title>yhat</title>\n<ellipse fill=\"none\" stroke=\"black\" cx=\"372\" cy=\"-18\" rx=\"27\" ry=\"18\"/>\n<text text-anchor=\"start\" x=\"367.5\" y=\"-14.3\" font-family=\"Times,serif\" font-size=\"14.00\">ŷ</text>\n</g>\n<!-- c&#45;&#45;yhat -->\n<g id=\"edge1\" class=\"edge\">\n<title>c&#45;&#45;yhat</title>\n<path fill=\"none\" stroke=\"black\" d=\"M53.8,-15.76C74.61,-14.07 104.67,-11.89 131,-11 208.9,-8.36 301.06,-13.31 345.07,-16.17\"/>\n<text text-anchor=\"middle\" x=\"158\" y=\"-14.8\" font-family=\"Times,serif\" font-size=\"14.00\">0.001</text>\n</g>\n<!-- y&#45;&#45;yhat -->\n<g id=\"edge3\" class=\"edge\">\n<title>y&#45;&#45;yhat</title>\n<path fill=\"none\" stroke=\"black\" stroke-dasharray=\"5,2\" d=\"M184.57,-48.78C225.43,-42.03 304.96,-28.9 345.67,-22.18\"/>\n<text text-anchor=\"middle\" x=\"265\" y=\"-48.8\" font-family=\"Times,serif\" font-size=\"14.00\">0.07 (p&lt;0.0001*)</text>\n</g>\n</g>\n</svg>\n"
     },
     "execution_count": 57,
     "metadata": {},
     "output_type": "execute_result"
    }
   ],
   "source": [
    "plot_graph(test_fully_confounded(y, predicted, df['age'], random_state=42),\n",
    "           outfile_base='../data_out/fig/hcp_age_reg_full')"
   ]
  },
  {
   "cell_type": "code",
   "execution_count": 58,
   "outputs": [
    {
     "name": "stdout",
     "output_type": "stream",
     "text": [
      "0.0009814193254878679\n"
     ]
    },
    {
     "data": {
      "text/plain": "0.302"
     },
     "execution_count": 58,
     "metadata": {},
     "output_type": "execute_result"
    }
   ],
   "source": [
    "nulldist = []\n",
    "unpermuted = _r2_cont_cont(predicted, df['age'])\n",
    "\n",
    "print(unpermuted)\n",
    "\n",
    "for i in range(1000):\n",
    "    yperm = np.random.permutation(predicted)\n",
    "    nulldist.append(_r2_cont_cont(yperm, df['age']))\n",
    "(nulldist >= unpermuted).sum()/len(nulldist)\n"
   ],
   "metadata": {
    "collapsed": false,
    "pycharm": {
     "name": "#%%\n"
    }
   }
  },
  {
   "cell_type": "code",
   "execution_count": 59,
   "outputs": [
    {
     "name": "stdout",
     "output_type": "stream",
     "text": [
      "0.07003683311634687\n"
     ]
    },
    {
     "data": {
      "text/plain": "0.0"
     },
     "execution_count": 59,
     "metadata": {},
     "output_type": "execute_result"
    }
   ],
   "source": [
    "nulldist = []\n",
    "unpermuted = _r2_cont_cont(y, predicted)\n",
    "\n",
    "print(unpermuted)\n",
    "\n",
    "for i in range(1000):\n",
    "    yperm = np.random.\\\n",
    "        permutation(predicted)\n",
    "    nulldist.append(_r2_cont_cont(y, yperm))\n",
    "(nulldist >= unpermuted).sum()/len(nulldist)"
   ],
   "metadata": {
    "collapsed": false,
    "pycharm": {
     "name": "#%%\n"
    }
   }
  },
  {
   "cell_type": "markdown",
   "metadata": {},
   "source": [
    "## Regress out acquisition batch"
   ]
  },
  {
   "cell_type": "code",
   "execution_count": 60,
   "metadata": {
    "ExecuteTime": {
     "end_time": "2021-08-01T12:52:49.853562Z",
     "start_time": "2021-08-01T12:50:48.184011Z"
    }
   },
   "outputs": [],
   "source": [
    "# regress-out acquisition from connectivity\n",
    "X_adj = np.zeros_like(X)\n",
    "for i in range(X.shape[1]):\n",
    "    tmp = pd.DataFrame({\n",
    "        'x': df.Acquisition.values,\n",
    "        'y': X[:,i]\n",
    "    })\n",
    "    OLS_model = ols_f(\"y ~ C(x)\", tmp).fit()  # training the model\n",
    "    X_adj[:, i] = OLS_model.resid.values"
   ]
  },
  {
   "cell_type": "code",
   "execution_count": 61,
   "metadata": {
    "ExecuteTime": {
     "end_time": "2021-08-01T13:11:32.538414Z",
     "start_time": "2021-08-01T13:08:49.530346Z"
    }
   },
   "outputs": [
    {
     "name": "stdout",
     "output_type": "stream",
     "text": [
      "model\tinner_cv mean score\touter vc score\n",
      "Fitting 10 folds for each of 7 candidates, totalling 70 fits\n",
      "cv: 0 {'model__alpha': 1000000} -1.0041425063453733 -1.1129606908154905\n",
      "Fitting 10 folds for each of 7 candidates, totalling 70 fits\n",
      "cv: 1 {'model__alpha': 1000000} -0.9920054181307524 -1.2175597645096443\n",
      "Fitting 10 folds for each of 7 candidates, totalling 70 fits\n",
      "cv: 2 {'model__alpha': 1000000} -1.0234740572949765 -0.9355355442888957\n",
      "Fitting 10 folds for each of 7 candidates, totalling 70 fits\n",
      "cv: 3 {'model__alpha': 1000000} -0.9996053304991139 -1.1368194432264165\n",
      "Fitting 10 folds for each of 7 candidates, totalling 70 fits\n",
      "cv: 4 {'model__alpha': 1000000} -1.0168054315005648 -0.9853060564251659\n",
      "Fitting 10 folds for each of 7 candidates, totalling 70 fits\n",
      "cv: 5 {'model__alpha': 1000000} -1.0429961455558934 -0.7607376283360152\n",
      "Fitting 10 folds for each of 7 candidates, totalling 70 fits\n",
      "cv: 6 {'model__alpha': 1000000} -1.0136041554329016 -1.0059816054484014\n",
      "Fitting 10 folds for each of 7 candidates, totalling 70 fits\n",
      "cv: 7 {'model__alpha': 1000000} -1.0065314159953185 -1.0736653771633042\n",
      "Fitting 10 folds for each of 7 candidates, totalling 70 fits\n",
      "cv: 8 {'model__alpha': 1000000} -1.0073952028662752 -1.0747817294982207\n",
      "Fitting 10 folds for each of 7 candidates, totalling 70 fits\n",
      "cv: 9 {'model__alpha': 1000000} -1.0339169936916284 -0.8286918660863475\n"
     ]
    }
   ],
   "source": [
    "# nested cv\n",
    "outer_cv = KFold(10)\n",
    "inner_cv = KFold(10)                                    \n",
    "clf = GridSearchCV(estimator=model, param_grid=p_grid, cv=inner_cv,\n",
    "                   scoring=\"neg_mean_squared_error\", verbose=True, return_train_score=False,\n",
    "                   n_jobs=-1)\n",
    "\n",
    "all_models = []\n",
    "best_params = []\n",
    "predicted = np.zeros(len(y))\n",
    "nested_scores_train = np.zeros(outer_cv.get_n_splits(X_adj))\n",
    "nested_scores_test = np.zeros(outer_cv.get_n_splits(X_adj))   \n",
    "                                    \n",
    "print(\"model\\tinner_cv mean score\\touter vc score\")\n",
    "i=0\n",
    "for train, test in outer_cv.split(X_adj, y):\n",
    "\n",
    "    \n",
    "    \n",
    "    clf.fit(X_adj[train], y[train])\n",
    "    \n",
    "                                    \n",
    "    print('cv:', i, str(clf.best_params_) + \" \" + str(clf.best_score_) + \" \" + str(clf.score(X_adj[test], y[test])))\n",
    "                                    \n",
    "    all_models.append(clf.best_estimator_)\n",
    "    best_params.append(clf.best_params_)\n",
    "    \n",
    "    predicted[test] = clf.predict(X_adj[test])\n",
    "                                    \n",
    "    nested_scores_train[i] = clf.best_score_\n",
    "    nested_scores_test[i] = clf.score(X_adj[test], y[test])\n",
    "    i = i+1"
   ]
  },
  {
   "cell_type": "markdown",
   "metadata": {
    "ExecuteTime": {
     "end_time": "2021-07-31T18:04:26.010358Z",
     "start_time": "2021-07-31T18:04:26.006192Z"
    }
   },
   "source": [
    "## Results (acquisition batch regressed out)"
   ]
  },
  {
   "cell_type": "code",
   "execution_count": 62,
   "metadata": {
    "ExecuteTime": {
     "end_time": "2021-08-01T13:11:33.810075Z",
     "start_time": "2021-08-01T13:11:32.542866Z"
    }
   },
   "outputs": [
    {
     "name": "stdout",
     "output_type": "stream",
     "text": [
      "*** Score on mean as model:\t-1.0401469064852684\n",
      "** Mean score in the inner crossvaludation (inner_cv):\t-1.0140476657312798\n",
      "** Mean Nested Crossvalidation Score (outer_cv):\t-1.01320397057979\n",
      "Explained Variance: 0.02590301017816854\n",
      "Correlation: 0.25778918862230277\n"
     ]
    },
    {
     "data": {
      "text/plain": "<Figure size 360x144 with 1 Axes>",
      "image/png": "[encoded data removed]"
     },
     "metadata": {},
     "output_type": "display_data"
    }
   ],
   "source": [
    "print(\"*** Score on mean as model:\\t\" + str(-mean_squared_error(np.repeat(y.mean(), len(y)), y)))\n",
    "print(\"** Mean score in the inner crossvaludation (inner_cv):\\t\" + str(nested_scores_train.mean()))\n",
    "print(\"** Mean Nested Crossvalidation Score (outer_cv):\\t\" + str(nested_scores_test.mean()))\n",
    "print(\"Explained Variance: \" +  str( 1- nested_scores_test.mean()/-mean_squared_error(np.repeat(y.mean(), len(y)), y) ))\n",
    "print(\"Correlation: \" + str(np.corrcoef(y, predicted)[0,1]))\n",
    "        \n",
    "plt.figure(figsize=(5,2))\n",
    "sns.regplot(x=y, y=predicted, scatter=False, color='gray')\n",
    "sns.scatterplot(x=y, y=predicted, hue=df.Acquisition.astype(\"category\").cat.codes.values,\n",
    "                palette=sns.color_palette(\"coolwarm\", as_cmap=True), alpha=0.4)\n",
    "plt.savefig('../data_out/fig/hcp_acq_reg_regplot.pdf')"
   ]
  },
  {
   "cell_type": "code",
   "execution_count": 63,
   "metadata": {
    "ExecuteTime": {
     "end_time": "2021-08-01T13:11:45.593189Z",
     "start_time": "2021-08-01T13:11:33.814994Z"
    }
   },
   "outputs": [
    {
     "name": "stderr",
     "output_type": "stream",
     "text": [
      "Permuting: 100%|██████████| 1000/1000 [00:05<00:00, 189.23it/s]\n"
     ]
    },
    {
     "data": {
      "text/plain": "<graphviz.dot.Graph at 0x7fda2b8c52b0>",
      "image/svg+xml": "<?xml version=\"1.0\" encoding=\"UTF-8\" standalone=\"no\"?>\n<!DOCTYPE svg PUBLIC \"-//W3C//DTD SVG 1.1//EN\"\n \"http://www.w3.org/Graphics/SVG/1.1/DTD/svg11.dtd\">\n<!-- Generated by graphviz version 2.43.0 (0)\n -->\n<!-- Title: %3 Pages: 1 -->\n<svg width=\"370pt\" height=\"79pt\"\n viewBox=\"0.00 0.00 370.00 79.00\" xmlns=\"http://www.w3.org/2000/svg\" xmlns:xlink=\"http://www.w3.org/1999/xlink\">\n<g id=\"graph0\" class=\"graph\" transform=\"scale(1 1) rotate(0) translate(4 75)\">\n<title>%3</title>\n<polygon fill=\"white\" stroke=\"transparent\" points=\"-4,4 -4,-75 366,-75 366,4 -4,4\"/>\n<!-- c -->\n<g id=\"node1\" class=\"node\">\n<title>c</title>\n<ellipse fill=\"none\" stroke=\"black\" cx=\"27\" cy=\"-18\" rx=\"27\" ry=\"18\"/>\n<text text-anchor=\"middle\" x=\"27\" y=\"-14.3\" font-family=\"Times,serif\" font-size=\"14.00\">c</text>\n</g>\n<!-- y -->\n<g id=\"node2\" class=\"node\">\n<title>y</title>\n<ellipse fill=\"none\" stroke=\"black\" cx=\"181\" cy=\"-53\" rx=\"27\" ry=\"18\"/>\n<text text-anchor=\"middle\" x=\"181\" y=\"-49.3\" font-family=\"Times,serif\" font-size=\"14.00\">y</text>\n</g>\n<!-- c&#45;&#45;y -->\n<g id=\"edge2\" class=\"edge\">\n<title>c&#45;&#45;y</title>\n<path fill=\"none\" stroke=\"black\" d=\"M52.76,-23.7C81.03,-30.21 126.99,-40.79 155.25,-47.3\"/>\n<text text-anchor=\"middle\" x=\"92.5\" y=\"-39.8\" font-family=\"Times,serif\" font-size=\"14.00\">0.032</text>\n</g>\n<!-- yhat -->\n<g id=\"node3\" class=\"node\">\n<title>yhat</title>\n<ellipse fill=\"none\" stroke=\"black\" cx=\"335\" cy=\"-18\" rx=\"27\" ry=\"18\"/>\n<text text-anchor=\"start\" x=\"330.5\" y=\"-14.3\" font-family=\"Times,serif\" font-size=\"14.00\">ŷ</text>\n</g>\n<!-- c&#45;&#45;yhat -->\n<g id=\"edge1\" class=\"edge\">\n<title>c&#45;&#45;yhat</title>\n<path fill=\"none\" stroke=\"black\" stroke-dasharray=\"5,2\" d=\"M53.8,-15.76C74.61,-14.07 104.67,-11.89 131,-11 175.42,-9.49 186.58,-9.49 231,-11 257.33,-11.89 287.39,-14.07 308.2,-15.76\"/>\n<text text-anchor=\"middle\" x=\"181\" y=\"-14.8\" font-family=\"Times,serif\" font-size=\"14.00\">0.003 (p=1.0)</text>\n</g>\n<!-- y&#45;&#45;yhat -->\n<g id=\"edge3\" class=\"edge\">\n<title>y&#45;&#45;yhat</title>\n<path fill=\"none\" stroke=\"black\" d=\"M206.76,-47.3C235.03,-40.79 280.99,-30.21 309.25,-23.7\"/>\n<text text-anchor=\"middle\" x=\"269.5\" y=\"-39.8\" font-family=\"Times,serif\" font-size=\"14.00\">0.066</text>\n</g>\n</g>\n</svg>\n"
     },
     "execution_count": 63,
     "metadata": {},
     "output_type": "execute_result"
    }
   ],
   "source": [
    "plot_graph(test_partially_confounded(y, predicted, pd.Categorical(df['Acquisition'].values).codes, cat_c=True,\n",
    "                                    random_state=42), outfile_base='../data_out/fig/hcp_acq_reg_partial')"
   ]
  },
  {
   "cell_type": "code",
   "execution_count": 64,
   "metadata": {
    "ExecuteTime": {
     "end_time": "2021-08-01T13:11:52.132099Z",
     "start_time": "2021-08-01T13:11:45.596246Z"
    }
   },
   "outputs": [
    {
     "name": "stderr",
     "output_type": "stream",
     "text": [
      "Permuting: 100%|██████████| 1000/1000 [00:02<00:00, 372.55it/s]\n"
     ]
    },
    {
     "data": {
      "text/plain": "<graphviz.dot.Graph at 0x7fda4f06cac0>",
      "image/svg+xml": "<?xml version=\"1.0\" encoding=\"UTF-8\" standalone=\"no\"?>\n<!DOCTYPE svg PUBLIC \"-//W3C//DTD SVG 1.1//EN\"\n \"http://www.w3.org/Graphics/SVG/1.1/DTD/svg11.dtd\">\n<!-- Generated by graphviz version 2.43.0 (0)\n -->\n<!-- Title: %3 Pages: 1 -->\n<svg width=\"416pt\" height=\"79pt\"\n viewBox=\"0.00 0.00 416.00 79.00\" xmlns=\"http://www.w3.org/2000/svg\" xmlns:xlink=\"http://www.w3.org/1999/xlink\">\n<g id=\"graph0\" class=\"graph\" transform=\"scale(1 1) rotate(0) translate(4 75)\">\n<title>%3</title>\n<polygon fill=\"white\" stroke=\"transparent\" points=\"-4,4 -4,-75 412,-75 412,4 -4,4\"/>\n<!-- c -->\n<g id=\"node1\" class=\"node\">\n<title>c</title>\n<ellipse fill=\"none\" stroke=\"black\" cx=\"27\" cy=\"-18\" rx=\"27\" ry=\"18\"/>\n<text text-anchor=\"middle\" x=\"27\" y=\"-14.3\" font-family=\"Times,serif\" font-size=\"14.00\">c</text>\n</g>\n<!-- y -->\n<g id=\"node2\" class=\"node\">\n<title>y</title>\n<ellipse fill=\"none\" stroke=\"black\" cx=\"158\" cy=\"-53\" rx=\"27\" ry=\"18\"/>\n<text text-anchor=\"middle\" x=\"158\" y=\"-49.3\" font-family=\"Times,serif\" font-size=\"14.00\">y</text>\n</g>\n<!-- c&#45;&#45;y -->\n<g id=\"edge2\" class=\"edge\">\n<title>c&#45;&#45;y</title>\n<path fill=\"none\" stroke=\"black\" d=\"M52.26,-24.58C75.33,-30.84 109.82,-40.2 132.84,-46.45\"/>\n<text text-anchor=\"middle\" x=\"92.5\" y=\"-43.8\" font-family=\"Times,serif\" font-size=\"14.00\">0.032</text>\n</g>\n<!-- yhat -->\n<g id=\"node3\" class=\"node\">\n<title>yhat</title>\n<ellipse fill=\"none\" stroke=\"black\" cx=\"381\" cy=\"-18\" rx=\"27\" ry=\"18\"/>\n<text text-anchor=\"start\" x=\"376.5\" y=\"-14.3\" font-family=\"Times,serif\" font-size=\"14.00\">ŷ</text>\n</g>\n<!-- c&#45;&#45;yhat -->\n<g id=\"edge1\" class=\"edge\">\n<title>c&#45;&#45;yhat</title>\n<path fill=\"none\" stroke=\"black\" d=\"M53.8,-15.76C74.61,-14.07 104.67,-11.89 131,-11 212.26,-8.24 308.45,-13.31 353.83,-16.2\"/>\n<text text-anchor=\"middle\" x=\"158\" y=\"-14.8\" font-family=\"Times,serif\" font-size=\"14.00\">0.003</text>\n</g>\n<!-- y&#45;&#45;yhat -->\n<g id=\"edge3\" class=\"edge\">\n<title>y&#45;&#45;yhat</title>\n<path fill=\"none\" stroke=\"black\" stroke-dasharray=\"5,2\" d=\"M184.35,-48.99C226.87,-42.25 312.06,-28.76 354.6,-22.02\"/>\n<text text-anchor=\"middle\" x=\"269.5\" y=\"-48.8\" font-family=\"Times,serif\" font-size=\"14.00\">0.066 (p&lt;0.0001*)</text>\n</g>\n</g>\n</svg>\n"
     },
     "execution_count": 64,
     "metadata": {},
     "output_type": "execute_result"
    }
   ],
   "source": [
    "plot_graph(test_fully_confounded(y, predicted, pd.Categorical(df['Acquisition'].values).codes, cat_c=True,\n",
    "                                random_state=42), outfile_base='../data_out/fig/hcp_acq_reg_full')\n"
   ]
  },
  {
   "cell_type": "code",
   "execution_count": 65,
   "outputs": [
    {
     "name": "stdout",
     "output_type": "stream",
     "text": [
      "0.00342739299857886\n"
     ]
    },
    {
     "data": {
      "text/plain": "0.994"
     },
     "execution_count": 65,
     "metadata": {},
     "output_type": "execute_result"
    }
   ],
   "source": [
    "nulldist = []\n",
    "unpermuted = _r2_cat_cont(pd.Categorical(df['Acquisition'].values).codes, predicted)\n",
    "\n",
    "print(unpermuted)\n",
    "\n",
    "for i in range(1000):\n",
    "    yperm = np.random.permutation(predicted)\n",
    "    nulldist.append(_r2_cat_cont(pd.Categorical(df['Acquisition'].values).codes, yperm))\n",
    "(nulldist >= unpermuted).sum()/len(nulldist)"
   ],
   "metadata": {
    "collapsed": false,
    "pycharm": {
     "name": "#%%\n"
    }
   }
  },
  {
   "cell_type": "code",
   "execution_count": 66,
   "outputs": [
    {
     "name": "stdout",
     "output_type": "stream",
     "text": [
      "0.0664552657705452\n"
     ]
    },
    {
     "data": {
      "text/plain": "0.0"
     },
     "execution_count": 66,
     "metadata": {},
     "output_type": "execute_result"
    }
   ],
   "source": [
    "nulldist = []\n",
    "unpermuted = _r2_cont_cont(y, predicted)\n",
    "\n",
    "print(unpermuted)\n",
    "\n",
    "for i in range(1000):\n",
    "    yperm = np.random.\\\n",
    "        permutation(predicted)\n",
    "    nulldist.append(_r2_cont_cont(y, yperm))\n",
    "(nulldist >= unpermuted).sum()/len(nulldist)\n"
   ],
   "metadata": {
    "collapsed": false,
    "pycharm": {
     "name": "#%%\n"
    }
   }
  },
  {
   "cell_type": "markdown",
   "metadata": {},
   "source": [
    "# COMBAT age group"
   ]
  },
  {
   "cell_type": "code",
   "execution_count": 67,
   "metadata": {
    "ExecuteTime": {
     "end_time": "2021-08-01T13:18:41.014313Z",
     "start_time": "2021-08-01T13:15:01.621244Z"
    }
   },
   "outputs": [
    {
     "name": "stdout",
     "output_type": "stream",
     "text": [
      "model\tinner_cv mean score\touter vc score\n",
      "Fitting 10 folds for each of 7 candidates, totalling 70 fits\n",
      "cv: 0 {'model__alpha': 1000000} -1.001010396715357 -1.1077763830979441\n",
      "Fitting 10 folds for each of 7 candidates, totalling 70 fits\n",
      "cv: 1 {'model__alpha': 1000000} -0.9880025228480177 -1.2130034955745668\n",
      "Fitting 10 folds for each of 7 candidates, totalling 70 fits\n",
      "cv: 2 {'model__alpha': 1000000} -1.0195192396215333 -0.9351190624245973\n",
      "Fitting 10 folds for each of 7 candidates, totalling 70 fits\n",
      "cv: 3 {'model__alpha': 1000000} -0.99521808686351 -1.1345492155356844\n",
      "Fitting 10 folds for each of 7 candidates, totalling 70 fits\n",
      "cv: 4 {'model__alpha': 1000000} -1.0150785629259653 -0.9745589292670473\n",
      "Fitting 10 folds for each of 7 candidates, totalling 70 fits\n",
      "cv: 5 {'model__alpha': 1000000} -1.0397938672331564 -0.7556482455658039\n",
      "Fitting 10 folds for each of 7 candidates, totalling 70 fits\n",
      "cv: 6 {'model__alpha': 1000000} -1.0096670012903721 -1.0054046861270194\n",
      "Fitting 10 folds for each of 7 candidates, totalling 70 fits\n",
      "cv: 7 {'model__alpha': 1000000} -1.0036154510080484 -1.067227978773274\n",
      "Fitting 10 folds for each of 7 candidates, totalling 70 fits\n",
      "cv: 8 {'model__alpha': 1000000} -1.001753559415845 -1.080339542502647\n",
      "Fitting 10 folds for each of 7 candidates, totalling 70 fits\n",
      "cv: 9 {'model__alpha': 1000000} -1.0311727954213843 -0.8198116143813805\n"
     ]
    }
   ],
   "source": [
    "# nested cv\n",
    "outer_cv = KFold(10)\n",
    "inner_cv = KFold(10)                                    \n",
    "clf = GridSearchCV(estimator=model, param_grid=p_grid, cv=inner_cv,\n",
    "                   scoring=\"neg_mean_squared_error\", verbose=True, return_train_score=False,\n",
    "                   n_jobs=-1)\n",
    "\n",
    "all_models = []\n",
    "best_params = []\n",
    "predicted = np.zeros(len(y))\n",
    "nested_scores_train = np.zeros(outer_cv.get_n_splits(X_adj))\n",
    "nested_scores_test = np.zeros(outer_cv.get_n_splits(X_adj))   \n",
    "                                    \n",
    "print(\"model\\tinner_cv mean score\\touter vc score\")\n",
    "i=0\n",
    "for train, test in outer_cv.split(X, y):\n",
    "\n",
    "    comb = CombatModel()\n",
    "    X_train_combat = comb.fit_transform(X[:,np.sum(X,0)!=0][train],\n",
    "                                   np.array([df.age.astype(\"category\").cat.codes.values[train]]).transpose()\n",
    "                                  )\n",
    "    \n",
    "    clf.fit(X_train_combat, y[train])\n",
    "    \n",
    "    X_test_combat = comb.transform(X[:,np.sum(X,0)!=0][test],\n",
    "                                   np.array([df.age.astype(\"category\").cat.codes.values[test]]).transpose()\n",
    "                                  )\n",
    "                                    \n",
    "    print('cv:', i, str(clf.best_params_) + \" \" + str(clf.best_score_) + \" \" + str(clf.score(X_test_combat, y[test])))\n",
    "                                    \n",
    "    all_models.append(clf.best_estimator_)\n",
    "    best_params.append(clf.best_params_)\n",
    "    \n",
    "    predicted[test] = clf.predict(X_test_combat)\n",
    "                                    \n",
    "    nested_scores_train[i] = clf.best_score_\n",
    "    nested_scores_test[i] = clf.score(X_test_combat, y[test])\n",
    "    i = i+1"
   ]
  },
  {
   "cell_type": "markdown",
   "metadata": {},
   "source": [
    "## Results (combat age)"
   ]
  },
  {
   "cell_type": "code",
   "execution_count": 68,
   "metadata": {
    "ExecuteTime": {
     "end_time": "2021-08-01T13:18:42.374248Z",
     "start_time": "2021-08-01T13:18:41.024365Z"
    }
   },
   "outputs": [
    {
     "name": "stdout",
     "output_type": "stream",
     "text": [
      "*** Score on mean as model:\t-1.0401469064852684\n",
      "** Mean score in the inner crossvaludation (inner_cv):\t-1.0104831483343186\n",
      "** Mean Nested Crossvalidation Score (outer_cv):\t-1.0093439153249966\n",
      "Explained Variance: 0.029614077557907126\n",
      "Correlation: 0.2756657102151441\n"
     ]
    },
    {
     "data": {
      "text/plain": "<Figure size 360x144 with 1 Axes>",
      "image/png": "[encoded data removed]"
     },
     "metadata": {},
     "output_type": "display_data"
    }
   ],
   "source": [
    "print(\"*** Score on mean as model:\\t\" + str(-mean_squared_error(np.repeat(y.mean(), len(y)), y)))\n",
    "print(\"** Mean score in the inner crossvaludation (inner_cv):\\t\" + str(nested_scores_train.mean()))\n",
    "print(\"** Mean Nested Crossvalidation Score (outer_cv):\\t\" + str(nested_scores_test.mean()))\n",
    "print(\"Explained Variance: \" +  str( 1- nested_scores_test.mean()/-mean_squared_error(np.repeat(y.mean(), len(y)), y) ))\n",
    "print(\"Correlation: \" + str(np.corrcoef(y, predicted)[0,1]))\n",
    "  \n",
    "plt.figure(figsize=(5,2))\n",
    "sns.regplot(x=y, y=predicted, scatter=False, color='gray')\n",
    "sns.scatterplot(x=y, y=predicted, hue=df.age,\n",
    "                palette=sns.color_palette(\"coolwarm\", as_cmap=True), alpha=0.4)\n",
    "plt.savefig('../data_out/fig/hcp_age_comb_regplot.pdf')"
   ]
  },
  {
   "cell_type": "code",
   "execution_count": 69,
   "metadata": {
    "ExecuteTime": {
     "end_time": "2021-08-01T12:59:47.086784Z",
     "start_time": "2021-08-01T12:59:38.246036Z"
    }
   },
   "outputs": [
    {
     "name": "stderr",
     "output_type": "stream",
     "text": [
      "Permuting: 100%|██████████| 1000/1000 [00:02<00:00, 343.02it/s]\n"
     ]
    },
    {
     "data": {
      "text/plain": "<graphviz.dot.Graph at 0x7fda56871eb0>",
      "image/svg+xml": "<?xml version=\"1.0\" encoding=\"UTF-8\" standalone=\"no\"?>\n<!DOCTYPE svg PUBLIC \"-//W3C//DTD SVG 1.1//EN\"\n \"http://www.w3.org/Graphics/SVG/1.1/DTD/svg11.dtd\">\n<!-- Generated by graphviz version 2.43.0 (0)\n -->\n<!-- Title: %3 Pages: 1 -->\n<svg width=\"379pt\" height=\"79pt\"\n viewBox=\"0.00 0.00 379.00 79.00\" xmlns=\"http://www.w3.org/2000/svg\" xmlns:xlink=\"http://www.w3.org/1999/xlink\">\n<g id=\"graph0\" class=\"graph\" transform=\"scale(1 1) rotate(0) translate(4 75)\">\n<title>%3</title>\n<polygon fill=\"white\" stroke=\"transparent\" points=\"-4,4 -4,-75 375,-75 375,4 -4,4\"/>\n<!-- c -->\n<g id=\"node1\" class=\"node\">\n<title>c</title>\n<ellipse fill=\"none\" stroke=\"black\" cx=\"27\" cy=\"-18\" rx=\"27\" ry=\"18\"/>\n<text text-anchor=\"middle\" x=\"27\" y=\"-14.3\" font-family=\"Times,serif\" font-size=\"14.00\">c</text>\n</g>\n<!-- y -->\n<g id=\"node2\" class=\"node\">\n<title>y</title>\n<ellipse fill=\"none\" stroke=\"black\" cx=\"185.5\" cy=\"-53\" rx=\"27\" ry=\"18\"/>\n<text text-anchor=\"middle\" x=\"185.5\" y=\"-49.3\" font-family=\"Times,serif\" font-size=\"14.00\">y</text>\n</g>\n<!-- c&#45;&#45;y -->\n<g id=\"edge2\" class=\"edge\">\n<title>c&#45;&#45;y</title>\n<path fill=\"none\" stroke=\"black\" d=\"M52.8,-23.55C82.02,-30.08 130.28,-40.87 159.56,-47.42\"/>\n<text text-anchor=\"middle\" x=\"92.5\" y=\"-39.8\" font-family=\"Times,serif\" font-size=\"14.00\">0.011</text>\n</g>\n<!-- yhat -->\n<g id=\"node3\" class=\"node\">\n<title>yhat</title>\n<ellipse fill=\"none\" stroke=\"black\" cx=\"344\" cy=\"-18\" rx=\"27\" ry=\"18\"/>\n<text text-anchor=\"start\" x=\"339.5\" y=\"-14.3\" font-family=\"Times,serif\" font-size=\"14.00\">ŷ</text>\n</g>\n<!-- c&#45;&#45;yhat -->\n<g id=\"edge1\" class=\"edge\">\n<title>c&#45;&#45;yhat</title>\n<path fill=\"none\" stroke=\"black\" stroke-dasharray=\"5,2\" d=\"M53.8,-15.76C74.61,-14.07 104.67,-11.89 131,-11 179.42,-9.36 191.58,-9.36 240,-11 266.33,-11.89 296.39,-14.07 317.2,-15.76\"/>\n<text text-anchor=\"middle\" x=\"185.5\" y=\"-14.8\" font-family=\"Times,serif\" font-size=\"14.00\">0.004 (p=0.12)</text>\n</g>\n<!-- y&#45;&#45;yhat -->\n<g id=\"edge3\" class=\"edge\">\n<title>y&#45;&#45;yhat</title>\n<path fill=\"none\" stroke=\"black\" d=\"M211.3,-47.45C240.52,-40.92 288.78,-30.13 318.06,-23.58\"/>\n<text text-anchor=\"middle\" x=\"278.5\" y=\"-39.8\" font-family=\"Times,serif\" font-size=\"14.00\">0.076</text>\n</g>\n</g>\n</svg>\n"
     },
     "execution_count": 69,
     "metadata": {},
     "output_type": "execute_result"
    }
   ],
   "source": [
    "plot_graph(test_partially_confounded(y, predicted, df['age'], random_state=42),\n",
    "          outfile_base='../data_out/fig/hcp_age_comb_partial')"
   ]
  },
  {
   "cell_type": "code",
   "execution_count": 70,
   "metadata": {
    "ExecuteTime": {
     "end_time": "2021-08-01T12:59:55.313294Z",
     "start_time": "2021-08-01T12:59:47.089751Z"
    }
   },
   "outputs": [
    {
     "name": "stderr",
     "output_type": "stream",
     "text": [
      "Permuting: 100%|██████████| 1000/1000 [00:02<00:00, 380.54it/s]\n"
     ]
    },
    {
     "data": {
      "text/plain": "<graphviz.dot.Graph at 0x7fda5467f8b0>",
      "image/svg+xml": "<?xml version=\"1.0\" encoding=\"UTF-8\" standalone=\"no\"?>\n<!DOCTYPE svg PUBLIC \"-//W3C//DTD SVG 1.1//EN\"\n \"http://www.w3.org/Graphics/SVG/1.1/DTD/svg11.dtd\">\n<!-- Generated by graphviz version 2.43.0 (0)\n -->\n<!-- Title: %3 Pages: 1 -->\n<svg width=\"416pt\" height=\"79pt\"\n viewBox=\"0.00 0.00 416.00 79.00\" xmlns=\"http://www.w3.org/2000/svg\" xmlns:xlink=\"http://www.w3.org/1999/xlink\">\n<g id=\"graph0\" class=\"graph\" transform=\"scale(1 1) rotate(0) translate(4 75)\">\n<title>%3</title>\n<polygon fill=\"white\" stroke=\"transparent\" points=\"-4,4 -4,-75 412,-75 412,4 -4,4\"/>\n<!-- c -->\n<g id=\"node1\" class=\"node\">\n<title>c</title>\n<ellipse fill=\"none\" stroke=\"black\" cx=\"27\" cy=\"-18\" rx=\"27\" ry=\"18\"/>\n<text text-anchor=\"middle\" x=\"27\" y=\"-14.3\" font-family=\"Times,serif\" font-size=\"14.00\">c</text>\n</g>\n<!-- y -->\n<g id=\"node2\" class=\"node\">\n<title>y</title>\n<ellipse fill=\"none\" stroke=\"black\" cx=\"158\" cy=\"-53\" rx=\"27\" ry=\"18\"/>\n<text text-anchor=\"middle\" x=\"158\" y=\"-49.3\" font-family=\"Times,serif\" font-size=\"14.00\">y</text>\n</g>\n<!-- c&#45;&#45;y -->\n<g id=\"edge2\" class=\"edge\">\n<title>c&#45;&#45;y</title>\n<path fill=\"none\" stroke=\"black\" d=\"M52.26,-24.58C75.33,-30.84 109.82,-40.2 132.84,-46.45\"/>\n<text text-anchor=\"middle\" x=\"92.5\" y=\"-43.8\" font-family=\"Times,serif\" font-size=\"14.00\">0.011</text>\n</g>\n<!-- yhat -->\n<g id=\"node3\" class=\"node\">\n<title>yhat</title>\n<ellipse fill=\"none\" stroke=\"black\" cx=\"381\" cy=\"-18\" rx=\"27\" ry=\"18\"/>\n<text text-anchor=\"start\" x=\"376.5\" y=\"-14.3\" font-family=\"Times,serif\" font-size=\"14.00\">ŷ</text>\n</g>\n<!-- c&#45;&#45;yhat -->\n<g id=\"edge1\" class=\"edge\">\n<title>c&#45;&#45;yhat</title>\n<path fill=\"none\" stroke=\"black\" d=\"M53.8,-15.76C74.61,-14.07 104.67,-11.89 131,-11 212.26,-8.24 308.45,-13.31 353.83,-16.2\"/>\n<text text-anchor=\"middle\" x=\"158\" y=\"-14.8\" font-family=\"Times,serif\" font-size=\"14.00\">0.004</text>\n</g>\n<!-- y&#45;&#45;yhat -->\n<g id=\"edge3\" class=\"edge\">\n<title>y&#45;&#45;yhat</title>\n<path fill=\"none\" stroke=\"black\" stroke-dasharray=\"5,2\" d=\"M184.35,-48.99C226.87,-42.25 312.06,-28.76 354.6,-22.02\"/>\n<text text-anchor=\"middle\" x=\"269.5\" y=\"-48.8\" font-family=\"Times,serif\" font-size=\"14.00\">0.076 (p&lt;0.0001*)</text>\n</g>\n</g>\n</svg>\n"
     },
     "execution_count": 70,
     "metadata": {},
     "output_type": "execute_result"
    }
   ],
   "source": [
    "plot_graph(test_fully_confounded(y, predicted, df['age'], random_state=42),\n",
    "          outfile_base='../data_out/fig/hcp_age_comb_full')"
   ]
  },
  {
   "cell_type": "code",
   "execution_count": 71,
   "outputs": [
    {
     "name": "stdout",
     "output_type": "stream",
     "text": [
      "0.004033069092182688\n"
     ]
    },
    {
     "data": {
      "text/plain": "0.055"
     },
     "execution_count": 71,
     "metadata": {},
     "output_type": "execute_result"
    }
   ],
   "source": [
    "nulldist = []\n",
    "unpermuted = _r2_cont_cont(predicted, df['age'])\n",
    "\n",
    "print(unpermuted)\n",
    "\n",
    "for i in range(1000):\n",
    "    yperm = np.random.permutation(predicted)\n",
    "    nulldist.append(_r2_cont_cont(yperm, df['age']))\n",
    "(nulldist >= unpermuted).sum()/len(nulldist)"
   ],
   "metadata": {
    "collapsed": false,
    "pycharm": {
     "name": "#%%\n"
    }
   }
  },
  {
   "cell_type": "code",
   "execution_count": 72,
   "outputs": [
    {
     "name": "stdout",
     "output_type": "stream",
     "text": [
      "0.07599158378841979\n"
     ]
    },
    {
     "data": {
      "text/plain": "0.0"
     },
     "execution_count": 72,
     "metadata": {},
     "output_type": "execute_result"
    }
   ],
   "source": [
    "nulldist = []\n",
    "unpermuted = _r2_cont_cont(y, predicted)\n",
    "\n",
    "print(unpermuted)\n",
    "\n",
    "for i in range(1000):\n",
    "    yperm = np.random.\\\n",
    "        permutation(predicted)\n",
    "    nulldist.append(_r2_cont_cont(y, yperm))\n",
    "(nulldist >= unpermuted).sum()/len(nulldist)\n",
    "\n"
   ],
   "metadata": {
    "collapsed": false,
    "pycharm": {
     "name": "#%%\n"
    }
   }
  },
  {
   "cell_type": "markdown",
   "metadata": {
    "ExecuteTime": {
     "end_time": "2021-07-31T18:05:52.266109Z",
     "start_time": "2021-07-31T18:05:52.263144Z"
    }
   },
   "source": [
    "# COMBAT acquisition batch"
   ]
  },
  {
   "cell_type": "code",
   "execution_count": 73,
   "metadata": {
    "ExecuteTime": {
     "end_time": "2021-08-01T13:03:27.864620Z",
     "start_time": "2021-08-01T12:59:55.316441Z"
    }
   },
   "outputs": [
    {
     "name": "stdout",
     "output_type": "stream",
     "text": [
      "model\tinner_cv mean score\touter vc score\n",
      "Fitting 10 folds for each of 7 candidates, totalling 70 fits\n",
      "cv: 0 {'model__alpha': 1000000} -1.0017219329028215 -1.1102329091327783\n",
      "Fitting 10 folds for each of 7 candidates, totalling 70 fits\n",
      "cv: 1 {'model__alpha': 1000000} -0.9898696898612531 -1.2135680345436948\n",
      "Fitting 10 folds for each of 7 candidates, totalling 70 fits\n",
      "cv: 2 {'model__alpha': 1000000} -1.0211553595895921 -0.9327541529025352\n",
      "Fitting 10 folds for each of 7 candidates, totalling 70 fits\n",
      "cv: 3 {'model__alpha': 1000000} -0.9975287349497 -1.135828097393553\n",
      "Fitting 10 folds for each of 7 candidates, totalling 70 fits\n",
      "cv: 4 {'model__alpha': 1000000} -1.015185770866441 -0.979529189836877\n",
      "Fitting 10 folds for each of 7 candidates, totalling 70 fits\n",
      "cv: 5 {'model__alpha': 1000000} -1.0407086973818127 -0.7586932918516439\n",
      "Fitting 10 folds for each of 7 candidates, totalling 70 fits\n",
      "cv: 6 {'model__alpha': 1000000} -1.0114980483922447 -1.0051253143103702\n",
      "Fitting 10 folds for each of 7 candidates, totalling 70 fits\n",
      "cv: 7 {'model__alpha': 1000000} -1.0056254399818192 -1.0682287482891493\n",
      "Fitting 10 folds for each of 7 candidates, totalling 70 fits\n",
      "cv: 8 {'model__alpha': 1000000} -1.0048280467583532 -1.0752150017632354\n",
      "Fitting 10 folds for each of 7 candidates, totalling 70 fits\n",
      "cv: 9 {'model__alpha': 1000000} -1.0321766415382219 -0.8233911177268096\n"
     ]
    }
   ],
   "source": [
    "# nested cv\n",
    "outer_cv = KFold(10)\n",
    "inner_cv = KFold(10)                                    \n",
    "clf = GridSearchCV(estimator=model, param_grid=p_grid, cv=inner_cv,\n",
    "                   scoring=\"neg_mean_squared_error\", verbose=True, return_train_score=False,\n",
    "                   n_jobs=-1)\n",
    "\n",
    "all_models = []\n",
    "best_params = []\n",
    "predicted = np.zeros(len(y))\n",
    "nested_scores_train = np.zeros(outer_cv.get_n_splits(X_adj))\n",
    "nested_scores_test = np.zeros(outer_cv.get_n_splits(X_adj))   \n",
    "                                    \n",
    "print(\"model\\tinner_cv mean score\\touter vc score\")\n",
    "i=0\n",
    "for train, test in outer_cv.split(X, y):\n",
    "\n",
    "    comb = CombatModel()\n",
    "    X_train_combat = comb.fit_transform(X[:,np.sum(X,0)!=0][train],\n",
    "                                   np.array([df.Acquisition.astype(\"category\").cat.codes.values[train]]).transpose()\n",
    "                                  )\n",
    "    \n",
    "    clf.fit(X_train_combat, y[train])\n",
    "    \n",
    "    X_test_combat = comb.transform(X[:,np.sum(X,0)!=0][test],\n",
    "                                   np.array([df.Acquisition.astype(\"category\").cat.codes.values[test]]).transpose()\n",
    "                                  )\n",
    "                                    \n",
    "    print('cv:', i, str(clf.best_params_) + \" \" + str(clf.best_score_) + \" \" + str(clf.score(X_test_combat, y[test])))\n",
    "                                    \n",
    "    all_models.append(clf.best_estimator_)\n",
    "    best_params.append(clf.best_params_)\n",
    "    \n",
    "    predicted[test] = clf.predict(X_test_combat)\n",
    "                                    \n",
    "    nested_scores_train[i] = clf.best_score_\n",
    "    nested_scores_test[i] = clf.score(X_test_combat, y[test])\n",
    "    i = i+1"
   ]
  },
  {
   "cell_type": "markdown",
   "metadata": {
    "ExecuteTime": {
     "end_time": "2021-07-31T18:06:36.280780Z",
     "start_time": "2021-07-31T18:06:36.273240Z"
    }
   },
   "source": [
    "## Results (combat acquisition batch)"
   ]
  },
  {
   "cell_type": "code",
   "execution_count": 74,
   "metadata": {
    "ExecuteTime": {
     "end_time": "2021-08-01T15:59:28.172018Z",
     "start_time": "2021-08-01T15:59:26.753669Z"
    }
   },
   "outputs": [
    {
     "name": "stdout",
     "output_type": "stream",
     "text": [
      "*** Score on mean as model:\t-1.0401469064852684\n",
      "** Mean score in the inner crossvaludation (inner_cv):\t-1.012029836222226\n",
      "** Mean Nested Crossvalidation Score (outer_cv):\t-1.0102565857750647\n",
      "Explained Variance: 0.02873663376186475\n",
      "Correlation: 0.27393835631269525\n"
     ]
    },
    {
     "data": {
      "text/plain": "<Figure size 360x144 with 1 Axes>",
      "image/png": "[encoded data removed]"
     },
     "metadata": {},
     "output_type": "display_data"
    }
   ],
   "source": [
    "print(\"*** Score on mean as model:\\t\" + str(-mean_squared_error(np.repeat(y.mean(), len(y)), y)))\n",
    "print(\"** Mean score in the inner crossvaludation (inner_cv):\\t\" + str(nested_scores_train.mean()))\n",
    "print(\"** Mean Nested Crossvalidation Score (outer_cv):\\t\" + str(nested_scores_test.mean()))\n",
    "print(\"Explained Variance: \" +  str( 1- nested_scores_test.mean()/-mean_squared_error(np.repeat(y.mean(), len(y)), y) ))\n",
    "print(\"Correlation: \" + str(np.corrcoef(y, predicted)[0,1]))\n",
    " \n",
    "plt.figure(figsize=(5,2))\n",
    "\n",
    "sns.regplot(x=y, y=predicted, scatter=False, color='gray')\n",
    "sns.scatterplot(x=y, y=predicted, hue=df.Acquisition.astype(\"category\").cat.codes.values,\n",
    "                palette=sns.color_palette(\"coolwarm\", as_cmap=True), alpha=0.4)\n",
    "plt.savefig('../data_out/fig/hcp_acq_comb_regplot.pdf')"
   ]
  },
  {
   "cell_type": "code",
   "execution_count": 75,
   "metadata": {
    "ExecuteTime": {
     "end_time": "2021-08-01T13:03:42.715843Z",
     "start_time": "2021-08-01T13:03:29.615538Z"
    }
   },
   "outputs": [
    {
     "name": "stderr",
     "output_type": "stream",
     "text": [
      "Permuting: 100%|██████████| 1000/1000 [00:05<00:00, 190.06it/s]\n"
     ]
    },
    {
     "data": {
      "text/plain": "<graphviz.dot.Graph at 0x7fda4f284d60>",
      "image/svg+xml": "<?xml version=\"1.0\" encoding=\"UTF-8\" standalone=\"no\"?>\n<!DOCTYPE svg PUBLIC \"-//W3C//DTD SVG 1.1//EN\"\n \"http://www.w3.org/Graphics/SVG/1.1/DTD/svg11.dtd\">\n<!-- Generated by graphviz version 2.43.0 (0)\n -->\n<!-- Title: %3 Pages: 1 -->\n<svg width=\"379pt\" height=\"79pt\"\n viewBox=\"0.00 0.00 379.00 79.00\" xmlns=\"http://www.w3.org/2000/svg\" xmlns:xlink=\"http://www.w3.org/1999/xlink\">\n<g id=\"graph0\" class=\"graph\" transform=\"scale(1 1) rotate(0) translate(4 75)\">\n<title>%3</title>\n<polygon fill=\"white\" stroke=\"transparent\" points=\"-4,4 -4,-75 375,-75 375,4 -4,4\"/>\n<!-- c -->\n<g id=\"node1\" class=\"node\">\n<title>c</title>\n<ellipse fill=\"none\" stroke=\"black\" cx=\"27\" cy=\"-18\" rx=\"27\" ry=\"18\"/>\n<text text-anchor=\"middle\" x=\"27\" y=\"-14.3\" font-family=\"Times,serif\" font-size=\"14.00\">c</text>\n</g>\n<!-- y -->\n<g id=\"node2\" class=\"node\">\n<title>y</title>\n<ellipse fill=\"none\" stroke=\"black\" cx=\"185.5\" cy=\"-53\" rx=\"27\" ry=\"18\"/>\n<text text-anchor=\"middle\" x=\"185.5\" y=\"-49.3\" font-family=\"Times,serif\" font-size=\"14.00\">y</text>\n</g>\n<!-- c&#45;&#45;y -->\n<g id=\"edge2\" class=\"edge\">\n<title>c&#45;&#45;y</title>\n<path fill=\"none\" stroke=\"black\" d=\"M52.8,-23.55C82.02,-30.08 130.28,-40.87 159.56,-47.42\"/>\n<text text-anchor=\"middle\" x=\"92.5\" y=\"-39.8\" font-family=\"Times,serif\" font-size=\"14.00\">0.032</text>\n</g>\n<!-- yhat -->\n<g id=\"node3\" class=\"node\">\n<title>yhat</title>\n<ellipse fill=\"none\" stroke=\"black\" cx=\"344\" cy=\"-18\" rx=\"27\" ry=\"18\"/>\n<text text-anchor=\"start\" x=\"339.5\" y=\"-14.3\" font-family=\"Times,serif\" font-size=\"14.00\">ŷ</text>\n</g>\n<!-- c&#45;&#45;yhat -->\n<g id=\"edge1\" class=\"edge\">\n<title>c&#45;&#45;yhat</title>\n<path fill=\"none\" stroke=\"black\" stroke-dasharray=\"5,2\" d=\"M53.8,-15.76C74.61,-14.07 104.67,-11.89 131,-11 179.42,-9.36 191.58,-9.36 240,-11 266.33,-11.89 296.39,-14.07 317.2,-15.76\"/>\n<text text-anchor=\"middle\" x=\"185.5\" y=\"-14.8\" font-family=\"Times,serif\" font-size=\"14.00\">0.008 (p=0.88)</text>\n</g>\n<!-- y&#45;&#45;yhat -->\n<g id=\"edge3\" class=\"edge\">\n<title>y&#45;&#45;yhat</title>\n<path fill=\"none\" stroke=\"black\" d=\"M211.3,-47.45C240.52,-40.92 288.78,-30.13 318.06,-23.58\"/>\n<text text-anchor=\"middle\" x=\"278.5\" y=\"-39.8\" font-family=\"Times,serif\" font-size=\"14.00\">0.075</text>\n</g>\n</g>\n</svg>\n"
     },
     "execution_count": 75,
     "metadata": {},
     "output_type": "execute_result"
    }
   ],
   "source": [
    "plot_graph(test_partially_confounded(y, predicted, pd.Categorical(df['Acquisition'].values).codes, cat_c=True,\n",
    "                                    random_state=42), outfile_base='../data_out/fig/hcp_acq_comb_partial')"
   ]
  },
  {
   "cell_type": "code",
   "execution_count": 76,
   "metadata": {
    "ExecuteTime": {
     "end_time": "2021-08-01T13:03:49.731309Z",
     "start_time": "2021-08-01T13:03:42.718992Z"
    }
   },
   "outputs": [
    {
     "name": "stderr",
     "output_type": "stream",
     "text": [
      "Permuting: 100%|██████████| 1000/1000 [00:03<00:00, 321.94it/s]\n"
     ]
    },
    {
     "data": {
      "text/plain": "<graphviz.dot.Graph at 0x7fda5189fe80>",
      "image/svg+xml": "<?xml version=\"1.0\" encoding=\"UTF-8\" standalone=\"no\"?>\n<!DOCTYPE svg PUBLIC \"-//W3C//DTD SVG 1.1//EN\"\n \"http://www.w3.org/Graphics/SVG/1.1/DTD/svg11.dtd\">\n<!-- Generated by graphviz version 2.43.0 (0)\n -->\n<!-- Title: %3 Pages: 1 -->\n<svg width=\"416pt\" height=\"79pt\"\n viewBox=\"0.00 0.00 416.00 79.00\" xmlns=\"http://www.w3.org/2000/svg\" xmlns:xlink=\"http://www.w3.org/1999/xlink\">\n<g id=\"graph0\" class=\"graph\" transform=\"scale(1 1) rotate(0) translate(4 75)\">\n<title>%3</title>\n<polygon fill=\"white\" stroke=\"transparent\" points=\"-4,4 -4,-75 412,-75 412,4 -4,4\"/>\n<!-- c -->\n<g id=\"node1\" class=\"node\">\n<title>c</title>\n<ellipse fill=\"none\" stroke=\"black\" cx=\"27\" cy=\"-18\" rx=\"27\" ry=\"18\"/>\n<text text-anchor=\"middle\" x=\"27\" y=\"-14.3\" font-family=\"Times,serif\" font-size=\"14.00\">c</text>\n</g>\n<!-- y -->\n<g id=\"node2\" class=\"node\">\n<title>y</title>\n<ellipse fill=\"none\" stroke=\"black\" cx=\"158\" cy=\"-53\" rx=\"27\" ry=\"18\"/>\n<text text-anchor=\"middle\" x=\"158\" y=\"-49.3\" font-family=\"Times,serif\" font-size=\"14.00\">y</text>\n</g>\n<!-- c&#45;&#45;y -->\n<g id=\"edge2\" class=\"edge\">\n<title>c&#45;&#45;y</title>\n<path fill=\"none\" stroke=\"black\" d=\"M52.26,-24.58C75.33,-30.84 109.82,-40.2 132.84,-46.45\"/>\n<text text-anchor=\"middle\" x=\"92.5\" y=\"-43.8\" font-family=\"Times,serif\" font-size=\"14.00\">0.032</text>\n</g>\n<!-- yhat -->\n<g id=\"node3\" class=\"node\">\n<title>yhat</title>\n<ellipse fill=\"none\" stroke=\"black\" cx=\"381\" cy=\"-18\" rx=\"27\" ry=\"18\"/>\n<text text-anchor=\"start\" x=\"376.5\" y=\"-14.3\" font-family=\"Times,serif\" font-size=\"14.00\">ŷ</text>\n</g>\n<!-- c&#45;&#45;yhat -->\n<g id=\"edge1\" class=\"edge\">\n<title>c&#45;&#45;yhat</title>\n<path fill=\"none\" stroke=\"black\" d=\"M53.8,-15.76C74.61,-14.07 104.67,-11.89 131,-11 212.26,-8.24 308.45,-13.31 353.83,-16.2\"/>\n<text text-anchor=\"middle\" x=\"158\" y=\"-14.8\" font-family=\"Times,serif\" font-size=\"14.00\">0.008</text>\n</g>\n<!-- y&#45;&#45;yhat -->\n<g id=\"edge3\" class=\"edge\">\n<title>y&#45;&#45;yhat</title>\n<path fill=\"none\" stroke=\"black\" stroke-dasharray=\"5,2\" d=\"M184.35,-48.99C226.87,-42.25 312.06,-28.76 354.6,-22.02\"/>\n<text text-anchor=\"middle\" x=\"269.5\" y=\"-48.8\" font-family=\"Times,serif\" font-size=\"14.00\">0.075 (p&lt;0.0001*)</text>\n</g>\n</g>\n</svg>\n"
     },
     "execution_count": 76,
     "metadata": {},
     "output_type": "execute_result"
    }
   ],
   "source": [
    "plot_graph(test_fully_confounded(y, predicted, pd.Categorical(df['Acquisition'].values).codes, cat_c=True,\n",
    "                                random_state=42), outfile_base='../data_out/fig/hcp_acq_comb_full')\n"
   ]
  },
  {
   "cell_type": "code",
   "execution_count": 77,
   "outputs": [
    {
     "name": "stdout",
     "output_type": "stream",
     "text": [
      "0.008247031681644645\n"
     ]
    },
    {
     "data": {
      "text/plain": "0.749"
     },
     "execution_count": 77,
     "metadata": {},
     "output_type": "execute_result"
    }
   ],
   "source": [
    "nulldist = []\n",
    "unpermuted = _r2_cat_cont(pd.Categorical(df['Acquisition'].values).codes, predicted)\n",
    "\n",
    "print(unpermuted)\n",
    "\n",
    "for i in range(1000):\n",
    "    yperm = np.random.\\\n",
    "        permutation(predicted)\n",
    "    nulldist.append(_r2_cat_cont(pd.Categorical(df['Acquisition'].values).codes, yperm))\n",
    "(nulldist >= unpermuted).sum()/len(nulldist)"
   ],
   "metadata": {
    "collapsed": false,
    "pycharm": {
     "name": "#%%\n"
    }
   }
  },
  {
   "cell_type": "code",
   "execution_count": 78,
   "outputs": [
    {
     "name": "stdout",
     "output_type": "stream",
     "text": [
      "0.07504222305930118\n"
     ]
    },
    {
     "data": {
      "text/plain": "0.0"
     },
     "execution_count": 78,
     "metadata": {},
     "output_type": "execute_result"
    }
   ],
   "source": [
    "nulldist = []\n",
    "unpermuted = _r2_cont_cont(y, predicted)\n",
    "\n",
    "print(unpermuted)\n",
    "\n",
    "for i in range(1000):\n",
    "    yperm = np.random.\\\n",
    "        permutation(predicted)\n",
    "    nulldist.append(_r2_cont_cont(y, yperm))\n",
    "(nulldist >= unpermuted).sum()/len(nulldist)\n"
   ],
   "metadata": {
    "collapsed": false,
    "pycharm": {
     "name": "#%%\n"
    }
   }
  },
  {
   "cell_type": "code",
   "execution_count": 79,
   "outputs": [
    {
     "name": "stdout",
     "output_type": "stream",
     "text": [
      "0.010731881875548643\n"
     ]
    },
    {
     "data": {
      "text/plain": "0.001"
     },
     "execution_count": 79,
     "metadata": {},
     "output_type": "execute_result"
    }
   ],
   "source": [
    "nulldist = []\n",
    "unpermuted = _r2_cont_cont(y, df['age'])\n",
    "\n",
    "print(unpermuted)\n",
    "\n",
    "for i in range(1000):\n",
    "    yperm = np.random.\\\n",
    "        permutation(y)\n",
    "    nulldist.append(_r2_cont_cont(yperm, df['age']))\n",
    "(nulldist >= unpermuted).sum()/len(nulldist)\n",
    "\n",
    "\n",
    "\n"
   ],
   "metadata": {
    "collapsed": false,
    "pycharm": {
     "name": "#%%\n"
    }
   }
  },
  {
   "cell_type": "code",
   "execution_count": 80,
   "outputs": [
    {
     "name": "stdout",
     "output_type": "stream",
     "text": [
      "0.031726862731525474\n"
     ]
    },
    {
     "data": {
      "text/plain": "0.0"
     },
     "execution_count": 80,
     "metadata": {},
     "output_type": "execute_result"
    }
   ],
   "source": [
    "nulldist = []\n",
    "unpermuted = _r2_cat_cont(df['Acquisition'], y)\n",
    "\n",
    "print(unpermuted)\n",
    "\n",
    "for i in range(1000):\n",
    "    yperm = np.random.permutation(y)\n",
    "    nulldist.append(_r2_cat_cont(df['Acquisition'], yperm))\n",
    "(nulldist >= unpermuted).sum()/len(nulldist)"
   ],
   "metadata": {
    "collapsed": false,
    "pycharm": {
     "name": "#%%\n"
    }
   }
  },
  {
   "cell_type": "code",
   "execution_count": 80,
   "outputs": [],
   "source": [],
   "metadata": {
    "collapsed": false,
    "pycharm": {
     "name": "#%%\n"
    }
   }
  }
 ],
 "metadata": {
  "hide_input": false,
  "kernelspec": {
   "display_name": "Python 3",
   "language": "python",
   "name": "python3"
  },
  "language_info": {
   "codemirror_mode": {
    "name": "ipython",
    "version": 3
   },
   "file_extension": ".py",
   "mimetype": "text/x-python",
   "name": "python",
   "nbconvert_exporter": "python",
   "pygments_lexer": "ipython3",
   "version": "3.7.4"
  }
 },
 "nbformat": 4,
 "nbformat_minor": 2
}