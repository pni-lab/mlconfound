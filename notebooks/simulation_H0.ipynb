{
 "cells": [
  {
   "cell_type": "code",
   "execution_count": 1,
   "metadata": {
    "ExecuteTime": {
     "end_time": "2021-07-19T19:18:03.559494Z",
     "start_time": "2021-07-19T19:18:02.292969Z"
    }
   },
   "outputs": [],
   "source": [
    "import sys\n",
    "sys.path.insert(0, '..')\n",
    "from mlconfound.stats import confound_test\n",
    "from mlconfound.simulate import simulate\n",
    "\n",
    "import numpy as np\n",
    "import pandas as pd\n",
    "import warnings\n",
    "warnings.simplefilter(\"always\")\n",
    "import seaborn as sns\n",
    "sns.set_style(\"whitegrid\")\n",
    "import matplotlib.pyplot as plt"
   ]
  },
  {
   "cell_type": "code",
   "execution_count": 9,
   "metadata": {
    "ExecuteTime": {
     "end_time": "2021-07-19T19:52:52.038777Z",
     "start_time": "2021-07-19T19:51:20.934909Z"
    }
   },
   "outputs": [
    {
     "name": "stderr",
     "output_type": "stream",
     "text": [
      "Permuting: 100%|██████████| 1000/1000 [00:02<00:00, 460.16it/s]\n",
      "Permuting:   3%|▎         | 32/1000 [00:00<00:03, 254.92it/s]"
     ]
    },
    {
     "name": "stdout",
     "output_type": "stream",
     "text": [
      "p              : 0.027 (0.017866905925249695, 0.03904174680597016)\n",
      "0.3952943186483267 0.45344844224927344 0.826623277587259\n",
      "false positives: 1 out of 1\n"
     ]
    },
    {
     "name": "stderr",
     "output_type": "stream",
     "text": [
      "Permuting: 100%|██████████| 1000/1000 [00:00<00:00, 1161.38it/s]\n",
      "Permuting:   2%|▏         | 16/1000 [00:00<00:06, 152.73it/s]"
     ]
    },
    {
     "name": "stdout",
     "output_type": "stream",
     "text": [
      "p              : 0.022 (0.013837414172073867, 0.03311966451498779)\n",
      "0.432747079399557 0.49805021982194453 0.8611562118834045\n",
      "false positives: 2 out of 2\n"
     ]
    },
    {
     "name": "stderr",
     "output_type": "stream",
     "text": [
      "Permuting: 100%|██████████| 1000/1000 [00:00<00:00, 1097.17it/s]\n",
      "Permuting:   2%|▏         | 16/1000 [00:00<00:06, 148.92it/s]"
     ]
    },
    {
     "name": "stdout",
     "output_type": "stream",
     "text": [
      "p              : 0.013 (0.006939617502851476, 0.022127803636778486)\n",
      "0.4509126059661147 0.5265965988251918 0.8405127237245128\n",
      "false positives: 3 out of 3\n"
     ]
    },
    {
     "name": "stderr",
     "output_type": "stream",
     "text": [
      "Permuting: 100%|██████████| 1000/1000 [00:00<00:00, 1055.96it/s]\n",
      "Permuting:   2%|▏         | 24/1000 [00:00<00:04, 232.09it/s]"
     ]
    },
    {
     "name": "stdout",
     "output_type": "stream",
     "text": [
      "p              : 0.008 (0.003459976165329311, 0.015702049176074682)\n",
      "0.3623078328392786 0.4761179862955282 0.848398508900339\n",
      "false positives: 4 out of 4\n"
     ]
    },
    {
     "name": "stderr",
     "output_type": "stream",
     "text": [
      "Permuting: 100%|██████████| 1000/1000 [00:00<00:00, 1036.65it/s]\n",
      "Permuting:   2%|▏         | 16/1000 [00:00<00:06, 156.05it/s]"
     ]
    },
    {
     "name": "stdout",
     "output_type": "stream",
     "text": [
      "p              : 0.061 (0.04697787554108023, 0.07767077404912356)\n",
      "0.47901530188916985 0.5247447089444869 0.8653622883130134\n",
      "false positives: 4 out of 5\n"
     ]
    },
    {
     "name": "stderr",
     "output_type": "stream",
     "text": [
      "Permuting: 100%|██████████| 1000/1000 [00:00<00:00, 1144.62it/s]\n",
      "Permuting:   2%|▏         | 15/1000 [00:00<00:06, 147.75it/s]"
     ]
    },
    {
     "name": "stdout",
     "output_type": "stream",
     "text": [
      "p              : 0.078 (0.062141213132714035, 0.09639363340258301)\n",
      "0.41564903040159873 0.470163393086986 0.8477609178238529\n",
      "false positives: 4 out of 6\n"
     ]
    },
    {
     "name": "stderr",
     "output_type": "stream",
     "text": [
      "Permuting: 100%|██████████| 1000/1000 [00:00<00:00, 1154.72it/s]\n",
      "Permuting:   1%|▏         | 14/1000 [00:00<00:07, 131.54it/s]"
     ]
    },
    {
     "name": "stdout",
     "output_type": "stream",
     "text": [
      "p              : 0.005 (0.0016254195175627604, 0.011629470559812147)\n",
      "0.27854248881461546 0.4034024000206321 0.792350450767556\n",
      "false positives: 5 out of 7\n"
     ]
    },
    {
     "name": "stderr",
     "output_type": "stream",
     "text": [
      "Permuting: 100%|██████████| 1000/1000 [00:00<00:00, 1165.42it/s]\n",
      "Permuting:   2%|▏         | 15/1000 [00:00<00:06, 142.09it/s]"
     ]
    },
    {
     "name": "stdout",
     "output_type": "stream",
     "text": [
      "p              : 0.101 (0.08302011391180233, 0.12136682351196836)\n",
      "0.3780231068027368 0.405123579951759 0.8139458156814747\n",
      "false positives: 5 out of 8\n"
     ]
    },
    {
     "name": "stderr",
     "output_type": "stream",
     "text": [
      "Permuting: 100%|██████████| 1000/1000 [00:00<00:00, 1122.41it/s]\n",
      "Permuting:   1%|          | 11/1000 [00:00<00:09, 100.78it/s]"
     ]
    },
    {
     "name": "stdout",
     "output_type": "stream",
     "text": [
      "p              : 0.098 (0.08027750545100511, 0.11812845443123612)\n",
      "0.26498328670418037 0.33993103088417576 0.8854748153766929\n",
      "false positives: 5 out of 9\n"
     ]
    },
    {
     "name": "stderr",
     "output_type": "stream",
     "text": [
      "Permuting: 100%|██████████| 1000/1000 [00:01<00:00, 743.14it/s]\n",
      "Permuting:   1%|          | 12/1000 [00:00<00:08, 118.34it/s]"
     ]
    },
    {
     "name": "stdout",
     "output_type": "stream",
     "text": [
      "p              : 0.033 (0.022822383349459557, 0.046033981817023194)\n",
      "0.35293709446189997 0.40785319452922075 0.8513102927096106\n",
      "false positives: 6 out of 10\n"
     ]
    },
    {
     "name": "stderr",
     "output_type": "stream",
     "text": [
      "Permuting: 100%|██████████| 1000/1000 [00:01<00:00, 833.46it/s]\n",
      "Permuting:   3%|▎         | 28/1000 [00:00<00:04, 233.21it/s]"
     ]
    },
    {
     "name": "stdout",
     "output_type": "stream",
     "text": [
      "p              : 0.023 (0.01463458232517676, 0.03431233761285437)\n",
      "0.5431519525053271 0.5661277932055899 0.8487319789624849\n",
      "false positives: 7 out of 11\n"
     ]
    },
    {
     "name": "stderr",
     "output_type": "stream",
     "text": [
      "Permuting: 100%|██████████| 1000/1000 [00:01<00:00, 936.70it/s]\n",
      "Permuting:   2%|▏         | 15/1000 [00:00<00:06, 144.08it/s]"
     ]
    },
    {
     "name": "stdout",
     "output_type": "stream",
     "text": [
      "p              : 0.115 (0.0958833799732637, 0.13641556786283285)\n",
      "0.40090253759403305 0.4373716196610581 0.8759176024610086\n",
      "false positives: 7 out of 12\n"
     ]
    },
    {
     "name": "stderr",
     "output_type": "stream",
     "text": [
      "Permuting: 100%|██████████| 1000/1000 [00:00<00:00, 1094.05it/s]\n",
      "Permuting:   1%|          | 12/1000 [00:00<00:08, 111.27it/s]"
     ]
    },
    {
     "name": "stdout",
     "output_type": "stream",
     "text": [
      "p              : 0.107 (0.0885204366425164, 0.127828644117068)\n",
      "0.34112951742861963 0.3885027844675731 0.875500785819655\n",
      "false positives: 7 out of 13\n"
     ]
    },
    {
     "name": "stderr",
     "output_type": "stream",
     "text": [
      "Permuting: 100%|██████████| 1000/1000 [00:00<00:00, 1107.45it/s]\n",
      "Permuting:   1%|▏         | 14/1000 [00:00<00:07, 136.75it/s]"
     ]
    },
    {
     "name": "stdout",
     "output_type": "stream",
     "text": [
      "p              : 0.014 (0.007674501565020783, 0.023378156010314503)\n",
      "0.4613378226149334 0.5442797908098146 0.8602718300347983\n",
      "false positives: 8 out of 14\n"
     ]
    },
    {
     "name": "stderr",
     "output_type": "stream",
     "text": [
      "Permuting: 100%|██████████| 1000/1000 [00:01<00:00, 872.22it/s]\n",
      "Permuting:   1%|▏         | 13/1000 [00:00<00:08, 117.61it/s]"
     ]
    },
    {
     "name": "stdout",
     "output_type": "stream",
     "text": [
      "p              : 0.103 (0.08485136534991759, 0.12352292640142573)\n",
      "0.439078697966653 0.4729459487538464 0.8810383230615587\n",
      "false positives: 8 out of 15\n"
     ]
    },
    {
     "name": "stderr",
     "output_type": "stream",
     "text": [
      "Permuting: 100%|██████████| 1000/1000 [00:01<00:00, 930.13it/s]\n",
      "Permuting:   3%|▎         | 30/1000 [00:00<00:04, 230.12it/s]"
     ]
    },
    {
     "name": "stdout",
     "output_type": "stream",
     "text": [
      "p              : 0.034 (0.02365864810759674, 0.04718943861570743)\n",
      "0.3505148976395176 0.4426656260445333 0.8754499042971073\n",
      "false positives: 9 out of 16\n"
     ]
    },
    {
     "name": "stderr",
     "output_type": "stream",
     "text": [
      "Permuting: 100%|██████████| 1000/1000 [00:01<00:00, 979.11it/s]\n",
      "Permuting:   1%|▏         | 13/1000 [00:00<00:07, 129.64it/s]"
     ]
    },
    {
     "name": "stdout",
     "output_type": "stream",
     "text": [
      "p              : 0.09 (0.07299046645662287, 0.10946657313833914)\n",
      "0.3905036107392743 0.4281185218703446 0.8597591679932398\n",
      "false positives: 9 out of 17\n"
     ]
    },
    {
     "name": "stderr",
     "output_type": "stream",
     "text": [
      "Permuting: 100%|██████████| 1000/1000 [00:01<00:00, 881.43it/s]\n",
      "Permuting:   1%|          | 8/1000 [00:00<00:12, 78.80it/s]"
     ]
    },
    {
     "name": "stdout",
     "output_type": "stream",
     "text": [
      "p              : 0.076 (0.06034366117990185, 0.09420432364490211)\n",
      "0.3300180509333291 0.39270245502690626 0.8794884327192374\n",
      "false positives: 9 out of 18\n"
     ]
    },
    {
     "name": "stderr",
     "output_type": "stream",
     "text": [
      "Permuting: 100%|██████████| 1000/1000 [00:01<00:00, 792.42it/s]\n",
      "Permuting:   1%|          | 10/1000 [00:00<00:11, 87.52it/s]"
     ]
    },
    {
     "name": "stdout",
     "output_type": "stream",
     "text": [
      "p              : 0.099 (0.0811911289469688, 0.11920848268620646)\n",
      "0.43420259760019597 0.47339143575132714 0.8761944937827256\n",
      "false positives: 9 out of 19\n"
     ]
    },
    {
     "name": "stderr",
     "output_type": "stream",
     "text": [
      "Permuting: 100%|██████████| 1000/1000 [00:01<00:00, 848.30it/s]\n",
      "Permuting:   2%|▏         | 16/1000 [00:00<00:06, 158.03it/s]"
     ]
    },
    {
     "name": "stdout",
     "output_type": "stream",
     "text": [
      "p              : 0.095 (0.07754020708165497, 0.11488484440445207)\n",
      "0.21393107789668972 0.2813861920202801 0.836575273308553\n",
      "false positives: 9 out of 20\n"
     ]
    },
    {
     "name": "stderr",
     "output_type": "stream",
     "text": [
      "Permuting: 100%|██████████| 1000/1000 [00:00<00:00, 1085.96it/s]\n",
      "Permuting:   4%|▎         | 36/1000 [00:00<00:03, 299.55it/s]"
     ]
    },
    {
     "name": "stdout",
     "output_type": "stream",
     "text": [
      "p              : 0.019 (0.011477036993100945, 0.0295124016250978)\n",
      "0.2072360271985863 0.3243350284241227 0.8456579371035068\n",
      "false positives: 10 out of 21\n"
     ]
    },
    {
     "name": "stderr",
     "output_type": "stream",
     "text": [
      "Permuting: 100%|██████████| 1000/1000 [00:00<00:00, 1297.03it/s]\n",
      "Permuting:   1%|▏         | 13/1000 [00:00<00:08, 122.84it/s]"
     ]
    },
    {
     "name": "stdout",
     "output_type": "stream",
     "text": [
      "p              : 0.158 (0.1359265161849648, 0.18210760248785857)\n",
      "0.5035462757610056 0.5059574652056341 0.8657464572911323\n",
      "false positives: 10 out of 22\n"
     ]
    },
    {
     "name": "stderr",
     "output_type": "stream",
     "text": [
      "Permuting: 100%|██████████| 1000/1000 [00:00<00:00, 1256.38it/s]\n",
      "Permuting:   3%|▎         | 28/1000 [00:00<00:03, 279.33it/s]"
     ]
    },
    {
     "name": "stdout",
     "output_type": "stream",
     "text": [
      "p              : 0.085 (0.06845727877099016, 0.10403198577837725)\n",
      "0.3649387239958975 0.42897392827227604 0.9019266950309222\n",
      "false positives: 10 out of 23\n"
     ]
    },
    {
     "name": "stderr",
     "output_type": "stream",
     "text": [
      "Permuting: 100%|██████████| 1000/1000 [00:00<00:00, 1246.80it/s]\n",
      "Permuting:   1%|▏         | 14/1000 [00:00<00:07, 138.40it/s]"
     ]
    },
    {
     "name": "stdout",
     "output_type": "stream",
     "text": [
      "p              : 0.056 (0.04257554968661718, 0.07210774628325271)\n",
      "0.35402023981264347 0.4141754354359741 0.8561637878011701\n",
      "false positives: 10 out of 24\n"
     ]
    },
    {
     "name": "stderr",
     "output_type": "stream",
     "text": [
      "Permuting: 100%|██████████| 1000/1000 [00:00<00:00, 1173.32it/s]\n",
      "Permuting:   1%|▏         | 13/1000 [00:00<00:07, 129.78it/s]"
     ]
    },
    {
     "name": "stdout",
     "output_type": "stream",
     "text": [
      "p              : 0.109 (0.09035814767691946, 0.12997836534293514)\n",
      "0.459718254659327 0.5075179306884688 0.8895671612442547\n",
      "false positives: 10 out of 25\n"
     ]
    },
    {
     "name": "stderr",
     "output_type": "stream",
     "text": [
      "Permuting: 100%|██████████| 1000/1000 [00:00<00:00, 1138.03it/s]\n",
      "Permuting:   3%|▎         | 30/1000 [00:00<00:03, 283.17it/s]"
     ]
    },
    {
     "name": "stdout",
     "output_type": "stream",
     "text": [
      "p              : 0.093 (0.07571840260686478, 0.11271941770115601)\n",
      "0.25877556895541004 0.3212800050533501 0.8013840959394016\n",
      "false positives: 10 out of 26\n"
     ]
    },
    {
     "name": "stderr",
     "output_type": "stream",
     "text": [
      "Permuting: 100%|██████████| 1000/1000 [00:00<00:00, 1249.20it/s]\n",
      "Permuting:   1%|▏         | 14/1000 [00:00<00:07, 133.87it/s]"
     ]
    },
    {
     "name": "stdout",
     "output_type": "stream",
     "text": [
      "p              : 0.036 (0.025338914929837735, 0.04949291171801237)\n",
      "0.4151117564986763 0.4875656777178736 0.8820447693660035\n",
      "false positives: 11 out of 27\n"
     ]
    },
    {
     "name": "stderr",
     "output_type": "stream",
     "text": [
      "Permuting: 100%|██████████| 1000/1000 [00:00<00:00, 1209.76it/s]\n",
      "Permuting:   1%|▏         | 14/1000 [00:00<00:07, 138.41it/s]"
     ]
    },
    {
     "name": "stdout",
     "output_type": "stream",
     "text": [
      "p              : 0.263 (0.2359435246802934, 0.291459361439264)\n",
      "0.32606328997770695 0.326798294401686 0.853627867129641\n",
      "false positives: 11 out of 28\n"
     ]
    },
    {
     "name": "stderr",
     "output_type": "stream",
     "text": [
      "Permuting: 100%|██████████| 1000/1000 [00:00<00:00, 1182.70it/s]\n",
      "Permuting:   2%|▏         | 16/1000 [00:00<00:06, 156.56it/s]"
     ]
    },
    {
     "name": "stdout",
     "output_type": "stream",
     "text": [
      "p              : 0.002 (0.00024230111687723198, 0.007205838911457497)\n",
      "0.4385122615768753 0.555328338760511 0.8405243442896775\n",
      "false positives: 12 out of 29\n"
     ]
    },
    {
     "name": "stderr",
     "output_type": "stream",
     "text": [
      "Permuting: 100%|██████████| 1000/1000 [00:00<00:00, 1343.58it/s]\n",
      "Permuting:   3%|▎         | 30/1000 [00:00<00:03, 272.95it/s]"
     ]
    },
    {
     "name": "stdout",
     "output_type": "stream",
     "text": [
      "p              : 0.016 (0.00917231926922208, 0.02585324908137346)\n",
      "0.2793234614795802 0.3712285581302296 0.8304288995931572\n",
      "false positives: 13 out of 30\n"
     ]
    },
    {
     "name": "stderr",
     "output_type": "stream",
     "text": [
      "Permuting: 100%|██████████| 1000/1000 [00:00<00:00, 1285.69it/s]\n",
      "Permuting:   3%|▎         | 32/1000 [00:00<00:03, 292.29it/s]"
     ]
    },
    {
     "name": "stdout",
     "output_type": "stream",
     "text": [
      "p              : 0.03 (0.02033048568310962, 0.042551402470029046)\n",
      "0.4928017256381604 0.5419794714022735 0.879503838457764\n",
      "false positives: 14 out of 31\n"
     ]
    },
    {
     "name": "stderr",
     "output_type": "stream",
     "text": [
      "Permuting: 100%|██████████| 1000/1000 [00:01<00:00, 776.38it/s]\n",
      "Permuting:   1%|          | 12/1000 [00:00<00:08, 117.07it/s]"
     ]
    },
    {
     "name": "stdout",
     "output_type": "stream",
     "text": [
      "p              : 0.28 (0.2523528830034036, 0.30894878601906306)\n",
      "0.4097923755582886 0.3570037332697408 0.766869638881902\n",
      "false positives: 14 out of 32\n"
     ]
    },
    {
     "name": "stderr",
     "output_type": "stream",
     "text": [
      "Permuting: 100%|██████████| 1000/1000 [00:01<00:00, 854.24it/s]\n",
      "Permuting:   1%|          | 11/1000 [00:00<00:09, 109.19it/s]"
     ]
    },
    {
     "name": "stdout",
     "output_type": "stream",
     "text": [
      "p              : 0.393 (0.3625812430106539, 0.42405067664891793)\n",
      "0.43295831900777415 0.4103174066814604 0.88035174065819\n",
      "false positives: 14 out of 33\n"
     ]
    },
    {
     "name": "stderr",
     "output_type": "stream",
     "text": [
      "Permuting: 100%|██████████| 1000/1000 [00:01<00:00, 975.18it/s]\n",
      "Permuting:   4%|▍         | 38/1000 [00:00<00:03, 300.67it/s]"
     ]
    },
    {
     "name": "stdout",
     "output_type": "stream",
     "text": [
      "p              : 0.014 (0.007674501565020783, 0.023378156010314503)\n",
      "0.41591017717740375 0.49723970148586466 0.8634569058045134\n",
      "false positives: 15 out of 34\n"
     ]
    },
    {
     "name": "stderr",
     "output_type": "stream",
     "text": [
      "Permuting: 100%|██████████| 1000/1000 [00:00<00:00, 1414.87it/s]\n",
      "Permuting:   2%|▏         | 16/1000 [00:00<00:06, 158.82it/s]"
     ]
    },
    {
     "name": "stdout",
     "output_type": "stream",
     "text": [
      "p              : 0.004 (0.001090907987725972, 0.010209664683929871)\n",
      "0.43539304590780964 0.5408155178512046 0.8543138579643763\n",
      "false positives: 16 out of 35\n"
     ]
    },
    {
     "name": "stderr",
     "output_type": "stream",
     "text": [
      "Permuting: 100%|██████████| 1000/1000 [00:00<00:00, 1419.48it/s]\n",
      "Permuting:   2%|▏         | 15/1000 [00:00<00:07, 140.41it/s]"
     ]
    },
    {
     "name": "stdout",
     "output_type": "stream",
     "text": [
      "p              : 0.007 (0.0028188587596205254, 0.014369194978918632)\n",
      "0.33163733438329485 0.4497023692913946 0.8589007914543758\n",
      "false positives: 17 out of 36\n"
     ]
    },
    {
     "name": "stderr",
     "output_type": "stream",
     "text": [
      "Permuting: 100%|██████████| 1000/1000 [00:00<00:00, 1272.54it/s]\n",
      "Permuting:   1%|▏         | 14/1000 [00:00<00:07, 139.70it/s]"
     ]
    },
    {
     "name": "stdout",
     "output_type": "stream",
     "text": [
      "p              : 0.177 (0.1538228267013961, 0.20209592130778092)\n",
      "0.4785972995122827 0.4703748582360281 0.865872869791108\n",
      "false positives: 17 out of 37\n"
     ]
    },
    {
     "name": "stderr",
     "output_type": "stream",
     "text": [
      "Permuting: 100%|██████████| 1000/1000 [00:00<00:00, 1233.47it/s]\n",
      "Permuting:   3%|▎         | 34/1000 [00:00<00:03, 305.94it/s]"
     ]
    },
    {
     "name": "stdout",
     "output_type": "stream",
     "text": [
      "p              : 0.064 (0.049633089291849, 0.08099507436705103)\n",
      "0.3423210095668431 0.3882182222361211 0.8342371975312054\n",
      "false positives: 17 out of 38\n"
     ]
    },
    {
     "name": "stderr",
     "output_type": "stream",
     "text": [
      "Permuting: 100%|██████████| 1000/1000 [00:00<00:00, 1258.33it/s]\n",
      "Permuting:   4%|▍         | 44/1000 [00:00<00:03, 261.61it/s]"
     ]
    },
    {
     "name": "stdout",
     "output_type": "stream",
     "text": [
      "p              : 0.009 (0.004123395660342474, 0.017015783069894586)\n",
      "0.24165694003811705 0.37369712932652627 0.8255462762334603\n",
      "false positives: 18 out of 39\n"
     ]
    },
    {
     "name": "stderr",
     "output_type": "stream",
     "text": [
      "Permuting: 100%|██████████| 1000/1000 [00:00<00:00, 1382.44it/s]\n",
      "Permuting:   4%|▍         | 44/1000 [00:00<00:03, 269.40it/s]"
     ]
    },
    {
     "name": "stdout",
     "output_type": "stream",
     "text": [
      "p              : 0.113 (0.0940396667543876, 0.13427178080353838)\n",
      "0.3669165965133908 0.3907832751478793 0.826667251754282\n",
      "false positives: 18 out of 40\n"
     ]
    },
    {
     "name": "stderr",
     "output_type": "stream",
     "text": [
      "Permuting: 100%|██████████| 1000/1000 [00:00<00:00, 1422.68it/s]\n",
      "Permuting:   4%|▍         | 42/1000 [00:00<00:03, 277.47it/s]"
     ]
    },
    {
     "name": "stdout",
     "output_type": "stream",
     "text": [
      "p              : 0.089 (0.07208246453975992, 0.10838100006000251)\n",
      "0.39553127303893937 0.4280674442379877 0.8310691149537566\n",
      "false positives: 18 out of 41\n"
     ]
    },
    {
     "name": "stderr",
     "output_type": "stream",
     "text": [
      "Permuting: 100%|██████████| 1000/1000 [00:00<00:00, 1407.16it/s]\n",
      "Permuting:   4%|▍         | 40/1000 [00:00<00:03, 295.25it/s]"
     ]
    },
    {
     "name": "stdout",
     "output_type": "stream",
     "text": [
      "p              : 0.039 (0.02787714879533641, 0.05293093578544508)\n",
      "0.41175622992759303 0.4466947887216848 0.8291506365081883\n",
      "false positives: 19 out of 42\n"
     ]
    },
    {
     "name": "stderr",
     "output_type": "stream",
     "text": [
      "Permuting: 100%|██████████| 1000/1000 [00:00<00:00, 1441.21it/s]\n",
      "Permuting:   4%|▎         | 36/1000 [00:00<00:04, 240.39it/s]"
     ]
    },
    {
     "name": "stdout",
     "output_type": "stream",
     "text": [
      "p              : 0.014 (0.007674501565020783, 0.023378156010314503)\n",
      "0.5006821238874968 0.5658864687751446 0.8072412457737088\n",
      "false positives: 20 out of 43\n"
     ]
    },
    {
     "name": "stderr",
     "output_type": "stream",
     "text": [
      "Permuting: 100%|██████████| 1000/1000 [00:00<00:00, 1048.99it/s]\n",
      "Permuting:   4%|▎         | 36/1000 [00:00<00:03, 269.73it/s]"
     ]
    },
    {
     "name": "stdout",
     "output_type": "stream",
     "text": [
      "p              : 0.058 (0.04433286025282069, 0.07433649538235161)\n",
      "0.39622596320174414 0.4592467293266649 0.8678418532103647\n",
      "false positives: 20 out of 44\n"
     ]
    },
    {
     "name": "stderr",
     "output_type": "stream",
     "text": [
      "Permuting: 100%|██████████| 1000/1000 [00:00<00:00, 1151.95it/s]\n",
      "Permuting:   1%|          | 12/1000 [00:00<00:08, 111.49it/s]"
     ]
    },
    {
     "name": "stdout",
     "output_type": "stream",
     "text": [
      "p              : 0.024 (0.015436383233508481, 0.03550063853135918)\n",
      "0.5565023664684172 0.6115080749793825 0.898288495276227\n",
      "false positives: 21 out of 45\n"
     ]
    },
    {
     "name": "stderr",
     "output_type": "stream",
     "text": [
      "Permuting: 100%|██████████| 1000/1000 [00:00<00:00, 1278.28it/s]\n",
      "Permuting:   4%|▍         | 38/1000 [00:00<00:03, 279.67it/s]"
     ]
    },
    {
     "name": "stdout",
     "output_type": "stream",
     "text": [
      "p              : 0.056 (0.04257554968661718, 0.07210774628325271)\n",
      "0.3937748209537389 0.4377324464623897 0.8260421468724244\n",
      "false positives: 21 out of 46\n"
     ]
    },
    {
     "name": "stderr",
     "output_type": "stream",
     "text": [
      "Permuting: 100%|██████████| 1000/1000 [00:00<00:00, 1313.19it/s]\n",
      "Permuting:   4%|▍         | 40/1000 [00:00<00:03, 310.51it/s]"
     ]
    },
    {
     "name": "stdout",
     "output_type": "stream",
     "text": [
      "p              : 0.032 (0.02198884960564243, 0.044875902835009286)\n",
      "0.3599616826122271 0.44139012854231735 0.8768955692715847\n",
      "false positives: 22 out of 47\n"
     ]
    },
    {
     "name": "stderr",
     "output_type": "stream",
     "text": [
      "Permuting: 100%|██████████| 1000/1000 [00:00<00:00, 1466.27it/s]\n",
      "Permuting:   4%|▎         | 36/1000 [00:00<00:03, 276.51it/s]"
     ]
    },
    {
     "name": "stdout",
     "output_type": "stream",
     "text": [
      "p              : 0.069 (0.05407933579325632, 0.08651510934571152)\n",
      "0.413557298314383 0.45124457554706127 0.8566356687120883\n",
      "false positives: 22 out of 48\n"
     ]
    },
    {
     "name": "stderr",
     "output_type": "stream",
     "text": [
      "Permuting: 100%|██████████| 1000/1000 [00:00<00:00, 1246.62it/s]\n",
      "Permuting:   4%|▍         | 42/1000 [00:00<00:03, 281.65it/s]"
     ]
    },
    {
     "name": "stdout",
     "output_type": "stream",
     "text": [
      "p              : 0.237 (0.21094952165312644, 0.2646085430054243)\n",
      "0.39790789863666837 0.3911903163499037 0.859832165084408\n",
      "false positives: 22 out of 49\n"
     ]
    },
    {
     "name": "stderr",
     "output_type": "stream",
     "text": [
      "Permuting: 100%|██████████| 1000/1000 [00:00<00:00, 1411.19it/s]\n",
      "Permuting:   4%|▍         | 38/1000 [00:00<00:04, 205.59it/s]"
     ]
    },
    {
     "name": "stdout",
     "output_type": "stream",
     "text": [
      "p              : 0.163 (0.14062554035964034, 0.18737814378448903)\n",
      "0.45232093187753536 0.4835329178276633 0.9072625916824183\n",
      "false positives: 22 out of 50\n"
     ]
    },
    {
     "name": "stderr",
     "output_type": "stream",
     "text": [
      "Permuting: 100%|██████████| 1000/1000 [00:00<00:00, 1156.41it/s]\n",
      "Permuting:   4%|▍         | 40/1000 [00:00<00:03, 289.85it/s]"
     ]
    },
    {
     "name": "stdout",
     "output_type": "stream",
     "text": [
      "p              : 0.043 (0.0312911704560926, 0.057486257961972334)\n",
      "0.3301492695721558 0.40766745305518093 0.8557627453369071\n",
      "false positives: 23 out of 51\n"
     ]
    },
    {
     "name": "stderr",
     "output_type": "stream",
     "text": [
      "Permuting: 100%|██████████| 1000/1000 [00:00<00:00, 1421.42it/s]\n",
      "Permuting:   2%|▏         | 16/1000 [00:00<00:06, 157.97it/s]"
     ]
    },
    {
     "name": "stdout",
     "output_type": "stream",
     "text": [
      "p              : 0.019 (0.011477036993100945, 0.0295124016250978)\n",
      "0.2602238357073013 0.35936867061917316 0.8610426294080854\n",
      "false positives: 24 out of 52\n"
     ]
    },
    {
     "name": "stderr",
     "output_type": "stream",
     "text": [
      "Permuting: 100%|██████████| 1000/1000 [00:00<00:00, 1183.83it/s]\n",
      "Permuting:   4%|▎         | 36/1000 [00:00<00:04, 235.46it/s]"
     ]
    },
    {
     "name": "stdout",
     "output_type": "stream",
     "text": [
      "p              : 0.034 (0.02365864810759674, 0.04718943861570743)\n",
      "0.4066138610932854 0.48024248877889647 0.8422866044097467\n",
      "false positives: 25 out of 53\n"
     ]
    },
    {
     "name": "stderr",
     "output_type": "stream",
     "text": [
      "Permuting: 100%|██████████| 1000/1000 [00:00<00:00, 1313.02it/s]\n",
      "Permuting:   4%|▍         | 42/1000 [00:00<00:03, 263.06it/s]"
     ]
    },
    {
     "name": "stdout",
     "output_type": "stream",
     "text": [
      "p              : 0.118 (0.09865251639489678, 0.13962772053444034)\n",
      "0.32299682957851406 0.34924408110308586 0.8776764586245823\n",
      "false positives: 25 out of 54\n"
     ]
    },
    {
     "name": "stderr",
     "output_type": "stream",
     "text": [
      "Permuting: 100%|██████████| 1000/1000 [00:00<00:00, 1193.16it/s]\n",
      "Permuting:   3%|▎         | 32/1000 [00:00<00:03, 248.81it/s]"
     ]
    },
    {
     "name": "stdout",
     "output_type": "stream",
     "text": [
      "p              : 0.138 (0.11721358230858084, 0.16094292161133156)\n",
      "0.4600540717985882 0.4890986210893624 0.8682177883901908\n",
      "false positives: 25 out of 55\n"
     ]
    },
    {
     "name": "stderr",
     "output_type": "stream",
     "text": [
      "Permuting: 100%|██████████| 1000/1000 [00:00<00:00, 1328.58it/s]\n",
      "Permuting:   4%|▍         | 38/1000 [00:00<00:03, 284.69it/s]"
     ]
    },
    {
     "name": "stdout",
     "output_type": "stream",
     "text": [
      "p              : 0.024 (0.015436383233508481, 0.03550063853135918)\n",
      "0.23049179451583007 0.3434807831352906 0.8466869747755513\n",
      "false positives: 26 out of 56\n"
     ]
    },
    {
     "name": "stderr",
     "output_type": "stream",
     "text": [
      "Permuting: 100%|██████████| 1000/1000 [00:01<00:00, 987.05it/s]\n",
      "Permuting:   4%|▎         | 36/1000 [00:00<00:02, 331.82it/s]"
     ]
    },
    {
     "name": "stdout",
     "output_type": "stream",
     "text": [
      "p              : 0.129 (0.10884057120623485, 0.1513714153149563)\n",
      "0.4306678508097901 0.46387979307932875 0.8921963708397168\n",
      "false positives: 26 out of 57\n"
     ]
    },
    {
     "name": "stderr",
     "output_type": "stream",
     "text": [
      "Permuting: 100%|██████████| 1000/1000 [00:00<00:00, 1086.12it/s]\n",
      "Permuting:   2%|▏         | 15/1000 [00:00<00:07, 139.15it/s]"
     ]
    },
    {
     "name": "stdout",
     "output_type": "stream",
     "text": [
      "p              : 0.109 (0.09035814767691946, 0.12997836534293514)\n",
      "0.39705386757986666 0.4252596971750476 0.8619769406605383\n",
      "false positives: 26 out of 58\n"
     ]
    },
    {
     "name": "stderr",
     "output_type": "stream",
     "text": [
      "Permuting: 100%|██████████| 1000/1000 [00:01<00:00, 928.70it/s]\n",
      "Permuting:   1%|          | 12/1000 [00:00<00:08, 117.79it/s]"
     ]
    },
    {
     "name": "stdout",
     "output_type": "stream",
     "text": [
      "p              : 0.056 (0.04257554968661718, 0.07210774628325271)\n",
      "0.544237775505505 0.5822279633591799 0.885159389146133\n",
      "false positives: 26 out of 59\n"
     ]
    },
    {
     "name": "stderr",
     "output_type": "stream",
     "text": [
      "Permuting: 100%|██████████| 1000/1000 [00:01<00:00, 752.03it/s]\n",
      "Permuting:   1%|          | 8/1000 [00:00<00:13, 75.79it/s]"
     ]
    },
    {
     "name": "stdout",
     "output_type": "stream",
     "text": [
      "p              : 0.007 (0.0028188587596205254, 0.014369194978918632)\n",
      "0.40577323411518923 0.5284698917465779 0.8330736091237291\n",
      "false positives: 27 out of 60\n"
     ]
    },
    {
     "name": "stderr",
     "output_type": "stream",
     "text": [
      "Permuting: 100%|██████████| 1000/1000 [00:01<00:00, 866.67it/s]\n",
      "Permuting:   4%|▎         | 36/1000 [00:00<00:02, 333.43it/s]"
     ]
    },
    {
     "name": "stdout",
     "output_type": "stream",
     "text": [
      "p              : 0.01 (0.004805510691049309, 0.01831324305511245)\n",
      "0.4534161387962776 0.5544107360958926 0.88635409841907\n",
      "false positives: 28 out of 61\n"
     ]
    },
    {
     "name": "stderr",
     "output_type": "stream",
     "text": [
      "Permuting: 100%|██████████| 1000/1000 [00:01<00:00, 930.43it/s]\n",
      "Permuting:   1%|          | 12/1000 [00:00<00:09, 106.64it/s]"
     ]
    },
    {
     "name": "stdout",
     "output_type": "stream",
     "text": [
      "p              : 0.004 (0.001090907987725972, 0.010209664683929871)\n",
      "0.32519163817676927 0.44925976059410666 0.7933352455284002\n",
      "false positives: 29 out of 62\n"
     ]
    },
    {
     "name": "stderr",
     "output_type": "stream",
     "text": [
      "Permuting: 100%|██████████| 1000/1000 [00:01<00:00, 831.66it/s]\n",
      "Permuting:   3%|▎         | 28/1000 [00:00<00:03, 268.88it/s]"
     ]
    },
    {
     "name": "stdout",
     "output_type": "stream",
     "text": [
      "p              : 0.166 (0.14344866158413713, 0.1905367885418801)\n",
      "0.40595636623426695 0.4131177842785828 0.8354077126333578\n",
      "false positives: 29 out of 63\n"
     ]
    },
    {
     "name": "stderr",
     "output_type": "stream",
     "text": [
      "Permuting: 100%|██████████| 1000/1000 [00:01<00:00, 804.91it/s]\n",
      "Permuting:   1%|          | 10/1000 [00:00<00:10, 97.30it/s]"
     ]
    },
    {
     "name": "stdout",
     "output_type": "stream",
     "text": [
      "p              : 0.017 (0.009933512592716538, 0.027079496864851366)\n",
      "0.41775309459187837 0.5065582801463093 0.8647196901213065\n",
      "false positives: 30 out of 64\n"
     ]
    },
    {
     "name": "stderr",
     "output_type": "stream",
     "text": [
      "Permuting: 100%|██████████| 1000/1000 [00:00<00:00, 1119.66it/s]\n",
      "Permuting:   2%|▏         | 16/1000 [00:00<00:06, 146.79it/s]"
     ]
    },
    {
     "name": "stdout",
     "output_type": "stream",
     "text": [
      "p              : 0.09 (0.07299046645662287, 0.10946657313833914)\n",
      "0.2643074147854791 0.31972239322518964 0.8526875701435846\n",
      "false positives: 30 out of 65\n"
     ]
    },
    {
     "name": "stderr",
     "output_type": "stream",
     "text": [
      "Permuting: 100%|██████████| 1000/1000 [00:00<00:00, 1215.81it/s]\n",
      "Permuting:   2%|▏         | 16/1000 [00:00<00:06, 156.52it/s]"
     ]
    },
    {
     "name": "stdout",
     "output_type": "stream",
     "text": [
      "p              : 0.025 (0.01624253569688223, 0.03668482305192304)\n",
      "0.29462940535615195 0.38104976725419953 0.844728590320106\n",
      "false positives: 31 out of 66\n"
     ]
    },
    {
     "name": "stderr",
     "output_type": "stream",
     "text": [
      "Permuting: 100%|██████████| 1000/1000 [00:00<00:00, 1143.89it/s]\n",
      "Permuting:   3%|▎         | 34/1000 [00:00<00:03, 281.39it/s]"
     ]
    },
    {
     "name": "stdout",
     "output_type": "stream",
     "text": [
      "p              : 0.067 (0.052297836400045185, 0.08431003710244145)\n",
      "0.3778840707597114 0.45071731476117666 0.8568729503028206\n",
      "false positives: 31 out of 67\n"
     ]
    },
    {
     "name": "stderr",
     "output_type": "stream",
     "text": [
      "Permuting: 100%|██████████| 1000/1000 [00:00<00:00, 1088.29it/s]\n",
      "Permuting:   1%|▏         | 13/1000 [00:00<00:07, 126.97it/s]"
     ]
    },
    {
     "name": "stdout",
     "output_type": "stream",
     "text": [
      "p              : 0.209 (0.18418596781939175, 0.23553986955407757)\n",
      "0.4634971741154275 0.45184460521038544 0.8346680573513584\n",
      "false positives: 31 out of 68\n"
     ]
    },
    {
     "name": "stderr",
     "output_type": "stream",
     "text": [
      "Permuting: 100%|██████████| 1000/1000 [00:00<00:00, 1244.88it/s]\n",
      "Permuting:   4%|▍         | 38/1000 [00:00<00:03, 309.10it/s]"
     ]
    },
    {
     "name": "stdout",
     "output_type": "stream",
     "text": [
      "p              : 0.012 (0.0062155255595952455, 0.02086767959103641)\n",
      "0.4625921385565681 0.5569799715655961 0.8511034004475653\n",
      "false positives: 32 out of 69\n"
     ]
    },
    {
     "name": "stderr",
     "output_type": "stream",
     "text": [
      "Permuting: 100%|██████████| 1000/1000 [00:00<00:00, 1413.96it/s]\n",
      "Permuting:   2%|▏         | 15/1000 [00:00<00:07, 140.01it/s]"
     ]
    },
    {
     "name": "stdout",
     "output_type": "stream",
     "text": [
      "p              : 0.081 (0.06484353970849498, 0.09967169896848728)\n",
      "0.47871345112653985 0.49818699279544837 0.8676216362139089\n",
      "false positives: 32 out of 70\n"
     ]
    },
    {
     "name": "stderr",
     "output_type": "stream",
     "text": [
      "Permuting: 100%|██████████| 1000/1000 [00:00<00:00, 1203.61it/s]\n",
      "Permuting:   4%|▍         | 42/1000 [00:00<00:03, 293.25it/s]"
     ]
    },
    {
     "name": "stdout",
     "output_type": "stream",
     "text": [
      "p              : 0.014 (0.007674501565020783, 0.023378156010314503)\n",
      "0.29720575999685583 0.3867670191271018 0.7835141876593406\n",
      "false positives: 33 out of 71\n"
     ]
    },
    {
     "name": "stderr",
     "output_type": "stream",
     "text": [
      "Permuting: 100%|██████████| 1000/1000 [00:00<00:00, 1461.34it/s]\n",
      "Permuting:   1%|          | 12/1000 [00:00<00:08, 113.26it/s]"
     ]
    },
    {
     "name": "stdout",
     "output_type": "stream",
     "text": [
      "p              : 0.015 (0.00841904975003438, 0.024619700097041154)\n",
      "0.4230598779099091 0.5061029006345581 0.8155828602707894\n",
      "false positives: 34 out of 72\n"
     ]
    },
    {
     "name": "stderr",
     "output_type": "stream",
     "text": [
      "Permuting: 100%|██████████| 1000/1000 [00:00<00:00, 1079.59it/s]\n",
      "Permuting:   5%|▍         | 46/1000 [00:00<00:03, 275.88it/s]"
     ]
    },
    {
     "name": "stdout",
     "output_type": "stream",
     "text": [
      "p              : 0.046 (0.033871498547677896, 0.06088355271374263)\n",
      "0.4173363484823126 0.4838702042107798 0.8749779682254094\n",
      "false positives: 35 out of 73\n"
     ]
    },
    {
     "name": "stderr",
     "output_type": "stream",
     "text": [
      "Permuting: 100%|██████████| 1000/1000 [00:00<00:00, 1430.35it/s]\n",
      "Permuting:   2%|▏         | 16/1000 [00:00<00:06, 150.99it/s]"
     ]
    },
    {
     "name": "stdout",
     "output_type": "stream",
     "text": [
      "p              : 0.154 (0.13217302837265313, 0.17788548052787567)\n",
      "0.22826015094996494 0.2683782716271876 0.8568646486798638\n",
      "false positives: 35 out of 74\n"
     ]
    },
    {
     "name": "stderr",
     "output_type": "stream",
     "text": [
      "Permuting: 100%|██████████| 1000/1000 [00:00<00:00, 1213.92it/s]\n",
      "Permuting:   3%|▎         | 32/1000 [00:00<00:03, 319.19it/s]"
     ]
    },
    {
     "name": "stdout",
     "output_type": "stream",
     "text": [
      "p              : 0.271 (0.24365923756561741, 0.29969599551450626)\n",
      "0.2859354249403278 0.30334292979771776 0.8587709406914366\n",
      "false positives: 35 out of 75\n"
     ]
    },
    {
     "name": "stderr",
     "output_type": "stream",
     "text": [
      "Permuting: 100%|██████████| 1000/1000 [00:00<00:00, 1202.88it/s]\n",
      "Permuting:   4%|▍         | 44/1000 [00:00<00:03, 279.94it/s]"
     ]
    },
    {
     "name": "stdout",
     "output_type": "stream",
     "text": [
      "p              : 0.014 (0.007674501565020783, 0.023378156010314503)\n",
      "0.29701879534290854 0.395236805072329 0.8170289504049348\n",
      "false positives: 36 out of 76\n"
     ]
    },
    {
     "name": "stderr",
     "output_type": "stream",
     "text": [
      "Permuting: 100%|██████████| 1000/1000 [00:00<00:00, 1433.32it/s]\n",
      "Permuting:   1%|          | 12/1000 [00:00<00:08, 115.82it/s]"
     ]
    },
    {
     "name": "stdout",
     "output_type": "stream",
     "text": [
      "p              : 0.036 (0.025338914929837735, 0.04949291171801237)\n",
      "0.4225659191523656 0.49280174305655805 0.8823719333488823\n",
      "false positives: 37 out of 77\n"
     ]
    },
    {
     "name": "stderr",
     "output_type": "stream",
     "text": [
      "Permuting: 100%|██████████| 1000/1000 [00:00<00:00, 1333.99it/s]\n",
      "Permuting:   4%|▍         | 40/1000 [00:00<00:02, 371.19it/s]"
     ]
    },
    {
     "name": "stdout",
     "output_type": "stream",
     "text": [
      "p              : 0.001 (2.531748749129407e-05, 0.005558924279826672)\n",
      "0.4420925587771165 0.5447626225236185 0.83141852496696\n",
      "false positives: 38 out of 78\n"
     ]
    },
    {
     "name": "stderr",
     "output_type": "stream",
     "text": [
      "Permuting: 100%|██████████| 1000/1000 [00:00<00:00, 1301.71it/s]\n",
      "Permuting:   2%|▏         | 16/1000 [00:00<00:07, 138.98it/s]"
     ]
    },
    {
     "name": "stdout",
     "output_type": "stream",
     "text": [
      "p              : 0.003 (0.0006190999316495715, 0.008742023238478303)\n",
      "0.34855619499782614 0.4816356640953178 0.8314995212976964\n",
      "false positives: 39 out of 79\n"
     ]
    },
    {
     "name": "stderr",
     "output_type": "stream",
     "text": [
      "Permuting: 100%|██████████| 1000/1000 [00:00<00:00, 1206.04it/s]\n",
      "Permuting:   3%|▎         | 34/1000 [00:00<00:03, 261.76it/s]"
     ]
    },
    {
     "name": "stdout",
     "output_type": "stream",
     "text": [
      "p              : 0.006 (0.0022049824851513773, 0.013013423270974496)\n",
      "0.4208734252748363 0.5232799668067033 0.8361141041951131\n",
      "false positives: 40 out of 80\n"
     ]
    },
    {
     "name": "stderr",
     "output_type": "stream",
     "text": [
      "Permuting: 100%|██████████| 1000/1000 [00:00<00:00, 1067.82it/s]\n",
      "Permuting:   2%|▏         | 16/1000 [00:00<00:06, 155.84it/s]"
     ]
    },
    {
     "name": "stdout",
     "output_type": "stream",
     "text": [
      "p              : 0.017 (0.009933512592716538, 0.027079496864851366)\n",
      "0.5236972179294791 0.5850695606805077 0.8664389469762693\n",
      "false positives: 41 out of 81\n"
     ]
    },
    {
     "name": "stderr",
     "output_type": "stream",
     "text": [
      "Permuting: 100%|██████████| 1000/1000 [00:00<00:00, 1291.04it/s]\n",
      "Permuting:   3%|▎         | 34/1000 [00:00<00:03, 274.26it/s]"
     ]
    },
    {
     "name": "stdout",
     "output_type": "stream",
     "text": [
      "p              : 0.153 (0.13123547334590266, 0.17682913934608993)\n",
      "0.29907170835773583 0.31331693234721747 0.7943326789000377\n",
      "false positives: 41 out of 82\n"
     ]
    },
    {
     "name": "stderr",
     "output_type": "stream",
     "text": [
      "Permuting: 100%|██████████| 1000/1000 [00:00<00:00, 1270.66it/s]\n",
      "Permuting:   4%|▎         | 36/1000 [00:00<00:03, 311.86it/s]"
     ]
    },
    {
     "name": "stdout",
     "output_type": "stream",
     "text": [
      "p              : 0.055 (0.041698795079535965, 0.07099151554205749)\n",
      "0.38816667060170357 0.4556184680848575 0.8516943218391245\n",
      "false positives: 41 out of 83\n"
     ]
    },
    {
     "name": "stderr",
     "output_type": "stream",
     "text": [
      "Permuting: 100%|██████████| 1000/1000 [00:00<00:00, 1446.82it/s]\n",
      "Permuting:   4%|▍         | 38/1000 [00:00<00:03, 289.23it/s]"
     ]
    },
    {
     "name": "stdout",
     "output_type": "stream",
     "text": [
      "p              : 0.016 (0.00917231926922208, 0.02585324908137346)\n",
      "0.5041476591939117 0.563941587825064 0.8568020608725996\n",
      "false positives: 42 out of 84\n"
     ]
    },
    {
     "name": "stderr",
     "output_type": "stream",
     "text": [
      "Permuting: 100%|██████████| 1000/1000 [00:00<00:00, 1452.68it/s]\n",
      "Permuting:   4%|▍         | 38/1000 [00:00<00:03, 251.66it/s]"
     ]
    },
    {
     "name": "stdout",
     "output_type": "stream",
     "text": [
      "p              : 0.123 (0.10327690964141777, 0.14497223867356837)\n",
      "0.31201646588376863 0.3454509578948422 0.8634628496035592\n",
      "false positives: 42 out of 85\n"
     ]
    },
    {
     "name": "stderr",
     "output_type": "stream",
     "text": [
      "Permuting: 100%|██████████| 1000/1000 [00:00<00:00, 1229.48it/s]\n",
      "Permuting:   3%|▎         | 34/1000 [00:00<00:03, 267.26it/s]"
     ]
    },
    {
     "name": "stdout",
     "output_type": "stream",
     "text": [
      "p              : 0.008 (0.003459976165329311, 0.015702049176074682)\n",
      "0.3019222738416919 0.4190030881261333 0.8527975491864569\n",
      "false positives: 43 out of 86\n"
     ]
    },
    {
     "name": "stderr",
     "output_type": "stream",
     "text": [
      "Permuting: 100%|██████████| 1000/1000 [00:00<00:00, 1060.45it/s]\n",
      "Permuting:   4%|▍         | 38/1000 [00:00<00:03, 255.49it/s]"
     ]
    },
    {
     "name": "stdout",
     "output_type": "stream",
     "text": [
      "p              : 0.104 (0.08576782262563759, 0.12460015656989851)\n",
      "0.41348984350874785 0.46513472986951937 0.8780074848575549\n",
      "false positives: 43 out of 87\n"
     ]
    },
    {
     "name": "stderr",
     "output_type": "stream",
     "text": [
      "Permuting: 100%|██████████| 1000/1000 [00:01<00:00, 954.58it/s]\n",
      "Permuting:   1%|          | 10/1000 [00:00<00:09, 99.24it/s]"
     ]
    },
    {
     "name": "stdout",
     "output_type": "stream",
     "text": [
      "p              : 0.072 (0.05675868755456168, 0.08981574917535079)\n",
      "0.3002834015490997 0.33977073637673877 0.8174541015149842\n",
      "false positives: 43 out of 88\n"
     ]
    },
    {
     "name": "stderr",
     "output_type": "stream",
     "text": [
      "Permuting: 100%|██████████| 1000/1000 [00:01<00:00, 850.39it/s]\n",
      "Permuting:   3%|▎         | 30/1000 [00:00<00:03, 244.37it/s]"
     ]
    },
    {
     "name": "stdout",
     "output_type": "stream",
     "text": [
      "p              : 0.012 (0.0062155255595952455, 0.02086767959103641)\n",
      "0.40415930499481406 0.4746798855779211 0.8375858667541126\n",
      "false positives: 44 out of 89\n"
     ]
    },
    {
     "name": "stderr",
     "output_type": "stream",
     "text": [
      "Permuting: 100%|██████████| 1000/1000 [00:01<00:00, 993.75it/s]\n",
      "Permuting:   0%|          | 0/1000 [00:00<?, ?it/s]"
     ]
    },
    {
     "name": "stdout",
     "output_type": "stream",
     "text": [
      "p              : 0.096 (0.07845203624742245, 0.11596664336287678)\n",
      "0.43997147957055505 0.4881902757360859 0.8630392737724164\n",
      "false positives: 44 out of 90\n"
     ]
    },
    {
     "name": "stderr",
     "output_type": "stream",
     "text": [
      "Permuting: 100%|██████████| 1000/1000 [00:01<00:00, 947.30it/s]\n",
      "Permuting:   1%|          | 12/1000 [00:00<00:08, 117.55it/s]"
     ]
    },
    {
     "name": "stdout",
     "output_type": "stream",
     "text": [
      "p              : 0.003 (0.0006190999316495715, 0.008742023238478303)\n",
      "0.23591518175495996 0.3737384007130091 0.8153640689606008\n",
      "false positives: 45 out of 91\n"
     ]
    },
    {
     "name": "stderr",
     "output_type": "stream",
     "text": [
      "Permuting: 100%|██████████| 1000/1000 [00:01<00:00, 758.69it/s]\n",
      "Permuting:   4%|▍         | 42/1000 [00:00<00:04, 215.59it/s]"
     ]
    },
    {
     "name": "stdout",
     "output_type": "stream",
     "text": [
      "p              : 0.0 (0, 0.003682083896865671)\n",
      "0.43131469175929843 0.6123331600699345 0.8466365170211362\n",
      "false positives: 46 out of 92\n"
     ]
    },
    {
     "name": "stderr",
     "output_type": "stream",
     "text": [
      "Permuting: 100%|██████████| 1000/1000 [00:01<00:00, 988.14it/s]\n",
      "Permuting:   1%|          | 12/1000 [00:00<00:14, 67.48it/s]"
     ]
    },
    {
     "name": "stdout",
     "output_type": "stream",
     "text": [
      "p              : 0.106 (0.08760236506921214, 0.1267530087815625)\n",
      "0.3956826453488347 0.4346202181409902 0.8680159679699001\n",
      "false positives: 46 out of 93\n"
     ]
    },
    {
     "name": "stderr",
     "output_type": "stream",
     "text": [
      "Permuting: 100%|██████████| 1000/1000 [00:00<00:00, 1253.21it/s]\n",
      "Permuting:   2%|▏         | 15/1000 [00:00<00:07, 140.08it/s]"
     ]
    },
    {
     "name": "stdout",
     "output_type": "stream",
     "text": [
      "p              : 0.08 (0.06394198284667335, 0.09857977904790216)\n",
      "0.47255953360388286 0.5052184086543402 0.8420714128772246\n",
      "false positives: 46 out of 94\n"
     ]
    },
    {
     "name": "stderr",
     "output_type": "stream",
     "text": [
      "Permuting: 100%|██████████| 1000/1000 [00:00<00:00, 1278.72it/s]\n",
      "Permuting:   4%|▍         | 40/1000 [00:00<00:03, 282.83it/s]"
     ]
    },
    {
     "name": "stdout",
     "output_type": "stream",
     "text": [
      "p              : 0.186 (0.16233597764160843, 0.2115283592699378)\n",
      "0.31717602309387816 0.3202942927525005 0.8164094549041415\n",
      "false positives: 46 out of 95\n"
     ]
    },
    {
     "name": "stderr",
     "output_type": "stream",
     "text": [
      "Permuting: 100%|██████████| 1000/1000 [00:00<00:00, 1385.16it/s]\n",
      "Permuting:   4%|▍         | 40/1000 [00:00<00:03, 291.16it/s]"
     ]
    },
    {
     "name": "stdout",
     "output_type": "stream",
     "text": [
      "p              : 0.08 (0.06394198284667335, 0.09857977904790216)\n",
      "0.43478428070527886 0.49439485677304035 0.8842821425395816\n",
      "false positives: 46 out of 96\n"
     ]
    },
    {
     "name": "stderr",
     "output_type": "stream",
     "text": [
      "Permuting: 100%|██████████| 1000/1000 [00:00<00:00, 1318.16it/s]\n",
      "Permuting:   1%|▏         | 13/1000 [00:00<00:07, 128.80it/s]"
     ]
    },
    {
     "name": "stdout",
     "output_type": "stream",
     "text": [
      "p              : 0.032 (0.02198884960564243, 0.044875902835009286)\n",
      "0.3454830401865283 0.4247984860218515 0.8771514556914793\n",
      "false positives: 47 out of 97\n"
     ]
    },
    {
     "name": "stderr",
     "output_type": "stream",
     "text": [
      "Permuting: 100%|██████████| 1000/1000 [00:00<00:00, 1143.10it/s]\n",
      "Permuting:   4%|▍         | 44/1000 [00:00<00:03, 265.99it/s]"
     ]
    },
    {
     "name": "stdout",
     "output_type": "stream",
     "text": [
      "p              : 0.061 (0.04697787554108023, 0.07767077404912356)\n",
      "0.4609897029329069 0.5134589504950994 0.8841792504537134\n",
      "false positives: 47 out of 98\n"
     ]
    },
    {
     "name": "stderr",
     "output_type": "stream",
     "text": [
      "Permuting: 100%|██████████| 1000/1000 [00:00<00:00, 1362.05it/s]\n",
      "Permuting:   4%|▍         | 40/1000 [00:00<00:03, 259.41it/s]"
     ]
    },
    {
     "name": "stdout",
     "output_type": "stream",
     "text": [
      "p              : 0.24 (0.21382677447450613, 0.2677133583471019)\n",
      "0.2937800854594811 0.2883405603401725 0.8095509189723175\n",
      "false positives: 47 out of 99\n"
     ]
    },
    {
     "name": "stderr",
     "output_type": "stream",
     "text": [
      "Permuting: 100%|██████████| 1000/1000 [00:00<00:00, 1219.70it/s]"
     ]
    },
    {
     "name": "stdout",
     "output_type": "stream",
     "text": [
      "p              : 0.04 (0.0287276252858908, 0.0540726968193685)\n",
      "0.42157782610207867 0.4676571398912829 0.8367453914917797\n",
      "false positives: 48 out of 100\n"
     ]
    },
    {
     "name": "stderr",
     "output_type": "stream",
     "text": [
      "\n"
     ]
    }
   ],
   "source": [
    "ts_ratio_y = 0.5\n",
    "cs_ratio_y = 0.4\n",
    "ts_ratio_c = 0.0\n",
    "cs_ratio_c = 0.9\n",
    "#ts_ratio_yhat # THIS IS VARIED\n",
    "cs_ratio_yhat = 0.4  # NO BIAS\n",
    "num_perms = 1000\n",
    "n=100\n",
    "\n",
    "results = []\n",
    "\n",
    "for iteration in range(100):\n",
    "    for ts_ratio_yhat in [0.4]:\n",
    "        # simuklate data without confounder-bias\n",
    "        #                 true signal    confounder\n",
    "        y, yhat, c = simulate(ts_ratio_y,       cs_ratio_y,     # y\n",
    "                              ts_ratio_c,       cs_ratio_c,     # c\n",
    "                              ts_ratio_yhat,    cs_ratio_yhat,  # yhat\n",
    "                              n=n,                            # simulated sample size\n",
    "                              random_state=iteration\n",
    "                              )\n",
    "        # test for confound\n",
    "        ret=confound_test(y, yhat, c, num_perms=num_perms, return_null_dist=False,\n",
    "                          random_state=iteration, n_jobs=-1)\n",
    "        \n",
    "        results.append(\n",
    "            np.array([\n",
    "                iteration,       #0\n",
    "                n,               #1\n",
    "                ts_ratio_y,      #2\n",
    "                cs_ratio_y,      #3\n",
    "                ts_ratio_c,      #4\n",
    "                cs_ratio_c,      #5\n",
    "                ts_ratio_yhat,   #6\n",
    "                cs_ratio_yhat,   #7\n",
    "                num_perms,       #8\n",
    "                ret.r2_y_c,      #9\n",
    "                ret.r2_yhat_c,   #10\n",
    "                ret.r2_y_yhat,   #11\n",
    "                ret.p,           #12\n",
    "                ret.p_ci[0],     #13\n",
    "                ret.p_ci[1],     #14\n",
    "                ret.found        #15\n",
    "                ]))\n",
    "        print('p              :', ret.p, ret.p_ci)\n",
    "        print(ret.r2_y_c, ret.r2_yhat_c, ret.r2_y_yhat)\n",
    "        print('false positives:', np.sum(np.array(results)[:,12]<0.05), 'out of', len(results))"
   ]
  },
  {
   "cell_type": "code",
   "execution_count": 11,
   "metadata": {
    "ExecuteTime": {
     "end_time": "2021-07-19T19:56:10.904357Z",
     "start_time": "2021-07-19T19:56:10.785587Z"
    }
   },
   "outputs": [
    {
     "data": {
      "text/html": [
       "<div>\n",
       "<style scoped>\n",
       "    .dataframe tbody tr th:only-of-type {\n",
       "        vertical-align: middle;\n",
       "    }\n",
       "\n",
       "    .dataframe tbody tr th {\n",
       "        vertical-align: top;\n",
       "    }\n",
       "\n",
       "    .dataframe thead th {\n",
       "        text-align: right;\n",
       "    }\n",
       "</style>\n",
       "<table border=\"1\" class=\"dataframe\">\n",
       "  <thead>\n",
       "    <tr style=\"text-align: right;\">\n",
       "      <th></th>\n",
       "      <th>iteration</th>\n",
       "      <th>n</th>\n",
       "      <th>ts_ratio_y</th>\n",
       "      <th>cs_ratio_y</th>\n",
       "      <th>ts_ratio_c</th>\n",
       "      <th>cs_ratio_c</th>\n",
       "      <th>ts_ratio_yhat</th>\n",
       "      <th>cs_ratio_yhat</th>\n",
       "      <th>num_perms</th>\n",
       "      <th>res_r2_y_c</th>\n",
       "      <th>res_r2_yhat_c</th>\n",
       "      <th>res_r2_y_yhat</th>\n",
       "      <th>res_p</th>\n",
       "      <th>res_p_ci_lower</th>\n",
       "      <th>res_p_ci_upper</th>\n",
       "      <th>res_subsample</th>\n",
       "    </tr>\n",
       "  </thead>\n",
       "  <tbody>\n",
       "    <tr>\n",
       "      <th>count</th>\n",
       "      <td>100.000000</td>\n",
       "      <td>100.0</td>\n",
       "      <td>100.0</td>\n",
       "      <td>1.000000e+02</td>\n",
       "      <td>100.0</td>\n",
       "      <td>1.000000e+02</td>\n",
       "      <td>1.000000e+02</td>\n",
       "      <td>1.000000e+02</td>\n",
       "      <td>100.0</td>\n",
       "      <td>100.000000</td>\n",
       "      <td>100.000000</td>\n",
       "      <td>100.000000</td>\n",
       "      <td>100.00000</td>\n",
       "      <td>100.000000</td>\n",
       "      <td>100.000000</td>\n",
       "      <td>100.0</td>\n",
       "    </tr>\n",
       "    <tr>\n",
       "      <th>mean</th>\n",
       "      <td>49.500000</td>\n",
       "      <td>100.0</td>\n",
       "      <td>0.5</td>\n",
       "      <td>4.000000e-01</td>\n",
       "      <td>0.0</td>\n",
       "      <td>9.000000e-01</td>\n",
       "      <td>4.000000e-01</td>\n",
       "      <td>4.000000e-01</td>\n",
       "      <td>1000.0</td>\n",
       "      <td>0.385599</td>\n",
       "      <td>0.445947</td>\n",
       "      <td>0.851466</td>\n",
       "      <td>0.07313</td>\n",
       "      <td>0.060035</td>\n",
       "      <td>0.088863</td>\n",
       "      <td>1000.0</td>\n",
       "    </tr>\n",
       "    <tr>\n",
       "      <th>std</th>\n",
       "      <td>29.011492</td>\n",
       "      <td>0.0</td>\n",
       "      <td>0.0</td>\n",
       "      <td>7.810713e-16</td>\n",
       "      <td>0.0</td>\n",
       "      <td>7.810713e-16</td>\n",
       "      <td>7.810713e-16</td>\n",
       "      <td>7.810713e-16</td>\n",
       "      <td>0.0</td>\n",
       "      <td>0.079080</td>\n",
       "      <td>0.078298</td>\n",
       "      <td>0.027289</td>\n",
       "      <td>0.07339</td>\n",
       "      <td>0.066797</td>\n",
       "      <td>0.079556</td>\n",
       "      <td>0.0</td>\n",
       "    </tr>\n",
       "    <tr>\n",
       "      <th>min</th>\n",
       "      <td>0.000000</td>\n",
       "      <td>100.0</td>\n",
       "      <td>0.5</td>\n",
       "      <td>4.000000e-01</td>\n",
       "      <td>0.0</td>\n",
       "      <td>9.000000e-01</td>\n",
       "      <td>4.000000e-01</td>\n",
       "      <td>4.000000e-01</td>\n",
       "      <td>1000.0</td>\n",
       "      <td>0.207236</td>\n",
       "      <td>0.268378</td>\n",
       "      <td>0.766870</td>\n",
       "      <td>0.00000</td>\n",
       "      <td>0.000000</td>\n",
       "      <td>0.003682</td>\n",
       "      <td>1000.0</td>\n",
       "    </tr>\n",
       "    <tr>\n",
       "      <th>25%</th>\n",
       "      <td>24.750000</td>\n",
       "      <td>100.0</td>\n",
       "      <td>0.5</td>\n",
       "      <td>4.000000e-01</td>\n",
       "      <td>0.0</td>\n",
       "      <td>9.000000e-01</td>\n",
       "      <td>4.000000e-01</td>\n",
       "      <td>4.000000e-01</td>\n",
       "      <td>1000.0</td>\n",
       "      <td>0.329029</td>\n",
       "      <td>0.391089</td>\n",
       "      <td>0.834560</td>\n",
       "      <td>0.01600</td>\n",
       "      <td>0.009172</td>\n",
       "      <td>0.025853</td>\n",
       "      <td>1000.0</td>\n",
       "    </tr>\n",
       "    <tr>\n",
       "      <th>50%</th>\n",
       "      <td>49.500000</td>\n",
       "      <td>100.0</td>\n",
       "      <td>0.5</td>\n",
       "      <td>4.000000e-01</td>\n",
       "      <td>0.0</td>\n",
       "      <td>9.000000e-01</td>\n",
       "      <td>4.000000e-01</td>\n",
       "      <td>4.000000e-01</td>\n",
       "      <td>1000.0</td>\n",
       "      <td>0.399405</td>\n",
       "      <td>0.450981</td>\n",
       "      <td>0.855963</td>\n",
       "      <td>0.05600</td>\n",
       "      <td>0.042576</td>\n",
       "      <td>0.072108</td>\n",
       "      <td>1000.0</td>\n",
       "    </tr>\n",
       "    <tr>\n",
       "      <th>75%</th>\n",
       "      <td>74.250000</td>\n",
       "      <td>100.0</td>\n",
       "      <td>0.5</td>\n",
       "      <td>4.000000e-01</td>\n",
       "      <td>0.0</td>\n",
       "      <td>9.000000e-01</td>\n",
       "      <td>4.000000e-01</td>\n",
       "      <td>4.000000e-01</td>\n",
       "      <td>1000.0</td>\n",
       "      <td>0.436173</td>\n",
       "      <td>0.498084</td>\n",
       "      <td>0.869908</td>\n",
       "      <td>0.10325</td>\n",
       "      <td>0.085080</td>\n",
       "      <td>0.123792</td>\n",
       "      <td>1000.0</td>\n",
       "    </tr>\n",
       "    <tr>\n",
       "      <th>max</th>\n",
       "      <td>99.000000</td>\n",
       "      <td>100.0</td>\n",
       "      <td>0.5</td>\n",
       "      <td>4.000000e-01</td>\n",
       "      <td>0.0</td>\n",
       "      <td>9.000000e-01</td>\n",
       "      <td>4.000000e-01</td>\n",
       "      <td>4.000000e-01</td>\n",
       "      <td>1000.0</td>\n",
       "      <td>0.556502</td>\n",
       "      <td>0.612333</td>\n",
       "      <td>0.907263</td>\n",
       "      <td>0.39300</td>\n",
       "      <td>0.362581</td>\n",
       "      <td>0.424051</td>\n",
       "      <td>1000.0</td>\n",
       "    </tr>\n",
       "  </tbody>\n",
       "</table>\n",
       "</div>"
      ],
      "text/plain": [
       "        iteration      n  ts_ratio_y    cs_ratio_y  ts_ratio_c    cs_ratio_c  \\\n",
       "count  100.000000  100.0       100.0  1.000000e+02       100.0  1.000000e+02   \n",
       "mean    49.500000  100.0         0.5  4.000000e-01         0.0  9.000000e-01   \n",
       "std     29.011492    0.0         0.0  7.810713e-16         0.0  7.810713e-16   \n",
       "min      0.000000  100.0         0.5  4.000000e-01         0.0  9.000000e-01   \n",
       "25%     24.750000  100.0         0.5  4.000000e-01         0.0  9.000000e-01   \n",
       "50%     49.500000  100.0         0.5  4.000000e-01         0.0  9.000000e-01   \n",
       "75%     74.250000  100.0         0.5  4.000000e-01         0.0  9.000000e-01   \n",
       "max     99.000000  100.0         0.5  4.000000e-01         0.0  9.000000e-01   \n",
       "\n",
       "       ts_ratio_yhat  cs_ratio_yhat  num_perms  res_r2_y_c  res_r2_yhat_c  \\\n",
       "count   1.000000e+02   1.000000e+02      100.0  100.000000     100.000000   \n",
       "mean    4.000000e-01   4.000000e-01     1000.0    0.385599       0.445947   \n",
       "std     7.810713e-16   7.810713e-16        0.0    0.079080       0.078298   \n",
       "min     4.000000e-01   4.000000e-01     1000.0    0.207236       0.268378   \n",
       "25%     4.000000e-01   4.000000e-01     1000.0    0.329029       0.391089   \n",
       "50%     4.000000e-01   4.000000e-01     1000.0    0.399405       0.450981   \n",
       "75%     4.000000e-01   4.000000e-01     1000.0    0.436173       0.498084   \n",
       "max     4.000000e-01   4.000000e-01     1000.0    0.556502       0.612333   \n",
       "\n",
       "       res_r2_y_yhat      res_p  res_p_ci_lower  res_p_ci_upper  res_subsample  \n",
       "count     100.000000  100.00000      100.000000      100.000000          100.0  \n",
       "mean        0.851466    0.07313        0.060035        0.088863         1000.0  \n",
       "std         0.027289    0.07339        0.066797        0.079556            0.0  \n",
       "min         0.766870    0.00000        0.000000        0.003682         1000.0  \n",
       "25%         0.834560    0.01600        0.009172        0.025853         1000.0  \n",
       "50%         0.855963    0.05600        0.042576        0.072108         1000.0  \n",
       "75%         0.869908    0.10325        0.085080        0.123792         1000.0  \n",
       "max         0.907263    0.39300        0.362581        0.424051         1000.0  "
      ]
     },
     "execution_count": 11,
     "metadata": {},
     "output_type": "execute_result"
    }
   ],
   "source": [
    "df = pd.DataFrame(results, columns = [\n",
    "                \"iteration\",       #0\n",
    "                'n',               #1\n",
    "                \"ts_ratio_y\",      #2\n",
    "                \"cs_ratio_y\",      #3\n",
    "                \"ts_ratio_c\",      #4\n",
    "                \"cs_ratio_c\",      #5\n",
    "                \"ts_ratio_yhat\",   #6\n",
    "                \"cs_ratio_yhat\",   #7\n",
    "                \"num_perms\",       #8\n",
    "                \"res_r2_y_c\",      #10\n",
    "                \"res_r2_yhat_c\",   #11\n",
    "                \"res_r2_y_yhat\",   #12\n",
    "                \"res_p\",           #13\n",
    "                \"res_p_ci_lower\",  #14\n",
    "                \"res_p_ci_upper\",  #15\n",
    "                \"res_subsample\"   #16\n",
    "        ])\n",
    "df.describe()"
   ]
  },
  {
   "cell_type": "code",
   "execution_count": null,
   "metadata": {
    "ExecuteTime": {
     "end_time": "2021-07-19T19:18:36.018388Z",
     "start_time": "2021-07-19T19:18:02.302Z"
    }
   },
   "outputs": [],
   "source": [
    "df.to_csv(\"H0_n100_tol0.01__varied_ts_ratio_yhat.csv\")"
   ]
  },
  {
   "cell_type": "code",
   "execution_count": 12,
   "metadata": {
    "ExecuteTime": {
     "end_time": "2021-07-19T20:04:58.077000Z",
     "start_time": "2021-07-19T19:56:53.166044Z"
    }
   },
   "outputs": [
    {
     "name": "stderr",
     "output_type": "stream",
     "text": [
      "Permuting: 100%|██████████| 1000/1000 [00:05<00:00, 183.11it/s]\n",
      "Permuting:   1%|          | 11/1000 [00:00<00:09, 108.31it/s]"
     ]
    },
    {
     "name": "stdout",
     "output_type": "stream",
     "text": [
      "p              : 0.0 (0, 0.003682083896865671)\n",
      "0.4266101250118913 0.49345601808219064 0.8713822155386233\n",
      "false positives: 1 out of 1\n"
     ]
    },
    {
     "name": "stderr",
     "output_type": "stream",
     "text": [
      "Permuting: 100%|██████████| 1000/1000 [00:04<00:00, 200.34it/s]\n",
      "Permuting:   1%|          | 10/1000 [00:00<00:10, 98.25it/s]"
     ]
    },
    {
     "name": "stdout",
     "output_type": "stream",
     "text": [
      "p              : 0.0 (0, 0.003682083896865671)\n",
      "0.40986480383361995 0.46098620600357554 0.8616916040493876\n",
      "false positives: 2 out of 2\n"
     ]
    },
    {
     "name": "stderr",
     "output_type": "stream",
     "text": [
      "Permuting: 100%|██████████| 1000/1000 [00:04<00:00, 203.13it/s]\n",
      "Permuting:   1%|          | 8/1000 [00:00<00:12, 79.47it/s]"
     ]
    },
    {
     "name": "stdout",
     "output_type": "stream",
     "text": [
      "p              : 0.0 (0, 0.003682083896865671)\n",
      "0.36525409679875015 0.43560028889049346 0.8576563719509387\n",
      "false positives: 3 out of 3\n"
     ]
    },
    {
     "name": "stderr",
     "output_type": "stream",
     "text": [
      "Permuting: 100%|██████████| 1000/1000 [00:04<00:00, 210.01it/s]\n",
      "Permuting:   0%|          | 5/1000 [00:00<00:20, 48.55it/s]"
     ]
    },
    {
     "name": "stdout",
     "output_type": "stream",
     "text": [
      "p              : 0.0 (0, 0.003682083896865671)\n",
      "0.37516771005289806 0.43240291524531976 0.8582336432797536\n",
      "false positives: 4 out of 4\n"
     ]
    },
    {
     "name": "stderr",
     "output_type": "stream",
     "text": [
      "Permuting: 100%|██████████| 1000/1000 [00:04<00:00, 213.46it/s]\n",
      "Permuting:   1%|          | 7/1000 [00:00<00:14, 68.24it/s]"
     ]
    },
    {
     "name": "stdout",
     "output_type": "stream",
     "text": [
      "p              : 0.0 (0, 0.003682083896865671)\n",
      "0.35525047154267664 0.4285364326240072 0.8650340048304996\n",
      "false positives: 5 out of 5\n"
     ]
    },
    {
     "name": "stderr",
     "output_type": "stream",
     "text": [
      "Permuting: 100%|██████████| 1000/1000 [00:04<00:00, 212.71it/s]\n",
      "Permuting:   0%|          | 4/1000 [00:00<00:28, 35.30it/s]"
     ]
    },
    {
     "name": "stdout",
     "output_type": "stream",
     "text": [
      "p              : 0.0 (0, 0.003682083896865671)\n",
      "0.3463653021253285 0.40957476468637144 0.8392458812064805\n",
      "false positives: 6 out of 6\n"
     ]
    },
    {
     "name": "stderr",
     "output_type": "stream",
     "text": [
      "Permuting: 100%|██████████| 1000/1000 [00:04<00:00, 208.95it/s]\n",
      "Permuting:   0%|          | 5/1000 [00:00<00:20, 49.19it/s]"
     ]
    },
    {
     "name": "stdout",
     "output_type": "stream",
     "text": [
      "p              : 0.0 (0, 0.003682083896865671)\n",
      "0.42583764495445314 0.4723807875065265 0.8701165591157192\n",
      "false positives: 7 out of 7\n"
     ]
    },
    {
     "name": "stderr",
     "output_type": "stream",
     "text": [
      "Permuting: 100%|██████████| 1000/1000 [00:04<00:00, 211.12it/s]\n",
      "Permuting:   1%|          | 6/1000 [00:00<00:16, 59.96it/s]"
     ]
    },
    {
     "name": "stdout",
     "output_type": "stream",
     "text": [
      "p              : 0.0 (0, 0.003682083896865671)\n",
      "0.4264695661172216 0.48700932977970846 0.8557179721027243\n",
      "false positives: 8 out of 8\n"
     ]
    },
    {
     "name": "stderr",
     "output_type": "stream",
     "text": [
      "Permuting: 100%|██████████| 1000/1000 [00:04<00:00, 223.70it/s]\n",
      "Permuting:   1%|▏         | 13/1000 [00:00<00:07, 129.35it/s]"
     ]
    },
    {
     "name": "stdout",
     "output_type": "stream",
     "text": [
      "p              : 0.0 (0, 0.003682083896865671)\n",
      "0.3607129012325259 0.4279416309664033 0.8707672785640987\n",
      "false positives: 9 out of 9\n"
     ]
    },
    {
     "name": "stderr",
     "output_type": "stream",
     "text": [
      "Permuting: 100%|██████████| 1000/1000 [00:04<00:00, 215.76it/s]\n",
      "Permuting:   1%|          | 10/1000 [00:00<00:10, 96.25it/s]"
     ]
    },
    {
     "name": "stdout",
     "output_type": "stream",
     "text": [
      "p              : 0.0 (0, 0.003682083896865671)\n",
      "0.425703135174947 0.4520854174569895 0.8672477046250983\n",
      "false positives: 10 out of 10\n"
     ]
    },
    {
     "name": "stderr",
     "output_type": "stream",
     "text": [
      "Permuting: 100%|██████████| 1000/1000 [00:04<00:00, 203.16it/s]\n",
      "Permuting:   0%|          | 4/1000 [00:00<00:25, 39.19it/s]"
     ]
    },
    {
     "name": "stdout",
     "output_type": "stream",
     "text": [
      "p              : 0.0 (0, 0.003682083896865671)\n",
      "0.3578032811786087 0.4287235806162085 0.8580895245504132\n",
      "false positives: 11 out of 11\n"
     ]
    },
    {
     "name": "stderr",
     "output_type": "stream",
     "text": [
      "Permuting: 100%|██████████| 1000/1000 [00:04<00:00, 214.95it/s]\n",
      "Permuting:   1%|          | 6/1000 [00:00<00:17, 58.15it/s]"
     ]
    },
    {
     "name": "stdout",
     "output_type": "stream",
     "text": [
      "p              : 0.0 (0, 0.003682083896865671)\n",
      "0.38395849100626445 0.44218847416590096 0.8615421316381583\n",
      "false positives: 12 out of 12\n"
     ]
    },
    {
     "name": "stderr",
     "output_type": "stream",
     "text": [
      "Permuting: 100%|██████████| 1000/1000 [00:04<00:00, 210.71it/s]\n",
      "Permuting:   0%|          | 5/1000 [00:00<00:20, 47.84it/s]"
     ]
    },
    {
     "name": "stdout",
     "output_type": "stream",
     "text": [
      "p              : 0.0 (0, 0.003682083896865671)\n",
      "0.3913777490388011 0.45214016978516397 0.8578489459871544\n",
      "false positives: 13 out of 13\n"
     ]
    },
    {
     "name": "stderr",
     "output_type": "stream",
     "text": [
      "Permuting: 100%|██████████| 1000/1000 [00:04<00:00, 212.96it/s]\n",
      "Permuting:   1%|          | 11/1000 [00:00<00:09, 103.64it/s]"
     ]
    },
    {
     "name": "stdout",
     "output_type": "stream",
     "text": [
      "p              : 0.0 (0, 0.003682083896865671)\n",
      "0.3465036997958333 0.4045474193709663 0.8474080003974271\n",
      "false positives: 14 out of 14\n"
     ]
    },
    {
     "name": "stderr",
     "output_type": "stream",
     "text": [
      "Permuting: 100%|██████████| 1000/1000 [00:05<00:00, 194.56it/s]\n",
      "Permuting:   1%|          | 9/1000 [00:00<00:11, 89.71it/s]"
     ]
    },
    {
     "name": "stdout",
     "output_type": "stream",
     "text": [
      "p              : 0.0 (0, 0.003682083896865671)\n",
      "0.3652164461604283 0.4221955756732632 0.8509218413501611\n",
      "false positives: 15 out of 15\n"
     ]
    },
    {
     "name": "stderr",
     "output_type": "stream",
     "text": [
      "Permuting: 100%|██████████| 1000/1000 [00:04<00:00, 211.06it/s]\n",
      "Permuting:   1%|          | 11/1000 [00:00<00:09, 105.74it/s]"
     ]
    },
    {
     "name": "stdout",
     "output_type": "stream",
     "text": [
      "p              : 0.0 (0, 0.003682083896865671)\n",
      "0.3984990635793031 0.46116950057141265 0.8404905649462328\n",
      "false positives: 16 out of 16\n"
     ]
    },
    {
     "name": "stderr",
     "output_type": "stream",
     "text": [
      "Permuting: 100%|██████████| 1000/1000 [00:05<00:00, 194.13it/s]\n",
      "Permuting:   1%|          | 7/1000 [00:00<00:14, 68.11it/s]"
     ]
    },
    {
     "name": "stdout",
     "output_type": "stream",
     "text": [
      "p              : 0.0 (0, 0.003682083896865671)\n",
      "0.385597915096997 0.4466955570782292 0.8550048560683293\n",
      "false positives: 17 out of 17\n"
     ]
    },
    {
     "name": "stderr",
     "output_type": "stream",
     "text": [
      "Permuting: 100%|██████████| 1000/1000 [00:06<00:00, 157.74it/s]\n",
      "Permuting:   0%|          | 4/1000 [00:00<00:25, 39.29it/s]"
     ]
    },
    {
     "name": "stdout",
     "output_type": "stream",
     "text": [
      "p              : 0.0 (0, 0.003682083896865671)\n",
      "0.38245283858440793 0.4596851524132589 0.8560447663179587\n",
      "false positives: 18 out of 18\n"
     ]
    },
    {
     "name": "stderr",
     "output_type": "stream",
     "text": [
      "Permuting: 100%|██████████| 1000/1000 [00:05<00:00, 199.44it/s]\n",
      "Permuting:   0%|          | 3/1000 [00:00<00:33, 29.77it/s]"
     ]
    },
    {
     "name": "stdout",
     "output_type": "stream",
     "text": [
      "p              : 0.0 (0, 0.003682083896865671)\n",
      "0.36290030632415243 0.4239093071491172 0.8534331913282927\n",
      "false positives: 19 out of 19\n"
     ]
    },
    {
     "name": "stderr",
     "output_type": "stream",
     "text": [
      "Permuting: 100%|██████████| 1000/1000 [00:05<00:00, 189.86it/s]\n",
      "Permuting:   1%|          | 7/1000 [00:00<00:14, 69.51it/s]"
     ]
    },
    {
     "name": "stdout",
     "output_type": "stream",
     "text": [
      "p              : 0.0 (0, 0.003682083896865671)\n",
      "0.3377357796904506 0.41534821271047967 0.845554004808971\n",
      "false positives: 20 out of 20\n"
     ]
    },
    {
     "name": "stderr",
     "output_type": "stream",
     "text": [
      "Permuting: 100%|██████████| 1000/1000 [00:04<00:00, 205.52it/s]\n",
      "Permuting:   0%|          | 5/1000 [00:00<00:20, 48.31it/s]"
     ]
    },
    {
     "name": "stdout",
     "output_type": "stream",
     "text": [
      "p              : 0.0 (0, 0.003682083896865671)\n",
      "0.3545932048461055 0.40894783641042326 0.8576545694812506\n",
      "false positives: 21 out of 21\n"
     ]
    },
    {
     "name": "stderr",
     "output_type": "stream",
     "text": [
      "Permuting: 100%|██████████| 1000/1000 [00:04<00:00, 211.34it/s]\n",
      "Permuting:   0%|          | 5/1000 [00:00<00:20, 47.78it/s]"
     ]
    },
    {
     "name": "stdout",
     "output_type": "stream",
     "text": [
      "p              : 0.0 (0, 0.003682083896865671)\n",
      "0.4004020795311661 0.4719527788151434 0.850315256616736\n",
      "false positives: 22 out of 22\n"
     ]
    },
    {
     "name": "stderr",
     "output_type": "stream",
     "text": [
      "Permuting: 100%|██████████| 1000/1000 [00:05<00:00, 184.29it/s]\n",
      "Permuting:   1%|          | 11/1000 [00:00<00:09, 109.36it/s]"
     ]
    },
    {
     "name": "stdout",
     "output_type": "stream",
     "text": [
      "p              : 0.0 (0, 0.003682083896865671)\n",
      "0.3339270900112066 0.38525679003091334 0.8411625986619736\n",
      "false positives: 23 out of 23\n"
     ]
    },
    {
     "name": "stderr",
     "output_type": "stream",
     "text": [
      "Permuting: 100%|██████████| 1000/1000 [00:04<00:00, 215.37it/s]\n",
      "Permuting:   1%|          | 10/1000 [00:00<00:10, 96.76it/s]"
     ]
    },
    {
     "name": "stdout",
     "output_type": "stream",
     "text": [
      "p              : 0.0 (0, 0.003682083896865671)\n",
      "0.3892067016892234 0.44185325280752075 0.8626867736142252\n",
      "false positives: 24 out of 24\n"
     ]
    },
    {
     "name": "stderr",
     "output_type": "stream",
     "text": [
      "Permuting: 100%|██████████| 1000/1000 [00:05<00:00, 197.55it/s]\n",
      "Permuting:   0%|          | 5/1000 [00:00<00:20, 47.81it/s]"
     ]
    },
    {
     "name": "stdout",
     "output_type": "stream",
     "text": [
      "p              : 0.0 (0, 0.003682083896865671)\n",
      "0.3433190642971435 0.4257772745891717 0.8498675713724534\n",
      "false positives: 25 out of 25\n"
     ]
    },
    {
     "name": "stderr",
     "output_type": "stream",
     "text": [
      "Permuting: 100%|██████████| 1000/1000 [00:04<00:00, 210.07it/s]\n",
      "Permuting:   0%|          | 5/1000 [00:00<00:20, 49.54it/s]"
     ]
    },
    {
     "name": "stdout",
     "output_type": "stream",
     "text": [
      "p              : 0.0 (0, 0.003682083896865671)\n",
      "0.39414020060211713 0.47082502927013703 0.8586899091588841\n",
      "false positives: 26 out of 26\n"
     ]
    },
    {
     "name": "stderr",
     "output_type": "stream",
     "text": [
      "Permuting: 100%|██████████| 1000/1000 [00:04<00:00, 202.83it/s]\n",
      "Permuting:   1%|          | 8/1000 [00:00<00:13, 74.87it/s]"
     ]
    },
    {
     "name": "stdout",
     "output_type": "stream",
     "text": [
      "p              : 0.0 (0, 0.003682083896865671)\n",
      "0.4063366693366412 0.47356507717077917 0.8633635434273497\n",
      "false positives: 27 out of 27\n"
     ]
    },
    {
     "name": "stderr",
     "output_type": "stream",
     "text": [
      "Permuting: 100%|██████████| 1000/1000 [00:04<00:00, 216.34it/s]\n",
      "Permuting:   1%|          | 7/1000 [00:00<00:14, 67.74it/s]"
     ]
    },
    {
     "name": "stdout",
     "output_type": "stream",
     "text": [
      "p              : 0.0 (0, 0.003682083896865671)\n",
      "0.3712105741081911 0.4213417367250223 0.8675889559734338\n",
      "false positives: 28 out of 28\n"
     ]
    },
    {
     "name": "stderr",
     "output_type": "stream",
     "text": [
      "Permuting: 100%|██████████| 1000/1000 [00:04<00:00, 215.30it/s]\n",
      "Permuting:   1%|          | 8/1000 [00:00<00:12, 77.71it/s]"
     ]
    },
    {
     "name": "stdout",
     "output_type": "stream",
     "text": [
      "p              : 0.0 (0, 0.003682083896865671)\n",
      "0.3518171085934994 0.4153935918441811 0.8496920409557271\n",
      "false positives: 29 out of 29\n"
     ]
    },
    {
     "name": "stderr",
     "output_type": "stream",
     "text": [
      "Permuting: 100%|██████████| 1000/1000 [00:04<00:00, 221.38it/s]\n",
      "Permuting:   1%|          | 6/1000 [00:00<00:16, 59.58it/s]"
     ]
    },
    {
     "name": "stdout",
     "output_type": "stream",
     "text": [
      "p              : 0.0 (0, 0.003682083896865671)\n",
      "0.37387225432510474 0.4207202999416315 0.8673582487031561\n",
      "false positives: 30 out of 30\n"
     ]
    },
    {
     "name": "stderr",
     "output_type": "stream",
     "text": [
      "Permuting: 100%|██████████| 1000/1000 [00:04<00:00, 210.75it/s]\n",
      "Permuting:   1%|          | 11/1000 [00:00<00:09, 109.57it/s]"
     ]
    },
    {
     "name": "stdout",
     "output_type": "stream",
     "text": [
      "p              : 0.0 (0, 0.003682083896865671)\n",
      "0.37572236998381103 0.41294949853218593 0.8642195771601265\n",
      "false positives: 31 out of 31\n"
     ]
    },
    {
     "name": "stderr",
     "output_type": "stream",
     "text": [
      "Permuting: 100%|██████████| 1000/1000 [00:04<00:00, 216.31it/s]\n",
      "Permuting:   1%|          | 8/1000 [00:00<00:12, 76.53it/s]"
     ]
    },
    {
     "name": "stdout",
     "output_type": "stream",
     "text": [
      "p              : 0.0 (0, 0.003682083896865671)\n",
      "0.3743604657186847 0.4228888398953197 0.8662713894149813\n",
      "false positives: 32 out of 32\n"
     ]
    },
    {
     "name": "stderr",
     "output_type": "stream",
     "text": [
      "Permuting: 100%|██████████| 1000/1000 [00:04<00:00, 215.04it/s]\n",
      "Permuting:   1%|          | 12/1000 [00:00<00:08, 115.18it/s]"
     ]
    },
    {
     "name": "stdout",
     "output_type": "stream",
     "text": [
      "p              : 0.0 (0, 0.003682083896865671)\n",
      "0.38898948704264025 0.44487226920211875 0.8632970015402004\n",
      "false positives: 33 out of 33\n"
     ]
    },
    {
     "name": "stderr",
     "output_type": "stream",
     "text": [
      "Permuting: 100%|██████████| 1000/1000 [00:04<00:00, 206.68it/s]\n",
      "Permuting:   0%|          | 5/1000 [00:00<00:19, 49.95it/s]"
     ]
    },
    {
     "name": "stdout",
     "output_type": "stream",
     "text": [
      "p              : 0.0 (0, 0.003682083896865671)\n",
      "0.3681214243040327 0.44642464683857946 0.8520777157190039\n",
      "false positives: 34 out of 34\n"
     ]
    },
    {
     "name": "stderr",
     "output_type": "stream",
     "text": [
      "Permuting: 100%|██████████| 1000/1000 [00:04<00:00, 213.39it/s]\n",
      "Permuting:   1%|▏         | 13/1000 [00:00<00:07, 125.84it/s]"
     ]
    },
    {
     "name": "stdout",
     "output_type": "stream",
     "text": [
      "p              : 0.0 (0, 0.003682083896865671)\n",
      "0.3718434956039817 0.4303161039380765 0.8514098975820875\n",
      "false positives: 35 out of 35\n"
     ]
    },
    {
     "name": "stderr",
     "output_type": "stream",
     "text": [
      "Permuting: 100%|██████████| 1000/1000 [00:04<00:00, 207.16it/s]\n",
      "Permuting:   1%|          | 7/1000 [00:00<00:14, 67.84it/s]"
     ]
    },
    {
     "name": "stdout",
     "output_type": "stream",
     "text": [
      "p              : 0.0 (0, 0.003682083896865671)\n",
      "0.38662704685246285 0.44964961042214896 0.8426722564308188\n",
      "false positives: 36 out of 36\n"
     ]
    },
    {
     "name": "stderr",
     "output_type": "stream",
     "text": [
      "Permuting: 100%|██████████| 1000/1000 [00:05<00:00, 185.93it/s]\n",
      "Permuting:   1%|          | 7/1000 [00:00<00:14, 68.14it/s]"
     ]
    },
    {
     "name": "stdout",
     "output_type": "stream",
     "text": [
      "p              : 0.0 (0, 0.003682083896865671)\n",
      "0.41404501719578407 0.4823852794966983 0.8515361251028496\n",
      "false positives: 37 out of 37\n"
     ]
    },
    {
     "name": "stderr",
     "output_type": "stream",
     "text": [
      "Permuting: 100%|██████████| 1000/1000 [00:04<00:00, 201.67it/s]\n",
      "Permuting:   1%|          | 9/1000 [00:00<00:11, 88.66it/s]"
     ]
    },
    {
     "name": "stdout",
     "output_type": "stream",
     "text": [
      "p              : 0.0 (0, 0.003682083896865671)\n",
      "0.3980443084425285 0.48054614764112424 0.854416050342331\n",
      "false positives: 38 out of 38\n"
     ]
    },
    {
     "name": "stderr",
     "output_type": "stream",
     "text": [
      "Permuting: 100%|██████████| 1000/1000 [00:04<00:00, 215.36it/s]\n",
      "Permuting:   1%|▏         | 13/1000 [00:00<00:08, 118.87it/s]"
     ]
    },
    {
     "name": "stdout",
     "output_type": "stream",
     "text": [
      "p              : 0.0 (0, 0.003682083896865671)\n",
      "0.4382045143924044 0.5014193689557155 0.8620852860583422\n",
      "false positives: 39 out of 39\n"
     ]
    },
    {
     "name": "stderr",
     "output_type": "stream",
     "text": [
      "Permuting: 100%|██████████| 1000/1000 [00:04<00:00, 205.86it/s]\n",
      "Permuting:   0%|          | 4/1000 [00:00<00:25, 39.19it/s]"
     ]
    },
    {
     "name": "stdout",
     "output_type": "stream",
     "text": [
      "p              : 0.0 (0, 0.003682083896865671)\n",
      "0.3582251247219038 0.41141665321179977 0.8555229833898544\n",
      "false positives: 40 out of 40\n"
     ]
    },
    {
     "name": "stderr",
     "output_type": "stream",
     "text": [
      "Permuting: 100%|██████████| 1000/1000 [00:04<00:00, 221.07it/s]\n",
      "Permuting:   1%|          | 12/1000 [00:00<00:08, 113.09it/s]"
     ]
    },
    {
     "name": "stdout",
     "output_type": "stream",
     "text": [
      "p              : 0.0 (0, 0.003682083896865671)\n",
      "0.39097051225003826 0.4603819601629808 0.8642195937708045\n",
      "false positives: 41 out of 41\n"
     ]
    },
    {
     "name": "stderr",
     "output_type": "stream",
     "text": [
      "Permuting: 100%|██████████| 1000/1000 [00:04<00:00, 213.81it/s]\n",
      "Permuting:   1%|          | 12/1000 [00:00<00:09, 99.99it/s]"
     ]
    },
    {
     "name": "stdout",
     "output_type": "stream",
     "text": [
      "p              : 0.0 (0, 0.003682083896865671)\n",
      "0.38065205112448397 0.430437773619447 0.8805394615033011\n",
      "false positives: 42 out of 42\n"
     ]
    },
    {
     "name": "stderr",
     "output_type": "stream",
     "text": [
      "Permuting: 100%|██████████| 1000/1000 [00:04<00:00, 217.33it/s]\n",
      "Permuting:   1%|▏         | 14/1000 [00:00<00:07, 130.49it/s]"
     ]
    },
    {
     "name": "stdout",
     "output_type": "stream",
     "text": [
      "p              : 0.0 (0, 0.003682083896865671)\n",
      "0.3847344748059313 0.4526959640117639 0.8567062826373855\n",
      "false positives: 43 out of 43\n"
     ]
    },
    {
     "name": "stderr",
     "output_type": "stream",
     "text": [
      "Permuting: 100%|██████████| 1000/1000 [00:04<00:00, 210.52it/s]\n",
      "Permuting:   1%|          | 11/1000 [00:00<00:08, 109.90it/s]"
     ]
    },
    {
     "name": "stdout",
     "output_type": "stream",
     "text": [
      "p              : 0.0 (0, 0.003682083896865671)\n",
      "0.3504725575659239 0.42018147402119865 0.8629553609267734\n",
      "false positives: 44 out of 44\n"
     ]
    },
    {
     "name": "stderr",
     "output_type": "stream",
     "text": [
      "Permuting: 100%|██████████| 1000/1000 [00:04<00:00, 210.31it/s]\n",
      "Permuting:   1%|          | 10/1000 [00:00<00:10, 96.91it/s]"
     ]
    },
    {
     "name": "stdout",
     "output_type": "stream",
     "text": [
      "p              : 0.0 (0, 0.003682083896865671)\n",
      "0.343051769175487 0.4199386576678951 0.8409341579519299\n",
      "false positives: 45 out of 45\n"
     ]
    },
    {
     "name": "stderr",
     "output_type": "stream",
     "text": [
      "Permuting: 100%|██████████| 1000/1000 [00:04<00:00, 206.09it/s]\n",
      "Permuting:   1%|          | 8/1000 [00:00<00:12, 76.98it/s]"
     ]
    },
    {
     "name": "stdout",
     "output_type": "stream",
     "text": [
      "p              : 0.0 (0, 0.003682083896865671)\n",
      "0.3504143952076668 0.4091641452898239 0.8510418907121173\n",
      "false positives: 46 out of 46\n"
     ]
    },
    {
     "name": "stderr",
     "output_type": "stream",
     "text": [
      "Permuting: 100%|██████████| 1000/1000 [00:04<00:00, 211.41it/s]\n",
      "Permuting:   0%|          | 5/1000 [00:00<00:21, 45.81it/s]"
     ]
    },
    {
     "name": "stdout",
     "output_type": "stream",
     "text": [
      "p              : 0.0 (0, 0.003682083896865671)\n",
      "0.3765009183152808 0.41990801951599055 0.8470014829314266\n",
      "false positives: 47 out of 47\n"
     ]
    },
    {
     "name": "stderr",
     "output_type": "stream",
     "text": [
      "Permuting: 100%|██████████| 1000/1000 [00:05<00:00, 199.47it/s]\n",
      "Permuting:   1%|          | 8/1000 [00:00<00:12, 78.04it/s]"
     ]
    },
    {
     "name": "stdout",
     "output_type": "stream",
     "text": [
      "p              : 0.0 (0, 0.003682083896865671)\n",
      "0.39746423823374327 0.44967327532996537 0.8527594406333275\n",
      "false positives: 48 out of 48\n"
     ]
    },
    {
     "name": "stderr",
     "output_type": "stream",
     "text": [
      "Permuting: 100%|██████████| 1000/1000 [00:04<00:00, 222.30it/s]\n",
      "Permuting:   0%|          | 2/1000 [00:00<00:49, 19.96it/s]"
     ]
    },
    {
     "name": "stdout",
     "output_type": "stream",
     "text": [
      "p              : 0.0 (0, 0.003682083896865671)\n",
      "0.34895670581021754 0.408235197019626 0.8554280198115508\n",
      "false positives: 49 out of 49\n"
     ]
    },
    {
     "name": "stderr",
     "output_type": "stream",
     "text": [
      "Permuting: 100%|██████████| 1000/1000 [00:04<00:00, 213.75it/s]\n",
      "Permuting:   1%|          | 12/1000 [00:00<00:08, 119.30it/s]"
     ]
    },
    {
     "name": "stdout",
     "output_type": "stream",
     "text": [
      "p              : 0.0 (0, 0.003682083896865671)\n",
      "0.40022820612550586 0.4522470283996089 0.850383622076464\n",
      "false positives: 50 out of 50\n"
     ]
    },
    {
     "name": "stderr",
     "output_type": "stream",
     "text": [
      "Permuting: 100%|██████████| 1000/1000 [00:04<00:00, 205.36it/s]\n",
      "Permuting:   0%|          | 0/1000 [00:00<?, ?it/s]"
     ]
    },
    {
     "name": "stdout",
     "output_type": "stream",
     "text": [
      "p              : 0.0 (0, 0.003682083896865671)\n",
      "0.3940833498227756 0.4529817066938133 0.8541139972328582\n",
      "false positives: 51 out of 51\n"
     ]
    },
    {
     "name": "stderr",
     "output_type": "stream",
     "text": [
      "Permuting: 100%|██████████| 1000/1000 [00:04<00:00, 200.44it/s]\n",
      "Permuting:   1%|          | 8/1000 [00:00<00:12, 78.40it/s]"
     ]
    },
    {
     "name": "stdout",
     "output_type": "stream",
     "text": [
      "p              : 0.0 (0, 0.003682083896865671)\n",
      "0.36593132814906 0.4316527059843614 0.8670400849170419\n",
      "false positives: 52 out of 52\n"
     ]
    },
    {
     "name": "stderr",
     "output_type": "stream",
     "text": [
      "Permuting: 100%|██████████| 1000/1000 [00:04<00:00, 211.33it/s]\n",
      "Permuting:   1%|          | 8/1000 [00:00<00:12, 79.55it/s]"
     ]
    },
    {
     "name": "stdout",
     "output_type": "stream",
     "text": [
      "p              : 0.0 (0, 0.003682083896865671)\n",
      "0.41279115051122445 0.47014498852517356 0.8672535628266332\n",
      "false positives: 53 out of 53\n"
     ]
    },
    {
     "name": "stderr",
     "output_type": "stream",
     "text": [
      "Permuting: 100%|██████████| 1000/1000 [00:04<00:00, 208.93it/s]\n",
      "Permuting:   1%|          | 11/1000 [00:00<00:09, 101.89it/s]"
     ]
    },
    {
     "name": "stdout",
     "output_type": "stream",
     "text": [
      "p              : 0.0 (0, 0.003682083896865671)\n",
      "0.37199607582233774 0.4209769629925035 0.8568016202024117\n",
      "false positives: 54 out of 54\n"
     ]
    },
    {
     "name": "stderr",
     "output_type": "stream",
     "text": [
      "Permuting: 100%|██████████| 1000/1000 [00:04<00:00, 232.59it/s]\n",
      "Permuting:   1%|▏         | 13/1000 [00:00<00:07, 127.27it/s]"
     ]
    },
    {
     "name": "stdout",
     "output_type": "stream",
     "text": [
      "p              : 0.0 (0, 0.003682083896865671)\n",
      "0.3420301848814464 0.41641086360804874 0.8543865750825649\n",
      "false positives: 55 out of 55\n"
     ]
    },
    {
     "name": "stderr",
     "output_type": "stream",
     "text": [
      "Permuting: 100%|██████████| 1000/1000 [00:04<00:00, 212.97it/s]\n",
      "Permuting:   1%|          | 9/1000 [00:00<00:12, 79.75it/s]"
     ]
    },
    {
     "name": "stdout",
     "output_type": "stream",
     "text": [
      "p              : 0.0 (0, 0.003682083896865671)\n",
      "0.3751465891024071 0.44075966348181816 0.8498012671970557\n",
      "false positives: 56 out of 56\n"
     ]
    },
    {
     "name": "stderr",
     "output_type": "stream",
     "text": [
      "Permuting: 100%|██████████| 1000/1000 [00:04<00:00, 217.30it/s]\n",
      "Permuting:   1%|          | 11/1000 [00:00<00:09, 107.65it/s]"
     ]
    },
    {
     "name": "stdout",
     "output_type": "stream",
     "text": [
      "p              : 0.0 (0, 0.003682083896865671)\n",
      "0.37936737290313766 0.4657719665886655 0.8647111957028067\n",
      "false positives: 57 out of 57\n"
     ]
    },
    {
     "name": "stderr",
     "output_type": "stream",
     "text": [
      "Permuting: 100%|██████████| 1000/1000 [00:04<00:00, 212.32it/s]\n",
      "Permuting:   1%|          | 7/1000 [00:00<00:14, 68.81it/s]"
     ]
    },
    {
     "name": "stdout",
     "output_type": "stream",
     "text": [
      "p              : 0.0 (0, 0.003682083896865671)\n",
      "0.3776393302154562 0.42626469415769513 0.8592249788974882\n",
      "false positives: 58 out of 58\n"
     ]
    },
    {
     "name": "stderr",
     "output_type": "stream",
     "text": [
      "Permuting: 100%|██████████| 1000/1000 [00:04<00:00, 215.76it/s]\n",
      "Permuting:   1%|          | 7/1000 [00:00<00:14, 69.10it/s]"
     ]
    },
    {
     "name": "stdout",
     "output_type": "stream",
     "text": [
      "p              : 0.0 (0, 0.003682083896865671)\n",
      "0.37717753422061806 0.41856041769691843 0.8569275044617259\n",
      "false positives: 59 out of 59\n"
     ]
    },
    {
     "name": "stderr",
     "output_type": "stream",
     "text": [
      "Permuting: 100%|██████████| 1000/1000 [00:04<00:00, 209.16it/s]\n",
      "Permuting:   1%|          | 7/1000 [00:00<00:14, 67.83it/s]"
     ]
    },
    {
     "name": "stdout",
     "output_type": "stream",
     "text": [
      "p              : 0.0 (0, 0.003682083896865671)\n",
      "0.39978599506666257 0.4563787901818782 0.8573434421156887\n",
      "false positives: 60 out of 60\n"
     ]
    },
    {
     "name": "stderr",
     "output_type": "stream",
     "text": [
      "Permuting: 100%|██████████| 1000/1000 [00:04<00:00, 215.60it/s]\n",
      "Permuting:   1%|          | 8/1000 [00:00<00:12, 78.00it/s]"
     ]
    },
    {
     "name": "stdout",
     "output_type": "stream",
     "text": [
      "p              : 0.0 (0, 0.003682083896865671)\n",
      "0.3950535125136108 0.45659900295078887 0.861505775680785\n",
      "false positives: 61 out of 61\n"
     ]
    },
    {
     "name": "stderr",
     "output_type": "stream",
     "text": [
      "Permuting: 100%|██████████| 1000/1000 [00:04<00:00, 209.76it/s]\n",
      "Permuting:   1%|          | 11/1000 [00:00<00:08, 109.89it/s]"
     ]
    },
    {
     "name": "stdout",
     "output_type": "stream",
     "text": [
      "p              : 0.0 (0, 0.003682083896865671)\n",
      "0.38689524170122963 0.45713008981178244 0.86631354331252\n",
      "false positives: 62 out of 62\n"
     ]
    },
    {
     "name": "stderr",
     "output_type": "stream",
     "text": [
      "Permuting: 100%|██████████| 1000/1000 [00:04<00:00, 209.78it/s]\n",
      "Permuting:   1%|          | 9/1000 [00:00<00:11, 88.19it/s]"
     ]
    },
    {
     "name": "stdout",
     "output_type": "stream",
     "text": [
      "p              : 0.0 (0, 0.003682083896865671)\n",
      "0.41031272183585715 0.49016750862983793 0.862987093689758\n",
      "false positives: 63 out of 63\n"
     ]
    },
    {
     "name": "stderr",
     "output_type": "stream",
     "text": [
      "Permuting: 100%|██████████| 1000/1000 [00:04<00:00, 215.16it/s]\n",
      "Permuting:   1%|          | 10/1000 [00:00<00:09, 99.42it/s]"
     ]
    },
    {
     "name": "stdout",
     "output_type": "stream",
     "text": [
      "p              : 0.0 (0, 0.003682083896865671)\n",
      "0.34999069825992385 0.41398113907426987 0.8514990777122876\n",
      "false positives: 64 out of 64\n"
     ]
    },
    {
     "name": "stderr",
     "output_type": "stream",
     "text": [
      "Permuting: 100%|██████████| 1000/1000 [00:04<00:00, 218.42it/s]\n",
      "Permuting:   0%|          | 5/1000 [00:00<00:21, 46.33it/s]"
     ]
    },
    {
     "name": "stdout",
     "output_type": "stream",
     "text": [
      "p              : 0.0 (0, 0.003682083896865671)\n",
      "0.36671018674756284 0.4369398615066916 0.8443719043954294\n",
      "false positives: 65 out of 65\n"
     ]
    },
    {
     "name": "stderr",
     "output_type": "stream",
     "text": [
      "Permuting: 100%|██████████| 1000/1000 [00:04<00:00, 209.94it/s]\n",
      "Permuting:   1%|          | 9/1000 [00:00<00:11, 89.57it/s]"
     ]
    },
    {
     "name": "stdout",
     "output_type": "stream",
     "text": [
      "p              : 0.0 (0, 0.003682083896865671)\n",
      "0.37225937798195197 0.45540941402483565 0.8748781199072257\n",
      "false positives: 66 out of 66\n"
     ]
    },
    {
     "name": "stderr",
     "output_type": "stream",
     "text": [
      "Permuting: 100%|██████████| 1000/1000 [00:04<00:00, 211.85it/s]\n",
      "Permuting:   1%|          | 9/1000 [00:00<00:11, 89.30it/s]"
     ]
    },
    {
     "name": "stdout",
     "output_type": "stream",
     "text": [
      "p              : 0.0 (0, 0.003682083896865671)\n",
      "0.3961108146700778 0.46062316676480763 0.8586795453366777\n",
      "false positives: 67 out of 67\n"
     ]
    },
    {
     "name": "stderr",
     "output_type": "stream",
     "text": [
      "Permuting: 100%|██████████| 1000/1000 [00:04<00:00, 210.46it/s]\n",
      "Permuting:   1%|          | 6/1000 [00:00<00:16, 59.35it/s]"
     ]
    },
    {
     "name": "stdout",
     "output_type": "stream",
     "text": [
      "p              : 0.0 (0, 0.003682083896865671)\n",
      "0.3830837096515687 0.45427089624667943 0.8615860836531427\n",
      "false positives: 68 out of 68\n"
     ]
    },
    {
     "name": "stderr",
     "output_type": "stream",
     "text": [
      "Permuting: 100%|██████████| 1000/1000 [00:04<00:00, 213.97it/s]\n",
      "Permuting:   1%|          | 6/1000 [00:00<00:16, 59.92it/s]"
     ]
    },
    {
     "name": "stdout",
     "output_type": "stream",
     "text": [
      "p              : 0.0 (0, 0.003682083896865671)\n",
      "0.3880369257030539 0.4386727601338267 0.8611241111519842\n",
      "false positives: 69 out of 69\n"
     ]
    },
    {
     "name": "stderr",
     "output_type": "stream",
     "text": [
      "Permuting: 100%|██████████| 1000/1000 [00:04<00:00, 213.37it/s]\n",
      "Permuting:   1%|          | 12/1000 [00:00<00:08, 116.75it/s]"
     ]
    },
    {
     "name": "stdout",
     "output_type": "stream",
     "text": [
      "p              : 0.0 (0, 0.003682083896865671)\n",
      "0.3587829842974408 0.40750135897602546 0.8414223827212186\n",
      "false positives: 70 out of 70\n"
     ]
    },
    {
     "name": "stderr",
     "output_type": "stream",
     "text": [
      "Permuting: 100%|██████████| 1000/1000 [00:04<00:00, 212.31it/s]\n",
      "Permuting:   1%|          | 9/1000 [00:00<00:11, 88.09it/s]"
     ]
    },
    {
     "name": "stdout",
     "output_type": "stream",
     "text": [
      "p              : 0.0 (0, 0.003682083896865671)\n",
      "0.43430357270709713 0.48797665170627263 0.8712620546998103\n",
      "false positives: 71 out of 71\n"
     ]
    },
    {
     "name": "stderr",
     "output_type": "stream",
     "text": [
      "Permuting: 100%|██████████| 1000/1000 [00:04<00:00, 212.51it/s]\n",
      "Permuting:   1%|          | 11/1000 [00:00<00:09, 104.30it/s]"
     ]
    },
    {
     "name": "stdout",
     "output_type": "stream",
     "text": [
      "p              : 0.0 (0, 0.003682083896865671)\n",
      "0.4280855206595399 0.45265934822081416 0.867035033634966\n",
      "false positives: 72 out of 72\n"
     ]
    },
    {
     "name": "stderr",
     "output_type": "stream",
     "text": [
      "Permuting: 100%|██████████| 1000/1000 [00:04<00:00, 200.17it/s]\n",
      "Permuting:   1%|          | 12/1000 [00:00<00:08, 118.85it/s]"
     ]
    },
    {
     "name": "stdout",
     "output_type": "stream",
     "text": [
      "p              : 0.0 (0, 0.003682083896865671)\n",
      "0.3753413204779641 0.419767364197002 0.8678861927168726\n",
      "false positives: 73 out of 73\n"
     ]
    },
    {
     "name": "stderr",
     "output_type": "stream",
     "text": [
      "Permuting: 100%|██████████| 1000/1000 [00:04<00:00, 207.07it/s]\n",
      "Permuting:   2%|▏         | 16/1000 [00:00<00:09, 106.76it/s]"
     ]
    },
    {
     "name": "stdout",
     "output_type": "stream",
     "text": [
      "p              : 0.0 (0, 0.003682083896865671)\n",
      "0.37475304106380253 0.42147040399849467 0.8617176882741906\n",
      "false positives: 74 out of 74\n"
     ]
    },
    {
     "name": "stderr",
     "output_type": "stream",
     "text": [
      "Permuting: 100%|██████████| 1000/1000 [00:04<00:00, 219.44it/s]\n",
      "Permuting:   1%|          | 10/1000 [00:00<00:09, 99.34it/s]"
     ]
    },
    {
     "name": "stdout",
     "output_type": "stream",
     "text": [
      "p              : 0.0 (0, 0.003682083896865671)\n",
      "0.36219278103045266 0.4288564491101934 0.8627485684440017\n",
      "false positives: 75 out of 75\n"
     ]
    },
    {
     "name": "stderr",
     "output_type": "stream",
     "text": [
      "Permuting: 100%|██████████| 1000/1000 [00:04<00:00, 215.62it/s]\n",
      "Permuting:   1%|          | 6/1000 [00:00<00:17, 58.46it/s]"
     ]
    },
    {
     "name": "stdout",
     "output_type": "stream",
     "text": [
      "p              : 0.0 (0, 0.003682083896865671)\n",
      "0.3736413276108095 0.42918064246589643 0.8570210584817444\n",
      "false positives: 76 out of 76\n"
     ]
    },
    {
     "name": "stderr",
     "output_type": "stream",
     "text": [
      "Permuting: 100%|██████████| 1000/1000 [00:04<00:00, 207.10it/s]\n",
      "Permuting:   1%|          | 6/1000 [00:00<00:16, 58.68it/s]"
     ]
    },
    {
     "name": "stdout",
     "output_type": "stream",
     "text": [
      "p              : 0.0 (0, 0.003682083896865671)\n",
      "0.3897234223335158 0.4461358075592138 0.856577193873567\n",
      "false positives: 77 out of 77\n"
     ]
    },
    {
     "name": "stderr",
     "output_type": "stream",
     "text": [
      "Permuting: 100%|██████████| 1000/1000 [00:04<00:00, 218.06it/s]\n",
      "Permuting:   1%|          | 7/1000 [00:00<00:14, 68.01it/s]"
     ]
    },
    {
     "name": "stdout",
     "output_type": "stream",
     "text": [
      "p              : 0.0 (0, 0.003682083896865671)\n",
      "0.3950769523368319 0.44925985453702627 0.8547362549751604\n",
      "false positives: 78 out of 78\n"
     ]
    },
    {
     "name": "stderr",
     "output_type": "stream",
     "text": [
      "Permuting: 100%|██████████| 1000/1000 [00:04<00:00, 212.84it/s]\n",
      "Permuting:   1%|          | 12/1000 [00:00<00:09, 102.97it/s]"
     ]
    },
    {
     "name": "stdout",
     "output_type": "stream",
     "text": [
      "p              : 0.0 (0, 0.003682083896865671)\n",
      "0.3985424799713165 0.4523015421228452 0.8502559350970043\n",
      "false positives: 79 out of 79\n"
     ]
    },
    {
     "name": "stderr",
     "output_type": "stream",
     "text": [
      "Permuting: 100%|██████████| 1000/1000 [00:04<00:00, 213.45it/s]\n",
      "Permuting:   1%|          | 10/1000 [00:00<00:10, 97.42it/s]"
     ]
    },
    {
     "name": "stdout",
     "output_type": "stream",
     "text": [
      "p              : 0.0 (0, 0.003682083896865671)\n",
      "0.34613356666612644 0.40926140651496806 0.8603865314993244\n",
      "false positives: 80 out of 80\n"
     ]
    },
    {
     "name": "stderr",
     "output_type": "stream",
     "text": [
      "Permuting: 100%|██████████| 1000/1000 [00:04<00:00, 208.15it/s]\n",
      "Permuting:   1%|          | 6/1000 [00:00<00:16, 58.86it/s]"
     ]
    },
    {
     "name": "stdout",
     "output_type": "stream",
     "text": [
      "p              : 0.0 (0, 0.003682083896865671)\n",
      "0.33226416526389896 0.4212410728593961 0.8474430088589263\n",
      "false positives: 81 out of 81\n"
     ]
    },
    {
     "name": "stderr",
     "output_type": "stream",
     "text": [
      "Permuting: 100%|██████████| 1000/1000 [00:04<00:00, 210.83it/s]\n",
      "Permuting:   1%|          | 6/1000 [00:00<00:16, 58.80it/s]"
     ]
    },
    {
     "name": "stdout",
     "output_type": "stream",
     "text": [
      "p              : 0.0 (0, 0.003682083896865671)\n",
      "0.38099406671809183 0.4413347230054693 0.8600227594759801\n",
      "false positives: 82 out of 82\n"
     ]
    },
    {
     "name": "stderr",
     "output_type": "stream",
     "text": [
      "Permuting: 100%|██████████| 1000/1000 [00:04<00:00, 214.02it/s]\n",
      "Permuting:   1%|          | 8/1000 [00:00<00:12, 77.88it/s]"
     ]
    },
    {
     "name": "stdout",
     "output_type": "stream",
     "text": [
      "p              : 0.0 (0, 0.003682083896865671)\n",
      "0.36318784451634284 0.43266569383899406 0.8410160953429134\n",
      "false positives: 83 out of 83\n"
     ]
    },
    {
     "name": "stderr",
     "output_type": "stream",
     "text": [
      "Permuting: 100%|██████████| 1000/1000 [00:04<00:00, 202.74it/s]\n",
      "Permuting:   1%|          | 11/1000 [00:00<00:09, 104.41it/s]"
     ]
    },
    {
     "name": "stdout",
     "output_type": "stream",
     "text": [
      "p              : 0.0 (0, 0.003682083896865671)\n",
      "0.3847736358255558 0.4548370981299713 0.852138554918615\n",
      "false positives: 84 out of 84\n"
     ]
    },
    {
     "name": "stderr",
     "output_type": "stream",
     "text": [
      "Permuting: 100%|██████████| 1000/1000 [00:04<00:00, 224.74it/s]\n",
      "Permuting:   0%|          | 4/1000 [00:00<00:24, 39.90it/s]"
     ]
    },
    {
     "name": "stdout",
     "output_type": "stream",
     "text": [
      "p              : 0.0 (0, 0.003682083896865671)\n",
      "0.3869382741290575 0.4530425240730863 0.8546471663135699\n",
      "false positives: 85 out of 85\n"
     ]
    },
    {
     "name": "stderr",
     "output_type": "stream",
     "text": [
      "Permuting: 100%|██████████| 1000/1000 [00:04<00:00, 209.32it/s]\n",
      "Permuting:   1%|          | 7/1000 [00:00<00:14, 68.56it/s]"
     ]
    },
    {
     "name": "stdout",
     "output_type": "stream",
     "text": [
      "p              : 0.0 (0, 0.003682083896865671)\n",
      "0.3845686606116913 0.43991743460963006 0.8537863073171115\n",
      "false positives: 86 out of 86\n"
     ]
    },
    {
     "name": "stderr",
     "output_type": "stream",
     "text": [
      "Permuting: 100%|██████████| 1000/1000 [00:04<00:00, 212.75it/s]\n",
      "Permuting:   1%|          | 10/1000 [00:00<00:10, 92.43it/s]"
     ]
    },
    {
     "name": "stdout",
     "output_type": "stream",
     "text": [
      "p              : 0.0 (0, 0.003682083896865671)\n",
      "0.37248862113515474 0.4104668357678762 0.852286073180034\n",
      "false positives: 87 out of 87\n"
     ]
    },
    {
     "name": "stderr",
     "output_type": "stream",
     "text": [
      "Permuting: 100%|██████████| 1000/1000 [00:06<00:00, 166.30it/s]\n",
      "Permuting:   0%|          | 2/1000 [00:00<00:52, 19.04it/s]"
     ]
    },
    {
     "name": "stdout",
     "output_type": "stream",
     "text": [
      "p              : 0.0 (0, 0.003682083896865671)\n",
      "0.3739139006773717 0.4435026834089552 0.8643039537220201\n",
      "false positives: 88 out of 88\n"
     ]
    },
    {
     "name": "stderr",
     "output_type": "stream",
     "text": [
      "Permuting: 100%|██████████| 1000/1000 [00:05<00:00, 185.77it/s]\n",
      "Permuting:   0%|          | 4/1000 [00:00<00:25, 39.01it/s]"
     ]
    },
    {
     "name": "stdout",
     "output_type": "stream",
     "text": [
      "p              : 0.0 (0, 0.003682083896865671)\n",
      "0.3777541216431726 0.42701739656537024 0.8455991328780247\n",
      "false positives: 89 out of 89\n"
     ]
    },
    {
     "name": "stderr",
     "output_type": "stream",
     "text": [
      "Permuting: 100%|██████████| 1000/1000 [00:05<00:00, 180.74it/s]\n",
      "Permuting:   0%|          | 1/1000 [00:00<01:42,  9.71it/s]"
     ]
    },
    {
     "name": "stdout",
     "output_type": "stream",
     "text": [
      "p              : 0.0 (0, 0.003682083896865671)\n",
      "0.37557952906534564 0.42081008776757 0.8522737367908165\n",
      "false positives: 90 out of 90\n"
     ]
    },
    {
     "name": "stderr",
     "output_type": "stream",
     "text": [
      "Permuting: 100%|██████████| 1000/1000 [00:06<00:00, 164.75it/s]\n",
      "Permuting:   1%|          | 11/1000 [00:00<00:09, 108.03it/s]"
     ]
    },
    {
     "name": "stdout",
     "output_type": "stream",
     "text": [
      "p              : 0.0 (0, 0.003682083896865671)\n",
      "0.369189213013622 0.4436356771737338 0.8599272753776509\n",
      "false positives: 91 out of 91\n"
     ]
    },
    {
     "name": "stderr",
     "output_type": "stream",
     "text": [
      "Permuting: 100%|██████████| 1000/1000 [00:04<00:00, 208.82it/s]\n",
      "Permuting:   0%|          | 5/1000 [00:00<00:20, 49.54it/s]"
     ]
    },
    {
     "name": "stdout",
     "output_type": "stream",
     "text": [
      "p              : 0.0 (0, 0.003682083896865671)\n",
      "0.37631658930142964 0.42047334337995546 0.8445602606379565\n",
      "false positives: 92 out of 92\n"
     ]
    },
    {
     "name": "stderr",
     "output_type": "stream",
     "text": [
      "Permuting: 100%|██████████| 1000/1000 [00:05<00:00, 197.09it/s]\n",
      "Permuting:   0%|          | 3/1000 [00:00<00:33, 29.47it/s]"
     ]
    },
    {
     "name": "stdout",
     "output_type": "stream",
     "text": [
      "p              : 0.0 (0, 0.003682083896865671)\n",
      "0.4043006481798785 0.4690996946604189 0.8566176535021709\n",
      "false positives: 93 out of 93\n"
     ]
    },
    {
     "name": "stderr",
     "output_type": "stream",
     "text": [
      "Permuting: 100%|██████████| 1000/1000 [00:05<00:00, 196.61it/s]\n",
      "Permuting:   0%|          | 5/1000 [00:00<00:20, 48.01it/s]"
     ]
    },
    {
     "name": "stdout",
     "output_type": "stream",
     "text": [
      "p              : 0.0 (0, 0.003682083896865671)\n",
      "0.35306019761243507 0.43407879325913284 0.8428051361006987\n",
      "false positives: 94 out of 94\n"
     ]
    },
    {
     "name": "stderr",
     "output_type": "stream",
     "text": [
      "Permuting: 100%|██████████| 1000/1000 [00:04<00:00, 209.82it/s]\n",
      "Permuting:   0%|          | 5/1000 [00:00<00:20, 48.96it/s]"
     ]
    },
    {
     "name": "stdout",
     "output_type": "stream",
     "text": [
      "p              : 0.0 (0, 0.003682083896865671)\n",
      "0.36486706115193307 0.4237703026675153 0.850593833911344\n",
      "false positives: 95 out of 95\n"
     ]
    },
    {
     "name": "stderr",
     "output_type": "stream",
     "text": [
      "Permuting: 100%|██████████| 1000/1000 [00:04<00:00, 211.84it/s]\n",
      "Permuting:   1%|          | 8/1000 [00:00<00:12, 76.57it/s]"
     ]
    },
    {
     "name": "stdout",
     "output_type": "stream",
     "text": [
      "p              : 0.0 (0, 0.003682083896865671)\n",
      "0.37938700709038653 0.4500910055029949 0.8658518275004394\n",
      "false positives: 96 out of 96\n"
     ]
    },
    {
     "name": "stderr",
     "output_type": "stream",
     "text": [
      "Permuting: 100%|██████████| 1000/1000 [00:04<00:00, 204.70it/s]\n",
      "Permuting:   0%|          | 4/1000 [00:00<00:25, 39.71it/s]"
     ]
    },
    {
     "name": "stdout",
     "output_type": "stream",
     "text": [
      "p              : 0.0 (0, 0.003682083896865671)\n",
      "0.41514117167635406 0.48315860934913507 0.8544855172688826\n",
      "false positives: 97 out of 97\n"
     ]
    },
    {
     "name": "stderr",
     "output_type": "stream",
     "text": [
      "Permuting: 100%|██████████| 1000/1000 [00:05<00:00, 186.78it/s]\n",
      "Permuting:   1%|          | 7/1000 [00:00<00:15, 65.89it/s]"
     ]
    },
    {
     "name": "stdout",
     "output_type": "stream",
     "text": [
      "p              : 0.0 (0, 0.003682083896865671)\n",
      "0.4179282663105986 0.47220346797298063 0.8624421029258633\n",
      "false positives: 98 out of 98\n"
     ]
    },
    {
     "name": "stderr",
     "output_type": "stream",
     "text": [
      "Permuting: 100%|██████████| 1000/1000 [00:05<00:00, 189.83it/s]\n",
      "Permuting:   1%|          | 9/1000 [00:00<00:12, 81.55it/s]"
     ]
    },
    {
     "name": "stdout",
     "output_type": "stream",
     "text": [
      "p              : 0.0 (0, 0.003682083896865671)\n",
      "0.40214849024288274 0.46241965835369203 0.8503892785644382\n",
      "false positives: 99 out of 99\n"
     ]
    },
    {
     "name": "stderr",
     "output_type": "stream",
     "text": [
      "Permuting: 100%|██████████| 1000/1000 [00:04<00:00, 218.20it/s]"
     ]
    },
    {
     "name": "stdout",
     "output_type": "stream",
     "text": [
      "p              : 0.0 (0, 0.003682083896865671)\n",
      "0.4001204378695439 0.47433337195412567 0.862402493359088\n",
      "false positives: 100 out of 100\n"
     ]
    },
    {
     "name": "stderr",
     "output_type": "stream",
     "text": [
      "\n"
     ]
    }
   ],
   "source": [
    "ts_ratio_y = 0.5\n",
    "cs_ratio_y = 0.4\n",
    "ts_ratio_c = 0.0\n",
    "cs_ratio_c = 0.9\n",
    "#ts_ratio_yhat # THIS IS VARIED\n",
    "cs_ratio_yhat = 0.4  # NO BIAS\n",
    "num_perms = 1000\n",
    "n=1000\n",
    "\n",
    "results = []\n",
    "\n",
    "for iteration in range(100):\n",
    "    for ts_ratio_yhat in [0.4]:\n",
    "        # simuklate data without confounder-bias\n",
    "        #                 true signal    confounder\n",
    "        y, yhat, c = simulate(ts_ratio_y,       cs_ratio_y,     # y\n",
    "                              ts_ratio_c,       cs_ratio_c,     # c\n",
    "                              ts_ratio_yhat,    cs_ratio_yhat,  # yhat\n",
    "                              n=n,                            # simulated sample size\n",
    "                              random_state=iteration\n",
    "                              )\n",
    "        # test for confound\n",
    "        ret=confound_test(y, yhat, c, num_perms=num_perms, return_null_dist=False,\n",
    "                          random_state=iteration, n_jobs=-1)\n",
    "        \n",
    "        results.append(\n",
    "            np.array([\n",
    "                iteration,       #0\n",
    "                n,               #1\n",
    "                ts_ratio_y,      #2\n",
    "                cs_ratio_y,      #3\n",
    "                ts_ratio_c,      #4\n",
    "                cs_ratio_c,      #5\n",
    "                ts_ratio_yhat,   #6\n",
    "                cs_ratio_yhat,   #7\n",
    "                num_perms,       #8\n",
    "                ret.r2_y_c,      #9\n",
    "                ret.r2_yhat_c,   #10\n",
    "                ret.r2_y_yhat,   #11\n",
    "                ret.p,           #12\n",
    "                ret.p_ci[0],     #13\n",
    "                ret.p_ci[1],     #14\n",
    "                ret.found        #15\n",
    "                ]))\n",
    "        print('p              :', ret.p, ret.p_ci)\n",
    "        print(ret.r2_y_c, ret.r2_yhat_c, ret.r2_y_yhat)\n",
    "        print('false positives:', np.sum(np.array(results)[:,12]<0.05), 'out of', len(results))"
   ]
  },
  {
   "cell_type": "code",
   "execution_count": 16,
   "metadata": {
    "ExecuteTime": {
     "end_time": "2021-07-20T08:12:56.504850Z",
     "start_time": "2021-07-20T08:12:24.487439Z"
    }
   },
   "outputs": [
    {
     "name": "stderr",
     "output_type": "stream",
     "text": [
      "Permuting: 100%|██████████| 10000/10000 [00:08<00:00, 1126.69it/s]\n",
      "Permuting:   0%|          | 26/10000 [00:00<00:45, 220.24it/s]"
     ]
    },
    {
     "name": "stdout",
     "output_type": "stream",
     "text": [
      "p              : 0.0427 (0.03882106357552501, 0.04684801194060439)\n",
      "0.10002552920735994 0.12985660979917862 0.41971298065991564\n",
      "false positives: 1 out of 1\n"
     ]
    },
    {
     "name": "stderr",
     "output_type": "stream",
     "text": [
      "Permuting: 100%|██████████| 10000/10000 [00:08<00:00, 1171.94it/s]\n",
      "Permuting:   0%|          | 32/10000 [00:00<00:39, 250.54it/s]"
     ]
    },
    {
     "name": "stdout",
     "output_type": "stream",
     "text": [
      "p              : 0.0675 (0.06265922777386035, 0.07259445249484227)\n",
      "0.11236104850350168 0.13309513881692586 0.48687927563629246\n",
      "false positives: 1 out of 2\n"
     ]
    },
    {
     "name": "stderr",
     "output_type": "stream",
     "text": [
      "Permuting: 100%|██████████| 10000/10000 [00:07<00:00, 1265.63it/s]\n",
      "Permuting:   0%|          | 16/10000 [00:00<01:02, 159.12it/s]"
     ]
    },
    {
     "name": "stdout",
     "output_type": "stream",
     "text": [
      "p              : 0.0174 (0.014928516005436482, 0.02015795138245116)\n",
      "0.1422702079725798 0.18278563611705603 0.43113735991465263\n",
      "false positives: 2 out of 3\n"
     ]
    },
    {
     "name": "stderr",
     "output_type": "stream",
     "text": [
      "Permuting:  71%|███████   | 7088/10000 [00:06<00:02, 1067.26it/s]\n"
     ]
    },
    {
     "ename": "KeyboardInterrupt",
     "evalue": "",
     "output_type": "error",
     "traceback": [
      "\u001b[0;31m---------------------------------------------------------------------------\u001b[0m",
      "\u001b[0;31mKeyboardInterrupt\u001b[0m                         Traceback (most recent call last)",
      "\u001b[0;32m<ipython-input-16-4537f14940d6>\u001b[0m in \u001b[0;36m<module>\u001b[0;34m\u001b[0m\n\u001b[1;32m     22\u001b[0m         \u001b[0;31m# test for confound\u001b[0m\u001b[0;34m\u001b[0m\u001b[0;34m\u001b[0m\u001b[0;34m\u001b[0m\u001b[0m\n\u001b[1;32m     23\u001b[0m         ret=confound_test(y, yhat, c, num_perms=num_perms, return_null_dist=False,\n\u001b[0;32m---> 24\u001b[0;31m                           random_state=iteration, n_jobs=-1)\n\u001b[0m\u001b[1;32m     25\u001b[0m \u001b[0;34m\u001b[0m\u001b[0m\n\u001b[1;32m     26\u001b[0m         results.append(\n",
      "\u001b[0;32m~/Dropbox/src/mlconfound/mlconfound/stats.py\u001b[0m in \u001b[0;36mconfound_test\u001b[0;34m(y, yhat, c, num_perms, cat_y, cat_c, nstep, return_null_dist, random_state, n_jobs)\u001b[0m\n\u001b[1;32m    115\u001b[0m \u001b[0;34m\u001b[0m\u001b[0m\n\u001b[1;32m    116\u001b[0m     \u001b[0;32mwith\u001b[0m \u001b[0mtqdm_joblib\u001b[0m\u001b[0;34m(\u001b[0m\u001b[0mtqdm\u001b[0m\u001b[0;34m(\u001b[0m\u001b[0mdesc\u001b[0m\u001b[0;34m=\u001b[0m\u001b[0;34m'Permuting'\u001b[0m\u001b[0;34m,\u001b[0m \u001b[0mtotal\u001b[0m\u001b[0;34m=\u001b[0m\u001b[0mnum_perms\u001b[0m\u001b[0;34m)\u001b[0m\u001b[0;34m)\u001b[0m \u001b[0;32mas\u001b[0m \u001b[0mprogress_bar\u001b[0m\u001b[0;34m:\u001b[0m\u001b[0;34m\u001b[0m\u001b[0;34m\u001b[0m\u001b[0m\n\u001b[0;32m--> 117\u001b[0;31m         \u001b[0mr2_yhat_c_star\u001b[0m \u001b[0;34m=\u001b[0m \u001b[0mnp\u001b[0m\u001b[0;34m.\u001b[0m\u001b[0marray\u001b[0m\u001b[0;34m(\u001b[0m\u001b[0mParallel\u001b[0m\u001b[0;34m(\u001b[0m\u001b[0mn_jobs\u001b[0m\u001b[0;34m=\u001b[0m\u001b[0mn_jobs\u001b[0m\u001b[0;34m)\u001b[0m\u001b[0;34m(\u001b[0m\u001b[0mdelayed\u001b[0m\u001b[0;34m(\u001b[0m\u001b[0mworkhorse\u001b[0m\u001b[0;34m)\u001b[0m\u001b[0;34m(\u001b[0m\u001b[0mi\u001b[0m\u001b[0;34m)\u001b[0m \u001b[0;32mfor\u001b[0m \u001b[0mi\u001b[0m \u001b[0;32min\u001b[0m \u001b[0mrandom_sates\u001b[0m\u001b[0;34m)\u001b[0m\u001b[0;34m)\u001b[0m\u001b[0;34m\u001b[0m\u001b[0;34m\u001b[0m\u001b[0m\n\u001b[0m\u001b[1;32m    118\u001b[0m \u001b[0;34m\u001b[0m\u001b[0m\n\u001b[1;32m    119\u001b[0m     \u001b[0mp\u001b[0m \u001b[0;34m=\u001b[0m \u001b[0mnp\u001b[0m\u001b[0;34m.\u001b[0m\u001b[0msum\u001b[0m\u001b[0;34m(\u001b[0m\u001b[0mr2_yhat_c_star\u001b[0m \u001b[0;34m>=\u001b[0m \u001b[0mr2_yhat_c\u001b[0m\u001b[0;34m)\u001b[0m \u001b[0;34m/\u001b[0m \u001b[0mlen\u001b[0m\u001b[0;34m(\u001b[0m\u001b[0mr2_yhat_c_star\u001b[0m\u001b[0;34m)\u001b[0m\u001b[0;34m\u001b[0m\u001b[0;34m\u001b[0m\u001b[0m\n",
      "\u001b[0;32m/opt/anaconda3/lib/python3.7/site-packages/joblib/parallel.py\u001b[0m in \u001b[0;36m__call__\u001b[0;34m(self, iterable)\u001b[0m\n\u001b[1;32m    932\u001b[0m \u001b[0;34m\u001b[0m\u001b[0m\n\u001b[1;32m    933\u001b[0m             \u001b[0;32mwith\u001b[0m \u001b[0mself\u001b[0m\u001b[0;34m.\u001b[0m\u001b[0m_backend\u001b[0m\u001b[0;34m.\u001b[0m\u001b[0mretrieval_context\u001b[0m\u001b[0;34m(\u001b[0m\u001b[0;34m)\u001b[0m\u001b[0;34m:\u001b[0m\u001b[0;34m\u001b[0m\u001b[0;34m\u001b[0m\u001b[0m\n\u001b[0;32m--> 934\u001b[0;31m                 \u001b[0mself\u001b[0m\u001b[0;34m.\u001b[0m\u001b[0mretrieve\u001b[0m\u001b[0;34m(\u001b[0m\u001b[0;34m)\u001b[0m\u001b[0;34m\u001b[0m\u001b[0;34m\u001b[0m\u001b[0m\n\u001b[0m\u001b[1;32m    935\u001b[0m             \u001b[0;31m# Make sure that we get a last message telling us we are done\u001b[0m\u001b[0;34m\u001b[0m\u001b[0;34m\u001b[0m\u001b[0;34m\u001b[0m\u001b[0m\n\u001b[1;32m    936\u001b[0m             \u001b[0melapsed_time\u001b[0m \u001b[0;34m=\u001b[0m \u001b[0mtime\u001b[0m\u001b[0;34m.\u001b[0m\u001b[0mtime\u001b[0m\u001b[0;34m(\u001b[0m\u001b[0;34m)\u001b[0m \u001b[0;34m-\u001b[0m \u001b[0mself\u001b[0m\u001b[0;34m.\u001b[0m\u001b[0m_start_time\u001b[0m\u001b[0;34m\u001b[0m\u001b[0;34m\u001b[0m\u001b[0m\n",
      "\u001b[0;32m/opt/anaconda3/lib/python3.7/site-packages/joblib/parallel.py\u001b[0m in \u001b[0;36mretrieve\u001b[0;34m(self)\u001b[0m\n\u001b[1;32m    831\u001b[0m             \u001b[0;32mtry\u001b[0m\u001b[0;34m:\u001b[0m\u001b[0;34m\u001b[0m\u001b[0;34m\u001b[0m\u001b[0m\n\u001b[1;32m    832\u001b[0m                 \u001b[0;32mif\u001b[0m \u001b[0mgetattr\u001b[0m\u001b[0;34m(\u001b[0m\u001b[0mself\u001b[0m\u001b[0;34m.\u001b[0m\u001b[0m_backend\u001b[0m\u001b[0;34m,\u001b[0m \u001b[0;34m'supports_timeout'\u001b[0m\u001b[0;34m,\u001b[0m \u001b[0;32mFalse\u001b[0m\u001b[0;34m)\u001b[0m\u001b[0;34m:\u001b[0m\u001b[0;34m\u001b[0m\u001b[0;34m\u001b[0m\u001b[0m\n\u001b[0;32m--> 833\u001b[0;31m                     \u001b[0mself\u001b[0m\u001b[0;34m.\u001b[0m\u001b[0m_output\u001b[0m\u001b[0;34m.\u001b[0m\u001b[0mextend\u001b[0m\u001b[0;34m(\u001b[0m\u001b[0mjob\u001b[0m\u001b[0;34m.\u001b[0m\u001b[0mget\u001b[0m\u001b[0;34m(\u001b[0m\u001b[0mtimeout\u001b[0m\u001b[0;34m=\u001b[0m\u001b[0mself\u001b[0m\u001b[0;34m.\u001b[0m\u001b[0mtimeout\u001b[0m\u001b[0;34m)\u001b[0m\u001b[0;34m)\u001b[0m\u001b[0;34m\u001b[0m\u001b[0;34m\u001b[0m\u001b[0m\n\u001b[0m\u001b[1;32m    834\u001b[0m                 \u001b[0;32melse\u001b[0m\u001b[0;34m:\u001b[0m\u001b[0;34m\u001b[0m\u001b[0;34m\u001b[0m\u001b[0m\n\u001b[1;32m    835\u001b[0m                     \u001b[0mself\u001b[0m\u001b[0;34m.\u001b[0m\u001b[0m_output\u001b[0m\u001b[0;34m.\u001b[0m\u001b[0mextend\u001b[0m\u001b[0;34m(\u001b[0m\u001b[0mjob\u001b[0m\u001b[0;34m.\u001b[0m\u001b[0mget\u001b[0m\u001b[0;34m(\u001b[0m\u001b[0;34m)\u001b[0m\u001b[0;34m)\u001b[0m\u001b[0;34m\u001b[0m\u001b[0;34m\u001b[0m\u001b[0m\n",
      "\u001b[0;32m/opt/anaconda3/lib/python3.7/site-packages/joblib/_parallel_backends.py\u001b[0m in \u001b[0;36mwrap_future_result\u001b[0;34m(future, timeout)\u001b[0m\n\u001b[1;32m    519\u001b[0m         AsyncResults.get from multiprocessing.\"\"\"\n\u001b[1;32m    520\u001b[0m         \u001b[0;32mtry\u001b[0m\u001b[0;34m:\u001b[0m\u001b[0;34m\u001b[0m\u001b[0;34m\u001b[0m\u001b[0m\n\u001b[0;32m--> 521\u001b[0;31m             \u001b[0;32mreturn\u001b[0m \u001b[0mfuture\u001b[0m\u001b[0;34m.\u001b[0m\u001b[0mresult\u001b[0m\u001b[0;34m(\u001b[0m\u001b[0mtimeout\u001b[0m\u001b[0;34m=\u001b[0m\u001b[0mtimeout\u001b[0m\u001b[0;34m)\u001b[0m\u001b[0;34m\u001b[0m\u001b[0;34m\u001b[0m\u001b[0m\n\u001b[0m\u001b[1;32m    522\u001b[0m         \u001b[0;32mexcept\u001b[0m \u001b[0mLokyTimeoutError\u001b[0m\u001b[0;34m:\u001b[0m\u001b[0;34m\u001b[0m\u001b[0;34m\u001b[0m\u001b[0m\n\u001b[1;32m    523\u001b[0m             \u001b[0;32mraise\u001b[0m \u001b[0mTimeoutError\u001b[0m\u001b[0;34m(\u001b[0m\u001b[0;34m)\u001b[0m\u001b[0;34m\u001b[0m\u001b[0;34m\u001b[0m\u001b[0m\n",
      "\u001b[0;32m/opt/anaconda3/lib/python3.7/concurrent/futures/_base.py\u001b[0m in \u001b[0;36mresult\u001b[0;34m(self, timeout)\u001b[0m\n\u001b[1;32m    428\u001b[0m                 \u001b[0;32mreturn\u001b[0m \u001b[0mself\u001b[0m\u001b[0;34m.\u001b[0m\u001b[0m__get_result\u001b[0m\u001b[0;34m(\u001b[0m\u001b[0;34m)\u001b[0m\u001b[0;34m\u001b[0m\u001b[0;34m\u001b[0m\u001b[0m\n\u001b[1;32m    429\u001b[0m \u001b[0;34m\u001b[0m\u001b[0m\n\u001b[0;32m--> 430\u001b[0;31m             \u001b[0mself\u001b[0m\u001b[0;34m.\u001b[0m\u001b[0m_condition\u001b[0m\u001b[0;34m.\u001b[0m\u001b[0mwait\u001b[0m\u001b[0;34m(\u001b[0m\u001b[0mtimeout\u001b[0m\u001b[0;34m)\u001b[0m\u001b[0;34m\u001b[0m\u001b[0;34m\u001b[0m\u001b[0m\n\u001b[0m\u001b[1;32m    431\u001b[0m \u001b[0;34m\u001b[0m\u001b[0m\n\u001b[1;32m    432\u001b[0m             \u001b[0;32mif\u001b[0m \u001b[0mself\u001b[0m\u001b[0;34m.\u001b[0m\u001b[0m_state\u001b[0m \u001b[0;32min\u001b[0m \u001b[0;34m[\u001b[0m\u001b[0mCANCELLED\u001b[0m\u001b[0;34m,\u001b[0m \u001b[0mCANCELLED_AND_NOTIFIED\u001b[0m\u001b[0;34m]\u001b[0m\u001b[0;34m:\u001b[0m\u001b[0;34m\u001b[0m\u001b[0;34m\u001b[0m\u001b[0m\n",
      "\u001b[0;32m/opt/anaconda3/lib/python3.7/threading.py\u001b[0m in \u001b[0;36mwait\u001b[0;34m(self, timeout)\u001b[0m\n\u001b[1;32m    294\u001b[0m         \u001b[0;32mtry\u001b[0m\u001b[0;34m:\u001b[0m    \u001b[0;31m# restore state no matter what (e.g., KeyboardInterrupt)\u001b[0m\u001b[0;34m\u001b[0m\u001b[0;34m\u001b[0m\u001b[0m\n\u001b[1;32m    295\u001b[0m             \u001b[0;32mif\u001b[0m \u001b[0mtimeout\u001b[0m \u001b[0;32mis\u001b[0m \u001b[0;32mNone\u001b[0m\u001b[0;34m:\u001b[0m\u001b[0;34m\u001b[0m\u001b[0;34m\u001b[0m\u001b[0m\n\u001b[0;32m--> 296\u001b[0;31m                 \u001b[0mwaiter\u001b[0m\u001b[0;34m.\u001b[0m\u001b[0macquire\u001b[0m\u001b[0;34m(\u001b[0m\u001b[0;34m)\u001b[0m\u001b[0;34m\u001b[0m\u001b[0;34m\u001b[0m\u001b[0m\n\u001b[0m\u001b[1;32m    297\u001b[0m                 \u001b[0mgotit\u001b[0m \u001b[0;34m=\u001b[0m \u001b[0;32mTrue\u001b[0m\u001b[0;34m\u001b[0m\u001b[0;34m\u001b[0m\u001b[0m\n\u001b[1;32m    298\u001b[0m             \u001b[0;32melse\u001b[0m\u001b[0;34m:\u001b[0m\u001b[0;34m\u001b[0m\u001b[0;34m\u001b[0m\u001b[0m\n",
      "\u001b[0;31mKeyboardInterrupt\u001b[0m: "
     ]
    }
   ],
   "source": [
    "ts_ratio_y = 0.6\n",
    "cs_ratio_y = 0.2\n",
    "ts_ratio_c = 0.0\n",
    "cs_ratio_c = 0.9\n",
    "#ts_ratio_yhat # THIS IS VARIED\n",
    "cs_ratio_yhat = 0.2  \n",
    "num_perms = 10000\n",
    "n=100\n",
    "\n",
    "results = []\n",
    "\n",
    "for iteration in range(100):\n",
    "    for ts_ratio_yhat in [0.4]:\n",
    "        # simuklate data without confounder-bias\n",
    "        #                 true signal    confounder\n",
    "        y, yhat, c = simulate(ts_ratio_y,       cs_ratio_y,     # y\n",
    "                              ts_ratio_c,       cs_ratio_c,     # c\n",
    "                              ts_ratio_yhat,    cs_ratio_yhat,  # yhat\n",
    "                              n=n,                            # simulated sample size\n",
    "                              random_state=iteration\n",
    "                              )\n",
    "        # test for confound\n",
    "        ret=confound_test(y, yhat, c, num_perms=num_perms, return_null_dist=False,\n",
    "                          random_state=iteration, n_jobs=-1)\n",
    "        \n",
    "        results.append(\n",
    "            np.array([\n",
    "                iteration,       #0\n",
    "                n,               #1\n",
    "                ts_ratio_y,      #2\n",
    "                cs_ratio_y,      #3\n",
    "                ts_ratio_c,      #4\n",
    "                cs_ratio_c,      #5\n",
    "                ts_ratio_yhat,   #6\n",
    "                cs_ratio_yhat,   #7\n",
    "                num_perms,       #8\n",
    "                ret.r2_y_c,      #9\n",
    "                ret.r2_yhat_c,   #10\n",
    "                ret.r2_y_yhat,   #11\n",
    "                ret.p,           #12\n",
    "                ret.p_ci[0],     #13\n",
    "                ret.p_ci[1],     #14\n",
    "                ret.found        #15\n",
    "                ]))\n",
    "        print('p              :', ret.p, ret.p_ci)\n",
    "        print(ret.r2_y_c, ret.r2_yhat_c, ret.r2_y_yhat)\n",
    "        print('false positives:', np.sum(np.array(results)[:,12]<0.05), 'out of', len(results))"
   ]
  },
  {
   "cell_type": "code",
   "execution_count": null,
   "metadata": {
    "ExecuteTime": {
     "end_time": "2021-07-19T19:18:36.028527Z",
     "start_time": "2021-07-19T19:18:02.315Z"
    }
   },
   "outputs": [],
   "source": [
    "ts_ratio_y = 0.1\n",
    "cs_ratio_y = 0.8\n",
    "ts_ratio_c = 0.0\n",
    "cs_ratio_c = 0.8\n",
    "#ts_ratio_yhat # THIS IS VARIED\n",
    "cs_ratio_yhat = 0.8  # NO BIAS\n",
    "num_perms = 100000\n",
    "tolerance = 0.1\n",
    "n=10000\n",
    "\n",
    "\n",
    "\n",
    "results = []\n",
    "\n",
    "for iteration in range(100):\n",
    "    for ts_ratio_yhat in [0]:\n",
    "        # simulate data without confounder-bias\n",
    "        #                     true signal       confounder\n",
    "        y, yhat, c = simulate(ts_ratio_y,       cs_ratio_y,     # y\n",
    "                              ts_ratio_c,       cs_ratio_c,     # c\n",
    "                              ts_ratio_yhat,    cs_ratio_yhat,  # yhat\n",
    "                              n=n,                              # simulated sample size\n",
    "                              random_state=iteration\n",
    "                              )\n",
    "        # test for confound\n",
    "        ret=confound_test(y, yhat, c, num_perms=num_perms, tolerance=tolerance, subsample='auto',\n",
    "                                return_null_dist=False, random_state=iteration, n_jobs=-1)\n",
    "        \n",
    "        results.append(\n",
    "            np.array([\n",
    "                iteration,       #0\n",
    "                n,               #1\n",
    "                ts_ratio_y,      #2\n",
    "                cs_ratio_y,      #3\n",
    "                ts_ratio_c,      #4\n",
    "                cs_ratio_c,      #5\n",
    "                ts_ratio_yhat,   #6\n",
    "                cs_ratio_yhat,   #7\n",
    "                num_perms,       #8\n",
    "                tolerance,       #9\n",
    "                ret.r2_y_c,      #10\n",
    "                ret.r2_yhat_c,   #11\n",
    "                ret.r2_y_yhat,   #12\n",
    "                ret.p,           #13\n",
    "                ret.p_ci[0],     #14\n",
    "                ret.p_ci[1],     #15\n",
    "                ret.subsample,   #16\n",
    "                ret.found        #17\n",
    "                ]))\n",
    "        print('p              :', np.array(results)[-1,13])\n",
    "        print('false positives:', np.sum(np.array(results)[:,13]<0.05), 'out of', len(results))\n",
    "        print(ret.subsample, ret.found, ret.r2_y_c, ret.r2_yhat_c)"
   ]
  },
  {
   "cell_type": "code",
   "execution_count": null,
   "metadata": {
    "ExecuteTime": {
     "end_time": "2021-07-19T19:18:36.032334Z",
     "start_time": "2021-07-19T19:18:02.332Z"
    }
   },
   "outputs": [],
   "source": [
    "ts_ratio_y = 0.1\n",
    "cs_ratio_y = 0.8\n",
    "ts_ratio_c = 0.0\n",
    "cs_ratio_c = 0.8\n",
    "#ts_ratio_yhat # THIS IS VARIED\n",
    "cs_ratio_yhat = 0.8  # NO BIAS\n",
    "num_perms = 1000000\n",
    "tolerance = 0.1\n",
    "n=10000\n",
    "\n",
    "\n",
    "\n",
    "results = []\n",
    "\n",
    "for iteration in range(100):\n",
    "    for ts_ratio_yhat in [0]:\n",
    "        # simulate data without confounder-bias\n",
    "        #                     true signal       confounder\n",
    "        y, yhat, c = simulate(ts_ratio_y,       cs_ratio_y,     # y\n",
    "                              ts_ratio_c,       cs_ratio_c,     # c\n",
    "                              ts_ratio_yhat,    cs_ratio_yhat,  # yhat\n",
    "                              n=n,                            # simulated sample size\n",
    "                              random_state=iteration\n",
    "                              )\n",
    "        # test for confound\n",
    "        ret=confound_test(y, yhat, c, num_perms=num_perms, tolerance=tolerance, subsample='auto',\n",
    "                                return_null_dist=False, random_state=iteration, n_jobs=-1)\n",
    "        \n",
    "        results.append(\n",
    "            np.array([\n",
    "                iteration,       #0\n",
    "                n,               #1\n",
    "                ts_ratio_y,      #2\n",
    "                cs_ratio_y,      #3\n",
    "                ts_ratio_c,      #4\n",
    "                cs_ratio_c,      #5\n",
    "                ts_ratio_yhat,   #6\n",
    "                cs_ratio_yhat,   #7\n",
    "                num_perms,       #8\n",
    "                tolerance,       #9\n",
    "                ret.r2_y_c,      #10\n",
    "                ret.r2_yhat_c,   #11\n",
    "                ret.r2_y_yhat,   #12\n",
    "                ret.p,           #13\n",
    "                ret.p_ci[0],     #14\n",
    "                ret.p_ci[1],     #15\n",
    "                ret.subsample,   #16\n",
    "                ret.found        #17\n",
    "                ]))\n",
    "        print('p              :', np.array(results)[-1,13])\n",
    "        print('false positives:', np.sum(np.array(results)[:,13]<0.05), 'out of', len(results))\n",
    "        print(ret.subsample, ret.found, ret.r2_y_c, ret.r2_yhat_c)"
   ]
  },
  {
   "cell_type": "code",
   "execution_count": null,
   "metadata": {
    "ExecuteTime": {
     "end_time": "2021-07-19T19:18:36.036322Z",
     "start_time": "2021-07-19T19:18:02.334Z"
    }
   },
   "outputs": [],
   "source": [
    "np.array(1)"
   ]
  },
  {
   "cell_type": "code",
   "execution_count": null,
   "metadata": {},
   "outputs": [],
   "source": []
  }
 ],
 "metadata": {
  "hide_input": false,
  "kernelspec": {
   "display_name": "Python 3",
   "language": "python",
   "name": "python3"
  },
  "language_info": {
   "codemirror_mode": {
    "name": "ipython",
    "version": 3
   },
   "file_extension": ".py",
   "mimetype": "text/x-python",
   "name": "python",
   "nbconvert_exporter": "python",
   "pygments_lexer": "ipython3",
   "version": "3.7.4"
  }
 },
 "nbformat": 4,
 "nbformat_minor": 2
}
