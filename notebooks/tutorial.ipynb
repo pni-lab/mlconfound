{
 "cells": [
  {
   "cell_type": "code",
   "execution_count": 1,
   "metadata": {
    "ExecuteTime": {
     "end_time": "2021-07-20T14:47:31.792369Z",
     "start_time": "2021-07-20T14:47:30.344978Z"
    }
   },
   "outputs": [
    {
     "name": "stderr",
     "output_type": "stream",
     "text": [
      "/opt/anaconda3/lib/python3.7/site-packages/statsmodels/tools/_testing.py:19: FutureWarning: pandas.util.testing is deprecated. Use the functions in the public API at pandas.testing instead.\n",
      "  import pandas.util.testing as tm\n"
     ]
    }
   ],
   "source": [
    "import sys\n",
    "sys.path.insert(0, '..')\n",
    "from mlconfound.stats import confound_test\n",
    "from mlconfound.simulate import simulate\n",
    "from mlconfound.plot import plot_null_dist, plot_graph\n",
    "\n",
    "import numpy as np\n",
    "import pandas as pd\n",
    "import seaborn as sns\n",
    "sns.set_style(\"whitegrid\")\n",
    "import matplotlib.pyplot as plt"
   ]
  },
  {
   "cell_type": "markdown",
   "metadata": {},
   "source": [
    "# Simulate some data for the null and alternative hypotheses"
   ]
  },
  {
   "cell_type": "code",
   "execution_count": 2,
   "metadata": {
    "ExecuteTime": {
     "end_time": "2021-07-20T14:47:31.801403Z",
     "start_time": "2021-07-20T14:47:31.794779Z"
    }
   },
   "outputs": [],
   "source": [
    "#                           true signal       confounder\n",
    "H0_y, H0_yhat, H0_c = simulate(0.6,              0.3,     # y\n",
    "                               0.0,              0.9,     # c\n",
    "                               0.4,              0.2,     # yhat\n",
    "                               n=500,                     # simulated sample size\n",
    "                               random_state=42\n",
    "                               )\n",
    "\n",
    "#                           true signal       confounder\n",
    "H1_y, H1_yhat, H1_c = simulate(0.6,              0.3,     # y\n",
    "                               0.0,              0.9,     # c\n",
    "                               0.3,              0.2,     # yhat\n",
    "                               n=500,                     # simulated sample size\n",
    "                               random_state=42\n",
    "                              )"
   ]
  },
  {
   "cell_type": "markdown",
   "metadata": {},
   "source": [
    "# Do the tests for H0 simulation"
   ]
  },
  {
   "cell_type": "code",
   "execution_count": 3,
   "metadata": {
    "ExecuteTime": {
     "end_time": "2021-07-20T14:47:40.730676Z",
     "start_time": "2021-07-20T14:47:31.804886Z"
    }
   },
   "outputs": [
    {
     "name": "stderr",
     "output_type": "stream",
     "text": [
      "Permuting: 100%|██████████| 1000/1000 [00:08<00:00, 112.40it/s]\n"
     ]
    },
    {
     "data": {
      "text/html": [
       "<div>\n",
       "<style scoped>\n",
       "    .dataframe tbody tr th:only-of-type {\n",
       "        vertical-align: middle;\n",
       "    }\n",
       "\n",
       "    .dataframe tbody tr th {\n",
       "        vertical-align: top;\n",
       "    }\n",
       "\n",
       "    .dataframe thead th {\n",
       "        text-align: right;\n",
       "    }\n",
       "</style>\n",
       "<table border=\"1\" class=\"dataframe\">\n",
       "  <thead>\n",
       "    <tr style=\"text-align: right;\">\n",
       "      <th></th>\n",
       "      <th>p</th>\n",
       "      <th>ci lower</th>\n",
       "      <th>ci upper</th>\n",
       "      <th>R2(y,c)</th>\n",
       "      <th>R2(y^,c)</th>\n",
       "      <th>R2(y,y^)</th>\n",
       "    </tr>\n",
       "  </thead>\n",
       "  <tbody>\n",
       "    <tr>\n",
       "      <th>0</th>\n",
       "      <td>0.404</td>\n",
       "      <td>0.373408</td>\n",
       "      <td>0.435159</td>\n",
       "      <td>0.206002</td>\n",
       "      <td>0.119126</td>\n",
       "      <td>0.548012</td>\n",
       "    </tr>\n",
       "  </tbody>\n",
       "</table>\n",
       "</div>"
      ],
      "text/plain": [
       "       p  ci lower  ci upper   R2(y,c)  R2(y^,c)  R2(y,y^)\n",
       "0  0.404  0.373408  0.435159  0.206002  0.119126  0.548012"
      ]
     },
     "execution_count": 3,
     "metadata": {},
     "output_type": "execute_result"
    }
   ],
   "source": [
    "ret=confound_test(H0_y, H0_yhat, H0_c, num_perms=1000, return_null_dist=True, \n",
    "                  random_state=42)\n",
    "#print results\n",
    "pd.DataFrame({\n",
    "    'p' : [ret.p],\n",
    "    'ci lower' : [ret.p_ci[0]],\n",
    "    'ci upper' : [ret.p_ci[1]],\n",
    "    'R2(y,c)' : [ret.r2_y_c],\n",
    "    'R2(y^,c)' : [ret.r2_yhat_c],\n",
    "    'R2(y,y^)' : [ret.r2_y_yhat],\n",
    "})\n"
   ]
  },
  {
   "cell_type": "markdown",
   "metadata": {
    "ExecuteTime": {
     "end_time": "2021-07-20T09:51:43.948572Z",
     "start_time": "2021-07-20T09:51:43.580181Z"
    }
   },
   "source": [
    "## Use the built-in plot functions:"
   ]
  },
  {
   "cell_type": "code",
   "execution_count": 4,
   "metadata": {
    "ExecuteTime": {
     "end_time": "2021-07-20T14:47:41.640684Z",
     "start_time": "2021-07-20T14:47:40.733820Z"
    }
   },
   "outputs": [
    {
     "data": {
      "image/svg+xml": [
       "<?xml version=\"1.0\" encoding=\"UTF-8\" standalone=\"no\"?>\n",
       "<!DOCTYPE svg PUBLIC \"-//W3C//DTD SVG 1.1//EN\"\n",
       " \"http://www.w3.org/Graphics/SVG/1.1/DTD/svg11.dtd\">\n",
       "<!-- Generated by graphviz version 2.44.1 (20200629.0846)\n",
       " -->\n",
       "<!-- Pages: 1 -->\n",
       "<svg width=\"324pt\" height=\"79pt\"\n",
       " viewBox=\"0.00 0.00 324.00 78.52\" xmlns=\"http://www.w3.org/2000/svg\" xmlns:xlink=\"http://www.w3.org/1999/xlink\">\n",
       "<g id=\"graph0\" class=\"graph\" transform=\"scale(0.99 0.99) rotate(0) translate(4 75)\">\n",
       "<polygon fill=\"white\" stroke=\"transparent\" points=\"-4,4 -4,-75 322,-75 322,4 -4,4\"/>\n",
       "<!-- c -->\n",
       "<g id=\"node1\" class=\"node\">\n",
       "<title>c</title>\n",
       "<ellipse fill=\"none\" stroke=\"black\" cx=\"27\" cy=\"-18\" rx=\"27\" ry=\"18\"/>\n",
       "<text text-anchor=\"middle\" x=\"27\" y=\"-14.3\" font-family=\"Times,serif\" font-size=\"14.00\">c</text>\n",
       "</g>\n",
       "<!-- y -->\n",
       "<g id=\"node2\" class=\"node\">\n",
       "<title>y</title>\n",
       "<ellipse fill=\"none\" stroke=\"black\" cx=\"159\" cy=\"-53\" rx=\"27\" ry=\"18\"/>\n",
       "<text text-anchor=\"middle\" x=\"159\" y=\"-49.3\" font-family=\"Times,serif\" font-size=\"14.00\">y</text>\n",
       "</g>\n",
       "<!-- c&#45;&#45;y -->\n",
       "<g id=\"edge2\" class=\"edge\">\n",
       "<title>c&#45;&#45;y</title>\n",
       "<path fill=\"none\" stroke=\"black\" d=\"M52.45,-24.58C75.69,-30.84 110.45,-40.2 133.66,-46.45\"/>\n",
       "<text text-anchor=\"middle\" x=\"87.5\" y=\"-40.8\" font-family=\"Times,serif\" font-size=\"14.00\">0.206</text>\n",
       "</g>\n",
       "<!-- yhat -->\n",
       "<g id=\"node3\" class=\"node\">\n",
       "<title>yhat</title>\n",
       "<ellipse fill=\"none\" stroke=\"black\" cx=\"291\" cy=\"-18\" rx=\"27\" ry=\"18\"/>\n",
       "<text text-anchor=\"start\" x=\"287.5\" y=\"-14.3\" font-family=\"Times,serif\" font-size=\"14.00\">ŷ</text>\n",
       "</g>\n",
       "<!-- c&#45;&#45;yhat -->\n",
       "<g id=\"edge1\" class=\"edge\">\n",
       "<title>c&#45;&#45;yhat</title>\n",
       "<path fill=\"none\" stroke=\"black\" stroke-dasharray=\"5,2\" d=\"M54.03,-15.52C72.66,-13.86 98.35,-11.85 121,-11 154.75,-9.73 163.25,-9.73 197,-11 219.65,-11.85 245.34,-13.86 263.97,-15.52\"/>\n",
       "<text text-anchor=\"middle\" x=\"159\" y=\"-14.8\" font-family=\"Times,serif\" font-size=\"14.00\">0.119 (p=0.4)</text>\n",
       "</g>\n",
       "<!-- y&#45;&#45;yhat -->\n",
       "<g id=\"edge3\" class=\"edge\">\n",
       "<title>y&#45;&#45;yhat</title>\n",
       "<path fill=\"none\" stroke=\"black\" d=\"M184.45,-46.42C207.69,-40.16 242.45,-30.8 265.66,-24.55\"/>\n",
       "<text text-anchor=\"middle\" x=\"230.5\" y=\"-40.8\" font-family=\"Times,serif\" font-size=\"14.00\">0.548</text>\n",
       "</g>\n",
       "</g>\n",
       "</svg>\n"
      ],
      "text/plain": [
       "<graphviz.dot.Graph at 0x7fab5a6d2150>"
      ]
     },
     "execution_count": 4,
     "metadata": {},
     "output_type": "execute_result"
    },
    {
     "data": {
      "image/png": "[encoded data removed]",
      "text/plain": [
       "<Figure size 432x288 with 1 Axes>"
      ]
     },
     "metadata": {
      "needs_background": "light"
     },
     "output_type": "display_data"
    }
   ],
   "source": [
    "plot_null_dist(ret)\n",
    "plot_graph(ret)"
   ]
  },
  {
   "cell_type": "markdown",
   "metadata": {
    "ExecuteTime": {
     "end_time": "2021-07-15T20:47:49.132317Z",
     "start_time": "2021-07-15T20:46:40.332726Z"
    },
    "code_folding": []
   },
   "source": [
    "# Do the tests for H1 simulation"
   ]
  },
  {
   "cell_type": "code",
   "execution_count": 5,
   "metadata": {
    "ExecuteTime": {
     "end_time": "2021-07-20T14:47:46.575032Z",
     "start_time": "2021-07-20T14:47:41.642902Z"
    }
   },
   "outputs": [
    {
     "name": "stderr",
     "output_type": "stream",
     "text": [
      "Permuting: 100%|██████████| 1000/1000 [00:04<00:00, 203.55it/s]\n"
     ]
    },
    {
     "data": {
      "text/html": [
       "<div>\n",
       "<style scoped>\n",
       "    .dataframe tbody tr th:only-of-type {\n",
       "        vertical-align: middle;\n",
       "    }\n",
       "\n",
       "    .dataframe tbody tr th {\n",
       "        vertical-align: top;\n",
       "    }\n",
       "\n",
       "    .dataframe thead th {\n",
       "        text-align: right;\n",
       "    }\n",
       "</style>\n",
       "<table border=\"1\" class=\"dataframe\">\n",
       "  <thead>\n",
       "    <tr style=\"text-align: right;\">\n",
       "      <th></th>\n",
       "      <th>p</th>\n",
       "      <th>ci lower</th>\n",
       "      <th>ci upper</th>\n",
       "      <th>R2(y,c)</th>\n",
       "      <th>R2(y^,c)</th>\n",
       "      <th>R2(y,y^)</th>\n",
       "    </tr>\n",
       "  </thead>\n",
       "  <tbody>\n",
       "    <tr>\n",
       "      <th>0</th>\n",
       "      <td>0.03</td>\n",
       "      <td>0.02033</td>\n",
       "      <td>0.042551</td>\n",
       "      <td>0.206002</td>\n",
       "      <td>0.113552</td>\n",
       "      <td>0.349972</td>\n",
       "    </tr>\n",
       "  </tbody>\n",
       "</table>\n",
       "</div>"
      ],
      "text/plain": [
       "      p  ci lower  ci upper   R2(y,c)  R2(y^,c)  R2(y,y^)\n",
       "0  0.03   0.02033  0.042551  0.206002  0.113552  0.349972"
      ]
     },
     "execution_count": 5,
     "metadata": {},
     "output_type": "execute_result"
    }
   ],
   "source": [
    "ret=confound_test(H1_y, H1_yhat, H1_c, num_perms=1000, return_null_dist=True, \n",
    "                  random_state=42, n_jobs=-1)\n",
    "\n",
    "#print results\n",
    "pd.DataFrame({\n",
    "    'p' : [ret.p],\n",
    "    'ci lower' : [ret.p_ci[0]],\n",
    "    'ci upper' : [ret.p_ci[1]],\n",
    "    'R2(y,c)' : [ret.r2_y_c],\n",
    "    'R2(y^,c)' : [ret.r2_yhat_c],\n",
    "    'R2(y,y^)' : [ret.r2_y_yhat],\n",
    "})"
   ]
  },
  {
   "cell_type": "code",
   "execution_count": 6,
   "metadata": {
    "ExecuteTime": {
     "end_time": "2021-07-20T14:47:48.723436Z",
     "start_time": "2021-07-20T14:47:46.579430Z"
    }
   },
   "outputs": [
    {
     "data": {
      "image/svg+xml": [
       "<?xml version=\"1.0\" encoding=\"UTF-8\" standalone=\"no\"?>\n",
       "<!DOCTYPE svg PUBLIC \"-//W3C//DTD SVG 1.1//EN\"\n",
       " \"http://www.w3.org/Graphics/SVG/1.1/DTD/svg11.dtd\">\n",
       "<!-- Generated by graphviz version 2.44.1 (20200629.0846)\n",
       " -->\n",
       "<!-- Pages: 1 -->\n",
       "<svg width=\"324pt\" height=\"61pt\"\n",
       " viewBox=\"0.00 0.00 324.00 60.66\" xmlns=\"http://www.w3.org/2000/svg\" xmlns:xlink=\"http://www.w3.org/1999/xlink\">\n",
       "<g id=\"graph0\" class=\"graph\" transform=\"scale(0.77 0.77) rotate(0) translate(4 75)\">\n",
       "<polygon fill=\"white\" stroke=\"transparent\" points=\"-4,4 -4,-75 417.97,-75 417.97,4 -4,4\"/>\n",
       "<!-- c -->\n",
       "<g id=\"node1\" class=\"node\">\n",
       "<title>c</title>\n",
       "<ellipse fill=\"none\" stroke=\"black\" cx=\"32.5\" cy=\"-18\" rx=\"32.49\" ry=\"18\"/>\n",
       "<text text-anchor=\"middle\" x=\"32.5\" y=\"-14.3\" font-family=\"Times,serif\" font-size=\"14.00\">center</text>\n",
       "</g>\n",
       "<!-- y -->\n",
       "<g id=\"node2\" class=\"node\">\n",
       "<title>y</title>\n",
       "<ellipse fill=\"none\" stroke=\"black\" cx=\"196.34\" cy=\"-53\" rx=\"64.19\" ry=\"18\"/>\n",
       "<text text-anchor=\"middle\" x=\"196.34\" y=\"-49.3\" font-family=\"Times,serif\" font-size=\"14.00\">pain sensitivity</text>\n",
       "</g>\n",
       "<!-- c&#45;&#45;y -->\n",
       "<g id=\"edge2\" class=\"edge\">\n",
       "<title>c&#45;&#45;y</title>\n",
       "<path fill=\"none\" stroke=\"black\" d=\"M63.18,-24.42C85.99,-29.35 118.04,-36.28 144.86,-42.08\"/>\n",
       "<text text-anchor=\"middle\" x=\"98.49\" y=\"-37.8\" font-family=\"Times,serif\" font-size=\"14.00\">0.206</text>\n",
       "</g>\n",
       "<!-- yhat -->\n",
       "<g id=\"node3\" class=\"node\">\n",
       "<title>yhat</title>\n",
       "<ellipse fill=\"none\" stroke=\"black\" cx=\"367.83\" cy=\"-18\" rx=\"46.29\" ry=\"18\"/>\n",
       "<text text-anchor=\"middle\" x=\"367.83\" y=\"-14.3\" font-family=\"Times,serif\" font-size=\"14.00\">prediction</text>\n",
       "</g>\n",
       "<!-- c&#45;&#45;yhat -->\n",
       "<g id=\"edge1\" class=\"edge\">\n",
       "<title>c&#45;&#45;yhat</title>\n",
       "<path fill=\"none\" stroke=\"black\" stroke-dasharray=\"5,2\" d=\"M64.96,-15.19C84.28,-13.61 109.55,-11.8 131.99,-11 189.15,-8.97 203.52,-9.12 260.68,-11 280.99,-11.67 303.44,-13.06 322.45,-14.42\"/>\n",
       "<text text-anchor=\"middle\" x=\"196.34\" y=\"-14.8\" font-family=\"Times,serif\" font-size=\"14.00\">0.114 (p=0.03*)</text>\n",
       "</g>\n",
       "<!-- y&#45;&#45;yhat -->\n",
       "<g id=\"edge3\" class=\"edge\">\n",
       "<title>y&#45;&#45;yhat</title>\n",
       "<path fill=\"none\" stroke=\"black\" d=\"M248.65,-42.4C273.69,-37.23 303.37,-31.1 326.72,-26.28\"/>\n",
       "<text text-anchor=\"middle\" x=\"291.18\" y=\"-38.8\" font-family=\"Times,serif\" font-size=\"14.00\">0.35</text>\n",
       "</g>\n",
       "</g>\n",
       "</svg>\n"
      ],
      "text/plain": [
       "<graphviz.dot.Graph at 0x7fab5b390190>"
      ]
     },
     "execution_count": 6,
     "metadata": {},
     "output_type": "execute_result"
    },
    {
     "data": {
      "image/png": "[encoded data removed]",
      "text/plain": [
       "<Figure size 432x288 with 1 Axes>"
      ]
     },
     "metadata": {
      "needs_background": "light"
     },
     "output_type": "display_data"
    }
   ],
   "source": [
    "plot_null_dist(ret)\n",
    "plot_graph(ret, y_name='pain sensitivity', yhat_name='prediction', c_name='center', outfile_base='example')"
   ]
  },
  {
   "cell_type": "code",
   "execution_count": null,
   "metadata": {},
   "outputs": [],
   "source": []
  }
 ],
 "metadata": {
  "hide_input": false,
  "kernelspec": {
   "display_name": "Python 3",
   "language": "python",
   "name": "python3"
  },
  "language_info": {
   "codemirror_mode": {
    "name": "ipython",
    "version": 3
   },
   "file_extension": ".py",
   "mimetype": "text/x-python",
   "name": "python",
   "nbconvert_exporter": "python",
   "pygments_lexer": "ipython3",
   "version": "3.7.4"
  }
 },
 "nbformat": 4,
 "nbformat_minor": 2
}
