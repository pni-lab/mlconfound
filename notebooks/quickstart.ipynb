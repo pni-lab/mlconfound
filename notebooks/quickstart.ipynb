{
 "cells": [
  {
   "cell_type": "code",
   "execution_count": 1,
   "metadata": {
    "ExecuteTime": {
     "end_time": "2021-07-21T12:15:16.280036Z",
     "start_time": "2021-07-21T12:15:14.729856Z"
    }
   },
   "outputs": [
    {
     "name": "stderr",
     "output_type": "stream",
     "text": [
      "/opt/anaconda3/lib/python3.7/site-packages/statsmodels/tools/_testing.py:19: FutureWarning: pandas.util.testing is deprecated. Use the functions in the public API at pandas.testing instead.\n",
      "  import pandas.util.testing as tm\n"
     ]
    },
    {
     "ename": "ImportError",
     "evalue": "cannot import name 'simulate' from 'mlconfound.simulate' (../mlconfound/simulate.py)",
     "output_type": "error",
     "traceback": [
      "\u001b[0;31m---------------------------------------------------------------------------\u001b[0m",
      "\u001b[0;31mImportError\u001b[0m                               Traceback (most recent call last)",
      "\u001b[0;32m<ipython-input-1-79c8b94f3890>\u001b[0m in \u001b[0;36m<module>\u001b[0;34m\u001b[0m\n\u001b[1;32m      2\u001b[0m \u001b[0msys\u001b[0m\u001b[0;34m.\u001b[0m\u001b[0mpath\u001b[0m\u001b[0;34m.\u001b[0m\u001b[0minsert\u001b[0m\u001b[0;34m(\u001b[0m\u001b[0;36m0\u001b[0m\u001b[0;34m,\u001b[0m \u001b[0;34m'..'\u001b[0m\u001b[0;34m)\u001b[0m\u001b[0;34m\u001b[0m\u001b[0;34m\u001b[0m\u001b[0m\n\u001b[1;32m      3\u001b[0m \u001b[0;32mfrom\u001b[0m \u001b[0mmlconfound\u001b[0m\u001b[0;34m.\u001b[0m\u001b[0mstats\u001b[0m \u001b[0;32mimport\u001b[0m \u001b[0mconfound_test\u001b[0m\u001b[0;34m\u001b[0m\u001b[0;34m\u001b[0m\u001b[0m\n\u001b[0;32m----> 4\u001b[0;31m \u001b[0;32mfrom\u001b[0m \u001b[0mmlconfound\u001b[0m\u001b[0;34m.\u001b[0m\u001b[0msimulate\u001b[0m \u001b[0;32mimport\u001b[0m \u001b[0msimulate\u001b[0m\u001b[0;34m\u001b[0m\u001b[0;34m\u001b[0m\u001b[0m\n\u001b[0m\u001b[1;32m      5\u001b[0m \u001b[0;32mfrom\u001b[0m \u001b[0mmlconfound\u001b[0m\u001b[0;34m.\u001b[0m\u001b[0mplot\u001b[0m \u001b[0;32mimport\u001b[0m \u001b[0mplot_null_dist\u001b[0m\u001b[0;34m,\u001b[0m \u001b[0mplot_graph\u001b[0m\u001b[0;34m\u001b[0m\u001b[0;34m\u001b[0m\u001b[0m\n\u001b[1;32m      6\u001b[0m \u001b[0;34m\u001b[0m\u001b[0m\n",
      "\u001b[0;31mImportError\u001b[0m: cannot import name 'simulate' from 'mlconfound.simulate' (../mlconfound/simulate.py)"
     ]
    }
   ],
   "source": [
    "import sys\n",
    "sys.path.insert(0, '..')\n",
    "from mlconfound.stats import confound_test\n",
    "from mlconfound.simulate import simulate_cyyhat\n",
    "from mlconfound.plot import plot_null_dist, plot_graph\n",
    "\n",
    "import numpy as np\n",
    "import pandas as pd\n",
    "import seaborn as sns\n",
    "sns.set_style(\"whitegrid\")\n",
    "import matplotlib.pyplot as plt"
   ]
  },
  {
   "cell_type": "markdown",
   "metadata": {},
   "source": [
    "# Simulate some data for the null and alternative hypotheses"
   ]
  },
  {
   "cell_type": "code",
   "execution_count": null,
   "metadata": {
    "ExecuteTime": {
     "end_time": "2021-07-21T12:15:16.284709Z",
     "start_time": "2021-07-21T12:15:14.729Z"
    }
   },
   "outputs": [],
   "source": [
    "#                           true signal       confounder\n",
    "H0_y, H0_yhat, H0_c = simulate(0.6,              0.3,     # y\n",
    "                               0.0,              0.9,     # c\n",
    "                               0.4,              0.2,     # yhat\n",
    "                               n=500,                     # simulated sample size\n",
    "                               random_state=42\n",
    "                               )\n",
    "\n",
    "#                           true signal       confounder\n",
    "H1_y, H1_yhat, H1_c = simulate(0.6,              0.3,     # y\n",
    "                               0.0,              0.9,     # c\n",
    "                               0.3,              0.2,     # yhat\n",
    "                               n=500,                     # simulated sample size\n",
    "                               random_state=42\n",
    "                              )"
   ]
  },
  {
   "cell_type": "markdown",
   "metadata": {},
   "source": [
    "# Do the tests for H0 simulation"
   ]
  },
  {
   "cell_type": "code",
   "execution_count": null,
   "metadata": {
    "ExecuteTime": {
     "end_time": "2021-07-21T12:15:16.286206Z",
     "start_time": "2021-07-21T12:15:14.731Z"
    }
   },
   "outputs": [],
   "source": [
    "ret=confound_test(H0_y, H0_yhat, H0_c, num_perms=1000, return_null_dist=True, \n",
    "                  random_state=42)\n",
    "#print results\n",
    "pd.DataFrame({\n",
    "    'p' : [ret.p],\n",
    "    'ci lower' : [ret.p_ci[0]],\n",
    "    'ci upper' : [ret.p_ci[1]],\n",
    "    'R2(y,c)' : [ret.r2_y_c],\n",
    "    'R2(y^,c)' : [ret.r2_yhat_c],\n",
    "    'R2(y,y^)' : [ret.r2_y_yhat],\n",
    "})\n"
   ]
  },
  {
   "cell_type": "markdown",
   "metadata": {
    "ExecuteTime": {
     "end_time": "2021-07-20T09:51:43.948572Z",
     "start_time": "2021-07-20T09:51:43.580181Z"
    }
   },
   "source": [
    "## Use the built-in plot functions:"
   ]
  },
  {
   "cell_type": "code",
   "execution_count": null,
   "metadata": {
    "ExecuteTime": {
     "end_time": "2021-07-21T12:15:16.287702Z",
     "start_time": "2021-07-21T12:15:14.733Z"
    }
   },
   "outputs": [],
   "source": [
    "plot_null_dist(ret)\n",
    "plot_graph(ret)"
   ]
  },
  {
   "cell_type": "markdown",
   "metadata": {
    "ExecuteTime": {
     "end_time": "2021-07-15T20:47:49.132317Z",
     "start_time": "2021-07-15T20:46:40.332726Z"
    },
    "code_folding": []
   },
   "source": [
    "# Do the tests for H1 simulation"
   ]
  },
  {
   "cell_type": "code",
   "execution_count": null,
   "metadata": {
    "ExecuteTime": {
     "end_time": "2021-07-21T12:15:16.289251Z",
     "start_time": "2021-07-21T12:15:14.735Z"
    }
   },
   "outputs": [],
   "source": [
    "ret=confound_test(H1_y, H1_yhat, H1_c, num_perms=1000, return_null_dist=True, \n",
    "                  random_state=42, n_jobs=-1)\n",
    "\n",
    "#print results\n",
    "pd.DataFrame({\n",
    "    'p' : [ret.p],\n",
    "    'ci lower' : [ret.p_ci[0]],\n",
    "    'ci upper' : [ret.p_ci[1]],\n",
    "    'R2(y,c)' : [ret.r2_y_c],\n",
    "    'R2(y^,c)' : [ret.r2_yhat_c],\n",
    "    'R2(y,y^)' : [ret.r2_y_yhat],\n",
    "})"
   ]
  },
  {
   "cell_type": "code",
   "execution_count": null,
   "metadata": {
    "ExecuteTime": {
     "end_time": "2021-07-21T12:15:16.291067Z",
     "start_time": "2021-07-21T12:15:14.737Z"
    }
   },
   "outputs": [],
   "source": [
    "plot_null_dist(ret)\n",
    "plot_graph(ret, y_name='pain sensitivity', yhat_name='prediction', c_name='center', outfile_base='example')"
   ]
  },
  {
   "cell_type": "code",
   "execution_count": 1,
   "metadata": {
    "ExecuteTime": {
     "end_time": "2021-07-28T16:56:30.369202Z",
     "start_time": "2021-07-28T16:56:09.490507Z"
    }
   },
   "outputs": [],
   "source": [
    "import numpy as np\n",
    "from fcit import fcit\n",
    "\n",
    "# Generate some data such that x is indpendent of y given z.\n",
    "n_samples = 1000\n",
    "z = np.random.dirichlet(alpha=np.ones(2), size=n_samples)\n",
    "x = np.vstack([np.random.multinomial(20, p) for p in z]).astype(float)\n",
    "y = np.vstack([np.random.multinomial(20, p) for p in z]).astype(float)\n",
    "\n",
    "# Check that x and y are dependent (p-value should be uniform on [0, 1]).\n",
    "pval_d = fcit.test(x, y)\n",
    "# Check that z d-separates x and y (the p-value should be small).\n",
    "pval_i = fcit.test(x, y, z)"
   ]
  },
  {
   "cell_type": "code",
   "execution_count": null,
   "metadata": {
    "ExecuteTime": {
     "end_time": "2021-07-21T12:15:16.299950Z",
     "start_time": "2021-07-21T12:15:14.743Z"
    }
   },
   "outputs": [],
   "source": [
    "sns.scatterplot(y[0], x[0])"
   ]
  },
  {
   "cell_type": "code",
   "execution_count": null,
   "metadata": {
    "ExecuteTime": {
     "end_time": "2021-07-21T12:15:16.302511Z",
     "start_time": "2021-07-21T12:15:14.745Z"
    }
   },
   "outputs": [],
   "source": [
    "confound_test(x,y,z, n_jobs=-1)"
   ]
  },
  {
   "cell_type": "code",
   "execution_count": null,
   "metadata": {},
   "outputs": [],
   "source": []
  }
 ],
 "metadata": {
  "hide_input": false,
  "kernelspec": {
   "display_name": "Python 3",
   "language": "python",
   "name": "python3"
  },
  "language_info": {
   "codemirror_mode": {
    "name": "ipython",
    "version": 3
   },
   "file_extension": ".py",
   "mimetype": "text/x-python",
   "name": "python",
   "nbconvert_exporter": "python",
   "pygments_lexer": "ipython3",
   "version": "3.7.4"
  }
 },
 "nbformat": 4,
 "nbformat_minor": 2
}
