{
 "cells": [
  {
   "cell_type": "markdown",
   "source": [
    "# Quickstart\n",
    "\n",
    "The partial and full confound tests can characterize whether a predictive model\n",
    "(e.g. a machine learning model) is biased by the confounder variable.\n",
    "\n",
    "In research using predictive modelling techniques, confounder-bias is often investigated\n",
    "(if investigated at all) by testing the association between the confounder variable and\n",
    "the predictive values.\n",
    "However, the significance of this association does not necessarily imply a significant\n",
    "confound-bias of the model, especially if the confounder is also associated to the\n",
    "true target variable. In this case, namely, the model still might not be directly\n",
    "driven by the confounder, i.e. the dependence of the predictions on the confounder\n",
    "can be explained solely by the confounder-target association.\n",
    "Put simply, this is what is tested by the proposed partial confounder test.\n",
    "\n",
    "Here we will apply the `partial confound test` on two simulated datasets:\n",
    "- H0: null-hypothesis dataset with no confounder bias,\n",
    "  i.e. conditional independence between the predicted values\n",
    "  and the confounder variable, given the observed target variable.\n",
    "  Note that the (unconditional) association between the prediction and the target are significant\n",
    "  but - according to the H0 of the partial confoudner test - can be fully explained by the association\n",
    "  between the target and the confounder.\n",
    "- H1: alternative hypothesis with an explicit confounder bias. Here, the association between\n",
    "  the predictions and the confounder is stronger than what could follow form the association\n",
    "  between the target and the confounder.\n",
    "\n",
    "\n",
    "##### Import the necessary packages"
   ],
   "metadata": {
    "collapsed": false
   }
  },
  {
   "cell_type": "code",
   "execution_count": 1,
   "outputs": [],
   "source": [
    "from mlconfound.stats import test_partially_confounded, test_fully_confounded\n",
    "from mlconfound.simulate import simulate_y_c_yhat\n",
    "from mlconfound.plot import plot_null_dist, plot_graph\n",
    "\n",
    "import pandas as pd\n",
    "import seaborn as sns\n",
    "sns.set_style(\"whitegrid\")"
   ],
   "metadata": {
    "collapsed": false,
    "pycharm": {
     "name": "#%%\n"
    }
   }
  },
  {
   "cell_type": "markdown",
   "source": [
    "##### H0 simulations\n",
    "\n",
    "Next, we simulate some data from the null hypothesis.\n",
    "\n",
    "The simulation samples `y` and `c` (`n` datapoints each) from the multivariate normal distribution,\n",
    "so that their correlation is `cov_y_c`.\n",
    "Next, a 'prediction' of y is simulated like this:\n",
    "```\n",
    "yhat = y_ratio_yhat * y + c_ratio_yhat * c + e\n",
    "```\n",
    "where `e` is random standard-Gaussian noise.\n",
    "\n",
    "For the H0 simulation, `c_ratio_yhat` is set to zero."
   ],
   "metadata": {
    "collapsed": false
   }
  },
  {
   "cell_type": "code",
   "execution_count": 2,
   "outputs": [],
   "source": [
    "H0_y, H0_c, H0_yhat = simulate_y_c_yhat(cov_y_c=0.3,\n",
    "                      y_ratio_yhat=0.5, c_ratio_yhat=0,\n",
    "                      n=500, random_state=42)"
   ],
   "metadata": {
    "collapsed": false,
    "pycharm": {
     "name": "#%%\n"
    }
   }
  },
  {
   "cell_type": "markdown",
   "source": [
    "##### Partial confound test\n",
    "\n",
    "Now let's perform the partial confounder tests on this data.\n",
    "The number of permutations and the steps in the Markov-chain Monte Carlo process set to the default values\n",
    "(1000 and 50, respectively).\n",
    "Increase the number of permutations for more accurate p-value estimates.\n",
    "\n",
    "The random seed is set for reproducible results.\n",
    "The flag `return_null_dist` is set so that the full permutation-based null distribution is returned,\n",
    "e.g. for plotting purposes.\n",
    "\n",
    "The pandas dataframe is solely created for \"pretty-printing\" the results."
   ],
   "metadata": {
    "collapsed": false
   }
  },
  {
   "cell_type": "code",
   "execution_count": 3,
   "outputs": [
    {
     "name": "stderr",
     "output_type": "stream",
     "text": [
      "Permuting: 100%|██████████| 1000/1000 [00:01<00:00, 544.69it/s]\n"
     ]
    },
    {
     "data": {
      "text/plain": "       p  ci lower  ci upper   R2(y,c)  R2(y^,c)  R2(y,y^)\n0  0.798  0.771754  0.822478  0.094132  0.031789  0.478693",
      "text/html": "<div>\n<style scoped>\n    .dataframe tbody tr th:only-of-type {\n        vertical-align: middle;\n    }\n\n    .dataframe tbody tr th {\n        vertical-align: top;\n    }\n\n    .dataframe thead th {\n        text-align: right;\n    }\n</style>\n<table border=\"1\" class=\"dataframe\">\n  <thead>\n    <tr style=\"text-align: right;\">\n      <th></th>\n      <th>p</th>\n      <th>ci lower</th>\n      <th>ci upper</th>\n      <th>R2(y,c)</th>\n      <th>R2(y^,c)</th>\n      <th>R2(y,y^)</th>\n    </tr>\n  </thead>\n  <tbody>\n    <tr>\n      <th>0</th>\n      <td>0.798</td>\n      <td>0.771754</td>\n      <td>0.822478</td>\n      <td>0.094132</td>\n      <td>0.031789</td>\n      <td>0.478693</td>\n    </tr>\n  </tbody>\n</table>\n</div>"
     },
     "execution_count": 3,
     "metadata": {},
     "output_type": "execute_result"
    }
   ],
   "source": [
    "ret=test_partially_confounded(H0_y, H0_yhat, H0_c, return_null_dist=True,\n",
    "                  random_state=42)\n",
    "#pretty print results\n",
    "pd.DataFrame({\n",
    "    'p' : [ret.p],\n",
    "    'ci lower' : [ret.p_ci[0]],\n",
    "    'ci upper' : [ret.p_ci[1]],\n",
    "    'R2(y,c)' : [ret.r2_y_c],\n",
    "    'R2(y^,c)' : [ret.r2_yhat_c],\n",
    "    'R2(y,y^)' : [ret.r2_y_yhat],\n",
    "})\n"
   ],
   "metadata": {
    "collapsed": false,
    "pycharm": {
     "name": "#%%\n"
    }
   }
  },
  {
   "cell_type": "markdown",
   "source": [
    "Let's use the built-in plot functions of the package `mlconfound` for a graphical representation of the results."
   ],
   "metadata": {
    "collapsed": false
   }
  },
  {
   "cell_type": "code",
   "execution_count": 4,
   "outputs": [
    {
     "data": {
      "text/plain": "<AxesSubplot:title={'center':'null distribution'}, xlabel='R2(y^,c*)', ylabel='count'>"
     },
     "execution_count": 4,
     "metadata": {},
     "output_type": "execute_result"
    },
    {
     "data": {
      "text/plain": "<Figure size 432x288 with 1 Axes>",
      "image/png": "[encoded data removed]"
     },
     "metadata": {},
     "output_type": "display_data"
    }
   ],
   "source": [
    "plot_null_dist(ret)"
   ],
   "metadata": {
    "collapsed": false,
    "pycharm": {
     "name": "#%%\n"
    }
   }
  },
  {
   "cell_type": "markdown",
   "source": [
    "The histogram shows the $R^2$ values between the predictions and the permuted confounder variable\n",
    "(conditional permutations). The red line indicates that the unpermuted $R^2$ is not \"extreme\",\n",
    "i.e. we have no evidence against the null ($p=0.8$)."
   ],
   "metadata": {
    "collapsed": false
   }
  },
  {
   "cell_type": "code",
   "execution_count": 5,
   "outputs": [
    {
     "data": {
      "text/plain": "<graphviz.dot.Graph at 0x7f5b75138670>",
      "image/svg+xml": "<?xml version=\"1.0\" encoding=\"UTF-8\" standalone=\"no\"?>\n<!DOCTYPE svg PUBLIC \"-//W3C//DTD SVG 1.1//EN\"\n \"http://www.w3.org/Graphics/SVG/1.1/DTD/svg11.dtd\">\n<!-- Generated by graphviz version 2.43.0 (0)\n -->\n<!-- Title: %3 Pages: 1 -->\n<svg width=\"370pt\" height=\"79pt\"\n viewBox=\"0.00 0.00 370.00 79.00\" xmlns=\"http://www.w3.org/2000/svg\" xmlns:xlink=\"http://www.w3.org/1999/xlink\">\n<g id=\"graph0\" class=\"graph\" transform=\"scale(1 1) rotate(0) translate(4 75)\">\n<title>%3</title>\n<polygon fill=\"white\" stroke=\"transparent\" points=\"-4,4 -4,-75 366,-75 366,4 -4,4\"/>\n<!-- c -->\n<g id=\"node1\" class=\"node\">\n<title>c</title>\n<ellipse fill=\"none\" stroke=\"black\" cx=\"27\" cy=\"-18\" rx=\"27\" ry=\"18\"/>\n<text text-anchor=\"middle\" x=\"27\" y=\"-14.3\" font-family=\"Times,serif\" font-size=\"14.00\">c</text>\n</g>\n<!-- y -->\n<g id=\"node2\" class=\"node\">\n<title>y</title>\n<ellipse fill=\"none\" stroke=\"black\" cx=\"181\" cy=\"-53\" rx=\"27\" ry=\"18\"/>\n<text text-anchor=\"middle\" x=\"181\" y=\"-49.3\" font-family=\"Times,serif\" font-size=\"14.00\">y</text>\n</g>\n<!-- c&#45;&#45;y -->\n<g id=\"edge2\" class=\"edge\">\n<title>c&#45;&#45;y</title>\n<path fill=\"none\" stroke=\"black\" d=\"M52.76,-23.7C81.03,-30.21 126.99,-40.79 155.25,-47.3\"/>\n<text text-anchor=\"middle\" x=\"92.5\" y=\"-39.8\" font-family=\"Times,serif\" font-size=\"14.00\">0.094</text>\n</g>\n<!-- yhat -->\n<g id=\"node3\" class=\"node\">\n<title>yhat</title>\n<ellipse fill=\"none\" stroke=\"black\" cx=\"335\" cy=\"-18\" rx=\"27\" ry=\"18\"/>\n<text text-anchor=\"start\" x=\"330.5\" y=\"-14.3\" font-family=\"Times,serif\" font-size=\"14.00\">ŷ</text>\n</g>\n<!-- c&#45;&#45;yhat -->\n<g id=\"edge1\" class=\"edge\">\n<title>c&#45;&#45;yhat</title>\n<path fill=\"none\" stroke=\"black\" stroke-dasharray=\"5,2\" d=\"M53.8,-15.76C74.61,-14.07 104.67,-11.89 131,-11 175.42,-9.49 186.58,-9.49 231,-11 257.33,-11.89 287.39,-14.07 308.2,-15.76\"/>\n<text text-anchor=\"middle\" x=\"181\" y=\"-14.8\" font-family=\"Times,serif\" font-size=\"14.00\">0.032 (p=0.8)</text>\n</g>\n<!-- y&#45;&#45;yhat -->\n<g id=\"edge3\" class=\"edge\">\n<title>y&#45;&#45;yhat</title>\n<path fill=\"none\" stroke=\"black\" d=\"M206.76,-47.3C235.03,-40.79 280.99,-30.21 309.25,-23.7\"/>\n<text text-anchor=\"middle\" x=\"269.5\" y=\"-39.8\" font-family=\"Times,serif\" font-size=\"14.00\">0.479</text>\n</g>\n</g>\n</svg>\n"
     },
     "execution_count": 5,
     "metadata": {},
     "output_type": "execute_result"
    }
   ],
   "source": [
    "plot_graph(ret)"
   ],
   "metadata": {
    "collapsed": false,
    "pycharm": {
     "name": "#%%\n"
    }
   }
  },
  {
   "cell_type": "markdown",
   "source": [
    "The graph shows the unconditional $R^2$ values across the target $y$, confounder $c$ and predictions $\\hat{y}$."
   ],
   "metadata": {
    "collapsed": false
   }
  },
  {
   "cell_type": "markdown",
   "source": [
    "##### H1 simulations and test\n",
    "\n",
    "No let's apply the partial confounder test for H1, that is for a confounded model."
   ],
   "metadata": {
    "collapsed": false
   }
  },
  {
   "cell_type": "code",
   "execution_count": 6,
   "outputs": [
    {
     "name": "stderr",
     "output_type": "stream",
     "text": [
      "Permuting: 100%|██████████| 1000/1000 [00:00<00:00, 1101.98it/s]\n"
     ]
    },
    {
     "data": {
      "text/plain": "       p  ci lower  ci upper   R2(y,c)  R2(y^,c)  R2(y,y^)\n0  0.015  0.008419   0.02462  0.094132  0.079504  0.390694",
      "text/html": "<div>\n<style scoped>\n    .dataframe tbody tr th:only-of-type {\n        vertical-align: middle;\n    }\n\n    .dataframe tbody tr th {\n        vertical-align: top;\n    }\n\n    .dataframe thead th {\n        text-align: right;\n    }\n</style>\n<table border=\"1\" class=\"dataframe\">\n  <thead>\n    <tr style=\"text-align: right;\">\n      <th></th>\n      <th>p</th>\n      <th>ci lower</th>\n      <th>ci upper</th>\n      <th>R2(y,c)</th>\n      <th>R2(y^,c)</th>\n      <th>R2(y,y^)</th>\n    </tr>\n  </thead>\n  <tbody>\n    <tr>\n      <th>0</th>\n      <td>0.015</td>\n      <td>0.008419</td>\n      <td>0.02462</td>\n      <td>0.094132</td>\n      <td>0.079504</td>\n      <td>0.390694</td>\n    </tr>\n  </tbody>\n</table>\n</div>"
     },
     "execution_count": 6,
     "metadata": {},
     "output_type": "execute_result"
    }
   ],
   "source": [
    "H1_y, H1_c, H1_yhat = simulate_y_c_yhat(cov_y_c=0.3,\n",
    "                      y_ratio_yhat=0.4, c_ratio_yhat=0.1,\n",
    "                      n=500, random_state=42)\n",
    "ret=test_partially_confounded(H1_y, H1_yhat, H1_c, num_perms=1000, return_null_dist=True,\n",
    "                  random_state=42, n_jobs=-1)\n",
    "\n",
    "#pretty print results\n",
    "pd.DataFrame({\n",
    "    'p' : [ret.p],\n",
    "    'ci lower' : [ret.p_ci[0]],\n",
    "    'ci upper' : [ret.p_ci[1]],\n",
    "    'R2(y,c)' : [ret.r2_y_c],\n",
    "    'R2(y^,c)' : [ret.r2_yhat_c],\n",
    "    'R2(y,y^)' : [ret.r2_y_yhat],\n",
    "})"
   ],
   "metadata": {
    "collapsed": false,
    "pycharm": {
     "name": "#%%\n"
    }
   }
  },
  {
   "cell_type": "code",
   "execution_count": 7,
   "outputs": [
    {
     "data": {
      "text/plain": "<graphviz.dot.Graph at 0x7f5b750d34c0>",
      "image/svg+xml": "<?xml version=\"1.0\" encoding=\"UTF-8\" standalone=\"no\"?>\n<!DOCTYPE svg PUBLIC \"-//W3C//DTD SVG 1.1//EN\"\n \"http://www.w3.org/Graphics/SVG/1.1/DTD/svg11.dtd\">\n<!-- Generated by graphviz version 2.43.0 (0)\n -->\n<!-- Title: %3 Pages: 1 -->\n<svg width=\"438pt\" height=\"79pt\"\n viewBox=\"0.00 0.00 438.28 79.00\" xmlns=\"http://www.w3.org/2000/svg\" xmlns:xlink=\"http://www.w3.org/1999/xlink\">\n<g id=\"graph0\" class=\"graph\" transform=\"scale(1 1) rotate(0) translate(4 75)\">\n<title>%3</title>\n<polygon fill=\"white\" stroke=\"transparent\" points=\"-4,4 -4,-75 434.28,-75 434.28,4 -4,4\"/>\n<!-- c -->\n<g id=\"node1\" class=\"node\">\n<title>c</title>\n<ellipse fill=\"none\" stroke=\"black\" cx=\"27.3\" cy=\"-18\" rx=\"27.1\" ry=\"18\"/>\n<text text-anchor=\"middle\" x=\"27.3\" y=\"-14.3\" font-family=\"Times,serif\" font-size=\"14.00\">age</text>\n</g>\n<!-- y -->\n<g id=\"node2\" class=\"node\">\n<title>y</title>\n<ellipse fill=\"none\" stroke=\"black\" cx=\"184.6\" cy=\"-53\" rx=\"27\" ry=\"18\"/>\n<text text-anchor=\"middle\" x=\"184.6\" y=\"-49.3\" font-family=\"Times,serif\" font-size=\"14.00\">IQ</text>\n</g>\n<!-- c&#45;&#45;y -->\n<g id=\"edge2\" class=\"edge\">\n<title>c&#45;&#45;y</title>\n<path fill=\"none\" stroke=\"black\" d=\"M53.25,-23.62C82.23,-30.15 129.75,-40.87 158.71,-47.39\"/>\n<text text-anchor=\"middle\" x=\"93.1\" y=\"-39.8\" font-family=\"Times,serif\" font-size=\"14.00\">0.094</text>\n</g>\n<!-- yhat -->\n<g id=\"node3\" class=\"node\">\n<title>yhat</title>\n<ellipse fill=\"none\" stroke=\"black\" cx=\"372.44\" cy=\"-18\" rx=\"57.69\" ry=\"18\"/>\n<text text-anchor=\"middle\" x=\"372.44\" y=\"-14.3\" font-family=\"Times,serif\" font-size=\"14.00\">prediction</text>\n</g>\n<!-- c&#45;&#45;yhat -->\n<g id=\"edge1\" class=\"edge\">\n<title>c&#45;&#45;yhat</title>\n<path fill=\"none\" stroke=\"black\" stroke-dasharray=\"5,2\" d=\"M54.6,-15.73C75.46,-14.04 105.37,-11.89 131.6,-11 178.68,-9.41 190.5,-9.77 237.6,-11 263.18,-11.67 291.49,-13.06 315.46,-14.42\"/>\n<text text-anchor=\"middle\" x=\"184.6\" y=\"-14.8\" font-family=\"Times,serif\" font-size=\"14.00\">0.08 (p=0.02*)</text>\n</g>\n<!-- y&#45;&#45;yhat -->\n<g id=\"edge3\" class=\"edge\">\n<title>y&#45;&#45;yhat</title>\n<path fill=\"none\" stroke=\"black\" d=\"M210.66,-48.28C239.19,-42.91 286.5,-34 322.43,-27.23\"/>\n<text text-anchor=\"middle\" x=\"276.1\" y=\"-42.8\" font-family=\"Times,serif\" font-size=\"14.00\">0.391</text>\n</g>\n</g>\n</svg>\n"
     },
     "execution_count": 7,
     "metadata": {},
     "output_type": "execute_result"
    },
    {
     "data": {
      "text/plain": "<Figure size 432x288 with 1 Axes>",
      "image/png": "[encoded data removed]"
     },
     "metadata": {},
     "output_type": "display_data"
    }
   ],
   "source": [
    "plot_null_dist(ret)\n",
    "# The labels on the graph plot can be customized:\n",
    "plot_graph(ret, y_name='IQ', yhat_name='prediction', c_name='age', outfile_base='example')"
   ],
   "metadata": {
    "collapsed": false,
    "pycharm": {
     "name": "#%%\n"
    }
   }
  },
  {
   "cell_type": "markdown",
   "source": [
    "The low p-value provides evidence against the null hypothesis of\n",
    "$y$ being conditionally independent on $c$ given $y$ and indicates that the model predictions are biased.\n",
    "\n",
    "-----------------------------------------------------------------------------\n",
    "Note\n",
    "\n",
    "For parametric corrections for multiple comparisons\n",
    "(e.g. false discover##### Partial confound testy rate in case of testing many confounders),\n",
    "permutation based p-values must be adjusted if they are zero.\n",
    "A decent option could be in this case to use the upper binomial confidence limit (`p_ci[1]`), instead.\n",
    "\n",
    "-----------------------------------------------------------------------------\n",
    "\n",
    "### References\n",
    "*Tamas Spisak, A conditional permutation-based approach to test confounder effect and center-bias in\n",
    "machine learning models, in prep, 2021.*"
   ],
   "metadata": {
    "collapsed": false
   }
  }
 ],
 "metadata": {
  "hide_input": false,
  "kernelspec": {
   "display_name": "Python 3",
   "language": "python",
   "name": "python3"
  },
  "language_info": {
   "codemirror_mode": {
    "name": "ipython",
    "version": 3
   },
   "file_extension": ".py",
   "mimetype": "text/x-python",
   "name": "python",
   "nbconvert_exporter": "python",
   "pygments_lexer": "ipython3",
   "version": "3.7.4"
  }
 },
 "nbformat": 4,
 "nbformat_minor": 2
}