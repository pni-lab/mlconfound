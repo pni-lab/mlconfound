{
 "cells": [
  {
   "cell_type": "markdown",
   "source": [
    "# Quickstart\n",
    "\n",
    "The partial and full confound tests can characterize whether a predictive model\n",
    "(e.g. a machine learning model) is biased by the confounder variable.\n",
    "\n",
    "In research using predictive modelling techniques, confounder-bias is often investigated\n",
    "(if investigated at all) by testing the association between the confounder variable and\n",
    "the predictive values.\n",
    "However, the significance of this association does not necessarily imply a significant\n",
    "confound-bias of the model, especially if the confounder is also associated to the\n",
    "true target variable. In this case, namely, the model still might not be directly\n",
    "driven by the confounder, i.e. the dependence of the predictions on the confounder\n",
    "can be explained solely by the confounder-target association.\n",
    "Put simply, this is what is tested by the proposed partial confounder test.\n",
    "\n",
    "Here we will apply the `partial confounder test` on two simulated datasets:\n",
    "- H0: null-hypothesis dataset with no confounder bias,\n",
    "  i.e. conditional independence between the predicted values\n",
    "  and the confounder variable, given the observed target variable.\n",
    "  Note that the (unconditional) association between the prediction and the target are significant\n",
    "  but - according to the H0 of the partial confounder test - can be fully explained by the association\n",
    "  between the target and the confounder.\n",
    "- H1: alternative hypothesis with an explicit confounder bias. Here, the association between\n",
    "  the predictions and the confounder is stronger than what could follow form the association\n",
    "  between the target and the confounder.\n",
    "\n",
    "\n",
    "##### Import the necessary packages"
   ],
   "metadata": {
    "collapsed": false,
    "pycharm": {
     "name": "#%% md\n"
    }
   }
  },
  {
   "cell_type": "code",
   "execution_count": 6,
   "outputs": [],
   "source": [
    "from mlconfound.stats import partial_confound_test\n",
    "from mlconfound.simulate import simulate_y_c_yhat\n",
    "from mlconfound.plot import plot_null_dist, plot_graph\n",
    "\n",
    "import numpy as np\n",
    "import pandas as pd\n",
    "import seaborn as sns\n",
    "sns.set_style(\"whitegrid\")"
   ],
   "metadata": {
    "collapsed": false,
    "pycharm": {
     "name": "#%%\n"
    }
   }
  },
  {
   "cell_type": "markdown",
   "source": [
    "##### H0 simulations\n",
    "\n",
    "Next, we simulate some data from the null hypothesis.\n",
    "For the H0 simulation, the direct contribution of the confounder to the predicted values (`w_cyhat`) is set to zero."
   ],
   "metadata": {
    "collapsed": false,
    "pycharm": {
     "name": "#%% md\n"
    }
   }
  },
  {
   "cell_type": "code",
   "execution_count": 7,
   "outputs": [],
   "source": [
    "H0_y, H0_c, H0_yhat = simulate_y_c_yhat(w_yc=0.5,\n",
    "                      w_yyhat=0.5, w_cyhat=0,\n",
    "                      n=1000, random_state=42)"
   ],
   "metadata": {
    "collapsed": false,
    "pycharm": {
     "name": "#%%\n"
    }
   }
  },
  {
   "cell_type": "markdown",
   "source": [
    "##### Partial confound test\n",
    "\n",
    "Now let's perform the partial confounder tests on this data.\n",
    "The number of permutations and the steps in the Markov-chain Monte Carlo process set to the default values\n",
    "(1000 and 50, respectively).\n",
    "Increase the number of permutations for more accurate p-value estimates.\n",
    "\n",
    "The random seed is set for reproducible results.\n",
    "The flag `return_null_dist` is set so that the full permutation-based null distribution is returned,\n",
    "e.g. for plotting purposes.\n",
    "\n",
    "The pandas dataframe is solely created for \"pretty-printing\" the results."
   ],
   "metadata": {
    "collapsed": false,
    "pycharm": {
     "name": "#%% md\n"
    }
   }
  },
  {
   "cell_type": "code",
   "execution_count": 9,
   "outputs": [
    {
     "name": "stderr",
     "output_type": "stream",
     "text": [
      "Permuting: 100%|██████████| 1000/1000 [00:01<00:00, 529.63it/s]\n"
     ]
    },
    {
     "data": {
      "text/plain": "       p  ci lower  ci upper   R2(y,c)  R2(y,y^)     Expected R2(y^,c)  \\\n0  0.761  0.733321  0.787133  0.187028  0.210914  [0.024, 0.04, 0.059]   \n\n   R2(y^,c)  \n0  0.031732  ",
      "text/html": "<div>\n<style scoped>\n    .dataframe tbody tr th:only-of-type {\n        vertical-align: middle;\n    }\n\n    .dataframe tbody tr th {\n        vertical-align: top;\n    }\n\n    .dataframe thead th {\n        text-align: right;\n    }\n</style>\n<table border=\"1\" class=\"dataframe\">\n  <thead>\n    <tr style=\"text-align: right;\">\n      <th></th>\n      <th>p</th>\n      <th>ci lower</th>\n      <th>ci upper</th>\n      <th>R2(y,c)</th>\n      <th>R2(y,y^)</th>\n      <th>Expected R2(y^,c)</th>\n      <th>R2(y^,c)</th>\n    </tr>\n  </thead>\n  <tbody>\n    <tr>\n      <th>0</th>\n      <td>0.761</td>\n      <td>0.733321</td>\n      <td>0.787133</td>\n      <td>0.187028</td>\n      <td>0.210914</td>\n      <td>[0.024, 0.04, 0.059]</td>\n      <td>0.031732</td>\n    </tr>\n  </tbody>\n</table>\n</div>"
     },
     "execution_count": 9,
     "metadata": {},
     "output_type": "execute_result"
    }
   ],
   "source": [
    "ret=partial_confound_test(H0_y, H0_yhat, H0_c, return_null_dist=True,\n",
    "                  random_state=42)\n",
    "#pretty print results\n",
    "pd.DataFrame({\n",
    "    'p' : [ret.p],\n",
    "    'ci lower' : [ret.p_ci[0]],\n",
    "    'ci upper' : [ret.p_ci[1]],\n",
    "    'R2(y,c)' : [ret.r2_y_c],\n",
    "    'R2(y,y^)' : [ret.r2_y_yhat],\n",
    "    'Expected R2(y^,c)': [np.round(ret.expected_r2_yhat_c, 3)],\n",
    "    'R2(y^,c)' : [ret.r2_yhat_c]\n",
    "})\n"
   ],
   "metadata": {
    "collapsed": false,
    "pycharm": {
     "name": "#%%\n"
    }
   }
  },
  {
   "cell_type": "markdown",
   "source": [
    "Let's use the built-in plot functions of the package `mlconfound` for a graphical representation of the results."
   ],
   "metadata": {
    "collapsed": false,
    "pycharm": {
     "name": "#%% md\n"
    }
   }
  },
  {
   "cell_type": "code",
   "execution_count": 10,
   "outputs": [
    {
     "data": {
      "text/plain": "<AxesSubplot:title={'center':'null distribution'}, xlabel='R2(y^,c*)', ylabel='count'>"
     },
     "execution_count": 10,
     "metadata": {},
     "output_type": "execute_result"
    },
    {
     "data": {
      "text/plain": "<Figure size 432x288 with 1 Axes>",
      "image/png": "[encoded data removed]"
     },
     "metadata": {},
     "output_type": "display_data"
    }
   ],
   "source": [
    "plot_null_dist(ret)"
   ],
   "metadata": {
    "collapsed": false,
    "pycharm": {
     "name": "#%%\n"
    }
   }
  },
  {
   "cell_type": "markdown",
   "source": [
    "The histogram shows the $R^2$ values between the predictions and the permuted confounder variable\n",
    "(conditional permutations). The red line indicates that the unpermuted $R^2$ is not \"extreme\",\n",
    "i.e. we have no evidence against the null ($p=0.76$)."
   ],
   "metadata": {
    "collapsed": false,
    "pycharm": {
     "name": "#%% md\n"
    }
   }
  },
  {
   "cell_type": "code",
   "execution_count": 11,
   "outputs": [
    {
     "data": {
      "text/plain": "<graphviz.dot.Graph at 0x7f5fbcf98d90>",
      "image/svg+xml": "<?xml version=\"1.0\" encoding=\"UTF-8\" standalone=\"no\"?>\n<!DOCTYPE svg PUBLIC \"-//W3C//DTD SVG 1.1//EN\"\n \"http://www.w3.org/Graphics/SVG/1.1/DTD/svg11.dtd\">\n<!-- Generated by graphviz version 2.43.0 (0)\n -->\n<!-- Title: %3 Pages: 1 -->\n<svg width=\"379pt\" height=\"79pt\"\n viewBox=\"0.00 0.00 379.00 79.00\" xmlns=\"http://www.w3.org/2000/svg\" xmlns:xlink=\"http://www.w3.org/1999/xlink\">\n<g id=\"graph0\" class=\"graph\" transform=\"scale(1 1) rotate(0) translate(4 75)\">\n<title>%3</title>\n<polygon fill=\"white\" stroke=\"transparent\" points=\"-4,4 -4,-75 375,-75 375,4 -4,4\"/>\n<!-- c -->\n<g id=\"node1\" class=\"node\">\n<title>c</title>\n<ellipse fill=\"none\" stroke=\"black\" cx=\"27\" cy=\"-18\" rx=\"27\" ry=\"18\"/>\n<text text-anchor=\"middle\" x=\"27\" y=\"-14.3\" font-family=\"Times,serif\" font-size=\"14.00\">c</text>\n</g>\n<!-- y -->\n<g id=\"node2\" class=\"node\">\n<title>y</title>\n<ellipse fill=\"none\" stroke=\"black\" cx=\"185.5\" cy=\"-53\" rx=\"27\" ry=\"18\"/>\n<text text-anchor=\"middle\" x=\"185.5\" y=\"-49.3\" font-family=\"Times,serif\" font-size=\"14.00\">y</text>\n</g>\n<!-- c&#45;&#45;y -->\n<g id=\"edge2\" class=\"edge\">\n<title>c&#45;&#45;y</title>\n<path fill=\"none\" stroke=\"black\" d=\"M52.8,-23.55C82.02,-30.08 130.28,-40.87 159.56,-47.42\"/>\n<text text-anchor=\"middle\" x=\"92.5\" y=\"-39.8\" font-family=\"Times,serif\" font-size=\"14.00\">0.187</text>\n</g>\n<!-- yhat -->\n<g id=\"node3\" class=\"node\">\n<title>yhat</title>\n<ellipse fill=\"none\" stroke=\"black\" cx=\"344\" cy=\"-18\" rx=\"27\" ry=\"18\"/>\n<text text-anchor=\"start\" x=\"339.5\" y=\"-14.3\" font-family=\"Times,serif\" font-size=\"14.00\">ŷ</text>\n</g>\n<!-- c&#45;&#45;yhat -->\n<g id=\"edge1\" class=\"edge\">\n<title>c&#45;&#45;yhat</title>\n<path fill=\"none\" stroke=\"black\" stroke-dasharray=\"5,2\" d=\"M53.8,-15.76C74.61,-14.07 104.67,-11.89 131,-11 179.42,-9.36 191.58,-9.36 240,-11 266.33,-11.89 296.39,-14.07 317.2,-15.76\"/>\n<text text-anchor=\"middle\" x=\"185.5\" y=\"-14.8\" font-family=\"Times,serif\" font-size=\"14.00\">0.032 (p=0.76)</text>\n</g>\n<!-- y&#45;&#45;yhat -->\n<g id=\"edge3\" class=\"edge\">\n<title>y&#45;&#45;yhat</title>\n<path fill=\"none\" stroke=\"black\" d=\"M211.3,-47.45C240.52,-40.92 288.78,-30.13 318.06,-23.58\"/>\n<text text-anchor=\"middle\" x=\"278.5\" y=\"-39.8\" font-family=\"Times,serif\" font-size=\"14.00\">0.211</text>\n</g>\n</g>\n</svg>\n"
     },
     "execution_count": 11,
     "metadata": {},
     "output_type": "execute_result"
    }
   ],
   "source": [
    "plot_graph(ret)"
   ],
   "metadata": {
    "collapsed": false,
    "pycharm": {
     "name": "#%%\n"
    }
   }
  },
  {
   "cell_type": "markdown",
   "source": [
    "The graph shows the unconditional $R^2$ values across the target $y$, confounder $c$ and predictions $\\hat{y}$."
   ],
   "metadata": {
    "collapsed": false,
    "pycharm": {
     "name": "#%% md\n"
    }
   }
  },
  {
   "cell_type": "markdown",
   "source": [
    "##### H1 simulations and test\n",
    "\n",
    "No let's apply the partial confounder test for H1, that is for a confounded model."
   ],
   "metadata": {
    "collapsed": false,
    "pycharm": {
     "name": "#%% md\n"
    }
   }
  },
  {
   "cell_type": "code",
   "execution_count": 13,
   "outputs": [
    {
     "name": "stderr",
     "output_type": "stream",
     "text": [
      "Permuting: 100%|██████████| 1000/1000 [00:01<00:00, 524.01it/s]\n"
     ]
    },
    {
     "data": {
      "text/plain": "       p  ci lower  ci upper   R2(y,c)  R2(y,y^)      Expected R2(y^,c)  \\\n0  0.027  0.017867  0.039042  0.187028  0.237854  [0.027, 0.044, 0.065]   \n\n   R2(y^,c)  \n0  0.067903  ",
      "text/html": "<div>\n<style scoped>\n    .dataframe tbody tr th:only-of-type {\n        vertical-align: middle;\n    }\n\n    .dataframe tbody tr th {\n        vertical-align: top;\n    }\n\n    .dataframe thead th {\n        text-align: right;\n    }\n</style>\n<table border=\"1\" class=\"dataframe\">\n  <thead>\n    <tr style=\"text-align: right;\">\n      <th></th>\n      <th>p</th>\n      <th>ci lower</th>\n      <th>ci upper</th>\n      <th>R2(y,c)</th>\n      <th>R2(y,y^)</th>\n      <th>Expected R2(y^,c)</th>\n      <th>R2(y^,c)</th>\n    </tr>\n  </thead>\n  <tbody>\n    <tr>\n      <th>0</th>\n      <td>0.027</td>\n      <td>0.017867</td>\n      <td>0.039042</td>\n      <td>0.187028</td>\n      <td>0.237854</td>\n      <td>[0.027, 0.044, 0.065]</td>\n      <td>0.067903</td>\n    </tr>\n  </tbody>\n</table>\n</div>"
     },
     "execution_count": 13,
     "metadata": {},
     "output_type": "execute_result"
    }
   ],
   "source": [
    "H1_y, H1_c, H1_yhat = simulate_y_c_yhat(w_yc=0.5,\n",
    "                      w_yyhat=0.5, w_cyhat=0.1,\n",
    "                      n=1000, random_state=42)\n",
    "ret=partial_confound_test(H1_y, H1_yhat, H1_c, num_perms=1000, return_null_dist=True,\n",
    "                  random_state=42, n_jobs=-1)\n",
    "\n",
    "#pretty print results\n",
    "pd.DataFrame({\n",
    "    'p' : [ret.p],\n",
    "    'ci lower' : [ret.p_ci[0]],\n",
    "    'ci upper' : [ret.p_ci[1]],\n",
    "    'R2(y,c)' : [ret.r2_y_c],\n",
    "    'R2(y,y^)' : [ret.r2_y_yhat],\n",
    "    'Expected R2(y^,c)': [np.round(ret.expected_r2_yhat_c, 3)],\n",
    "    'R2(y^,c)' : [ret.r2_yhat_c]\n",
    "})"
   ],
   "metadata": {
    "collapsed": false,
    "pycharm": {
     "name": "#%%\n"
    }
   }
  },
  {
   "cell_type": "code",
   "execution_count": 7,
   "outputs": [
    {
     "data": {
      "text/plain": "<graphviz.dot.Graph at 0x7f7528436fa0>",
      "image/svg+xml": "<?xml version=\"1.0\" encoding=\"UTF-8\" standalone=\"no\"?>\n<!DOCTYPE svg PUBLIC \"-//W3C//DTD SVG 1.1//EN\"\n \"http://www.w3.org/Graphics/SVG/1.1/DTD/svg11.dtd\">\n<!-- Generated by graphviz version 2.43.0 (0)\n -->\n<!-- Title: %3 Pages: 1 -->\n<svg width=\"447pt\" height=\"79pt\"\n viewBox=\"0.00 0.00 447.28 79.00\" xmlns=\"http://www.w3.org/2000/svg\" xmlns:xlink=\"http://www.w3.org/1999/xlink\">\n<g id=\"graph0\" class=\"graph\" transform=\"scale(1 1) rotate(0) translate(4 75)\">\n<title>%3</title>\n<polygon fill=\"white\" stroke=\"transparent\" points=\"-4,4 -4,-75 443.28,-75 443.28,4 -4,4\"/>\n<!-- c -->\n<g id=\"node1\" class=\"node\">\n<title>c</title>\n<ellipse fill=\"none\" stroke=\"black\" cx=\"27.3\" cy=\"-18\" rx=\"27.1\" ry=\"18\"/>\n<text text-anchor=\"middle\" x=\"27.3\" y=\"-14.3\" font-family=\"Times,serif\" font-size=\"14.00\">age</text>\n</g>\n<!-- y -->\n<g id=\"node2\" class=\"node\">\n<title>y</title>\n<ellipse fill=\"none\" stroke=\"black\" cx=\"189.1\" cy=\"-53\" rx=\"27\" ry=\"18\"/>\n<text text-anchor=\"middle\" x=\"189.1\" y=\"-49.3\" font-family=\"Times,serif\" font-size=\"14.00\">IQ</text>\n</g>\n<!-- c&#45;&#45;y -->\n<g id=\"edge2\" class=\"edge\">\n<title>c&#45;&#45;y</title>\n<path fill=\"none\" stroke=\"black\" d=\"M53.62,-23.55C83.63,-30.12 133.31,-41 163.16,-47.54\"/>\n<text text-anchor=\"middle\" x=\"93.1\" y=\"-39.8\" font-family=\"Times,serif\" font-size=\"14.00\">0.187</text>\n</g>\n<!-- yhat -->\n<g id=\"node3\" class=\"node\">\n<title>yhat</title>\n<ellipse fill=\"none\" stroke=\"black\" cx=\"381.44\" cy=\"-18\" rx=\"57.69\" ry=\"18\"/>\n<text text-anchor=\"middle\" x=\"381.44\" y=\"-14.3\" font-family=\"Times,serif\" font-size=\"14.00\">prediction</text>\n</g>\n<!-- c&#45;&#45;yhat -->\n<g id=\"edge1\" class=\"edge\">\n<title>c&#45;&#45;yhat</title>\n<path fill=\"none\" stroke=\"black\" stroke-dasharray=\"5,2\" d=\"M54.6,-15.73C75.46,-14.04 105.37,-11.89 131.6,-11 182.68,-9.27 195.5,-9.66 246.6,-11 272.18,-11.67 300.49,-13.06 324.46,-14.42\"/>\n<text text-anchor=\"middle\" x=\"189.1\" y=\"-14.8\" font-family=\"Times,serif\" font-size=\"14.00\">0.068 (p=0.03*)</text>\n</g>\n<!-- y&#45;&#45;yhat -->\n<g id=\"edge3\" class=\"edge\">\n<title>y&#45;&#45;yhat</title>\n<path fill=\"none\" stroke=\"black\" d=\"M215.37,-48.35C244.8,-42.94 294.1,-33.88 331.17,-27.06\"/>\n<text text-anchor=\"middle\" x=\"285.1\" y=\"-41.8\" font-family=\"Times,serif\" font-size=\"14.00\">0.238</text>\n</g>\n</g>\n</svg>\n"
     },
     "execution_count": 7,
     "metadata": {},
     "output_type": "execute_result"
    },
    {
     "data": {
      "text/plain": "<Figure size 432x288 with 1 Axes>",
      "image/png": "[encoded data removed]"
     },
     "metadata": {},
     "output_type": "display_data"
    }
   ],
   "source": [
    "plot_null_dist(ret)\n",
    "# Note that the labels on the graph plot can be customized:\n",
    "plot_graph(ret, y_name='IQ', yhat_name='prediction', c_name='age', outfile_base='example')"
   ],
   "metadata": {
    "collapsed": false,
    "pycharm": {
     "name": "#%%\n"
    }
   }
  },
  {
   "cell_type": "markdown",
   "source": [
    "The low p-value provides evidence against the null hypothesis of\n",
    "$y$ being conditionally independent on $c$ given $y$ and indicates that the model predictions are biased.\n",
    "\n",
    "-----------------------------------------------------------------------------\n",
    "Note\n",
    "\n",
    "For parametric corrections for multiple comparisons (e.g. false discovery rate in case of testing many confounders), permuted p-values must not be zero.\n",
    "In this case, permutation based p-values must be adjusted if they are zero.\n",
    "A decent option could be in this case to use the upper binomial confidence limit (`p_ci[1]`) for FDR.\n",
    "\n",
    "-----------------------------------------------------------------------------\n",
    "\n",
    "### References\n",
    "*Tamas Spisak, A conditional permutation-based approach to test confounder effect and center-bias in\n",
    "machine learning models, in prep, 2021.*"
   ],
   "metadata": {
    "collapsed": false,
    "pycharm": {
     "name": "#%% md\n"
    }
   }
  }
 ],
 "metadata": {
  "hide_input": false,
  "kernelspec": {
   "display_name": "Python 3",
   "language": "python",
   "name": "python3"
  },
  "language_info": {
   "codemirror_mode": {
    "name": "ipython",
    "version": 3
   },
   "file_extension": ".py",
   "mimetype": "text/x-python",
   "name": "python",
   "nbconvert_exporter": "python",
   "pygments_lexer": "ipython3",
   "version": "3.7.4"
  }
 },
 "nbformat": 4,
 "nbformat_minor": 2
}