{
 "cells": [
  {
   "cell_type": "markdown",
   "metadata": {},
   "source": [
    "# Analysis of the ABIDE dataset\n",
    "\n",
    "### Imports"
   ]
  },
  {
   "cell_type": "code",
   "execution_count": 57,
   "metadata": {
    "ExecuteTime": {
     "end_time": "2021-08-03T20:38:07.505483Z",
     "start_time": "2021-08-03T20:38:07.492504Z"
    }
   },
   "outputs": [],
   "source": [
    "import warnings\n",
    "import os\n",
    "from os.path import join\n",
    "import numpy as np\n",
    "import pandas as pd\n",
    "from scipy.stats import kurtosis, skew\n",
    "\n",
    "import matplotlib.pyplot as plt\n",
    "import seaborn as sns\n",
    "sns.set_style(\"whitegrid\")\n",
    "\n",
    "from sklearn.model_selection import cross_val_predict, StratifiedKFold, GridSearchCV\n",
    "from sklearn.pipeline import Pipeline\n",
    "from sklearn.feature_selection import VarianceThreshold\n",
    "from sklearn.linear_model import RidgeClassifier, LogisticRegression\n",
    "from sklearn.svm import SVC\n",
    "from sklearn.preprocessing import quantile_transform\n",
    "from sklearn.metrics import r2_score, roc_curve, RocCurveDisplay, confusion_matrix, ConfusionMatrixDisplay\n",
    "from nilearn.datasets.utils import _uncompress_file, _fetch_file\n",
    "from nilearn.connectome import ConnectivityMeasure\n",
    "\n",
    "from neurocombat_sklearn import CombatModel\n",
    "\n",
    "import statsmodels.api as sm\n",
    "from statsmodels.regression.linear_model import OLS\n",
    "from statsmodels.formula.api import ols as ols_f\n",
    "from statsmodels.formula.api import mnlogit as logit_f\n",
    "\n",
    "from mlxtend.evaluate import permutation_test\n",
    "#!pip install git+https://github.com/pni-lab/mlconfound --upgrade\n",
    "#from importlib import reload\n",
    "import mlconfound\n",
    "from mlconfound.stats import test_fully_confounded, test_partially_confounded\n",
    "from mlconfound.plot import plot_graph\n",
    "#reload(mlconfound.stats)\n",
    "\n",
    "from neurocombat_sklearn import CombatModel"
   ]
  },
  {
   "cell_type": "markdown",
   "metadata": {
    "ExecuteTime": {
     "end_time": "2021-07-31T18:11:08.469487Z",
     "start_time": "2021-07-31T18:11:08.452669Z"
    }
   },
   "source": [
    "## Load data"
   ]
  },
  {
   "cell_type": "code",
   "execution_count": 2,
   "metadata": {
    "ExecuteTime": {
     "end_time": "2021-08-01T19:07:13.775609Z",
     "start_time": "2021-08-01T19:07:13.772837Z"
    }
   },
   "outputs": [],
   "source": [
    "data_dir = '../data_in/ABIDE'\n",
    "\n",
    "url = 'https://osf.io/hc4md/download'\n",
    "\n",
    "# Download the zip file, first\n",
    "dl_file = _fetch_file(url, data_dir=data_dir)\n",
    "\n",
    "# Second, uncompress the downloaded zip file\n",
    "_uncompress_file(dl_file, verbose=2)\n"
   ]
  },
  {
   "cell_type": "code",
   "execution_count": 3,
   "metadata": {
    "ExecuteTime": {
     "end_time": "2021-08-01T19:07:13.788158Z",
     "start_time": "2021-08-01T19:07:13.779135Z"
    }
   },
   "outputs": [],
   "source": [
    "def _get_paths(phenotypic, atlas, timeseries_dir):\n",
    "    \"\"\"\n",
    "    \"\"\"\n",
    "    timeseries = []\n",
    "    IDs_subject = []\n",
    "    diagnosis = []\n",
    "    subject_ids = phenotypic['SUB_ID']\n",
    "    mean_fd = []\n",
    "    num_fd = []\n",
    "    perc_fd = []\n",
    "    site = []\n",
    "    for index, subject_id in enumerate(subject_ids):\n",
    "        this_pheno = phenotypic[phenotypic['SUB_ID'] == subject_id]\n",
    "        this_timeseries = join(timeseries_dir, atlas,\n",
    "                               str(subject_id) + '_timeseries.txt')\n",
    "        if os.path.exists(this_timeseries):\n",
    "            timeseries.append(np.loadtxt(this_timeseries))\n",
    "            IDs_subject.append(subject_id)\n",
    "            diagnosis.append(this_pheno['DX_GROUP'].values[0])\n",
    "            mean_fd.append(this_pheno['func_mean_fd'].values[0])\n",
    "            num_fd.append(this_pheno['func_num_fd'].values[0])\n",
    "            perc_fd.append(this_pheno['func_perc_fd'].values[0])\n",
    "            site.append(this_pheno['SITE_ID'].values[0])\n",
    "    return timeseries, diagnosis, IDs_subject, mean_fd, num_fd, perc_fd, site"
   ]
  },
  {
   "cell_type": "code",
   "execution_count": 4,
   "metadata": {
    "ExecuteTime": {
     "end_time": "2021-08-01T19:07:43.346661Z",
     "start_time": "2021-08-01T19:07:13.792338Z"
    }
   },
   "outputs": [
    {
     "data": {
      "text/html": [
       "<div>\n",
       "<style scoped>\n",
       "    .dataframe tbody tr th:only-of-type {\n",
       "        vertical-align: middle;\n",
       "    }\n",
       "\n",
       "    .dataframe tbody tr th {\n",
       "        vertical-align: top;\n",
       "    }\n",
       "\n",
       "    .dataframe thead th {\n",
       "        text-align: right;\n",
       "    }\n",
       "</style>\n",
       "<table border=\"1\" class=\"dataframe\">\n",
       "  <thead>\n",
       "    <tr style=\"text-align: right;\">\n",
       "      <th></th>\n",
       "      <th>SUB_ID</th>\n",
       "      <th>X</th>\n",
       "      <th>subject</th>\n",
       "      <th>SITE_ID</th>\n",
       "      <th>FILE_ID</th>\n",
       "      <th>DX_GROUP</th>\n",
       "      <th>DSM_IV_TR</th>\n",
       "      <th>AGE_AT_SCAN</th>\n",
       "      <th>SEX</th>\n",
       "      <th>HANDEDNESS_CATEGORY</th>\n",
       "      <th>...</th>\n",
       "      <th>qc_notes_rater_1</th>\n",
       "      <th>qc_anat_rater_2</th>\n",
       "      <th>qc_anat_notes_rater_2</th>\n",
       "      <th>qc_func_rater_2</th>\n",
       "      <th>qc_func_notes_rater_2</th>\n",
       "      <th>qc_anat_rater_3</th>\n",
       "      <th>qc_anat_notes_rater_3</th>\n",
       "      <th>qc_func_rater_3</th>\n",
       "      <th>qc_func_notes_rater_3</th>\n",
       "      <th>SUB_IN_SMP</th>\n",
       "    </tr>\n",
       "  </thead>\n",
       "  <tbody>\n",
       "    <tr>\n",
       "      <th>0</th>\n",
       "      <td>50002</td>\n",
       "      <td>1</td>\n",
       "      <td>50002</td>\n",
       "      <td>PITT</td>\n",
       "      <td>no_filename</td>\n",
       "      <td>1</td>\n",
       "      <td>1</td>\n",
       "      <td>16.77</td>\n",
       "      <td>1</td>\n",
       "      <td>Ambi</td>\n",
       "      <td>...</td>\n",
       "      <td>NaN</td>\n",
       "      <td>OK</td>\n",
       "      <td>NaN</td>\n",
       "      <td>fail</td>\n",
       "      <td>ic-parietal-cerebellum</td>\n",
       "      <td>OK</td>\n",
       "      <td>NaN</td>\n",
       "      <td>fail</td>\n",
       "      <td>ERROR #24</td>\n",
       "      <td>1</td>\n",
       "    </tr>\n",
       "    <tr>\n",
       "      <th>1</th>\n",
       "      <td>50003</td>\n",
       "      <td>2</td>\n",
       "      <td>50003</td>\n",
       "      <td>PITT</td>\n",
       "      <td>Pitt_0050003</td>\n",
       "      <td>1</td>\n",
       "      <td>1</td>\n",
       "      <td>24.45</td>\n",
       "      <td>1</td>\n",
       "      <td>R</td>\n",
       "      <td>...</td>\n",
       "      <td>NaN</td>\n",
       "      <td>OK</td>\n",
       "      <td>NaN</td>\n",
       "      <td>OK</td>\n",
       "      <td>NaN</td>\n",
       "      <td>OK</td>\n",
       "      <td>NaN</td>\n",
       "      <td>OK</td>\n",
       "      <td>NaN</td>\n",
       "      <td>1</td>\n",
       "    </tr>\n",
       "    <tr>\n",
       "      <th>2</th>\n",
       "      <td>50004</td>\n",
       "      <td>3</td>\n",
       "      <td>50004</td>\n",
       "      <td>PITT</td>\n",
       "      <td>Pitt_0050004</td>\n",
       "      <td>1</td>\n",
       "      <td>1</td>\n",
       "      <td>19.09</td>\n",
       "      <td>1</td>\n",
       "      <td>R</td>\n",
       "      <td>...</td>\n",
       "      <td>NaN</td>\n",
       "      <td>OK</td>\n",
       "      <td>NaN</td>\n",
       "      <td>OK</td>\n",
       "      <td>NaN</td>\n",
       "      <td>OK</td>\n",
       "      <td>NaN</td>\n",
       "      <td>OK</td>\n",
       "      <td>NaN</td>\n",
       "      <td>1</td>\n",
       "    </tr>\n",
       "    <tr>\n",
       "      <th>3</th>\n",
       "      <td>50005</td>\n",
       "      <td>4</td>\n",
       "      <td>50005</td>\n",
       "      <td>PITT</td>\n",
       "      <td>Pitt_0050005</td>\n",
       "      <td>1</td>\n",
       "      <td>1</td>\n",
       "      <td>13.73</td>\n",
       "      <td>2</td>\n",
       "      <td>R</td>\n",
       "      <td>...</td>\n",
       "      <td>NaN</td>\n",
       "      <td>OK</td>\n",
       "      <td>NaN</td>\n",
       "      <td>maybe</td>\n",
       "      <td>ic-parietal-cerebellum</td>\n",
       "      <td>OK</td>\n",
       "      <td>NaN</td>\n",
       "      <td>OK</td>\n",
       "      <td>NaN</td>\n",
       "      <td>0</td>\n",
       "    </tr>\n",
       "    <tr>\n",
       "      <th>4</th>\n",
       "      <td>50006</td>\n",
       "      <td>5</td>\n",
       "      <td>50006</td>\n",
       "      <td>PITT</td>\n",
       "      <td>Pitt_0050006</td>\n",
       "      <td>1</td>\n",
       "      <td>1</td>\n",
       "      <td>13.37</td>\n",
       "      <td>1</td>\n",
       "      <td>L</td>\n",
       "      <td>...</td>\n",
       "      <td>NaN</td>\n",
       "      <td>OK</td>\n",
       "      <td>NaN</td>\n",
       "      <td>maybe</td>\n",
       "      <td>ic-parietal slight</td>\n",
       "      <td>OK</td>\n",
       "      <td>NaN</td>\n",
       "      <td>OK</td>\n",
       "      <td>NaN</td>\n",
       "      <td>1</td>\n",
       "    </tr>\n",
       "    <tr>\n",
       "      <th>...</th>\n",
       "      <td>...</td>\n",
       "      <td>...</td>\n",
       "      <td>...</td>\n",
       "      <td>...</td>\n",
       "      <td>...</td>\n",
       "      <td>...</td>\n",
       "      <td>...</td>\n",
       "      <td>...</td>\n",
       "      <td>...</td>\n",
       "      <td>...</td>\n",
       "      <td>...</td>\n",
       "      <td>...</td>\n",
       "      <td>...</td>\n",
       "      <td>...</td>\n",
       "      <td>...</td>\n",
       "      <td>...</td>\n",
       "      <td>...</td>\n",
       "      <td>...</td>\n",
       "      <td>...</td>\n",
       "      <td>...</td>\n",
       "      <td>...</td>\n",
       "    </tr>\n",
       "    <tr>\n",
       "      <th>1107</th>\n",
       "      <td>51583</td>\n",
       "      <td>1108</td>\n",
       "      <td>51583</td>\n",
       "      <td>SBL</td>\n",
       "      <td>SBL_0051583</td>\n",
       "      <td>1</td>\n",
       "      <td>2</td>\n",
       "      <td>35.00</td>\n",
       "      <td>1</td>\n",
       "      <td>NaN</td>\n",
       "      <td>...</td>\n",
       "      <td>NaN</td>\n",
       "      <td>OK</td>\n",
       "      <td>NaN</td>\n",
       "      <td>OK</td>\n",
       "      <td>ic-cerebellum-temporal_lobe</td>\n",
       "      <td>OK</td>\n",
       "      <td>NaN</td>\n",
       "      <td>OK</td>\n",
       "      <td>NaN</td>\n",
       "      <td>0</td>\n",
       "    </tr>\n",
       "    <tr>\n",
       "      <th>1108</th>\n",
       "      <td>51584</td>\n",
       "      <td>1109</td>\n",
       "      <td>51584</td>\n",
       "      <td>SBL</td>\n",
       "      <td>SBL_0051584</td>\n",
       "      <td>1</td>\n",
       "      <td>2</td>\n",
       "      <td>49.00</td>\n",
       "      <td>1</td>\n",
       "      <td>NaN</td>\n",
       "      <td>...</td>\n",
       "      <td>NaN</td>\n",
       "      <td>OK</td>\n",
       "      <td>NaN</td>\n",
       "      <td>maybe</td>\n",
       "      <td>vmpfc dropout</td>\n",
       "      <td>OK</td>\n",
       "      <td>NaN</td>\n",
       "      <td>OK</td>\n",
       "      <td>NaN</td>\n",
       "      <td>0</td>\n",
       "    </tr>\n",
       "    <tr>\n",
       "      <th>1109</th>\n",
       "      <td>51585</td>\n",
       "      <td>1110</td>\n",
       "      <td>51585</td>\n",
       "      <td>SBL</td>\n",
       "      <td>SBL_0051585</td>\n",
       "      <td>1</td>\n",
       "      <td>1</td>\n",
       "      <td>27.00</td>\n",
       "      <td>1</td>\n",
       "      <td>NaN</td>\n",
       "      <td>...</td>\n",
       "      <td>NaN</td>\n",
       "      <td>OK</td>\n",
       "      <td>NaN</td>\n",
       "      <td>maybe</td>\n",
       "      <td>ic-cerebellum-temporal_lobe</td>\n",
       "      <td>OK</td>\n",
       "      <td>NaN</td>\n",
       "      <td>OK</td>\n",
       "      <td>NaN</td>\n",
       "      <td>0</td>\n",
       "    </tr>\n",
       "    <tr>\n",
       "      <th>1110</th>\n",
       "      <td>51606</td>\n",
       "      <td>1111</td>\n",
       "      <td>51606</td>\n",
       "      <td>MAX_MUN</td>\n",
       "      <td>MaxMun_a_0051606</td>\n",
       "      <td>1</td>\n",
       "      <td>2</td>\n",
       "      <td>29.00</td>\n",
       "      <td>2</td>\n",
       "      <td>R</td>\n",
       "      <td>...</td>\n",
       "      <td>NaN</td>\n",
       "      <td>OK</td>\n",
       "      <td>NaN</td>\n",
       "      <td>maybe</td>\n",
       "      <td>ic-cerebellum</td>\n",
       "      <td>OK</td>\n",
       "      <td>NaN</td>\n",
       "      <td>OK</td>\n",
       "      <td>NaN</td>\n",
       "      <td>0</td>\n",
       "    </tr>\n",
       "    <tr>\n",
       "      <th>1111</th>\n",
       "      <td>51607</td>\n",
       "      <td>1112</td>\n",
       "      <td>51607</td>\n",
       "      <td>MAX_MUN</td>\n",
       "      <td>MaxMun_a_0051607</td>\n",
       "      <td>1</td>\n",
       "      <td>2</td>\n",
       "      <td>26.00</td>\n",
       "      <td>1</td>\n",
       "      <td>R</td>\n",
       "      <td>...</td>\n",
       "      <td>NaN</td>\n",
       "      <td>OK</td>\n",
       "      <td>NaN</td>\n",
       "      <td>maybe</td>\n",
       "      <td>ic-cerebellum</td>\n",
       "      <td>OK</td>\n",
       "      <td>NaN</td>\n",
       "      <td>OK</td>\n",
       "      <td>NaN</td>\n",
       "      <td>1</td>\n",
       "    </tr>\n",
       "  </tbody>\n",
       "</table>\n",
       "<p>1112 rows × 104 columns</p>\n",
       "</div>"
      ],
      "text/plain": [
       "      SUB_ID     X  subject  SITE_ID           FILE_ID  DX_GROUP  DSM_IV_TR  \\\n",
       "0      50002     1    50002     PITT       no_filename         1          1   \n",
       "1      50003     2    50003     PITT      Pitt_0050003         1          1   \n",
       "2      50004     3    50004     PITT      Pitt_0050004         1          1   \n",
       "3      50005     4    50005     PITT      Pitt_0050005         1          1   \n",
       "4      50006     5    50006     PITT      Pitt_0050006         1          1   \n",
       "...      ...   ...      ...      ...               ...       ...        ...   \n",
       "1107   51583  1108    51583      SBL       SBL_0051583         1          2   \n",
       "1108   51584  1109    51584      SBL       SBL_0051584         1          2   \n",
       "1109   51585  1110    51585      SBL       SBL_0051585         1          1   \n",
       "1110   51606  1111    51606  MAX_MUN  MaxMun_a_0051606         1          2   \n",
       "1111   51607  1112    51607  MAX_MUN  MaxMun_a_0051607         1          2   \n",
       "\n",
       "      AGE_AT_SCAN  SEX HANDEDNESS_CATEGORY  ...  qc_notes_rater_1  \\\n",
       "0           16.77    1                Ambi  ...               NaN   \n",
       "1           24.45    1                   R  ...               NaN   \n",
       "2           19.09    1                   R  ...               NaN   \n",
       "3           13.73    2                   R  ...               NaN   \n",
       "4           13.37    1                   L  ...               NaN   \n",
       "...           ...  ...                 ...  ...               ...   \n",
       "1107        35.00    1                 NaN  ...               NaN   \n",
       "1108        49.00    1                 NaN  ...               NaN   \n",
       "1109        27.00    1                 NaN  ...               NaN   \n",
       "1110        29.00    2                   R  ...               NaN   \n",
       "1111        26.00    1                   R  ...               NaN   \n",
       "\n",
       "      qc_anat_rater_2  qc_anat_notes_rater_2  qc_func_rater_2  \\\n",
       "0                  OK                    NaN             fail   \n",
       "1                  OK                    NaN               OK   \n",
       "2                  OK                    NaN               OK   \n",
       "3                  OK                    NaN            maybe   \n",
       "4                  OK                    NaN            maybe   \n",
       "...               ...                    ...              ...   \n",
       "1107               OK                    NaN               OK   \n",
       "1108               OK                    NaN            maybe   \n",
       "1109               OK                    NaN            maybe   \n",
       "1110               OK                    NaN            maybe   \n",
       "1111               OK                    NaN            maybe   \n",
       "\n",
       "            qc_func_notes_rater_2 qc_anat_rater_3 qc_anat_notes_rater_3  \\\n",
       "0          ic-parietal-cerebellum              OK                   NaN   \n",
       "1                             NaN              OK                   NaN   \n",
       "2                             NaN              OK                   NaN   \n",
       "3          ic-parietal-cerebellum              OK                   NaN   \n",
       "4              ic-parietal slight              OK                   NaN   \n",
       "...                           ...             ...                   ...   \n",
       "1107  ic-cerebellum-temporal_lobe              OK                   NaN   \n",
       "1108                vmpfc dropout              OK                   NaN   \n",
       "1109  ic-cerebellum-temporal_lobe              OK                   NaN   \n",
       "1110                ic-cerebellum              OK                   NaN   \n",
       "1111                ic-cerebellum              OK                   NaN   \n",
       "\n",
       "      qc_func_rater_3  qc_func_notes_rater_3  SUB_IN_SMP  \n",
       "0                fail              ERROR #24           1  \n",
       "1                  OK                    NaN           1  \n",
       "2                  OK                    NaN           1  \n",
       "3                  OK                    NaN           0  \n",
       "4                  OK                    NaN           1  \n",
       "...               ...                    ...         ...  \n",
       "1107               OK                    NaN           0  \n",
       "1108               OK                    NaN           0  \n",
       "1109               OK                    NaN           0  \n",
       "1110               OK                    NaN           0  \n",
       "1111               OK                    NaN           1  \n",
       "\n",
       "[1112 rows x 104 columns]"
      ]
     },
     "execution_count": 4,
     "metadata": {},
     "output_type": "execute_result"
    }
   ],
   "source": [
    "phenotypic = pd.read_csv('../data_in/ABIDE/Phenotypic_V1_0b_preprocessed1.csv').iloc[:,2:]\n",
    "timeseries, diagnosis, IDs_subject, mean_fd, num_fd, perc_fd, site = _get_paths(phenotypic, \"BASC/regions\", '../data_in/ABIDE/')\n",
    "sites, site_int = np.unique(site, return_inverse=True)\n",
    "phenotypic\n",
    "    "
   ]
  },
  {
   "cell_type": "code",
   "execution_count": 5,
   "metadata": {
    "ExecuteTime": {
     "end_time": "2021-08-01T19:07:43.923330Z",
     "start_time": "2021-08-01T19:07:43.348786Z"
    }
   },
   "outputs": [
    {
     "data": {
      "text/plain": [
       "(41.17046436290918, 5.142594423450437)"
      ]
     },
     "execution_count": 5,
     "metadata": {},
     "output_type": "execute_result"
    },
    {
     "data": {
      "image/png": "[encoded data removed]",
      "text/plain": [
       "<Figure size 432x288 with 1 Axes>"
      ]
     },
     "metadata": {
      "needs_background": "light"
     },
     "output_type": "display_data"
    }
   ],
   "source": [
    "sns.histplot(mean_fd, color='gray')\n",
    "plt.savefig('../data_out/fig/abide_motion_hist.pdf')\n",
    "kurtosis(mean_fd), skew(mean_fd)"
   ]
  },
  {
   "cell_type": "code",
   "execution_count": 6,
   "metadata": {
    "ExecuteTime": {
     "end_time": "2021-08-01T19:07:44.142044Z",
     "start_time": "2021-08-01T19:07:43.925958Z"
    }
   },
   "outputs": [
    {
     "data": {
      "text/plain": [
       "(0.492398885189945, 0.6060249878053774)"
      ]
     },
     "execution_count": 6,
     "metadata": {},
     "output_type": "execute_result"
    },
    {
     "data": {
      "image/png": "[encoded data removed]",
      "text/plain": [
       "<Figure size 432x288 with 1 Axes>"
      ]
     },
     "metadata": {
      "needs_background": "light"
     },
     "output_type": "display_data"
    }
   ],
   "source": [
    "sns.histplot(np.log(mean_fd), color='gray')\n",
    "kurtosis(np.log(mean_fd)), skew(np.log(mean_fd))"
   ]
  },
  {
   "cell_type": "code",
   "execution_count": 7,
   "metadata": {
    "ExecuteTime": {
     "end_time": "2021-08-01T19:07:44.464848Z",
     "start_time": "2021-08-01T19:07:44.144550Z"
    }
   },
   "outputs": [
    {
     "data": {
      "image/png": "[encoded data removed]",
      "text/plain": [
       "<Figure size 432x288 with 1 Axes>"
      ]
     },
     "metadata": {
      "needs_background": "light"
     },
     "output_type": "display_data"
    }
   ],
   "source": [
    "rng = np.random.default_rng(42)\n",
    "mean_fd_trf = quantile_transform(np.array([mean_fd]).T, output_distribution='normal',\n",
    "                                 n_quantiles=len(mean_fd)).flatten()\n",
    "\n",
    "sns.histplot(mean_fd_trf, color='gray')\n",
    "plt.savefig('../data_out/fig/abide_motion_quanttrf_hist.pdf')\n",
    "\n",
    "kurtosis(mean_fd_trf), skew(mean_fd_trf)\n",
    "mean_fd = mean_fd_trf\n"
   ]
  },
  {
   "cell_type": "markdown",
   "metadata": {},
   "source": [
    "## Binning motion data (to be used later)"
   ]
  },
  {
   "cell_type": "code",
   "execution_count": 8,
   "metadata": {
    "ExecuteTime": {
     "end_time": "2021-08-01T19:07:44.473432Z",
     "start_time": "2021-08-01T19:07:44.469383Z"
    }
   },
   "outputs": [],
   "source": [
    "# binning mean_fd\n",
    "bins = 10 # approximately 80 subject per motion group\n",
    "\n",
    "limits = np.quantile(mean_fd, np.arange(0, 1, 1/bins))\n",
    "mean_fd_binned = np.digitize(mean_fd, limits)"
   ]
  },
  {
   "cell_type": "markdown",
   "metadata": {},
   "source": [
    "## Calculate connectivity"
   ]
  },
  {
   "cell_type": "code",
   "execution_count": 9,
   "metadata": {
    "ExecuteTime": {
     "end_time": "2021-08-01T19:08:30.169375Z",
     "start_time": "2021-08-01T19:07:44.477020Z"
    }
   },
   "outputs": [],
   "source": [
    "connections = ConnectivityMeasure(kind='tangent', vectorize=True, discard_diagonal=True)\n",
    "conn_coefs = connections.fit_transform(timeseries)"
   ]
  },
  {
   "cell_type": "code",
   "execution_count": 10,
   "metadata": {
    "ExecuteTime": {
     "end_time": "2021-08-01T19:08:30.175223Z",
     "start_time": "2021-08-01T19:08:30.171729Z"
    }
   },
   "outputs": [],
   "source": [
    "_, y = np.unique(diagnosis, return_inverse=True)\n",
    "X = conn_coefs"
   ]
  },
  {
   "cell_type": "markdown",
   "metadata": {},
   "source": [
    "# Machine learning (raw)"
   ]
  },
  {
   "cell_type": "code",
   "execution_count": 11,
   "metadata": {
    "ExecuteTime": {
     "end_time": "2021-08-01T19:10:39.155286Z",
     "start_time": "2021-08-01T19:08:30.177736Z"
    }
   },
   "outputs": [
    {
     "name": "stdout",
     "output_type": "stream",
     "text": [
      "model\tinner_cv mean score\touter vc score\n",
      "Fitting 10 folds for each of 3 candidates, totalling 30 fits\n"
     ]
    },
    {
     "name": "stderr",
     "output_type": "stream",
     "text": [
      "[Parallel(n_jobs=-1)]: Using backend LokyBackend with 8 concurrent workers.\n",
      "[Parallel(n_jobs=-1)]: Done  30 out of  30 | elapsed:   13.1s finished\n"
     ]
    },
    {
     "name": "stdout",
     "output_type": "stream",
     "text": [
      "cv: 0 {'model__C': 0.1} 0.7100334219236659 0.690880169671262\n",
      "Fitting 10 folds for each of 3 candidates, totalling 30 fits\n"
     ]
    },
    {
     "name": "stderr",
     "output_type": "stream",
     "text": [
      "[Parallel(n_jobs=-1)]: Using backend LokyBackend with 8 concurrent workers.\n",
      "[Parallel(n_jobs=-1)]: Done  30 out of  30 | elapsed:   12.8s finished\n"
     ]
    },
    {
     "name": "stdout",
     "output_type": "stream",
     "text": [
      "cv: 1 {'model__C': 0.1} 0.7120691684716075 0.6458112407211029\n",
      "Fitting 10 folds for each of 3 candidates, totalling 30 fits\n"
     ]
    },
    {
     "name": "stderr",
     "output_type": "stream",
     "text": [
      "[Parallel(n_jobs=-1)]: Using backend LokyBackend with 8 concurrent workers.\n",
      "[Parallel(n_jobs=-1)]: Done  30 out of  30 | elapsed:   12.1s finished\n"
     ]
    },
    {
     "name": "stdout",
     "output_type": "stream",
     "text": [
      "cv: 2 {'model__C': 0.1} 0.7018831113343309 0.6851063829787234\n",
      "Fitting 10 folds for each of 3 candidates, totalling 30 fits\n"
     ]
    },
    {
     "name": "stderr",
     "output_type": "stream",
     "text": [
      "[Parallel(n_jobs=-1)]: Using backend LokyBackend with 8 concurrent workers.\n",
      "[Parallel(n_jobs=-1)]: Done  30 out of  30 | elapsed:   12.2s finished\n"
     ]
    },
    {
     "name": "stdout",
     "output_type": "stream",
     "text": [
      "cv: 3 {'model__C': 0.1} 0.683804187462724 0.8202127659574467\n",
      "Fitting 10 folds for each of 3 candidates, totalling 30 fits\n"
     ]
    },
    {
     "name": "stderr",
     "output_type": "stream",
     "text": [
      "[Parallel(n_jobs=-1)]: Using backend LokyBackend with 8 concurrent workers.\n",
      "[Parallel(n_jobs=-1)]: Done  30 out of  30 | elapsed:   11.2s finished\n"
     ]
    },
    {
     "name": "stdout",
     "output_type": "stream",
     "text": [
      "cv: 4 {'model__C': 1} 0.6986948621094962 0.7351063829787234\n",
      "Fitting 10 folds for each of 3 candidates, totalling 30 fits\n"
     ]
    },
    {
     "name": "stderr",
     "output_type": "stream",
     "text": [
      "[Parallel(n_jobs=-1)]: Using backend LokyBackend with 8 concurrent workers.\n",
      "[Parallel(n_jobs=-1)]: Done  30 out of  30 | elapsed:   12.5s finished\n"
     ]
    },
    {
     "name": "stdout",
     "output_type": "stream",
     "text": [
      "cv: 5 {'model__C': 0.1} 0.7201791512767122 0.6872340425531914\n",
      "Fitting 10 folds for each of 3 candidates, totalling 30 fits\n"
     ]
    },
    {
     "name": "stderr",
     "output_type": "stream",
     "text": [
      "[Parallel(n_jobs=-1)]: Using backend LokyBackend with 8 concurrent workers.\n",
      "[Parallel(n_jobs=-1)]: Done  30 out of  30 | elapsed:   11.7s finished\n"
     ]
    },
    {
     "name": "stdout",
     "output_type": "stream",
     "text": [
      "cv: 6 {'model__C': 0.1} 0.6974297468199907 0.7592391304347826\n",
      "Fitting 10 folds for each of 3 candidates, totalling 30 fits\n"
     ]
    },
    {
     "name": "stderr",
     "output_type": "stream",
     "text": [
      "[Parallel(n_jobs=-1)]: Using backend LokyBackend with 8 concurrent workers.\n",
      "[Parallel(n_jobs=-1)]: Done  30 out of  30 | elapsed:   11.8s finished\n"
     ]
    },
    {
     "name": "stdout",
     "output_type": "stream",
     "text": [
      "cv: 7 {'model__C': 0.1} 0.7031858949541876 0.7597826086956522\n",
      "Fitting 10 folds for each of 3 candidates, totalling 30 fits\n"
     ]
    },
    {
     "name": "stderr",
     "output_type": "stream",
     "text": [
      "[Parallel(n_jobs=-1)]: Using backend LokyBackend with 8 concurrent workers.\n",
      "[Parallel(n_jobs=-1)]: Done  30 out of  30 | elapsed:   11.9s finished\n"
     ]
    },
    {
     "name": "stdout",
     "output_type": "stream",
     "text": [
      "cv: 8 {'model__C': 0.1} 0.7127732261878603 0.7440217391304348\n",
      "Fitting 10 folds for each of 3 candidates, totalling 30 fits\n"
     ]
    },
    {
     "name": "stderr",
     "output_type": "stream",
     "text": [
      "[Parallel(n_jobs=-1)]: Using backend LokyBackend with 8 concurrent workers.\n",
      "[Parallel(n_jobs=-1)]: Done  30 out of  30 | elapsed:   11.5s finished\n"
     ]
    },
    {
     "name": "stdout",
     "output_type": "stream",
     "text": [
      "cv: 9 {'model__C': 0.1} 0.7333955035174546 0.6059782608695652\n"
     ]
    }
   ],
   "source": [
    "outer_cv = StratifiedKFold(10)\n",
    "inner_cv = StratifiedKFold(10) \n",
    "model = Pipeline([\n",
    "    ('varthr', VarianceThreshold(0)),   # omit zero variance columns (diagonal)\n",
    "    #('fsel', SelectKBest(f_regression)),\n",
    "    ('model', LogisticRegression())])\n",
    "\n",
    "p_grid = {#'fsel__k': [500, 1000, 2000],\n",
    "          'model__C': [0.1, 1, 10]}\n",
    "\n",
    "clf = GridSearchCV(estimator=model, param_grid=p_grid, cv=StratifiedKFold(10),\n",
    "                   scoring=\"roc_auc\", verbose=True, return_train_score=False,\n",
    "                   n_jobs=-1)\n",
    "\n",
    "all_models = []\n",
    "best_params = []\n",
    "predicted = np.zeros(len(y))\n",
    "predicted_prob = np.zeros(len(y))\n",
    "nested_scores_train = np.zeros(outer_cv.get_n_splits(X))\n",
    "nested_scores_test = np.zeros(outer_cv.get_n_splits(X))   \n",
    "                                    \n",
    "print(\"model\\tinner_cv mean score\\touter vc score\")\n",
    "i=0\n",
    "for train, test in outer_cv.split(X, y):\n",
    "\n",
    "    clf.fit(X[train], y[train])\n",
    "                                    \n",
    "    print('cv:', i, str(clf.best_params_) + \" \" + str(clf.best_score_) + \" \" + str(clf.score(X[test], y[test])))\n",
    "                                    \n",
    "    all_models.append(clf.best_estimator_)\n",
    "    best_params.append(clf.best_params_)\n",
    "    \n",
    "    predicted[test] = clf.predict(X[test])\n",
    "    predicted_prob[test] = clf.predict_proba(X[test])[:,0]\n",
    "                                    \n",
    "    nested_scores_train[i] = clf.best_score_\n",
    "    nested_scores_test[i] = clf.score(X[test], y[test])\n",
    "    i = i+1"
   ]
  },
  {
   "cell_type": "code",
   "execution_count": 12,
   "metadata": {
    "ExecuteTime": {
     "end_time": "2021-08-01T19:10:39.395184Z",
     "start_time": "2021-08-01T19:10:39.157640Z"
    }
   },
   "outputs": [
    {
     "name": "stdout",
     "output_type": "stream",
     "text": [
      "** Mean score in the inner crossvaludation (inner_cv):\t0.7073448274058031\n",
      "** Mean Nested Crossvalidation Score (outer_cv):\t0.7133372723990885\n"
     ]
    },
    {
     "data": {
      "image/png": "[encoded data removed]",
      "text/plain": [
       "<Figure size 360x144 with 1 Axes>"
      ]
     },
     "metadata": {
      "needs_background": "light"
     },
     "output_type": "display_data"
    }
   ],
   "source": [
    "print(\"** Mean score in the inner crossvaludation (inner_cv):\\t\" + str(nested_scores_train.mean()))\n",
    "print(\"** Mean Nested Crossvalidation Score (outer_cv):\\t\" + str(nested_scores_test.mean()))\n",
    "\n",
    "fpr, tpr, _ = roc_curve(y, predicted_prob, pos_label=0)\n",
    "fig, ax = plt.subplots(figsize=(5,2))\n",
    "RocCurveDisplay(fpr=fpr, tpr=tpr).plot(ax=ax) \n",
    "plt.savefig('../data_out/fig/abide_raw_rocplot.pdf')\n"
   ]
  },
  {
   "cell_type": "code",
   "execution_count": 13,
   "metadata": {
    "ExecuteTime": {
     "end_time": "2021-08-01T19:10:43.271820Z",
     "start_time": "2021-08-01T19:10:39.397308Z"
    }
   },
   "outputs": [
    {
     "data": {
      "image/png": "[encoded data removed]",
      "text/plain": [
       "<Figure size 360x108 with 1 Axes>"
      ]
     },
     "metadata": {
      "needs_background": "light"
     },
     "output_type": "display_data"
    }
   ],
   "source": [
    "plt.figure(figsize=(5,1.5))\n",
    "\n",
    "pal=[sns.color_palette(\"coolwarm\", 10)[0], sns.color_palette(\"coolwarm\", 10)[-1]]\n",
    "sns.stripplot(x=site, y=predicted_prob, hue=y, palette=pal, alpha=0.2, jitter=0.2, dodge=True)\n",
    "ax=sns.boxplot(x=site, y=predicted_prob, hue=y, showfliers = False)\n",
    "for box in ax.artists:\n",
    "    box.set_facecolor((1,1,1,0))\n",
    "plt.xticks(rotation=90)\n",
    "for i in range(len(np.unique(site))):\n",
    "    plt.axvline(i+0.5, color=\"gray\", alpha=0.5, linewidth=0.5)\n",
    "plt.savefig('../data_out/fig/abide_site_raw_striplot.pdf')"
   ]
  },
  {
   "cell_type": "code",
   "execution_count": 14,
   "metadata": {
    "ExecuteTime": {
     "end_time": "2021-08-01T19:10:44.301753Z",
     "start_time": "2021-08-01T19:10:43.274005Z"
    }
   },
   "outputs": [
    {
     "data": {
      "image/png": "[encoded data removed]",
      "text/plain": [
       "<Figure size 360x144 with 1 Axes>"
      ]
     },
     "metadata": {
      "needs_background": "light"
     },
     "output_type": "display_data"
    }
   ],
   "source": [
    "plt.figure(figsize=(5,2))\n",
    "sns.stripplot(x=y, y=predicted_prob, hue=mean_fd_binned,\n",
    "              palette=\"coolwarm\", alpha=0.4, jitter=0.4, dodge=True)\n",
    "sns.boxplot(x=y, y=predicted_prob, color=(1,1,1,1))\n",
    "plt.legend([],[], frameon=False)\n",
    "plt.savefig('../data_out/fig/abide_motion_raw_stripplot.pdf')"
   ]
  },
  {
   "cell_type": "code",
   "execution_count": 15,
   "metadata": {
    "ExecuteTime": {
     "end_time": "2021-08-01T19:10:49.081209Z",
     "start_time": "2021-08-01T19:10:44.304071Z"
    }
   },
   "outputs": [
    {
     "name": "stderr",
     "output_type": "stream",
     "text": [
      "Permuting: 100%|██████████| 1000/1000 [00:03<00:00, 295.23it/s]\n"
     ]
    },
    {
     "data": {
      "image/svg+xml": [
       "<?xml version=\"1.0\" encoding=\"UTF-8\" standalone=\"no\"?>\n",
       "<!DOCTYPE svg PUBLIC \"-//W3C//DTD SVG 1.1//EN\"\n",
       " \"http://www.w3.org/Graphics/SVG/1.1/DTD/svg11.dtd\">\n",
       "<!-- Generated by graphviz version 2.44.1 (20200629.0846)\n",
       " -->\n",
       "<!-- Pages: 1 -->\n",
       "<svg width=\"324pt\" height=\"73pt\"\n",
       " viewBox=\"0.00 0.00 324.00 72.51\" xmlns=\"http://www.w3.org/2000/svg\" xmlns:xlink=\"http://www.w3.org/1999/xlink\">\n",
       "<g id=\"graph0\" class=\"graph\" transform=\"scale(0.92 0.92) rotate(0) translate(4 75)\">\n",
       "<polygon fill=\"white\" stroke=\"transparent\" points=\"-4,4 -4,-75 349,-75 349,4 -4,4\"/>\n",
       "<!-- c -->\n",
       "<g id=\"node1\" class=\"node\">\n",
       "<title>c</title>\n",
       "<ellipse fill=\"none\" stroke=\"black\" cx=\"27\" cy=\"-18\" rx=\"27\" ry=\"18\"/>\n",
       "<text text-anchor=\"middle\" x=\"27\" y=\"-14.3\" font-family=\"Times,serif\" font-size=\"14.00\">c</text>\n",
       "</g>\n",
       "<!-- y -->\n",
       "<g id=\"node2\" class=\"node\">\n",
       "<title>y</title>\n",
       "<ellipse fill=\"none\" stroke=\"black\" cx=\"172.5\" cy=\"-53\" rx=\"27\" ry=\"18\"/>\n",
       "<text text-anchor=\"middle\" x=\"172.5\" y=\"-49.3\" font-family=\"Times,serif\" font-size=\"14.00\">y</text>\n",
       "</g>\n",
       "<!-- c&#45;&#45;y -->\n",
       "<g id=\"edge2\" class=\"edge\">\n",
       "<title>c&#45;&#45;y</title>\n",
       "<path fill=\"none\" stroke=\"black\" d=\"M52.67,-24.02C78.95,-30.43 120.33,-40.52 146.67,-46.94\"/>\n",
       "<text text-anchor=\"middle\" x=\"87.5\" y=\"-38.8\" font-family=\"Times,serif\" font-size=\"14.00\">0.028</text>\n",
       "</g>\n",
       "<!-- yhat -->\n",
       "<g id=\"node3\" class=\"node\">\n",
       "<title>yhat</title>\n",
       "<ellipse fill=\"none\" stroke=\"black\" cx=\"318\" cy=\"-18\" rx=\"27\" ry=\"18\"/>\n",
       "<text text-anchor=\"start\" x=\"314.5\" y=\"-14.3\" font-family=\"Times,serif\" font-size=\"14.00\">ŷ</text>\n",
       "</g>\n",
       "<!-- c&#45;&#45;yhat -->\n",
       "<g id=\"edge1\" class=\"edge\">\n",
       "<title>c&#45;&#45;yhat</title>\n",
       "<path fill=\"none\" stroke=\"black\" stroke-dasharray=\"5,2\" d=\"M54.03,-15.52C72.66,-13.86 98.35,-11.85 121,-11 166.75,-9.28 178.25,-9.28 224,-11 246.65,-11.85 272.34,-13.86 290.97,-15.52\"/>\n",
       "<text text-anchor=\"middle\" x=\"172.5\" y=\"-14.8\" font-family=\"Times,serif\" font-size=\"14.00\">0.096 (p&lt;0.0001*)</text>\n",
       "</g>\n",
       "<!-- y&#45;&#45;yhat -->\n",
       "<g id=\"edge3\" class=\"edge\">\n",
       "<title>y&#45;&#45;yhat</title>\n",
       "<path fill=\"none\" stroke=\"black\" d=\"M198.17,-46.98C224.45,-40.57 265.83,-30.48 292.17,-24.06\"/>\n",
       "<text text-anchor=\"middle\" x=\"257.5\" y=\"-38.8\" font-family=\"Times,serif\" font-size=\"14.00\">0.091</text>\n",
       "</g>\n",
       "</g>\n",
       "</svg>\n"
      ],
      "text/plain": [
       "<graphviz.dot.Graph at 0x7f8f0fa43c10>"
      ]
     },
     "execution_count": 15,
     "metadata": {},
     "output_type": "execute_result"
    }
   ],
   "source": [
    "plot_graph(test_partially_confounded(y, predicted, mean_fd, random_state=42),\n",
    "          outfile_base='../data_out/fig/abide_motion_raw_partial')"
   ]
  },
  {
   "cell_type": "code",
   "execution_count": 16,
   "metadata": {
    "ExecuteTime": {
     "end_time": "2021-08-01T19:10:53.212459Z",
     "start_time": "2021-08-01T19:10:49.083740Z"
    }
   },
   "outputs": [
    {
     "name": "stderr",
     "output_type": "stream",
     "text": [
      "Permuting: 100%|██████████| 1000/1000 [00:02<00:00, 343.29it/s]\n"
     ]
    },
    {
     "data": {
      "image/svg+xml": [
       "<?xml version=\"1.0\" encoding=\"UTF-8\" standalone=\"no\"?>\n",
       "<!DOCTYPE svg PUBLIC \"-//W3C//DTD SVG 1.1//EN\"\n",
       " \"http://www.w3.org/Graphics/SVG/1.1/DTD/svg11.dtd\">\n",
       "<!-- Generated by graphviz version 2.44.1 (20200629.0846)\n",
       " -->\n",
       "<!-- Pages: 1 -->\n",
       "<svg width=\"324pt\" height=\"68pt\"\n",
       " viewBox=\"0.00 0.00 324.00 68.07\" xmlns=\"http://www.w3.org/2000/svg\" xmlns:xlink=\"http://www.w3.org/1999/xlink\">\n",
       "<g id=\"graph0\" class=\"graph\" transform=\"scale(0.86 0.86) rotate(0) translate(4 75)\">\n",
       "<polygon fill=\"white\" stroke=\"transparent\" points=\"-4,4 -4,-75 372,-75 372,4 -4,4\"/>\n",
       "<!-- c -->\n",
       "<g id=\"node1\" class=\"node\">\n",
       "<title>c</title>\n",
       "<ellipse fill=\"none\" stroke=\"black\" cx=\"27\" cy=\"-18\" rx=\"27\" ry=\"18\"/>\n",
       "<text text-anchor=\"middle\" x=\"27\" y=\"-14.3\" font-family=\"Times,serif\" font-size=\"14.00\">c</text>\n",
       "</g>\n",
       "<!-- y -->\n",
       "<g id=\"node2\" class=\"node\">\n",
       "<title>y</title>\n",
       "<ellipse fill=\"none\" stroke=\"black\" cx=\"148\" cy=\"-53\" rx=\"27\" ry=\"18\"/>\n",
       "<text text-anchor=\"middle\" x=\"148\" y=\"-49.3\" font-family=\"Times,serif\" font-size=\"14.00\">y</text>\n",
       "</g>\n",
       "<!-- c&#45;&#45;y -->\n",
       "<g id=\"edge2\" class=\"edge\">\n",
       "<title>c&#45;&#45;y</title>\n",
       "<path fill=\"none\" stroke=\"black\" d=\"M52.08,-25.08C72.73,-31.16 102.32,-39.86 122.95,-45.93\"/>\n",
       "<text text-anchor=\"middle\" x=\"87.5\" y=\"-42.8\" font-family=\"Times,serif\" font-size=\"14.00\">0.028</text>\n",
       "</g>\n",
       "<!-- yhat -->\n",
       "<g id=\"node3\" class=\"node\">\n",
       "<title>yhat</title>\n",
       "<ellipse fill=\"none\" stroke=\"black\" cx=\"341\" cy=\"-18\" rx=\"27\" ry=\"18\"/>\n",
       "<text text-anchor=\"start\" x=\"337.5\" y=\"-14.3\" font-family=\"Times,serif\" font-size=\"14.00\">ŷ</text>\n",
       "</g>\n",
       "<!-- c&#45;&#45;yhat -->\n",
       "<g id=\"edge1\" class=\"edge\">\n",
       "<title>c&#45;&#45;yhat</title>\n",
       "<path fill=\"none\" stroke=\"black\" d=\"M54.03,-15.52C72.66,-13.86 98.35,-11.85 121,-11 190.75,-8.38 273.03,-13.11 314.04,-16\"/>\n",
       "<text text-anchor=\"middle\" x=\"148\" y=\"-14.8\" font-family=\"Times,serif\" font-size=\"14.00\">0.096</text>\n",
       "</g>\n",
       "<!-- y&#45;&#45;yhat -->\n",
       "<g id=\"edge3\" class=\"edge\">\n",
       "<title>y&#45;&#45;yhat</title>\n",
       "<path fill=\"none\" stroke=\"black\" stroke-dasharray=\"5,2\" d=\"M174.36,-48.35C211,-41.64 278.31,-29.3 314.84,-22.61\"/>\n",
       "<text text-anchor=\"middle\" x=\"244.5\" y=\"-47.8\" font-family=\"Times,serif\" font-size=\"14.00\">0.091 (p&lt;0.0001*)</text>\n",
       "</g>\n",
       "</g>\n",
       "</svg>\n"
      ],
      "text/plain": [
       "<graphviz.dot.Graph at 0x7f8f0f97c910>"
      ]
     },
     "execution_count": 16,
     "metadata": {},
     "output_type": "execute_result"
    }
   ],
   "source": [
    "plot_graph(test_fully_confounded(y, predicted, mean_fd, random_state=42),\n",
    "          outfile_base='../data_out/fig/abide_motion_raw_full')"
   ]
  },
  {
   "cell_type": "code",
   "execution_count": 17,
   "metadata": {
    "ExecuteTime": {
     "end_time": "2021-08-01T19:10:59.660707Z",
     "start_time": "2021-08-01T19:10:53.215364Z"
    }
   },
   "outputs": [
    {
     "name": "stderr",
     "output_type": "stream",
     "text": [
      "Permuting: 100%|██████████| 1000/1000 [00:05<00:00, 191.74it/s]\n"
     ]
    },
    {
     "data": {
      "image/svg+xml": [
       "<?xml version=\"1.0\" encoding=\"UTF-8\" standalone=\"no\"?>\n",
       "<!DOCTYPE svg PUBLIC \"-//W3C//DTD SVG 1.1//EN\"\n",
       " \"http://www.w3.org/Graphics/SVG/1.1/DTD/svg11.dtd\">\n",
       "<!-- Generated by graphviz version 2.44.1 (20200629.0846)\n",
       " -->\n",
       "<!-- Pages: 1 -->\n",
       "<svg width=\"324pt\" height=\"73pt\"\n",
       " viewBox=\"0.00 0.00 324.00 72.51\" xmlns=\"http://www.w3.org/2000/svg\" xmlns:xlink=\"http://www.w3.org/1999/xlink\">\n",
       "<g id=\"graph0\" class=\"graph\" transform=\"scale(0.92 0.92) rotate(0) translate(4 75)\">\n",
       "<polygon fill=\"white\" stroke=\"transparent\" points=\"-4,4 -4,-75 349,-75 349,4 -4,4\"/>\n",
       "<!-- c -->\n",
       "<g id=\"node1\" class=\"node\">\n",
       "<title>c</title>\n",
       "<ellipse fill=\"none\" stroke=\"black\" cx=\"27\" cy=\"-18\" rx=\"27\" ry=\"18\"/>\n",
       "<text text-anchor=\"middle\" x=\"27\" y=\"-14.3\" font-family=\"Times,serif\" font-size=\"14.00\">c</text>\n",
       "</g>\n",
       "<!-- y -->\n",
       "<g id=\"node2\" class=\"node\">\n",
       "<title>y</title>\n",
       "<ellipse fill=\"none\" stroke=\"black\" cx=\"172.5\" cy=\"-53\" rx=\"27\" ry=\"18\"/>\n",
       "<text text-anchor=\"middle\" x=\"172.5\" y=\"-49.3\" font-family=\"Times,serif\" font-size=\"14.00\">y</text>\n",
       "</g>\n",
       "<!-- c&#45;&#45;y -->\n",
       "<g id=\"edge2\" class=\"edge\">\n",
       "<title>c&#45;&#45;y</title>\n",
       "<path fill=\"none\" stroke=\"black\" d=\"M52.67,-24.02C78.95,-30.43 120.33,-40.52 146.67,-46.94\"/>\n",
       "<text text-anchor=\"middle\" x=\"87.5\" y=\"-38.8\" font-family=\"Times,serif\" font-size=\"14.00\">0.027</text>\n",
       "</g>\n",
       "<!-- yhat -->\n",
       "<g id=\"node3\" class=\"node\">\n",
       "<title>yhat</title>\n",
       "<ellipse fill=\"none\" stroke=\"black\" cx=\"318\" cy=\"-18\" rx=\"27\" ry=\"18\"/>\n",
       "<text text-anchor=\"start\" x=\"314.5\" y=\"-14.3\" font-family=\"Times,serif\" font-size=\"14.00\">ŷ</text>\n",
       "</g>\n",
       "<!-- c&#45;&#45;yhat -->\n",
       "<g id=\"edge1\" class=\"edge\">\n",
       "<title>c&#45;&#45;yhat</title>\n",
       "<path fill=\"none\" stroke=\"black\" stroke-dasharray=\"5,2\" d=\"M54.03,-15.52C72.66,-13.86 98.35,-11.85 121,-11 166.75,-9.28 178.25,-9.28 224,-11 246.65,-11.85 272.34,-13.86 290.97,-15.52\"/>\n",
       "<text text-anchor=\"middle\" x=\"172.5\" y=\"-14.8\" font-family=\"Times,serif\" font-size=\"14.00\">0.113 (p&lt;0.0001*)</text>\n",
       "</g>\n",
       "<!-- y&#45;&#45;yhat -->\n",
       "<g id=\"edge3\" class=\"edge\">\n",
       "<title>y&#45;&#45;yhat</title>\n",
       "<path fill=\"none\" stroke=\"black\" d=\"M198.17,-46.98C224.45,-40.57 265.83,-30.48 292.17,-24.06\"/>\n",
       "<text text-anchor=\"middle\" x=\"257.5\" y=\"-38.8\" font-family=\"Times,serif\" font-size=\"14.00\">0.091</text>\n",
       "</g>\n",
       "</g>\n",
       "</svg>\n"
      ],
      "text/plain": [
       "<graphviz.dot.Graph at 0x7f8f0faf6bd0>"
      ]
     },
     "execution_count": 17,
     "metadata": {},
     "output_type": "execute_result"
    }
   ],
   "source": [
    "plot_graph(test_partially_confounded(y, predicted, site_int, cat_c=True, random_state=42),\n",
    "          outfile_base='../data_out/fig/abide_site_raw_partial')"
   ]
  },
  {
   "cell_type": "code",
   "execution_count": 18,
   "metadata": {
    "ExecuteTime": {
     "end_time": "2021-08-01T19:11:03.792354Z",
     "start_time": "2021-08-01T19:10:59.663247Z"
    }
   },
   "outputs": [
    {
     "name": "stderr",
     "output_type": "stream",
     "text": [
      "Permuting: 100%|██████████| 1000/1000 [00:02<00:00, 348.35it/s]\n"
     ]
    },
    {
     "data": {
      "image/svg+xml": [
       "<?xml version=\"1.0\" encoding=\"UTF-8\" standalone=\"no\"?>\n",
       "<!DOCTYPE svg PUBLIC \"-//W3C//DTD SVG 1.1//EN\"\n",
       " \"http://www.w3.org/Graphics/SVG/1.1/DTD/svg11.dtd\">\n",
       "<!-- Generated by graphviz version 2.44.1 (20200629.0846)\n",
       " -->\n",
       "<!-- Pages: 1 -->\n",
       "<svg width=\"324pt\" height=\"68pt\"\n",
       " viewBox=\"0.00 0.00 324.00 68.07\" xmlns=\"http://www.w3.org/2000/svg\" xmlns:xlink=\"http://www.w3.org/1999/xlink\">\n",
       "<g id=\"graph0\" class=\"graph\" transform=\"scale(0.86 0.86) rotate(0) translate(4 75)\">\n",
       "<polygon fill=\"white\" stroke=\"transparent\" points=\"-4,4 -4,-75 372,-75 372,4 -4,4\"/>\n",
       "<!-- c -->\n",
       "<g id=\"node1\" class=\"node\">\n",
       "<title>c</title>\n",
       "<ellipse fill=\"none\" stroke=\"black\" cx=\"27\" cy=\"-18\" rx=\"27\" ry=\"18\"/>\n",
       "<text text-anchor=\"middle\" x=\"27\" y=\"-14.3\" font-family=\"Times,serif\" font-size=\"14.00\">c</text>\n",
       "</g>\n",
       "<!-- y -->\n",
       "<g id=\"node2\" class=\"node\">\n",
       "<title>y</title>\n",
       "<ellipse fill=\"none\" stroke=\"black\" cx=\"148\" cy=\"-53\" rx=\"27\" ry=\"18\"/>\n",
       "<text text-anchor=\"middle\" x=\"148\" y=\"-49.3\" font-family=\"Times,serif\" font-size=\"14.00\">y</text>\n",
       "</g>\n",
       "<!-- c&#45;&#45;y -->\n",
       "<g id=\"edge2\" class=\"edge\">\n",
       "<title>c&#45;&#45;y</title>\n",
       "<path fill=\"none\" stroke=\"black\" d=\"M52.08,-25.08C72.73,-31.16 102.32,-39.86 122.95,-45.93\"/>\n",
       "<text text-anchor=\"middle\" x=\"87.5\" y=\"-42.8\" font-family=\"Times,serif\" font-size=\"14.00\">0.027</text>\n",
       "</g>\n",
       "<!-- yhat -->\n",
       "<g id=\"node3\" class=\"node\">\n",
       "<title>yhat</title>\n",
       "<ellipse fill=\"none\" stroke=\"black\" cx=\"341\" cy=\"-18\" rx=\"27\" ry=\"18\"/>\n",
       "<text text-anchor=\"start\" x=\"337.5\" y=\"-14.3\" font-family=\"Times,serif\" font-size=\"14.00\">ŷ</text>\n",
       "</g>\n",
       "<!-- c&#45;&#45;yhat -->\n",
       "<g id=\"edge1\" class=\"edge\">\n",
       "<title>c&#45;&#45;yhat</title>\n",
       "<path fill=\"none\" stroke=\"black\" d=\"M54.03,-15.52C72.66,-13.86 98.35,-11.85 121,-11 190.75,-8.38 273.03,-13.11 314.04,-16\"/>\n",
       "<text text-anchor=\"middle\" x=\"148\" y=\"-14.8\" font-family=\"Times,serif\" font-size=\"14.00\">0.113</text>\n",
       "</g>\n",
       "<!-- y&#45;&#45;yhat -->\n",
       "<g id=\"edge3\" class=\"edge\">\n",
       "<title>y&#45;&#45;yhat</title>\n",
       "<path fill=\"none\" stroke=\"black\" stroke-dasharray=\"5,2\" d=\"M174.36,-48.35C211,-41.64 278.31,-29.3 314.84,-22.61\"/>\n",
       "<text text-anchor=\"middle\" x=\"244.5\" y=\"-47.8\" font-family=\"Times,serif\" font-size=\"14.00\">0.091 (p&lt;0.0001*)</text>\n",
       "</g>\n",
       "</g>\n",
       "</svg>\n"
      ],
      "text/plain": [
       "<graphviz.dot.Graph at 0x7f8f0fbc8f50>"
      ]
     },
     "execution_count": 18,
     "metadata": {},
     "output_type": "execute_result"
    }
   ],
   "source": [
    "plot_graph(test_fully_confounded(y, predicted, site_int, cat_c=True, random_state=42),\n",
    "          outfile_base='../data_out/fig/abide_site_raw_full')"
   ]
  },
  {
   "cell_type": "markdown",
   "metadata": {},
   "source": [
    "# Regress out motion from the features"
   ]
  },
  {
   "cell_type": "code",
   "execution_count": 19,
   "metadata": {
    "ExecuteTime": {
     "end_time": "2021-08-01T19:11:08.732782Z",
     "start_time": "2021-08-01T19:11:03.795694Z"
    }
   },
   "outputs": [],
   "source": [
    "# regress-out motion from connectivity\n",
    "X_adj = np.zeros_like(X)\n",
    "for i in range(X.shape[1]):\n",
    "    OLS_model = OLS(X[:,i], sm.add_constant(mean_fd)).fit()  # training the model\n",
    "    X_adj[:, i] = OLS_model.resid"
   ]
  },
  {
   "cell_type": "code",
   "execution_count": 20,
   "metadata": {
    "ExecuteTime": {
     "end_time": "2021-08-01T19:13:16.799521Z",
     "start_time": "2021-08-01T19:11:08.735495Z"
    }
   },
   "outputs": [
    {
     "name": "stdout",
     "output_type": "stream",
     "text": [
      "model\tinner_cv mean score\touter vc score\n",
      "Fitting 10 folds for each of 3 candidates, totalling 30 fits\n"
     ]
    },
    {
     "name": "stderr",
     "output_type": "stream",
     "text": [
      "[Parallel(n_jobs=-1)]: Using backend LokyBackend with 8 concurrent workers.\n",
      "[Parallel(n_jobs=-1)]: Done  30 out of  30 | elapsed:   13.1s finished\n"
     ]
    },
    {
     "name": "stdout",
     "output_type": "stream",
     "text": [
      "cv: 0 {'model__C': 0.1} 0.575732134573598 0.679745493107105\n",
      "Fitting 10 folds for each of 3 candidates, totalling 30 fits\n"
     ]
    },
    {
     "name": "stderr",
     "output_type": "stream",
     "text": [
      "[Parallel(n_jobs=-1)]: Using backend LokyBackend with 8 concurrent workers.\n",
      "[Parallel(n_jobs=-1)]: Done  30 out of  30 | elapsed:   10.5s finished\n"
     ]
    },
    {
     "name": "stdout",
     "output_type": "stream",
     "text": [
      "cv: 1 {'model__C': 0.1} 0.5862695012085257 0.5922587486744432\n",
      "Fitting 10 folds for each of 3 candidates, totalling 30 fits\n"
     ]
    },
    {
     "name": "stderr",
     "output_type": "stream",
     "text": [
      "[Parallel(n_jobs=-1)]: Using backend LokyBackend with 8 concurrent workers.\n",
      "[Parallel(n_jobs=-1)]: Done  30 out of  30 | elapsed:   12.0s finished\n"
     ]
    },
    {
     "name": "stdout",
     "output_type": "stream",
     "text": [
      "cv: 2 {'model__C': 0.1} 0.5971689023518292 0.5494680851063829\n",
      "Fitting 10 folds for each of 3 candidates, totalling 30 fits\n"
     ]
    },
    {
     "name": "stderr",
     "output_type": "stream",
     "text": [
      "[Parallel(n_jobs=-1)]: Using backend LokyBackend with 8 concurrent workers.\n",
      "[Parallel(n_jobs=-1)]: Done  30 out of  30 | elapsed:   11.9s finished\n"
     ]
    },
    {
     "name": "stdout",
     "output_type": "stream",
     "text": [
      "cv: 3 {'model__C': 0.1} 0.5795941847771116 0.6558510638297872\n",
      "Fitting 10 folds for each of 3 candidates, totalling 30 fits\n"
     ]
    },
    {
     "name": "stderr",
     "output_type": "stream",
     "text": [
      "[Parallel(n_jobs=-1)]: Using backend LokyBackend with 8 concurrent workers.\n",
      "[Parallel(n_jobs=-1)]: Done  30 out of  30 | elapsed:   11.7s finished\n"
     ]
    },
    {
     "name": "stdout",
     "output_type": "stream",
     "text": [
      "cv: 4 {'model__C': 0.1} 0.5901033873594849 0.6446808510638298\n",
      "Fitting 10 folds for each of 3 candidates, totalling 30 fits\n"
     ]
    },
    {
     "name": "stderr",
     "output_type": "stream",
     "text": [
      "[Parallel(n_jobs=-1)]: Using backend LokyBackend with 8 concurrent workers.\n",
      "[Parallel(n_jobs=-1)]: Done  30 out of  30 | elapsed:   11.9s finished\n"
     ]
    },
    {
     "name": "stdout",
     "output_type": "stream",
     "text": [
      "cv: 5 {'model__C': 0.1} 0.6414546515156271 0.45\n",
      "Fitting 10 folds for each of 3 candidates, totalling 30 fits\n"
     ]
    },
    {
     "name": "stderr",
     "output_type": "stream",
     "text": [
      "[Parallel(n_jobs=-1)]: Using backend LokyBackend with 8 concurrent workers.\n",
      "[Parallel(n_jobs=-1)]: Done  30 out of  30 | elapsed:   12.3s finished\n"
     ]
    },
    {
     "name": "stdout",
     "output_type": "stream",
     "text": [
      "cv: 6 {'model__C': 0.1} 0.5846736980883322 0.6701086956521739\n",
      "Fitting 10 folds for each of 3 candidates, totalling 30 fits\n"
     ]
    },
    {
     "name": "stderr",
     "output_type": "stream",
     "text": [
      "[Parallel(n_jobs=-1)]: Using backend LokyBackend with 8 concurrent workers.\n",
      "[Parallel(n_jobs=-1)]: Done  30 out of  30 | elapsed:   12.4s finished\n"
     ]
    },
    {
     "name": "stdout",
     "output_type": "stream",
     "text": [
      "cv: 7 {'model__C': 0.1} 0.6039699542748325 0.5945652173913043\n",
      "Fitting 10 folds for each of 3 candidates, totalling 30 fits\n"
     ]
    },
    {
     "name": "stderr",
     "output_type": "stream",
     "text": [
      "[Parallel(n_jobs=-1)]: Using backend LokyBackend with 8 concurrent workers.\n",
      "[Parallel(n_jobs=-1)]: Done  30 out of  30 | elapsed:   12.0s finished\n"
     ]
    },
    {
     "name": "stdout",
     "output_type": "stream",
     "text": [
      "cv: 8 {'model__C': 0.1} 0.6184660706002169 0.5201086956521739\n",
      "Fitting 10 folds for each of 3 candidates, totalling 30 fits\n"
     ]
    },
    {
     "name": "stderr",
     "output_type": "stream",
     "text": [
      "[Parallel(n_jobs=-1)]: Using backend LokyBackend with 8 concurrent workers.\n",
      "[Parallel(n_jobs=-1)]: Done  30 out of  30 | elapsed:   12.2s finished\n"
     ]
    },
    {
     "name": "stdout",
     "output_type": "stream",
     "text": [
      "cv: 9 {'model__C': 0.1} 0.6278473595546766 0.5266304347826086\n"
     ]
    }
   ],
   "source": [
    "outer_cv = StratifiedKFold(10)\n",
    "inner_cv = StratifiedKFold(10) \n",
    "model = Pipeline([\n",
    "    ('varthr', VarianceThreshold(0)),   # omit zero variance columns (diagonal)\n",
    "    #('fsel', SelectKBest(f_regression)),\n",
    "    ('model', LogisticRegression())])\n",
    "\n",
    "p_grid = {#'fsel__k': [500, 1000, 2000],\n",
    "          'model__C': [0.1, 1, 10]}\n",
    "\n",
    "clf = GridSearchCV(estimator=model, param_grid=p_grid, cv=StratifiedKFold(10),\n",
    "                   scoring=\"roc_auc\", verbose=True, return_train_score=False,\n",
    "                   n_jobs=-1)\n",
    "\n",
    "all_models = []\n",
    "best_params = []\n",
    "predicted = np.zeros(len(y))\n",
    "predicted_prob = np.zeros(len(y))\n",
    "nested_scores_train = np.zeros(outer_cv.get_n_splits(X_adj))\n",
    "nested_scores_test = np.zeros(outer_cv.get_n_splits(X_adj))   \n",
    "                                    \n",
    "print(\"model\\tinner_cv mean score\\touter vc score\")\n",
    "i=0\n",
    "for train, test in outer_cv.split(X, y):\n",
    "\n",
    "    clf.fit(X_adj[train], y[train])\n",
    "                                    \n",
    "    print('cv:', i, str(clf.best_params_) + \" \" + str(clf.best_score_) + \" \" + str(clf.score(X_adj[test], y[test])))\n",
    "                                    \n",
    "    all_models.append(clf.best_estimator_)\n",
    "    best_params.append(clf.best_params_)\n",
    "    \n",
    "    predicted[test] = clf.predict(X_adj[test])\n",
    "    predicted_prob[test] = clf.predict_proba(X_adj[test])[:,0]\n",
    "                                    \n",
    "    nested_scores_train[i] = clf.best_score_\n",
    "    nested_scores_test[i] = clf.score(X_adj[test], y[test])\n",
    "    i = i+1"
   ]
  },
  {
   "cell_type": "code",
   "execution_count": 21,
   "metadata": {
    "ExecuteTime": {
     "end_time": "2021-08-01T19:13:17.042359Z",
     "start_time": "2021-08-01T19:13:16.801739Z"
    },
    "scrolled": true
   },
   "outputs": [
    {
     "name": "stdout",
     "output_type": "stream",
     "text": [
      "** Mean score in the inner crossvaludation (inner_cv):\t0.6005279844304235\n",
      "** Mean Nested Crossvalidation Score (outer_cv):\t0.5883417285259809\n"
     ]
    },
    {
     "data": {
      "image/png": "[encoded data removed]",
      "text/plain": [
       "<Figure size 360x144 with 1 Axes>"
      ]
     },
     "metadata": {
      "needs_background": "light"
     },
     "output_type": "display_data"
    }
   ],
   "source": [
    "print(\"** Mean score in the inner crossvaludation (inner_cv):\\t\" + str(nested_scores_train.mean()))\n",
    "print(\"** Mean Nested Crossvalidation Score (outer_cv):\\t\" + str(nested_scores_test.mean()))\n",
    "\n",
    "fpr, tpr, _ = roc_curve(y, predicted_prob, pos_label=0)\n",
    "fig, ax = plt.subplots(figsize=(5,2))\n",
    "RocCurveDisplay(fpr=fpr, tpr=tpr).plot(ax=ax) \n",
    "plt.savefig('../data_out/fig/abide_motion_reg_rocplot.pdf')\n",
    "    "
   ]
  },
  {
   "cell_type": "code",
   "execution_count": 22,
   "metadata": {
    "ExecuteTime": {
     "end_time": "2021-08-01T19:13:18.135344Z",
     "start_time": "2021-08-01T19:13:17.044411Z"
    }
   },
   "outputs": [
    {
     "data": {
      "image/png": "[encoded data removed]",
      "text/plain": [
       "<Figure size 360x144 with 1 Axes>"
      ]
     },
     "metadata": {
      "needs_background": "light"
     },
     "output_type": "display_data"
    }
   ],
   "source": [
    "plt.figure(figsize=(5,2))\n",
    "sns.stripplot(x=y, y=predicted_prob, hue=mean_fd_binned,\n",
    "              palette=\"coolwarm\", alpha=0.4, jitter=0.4, dodge=True)\n",
    "sns.boxplot(x=y, y=predicted_prob, color=(1,1,1,1))\n",
    "plt.legend([],[], frameon=False)\n",
    "plt.savefig('../data_out/fig/abide_motion_reg_stripplot.pdf')"
   ]
  },
  {
   "cell_type": "code",
   "execution_count": 23,
   "metadata": {
    "ExecuteTime": {
     "end_time": "2021-08-01T19:13:22.257490Z",
     "start_time": "2021-08-01T19:13:18.142609Z"
    }
   },
   "outputs": [
    {
     "name": "stderr",
     "output_type": "stream",
     "text": [
      "Permuting: 100%|██████████| 1000/1000 [00:02<00:00, 355.57it/s]\n"
     ]
    },
    {
     "data": {
      "image/svg+xml": [
       "<?xml version=\"1.0\" encoding=\"UTF-8\" standalone=\"no\"?>\n",
       "<!DOCTYPE svg PUBLIC \"-//W3C//DTD SVG 1.1//EN\"\n",
       " \"http://www.w3.org/Graphics/SVG/1.1/DTD/svg11.dtd\">\n",
       "<!-- Generated by graphviz version 2.44.1 (20200629.0846)\n",
       " -->\n",
       "<!-- Pages: 1 -->\n",
       "<svg width=\"324pt\" height=\"74pt\"\n",
       " viewBox=\"0.00 0.00 324.00 73.76\" xmlns=\"http://www.w3.org/2000/svg\" xmlns:xlink=\"http://www.w3.org/1999/xlink\">\n",
       "<g id=\"graph0\" class=\"graph\" transform=\"scale(0.93 0.93) rotate(0) translate(4 75)\">\n",
       "<polygon fill=\"white\" stroke=\"transparent\" points=\"-4,4 -4,-75 343,-75 343,4 -4,4\"/>\n",
       "<!-- c -->\n",
       "<g id=\"node1\" class=\"node\">\n",
       "<title>c</title>\n",
       "<ellipse fill=\"none\" stroke=\"black\" cx=\"27\" cy=\"-18\" rx=\"27\" ry=\"18\"/>\n",
       "<text text-anchor=\"middle\" x=\"27\" y=\"-14.3\" font-family=\"Times,serif\" font-size=\"14.00\">c</text>\n",
       "</g>\n",
       "<!-- y -->\n",
       "<g id=\"node2\" class=\"node\">\n",
       "<title>y</title>\n",
       "<ellipse fill=\"none\" stroke=\"black\" cx=\"169.5\" cy=\"-53\" rx=\"27\" ry=\"18\"/>\n",
       "<text text-anchor=\"middle\" x=\"169.5\" y=\"-49.3\" font-family=\"Times,serif\" font-size=\"14.00\">y</text>\n",
       "</g>\n",
       "<!-- c&#45;&#45;y -->\n",
       "<g id=\"edge2\" class=\"edge\">\n",
       "<title>c&#45;&#45;y</title>\n",
       "<path fill=\"none\" stroke=\"black\" d=\"M52.47,-24.1C78.1,-30.48 118.13,-40.45 143.84,-46.86\"/>\n",
       "<text text-anchor=\"middle\" x=\"87.5\" y=\"-39.8\" font-family=\"Times,serif\" font-size=\"14.00\">0.028</text>\n",
       "</g>\n",
       "<!-- yhat -->\n",
       "<g id=\"node3\" class=\"node\">\n",
       "<title>yhat</title>\n",
       "<ellipse fill=\"none\" stroke=\"black\" cx=\"312\" cy=\"-18\" rx=\"27\" ry=\"18\"/>\n",
       "<text text-anchor=\"start\" x=\"308.5\" y=\"-14.3\" font-family=\"Times,serif\" font-size=\"14.00\">ŷ</text>\n",
       "</g>\n",
       "<!-- c&#45;&#45;yhat -->\n",
       "<g id=\"edge1\" class=\"edge\">\n",
       "<title>c&#45;&#45;yhat</title>\n",
       "<path fill=\"none\" stroke=\"black\" stroke-dasharray=\"5,2\" d=\"M54.03,-15.52C72.66,-13.86 98.35,-11.85 121,-11 164.08,-9.38 174.92,-9.38 218,-11 240.65,-11.85 266.34,-13.86 284.97,-15.52\"/>\n",
       "<text text-anchor=\"middle\" x=\"169.5\" y=\"-14.8\" font-family=\"Times,serif\" font-size=\"14.00\">0.26 (p&lt;0.0001*)</text>\n",
       "</g>\n",
       "<!-- y&#45;&#45;yhat -->\n",
       "<g id=\"edge3\" class=\"edge\">\n",
       "<title>y&#45;&#45;yhat</title>\n",
       "<path fill=\"none\" stroke=\"black\" d=\"M194.97,-46.9C220.6,-40.52 260.63,-30.55 286.34,-24.14\"/>\n",
       "<text text-anchor=\"middle\" x=\"251.5\" y=\"-39.8\" font-family=\"Times,serif\" font-size=\"14.00\">0.009</text>\n",
       "</g>\n",
       "</g>\n",
       "</svg>\n"
      ],
      "text/plain": [
       "<graphviz.dot.Graph at 0x7f8f62814550>"
      ]
     },
     "execution_count": 23,
     "metadata": {},
     "output_type": "execute_result"
    }
   ],
   "source": [
    "plot_graph(test_partially_confounded(y, predicted, mean_fd, random_state=42),\n",
    "          outfile_base='../data_out/fig/abide_motion_reg_partial')"
   ]
  },
  {
   "cell_type": "code",
   "execution_count": 24,
   "metadata": {
    "ExecuteTime": {
     "end_time": "2021-08-01T19:13:26.317643Z",
     "start_time": "2021-08-01T19:13:22.261618Z"
    }
   },
   "outputs": [
    {
     "name": "stderr",
     "output_type": "stream",
     "text": [
      "Permuting: 100%|██████████| 1000/1000 [00:02<00:00, 350.15it/s]\n"
     ]
    },
    {
     "data": {
      "image/svg+xml": [
       "<?xml version=\"1.0\" encoding=\"UTF-8\" standalone=\"no\"?>\n",
       "<!DOCTYPE svg PUBLIC \"-//W3C//DTD SVG 1.1//EN\"\n",
       " \"http://www.w3.org/Graphics/SVG/1.1/DTD/svg11.dtd\">\n",
       "<!-- Generated by graphviz version 2.44.1 (20200629.0846)\n",
       " -->\n",
       "<!-- Pages: 1 -->\n",
       "<svg width=\"324pt\" height=\"72pt\"\n",
       " viewBox=\"0.00 0.00 324.00 71.90\" xmlns=\"http://www.w3.org/2000/svg\" xmlns:xlink=\"http://www.w3.org/1999/xlink\">\n",
       "<g id=\"graph0\" class=\"graph\" transform=\"scale(0.91 0.91) rotate(0) translate(4 75)\">\n",
       "<polygon fill=\"white\" stroke=\"transparent\" points=\"-4,4 -4,-75 352,-75 352,4 -4,4\"/>\n",
       "<!-- c -->\n",
       "<g id=\"node1\" class=\"node\">\n",
       "<title>c</title>\n",
       "<ellipse fill=\"none\" stroke=\"black\" cx=\"27\" cy=\"-18\" rx=\"27\" ry=\"18\"/>\n",
       "<text text-anchor=\"middle\" x=\"27\" y=\"-14.3\" font-family=\"Times,serif\" font-size=\"14.00\">c</text>\n",
       "</g>\n",
       "<!-- y -->\n",
       "<g id=\"node2\" class=\"node\">\n",
       "<title>y</title>\n",
       "<ellipse fill=\"none\" stroke=\"black\" cx=\"148\" cy=\"-53\" rx=\"27\" ry=\"18\"/>\n",
       "<text text-anchor=\"middle\" x=\"148\" y=\"-49.3\" font-family=\"Times,serif\" font-size=\"14.00\">y</text>\n",
       "</g>\n",
       "<!-- c&#45;&#45;y -->\n",
       "<g id=\"edge2\" class=\"edge\">\n",
       "<title>c&#45;&#45;y</title>\n",
       "<path fill=\"none\" stroke=\"black\" d=\"M52.08,-25.08C72.73,-31.16 102.32,-39.86 122.95,-45.93\"/>\n",
       "<text text-anchor=\"middle\" x=\"87.5\" y=\"-42.8\" font-family=\"Times,serif\" font-size=\"14.00\">0.028</text>\n",
       "</g>\n",
       "<!-- yhat -->\n",
       "<g id=\"node3\" class=\"node\">\n",
       "<title>yhat</title>\n",
       "<ellipse fill=\"none\" stroke=\"black\" cx=\"321\" cy=\"-18\" rx=\"27\" ry=\"18\"/>\n",
       "<text text-anchor=\"start\" x=\"317.5\" y=\"-14.3\" font-family=\"Times,serif\" font-size=\"14.00\">ŷ</text>\n",
       "</g>\n",
       "<!-- c&#45;&#45;yhat -->\n",
       "<g id=\"edge1\" class=\"edge\">\n",
       "<title>c&#45;&#45;yhat</title>\n",
       "<path fill=\"none\" stroke=\"black\" d=\"M54.03,-15.52C72.66,-13.86 98.35,-11.85 121,-11 183.01,-8.67 255.9,-13.05 293.92,-15.87\"/>\n",
       "<text text-anchor=\"middle\" x=\"148\" y=\"-14.8\" font-family=\"Times,serif\" font-size=\"14.00\">0.26</text>\n",
       "</g>\n",
       "<!-- y&#45;&#45;yhat -->\n",
       "<g id=\"edge3\" class=\"edge\">\n",
       "<title>y&#45;&#45;yhat</title>\n",
       "<path fill=\"none\" stroke=\"black\" stroke-dasharray=\"5,2\" d=\"M174.23,-47.84C206.65,-41.2 262.61,-29.75 294.94,-23.13\"/>\n",
       "<text text-anchor=\"middle\" x=\"234.5\" y=\"-46.8\" font-family=\"Times,serif\" font-size=\"14.00\">0.009 (p=0.33)</text>\n",
       "</g>\n",
       "</g>\n",
       "</svg>\n"
      ],
      "text/plain": [
       "<graphviz.dot.Graph at 0x7f8f0f700bd0>"
      ]
     },
     "execution_count": 24,
     "metadata": {},
     "output_type": "execute_result"
    }
   ],
   "source": [
    "plot_graph(test_fully_confounded(y, predicted, mean_fd, random_state=42),\n",
    "          outfile_base='../data_out/fig/abide_motion_reg_full')"
   ]
  },
  {
   "cell_type": "markdown",
   "metadata": {},
   "source": [
    "# Regress out site"
   ]
  },
  {
   "cell_type": "code",
   "execution_count": 25,
   "metadata": {
    "ExecuteTime": {
     "end_time": "2021-08-01T19:15:35.079692Z",
     "start_time": "2021-08-01T19:13:26.320436Z"
    }
   },
   "outputs": [],
   "source": [
    "# regress-out acquisition from connectivity\n",
    "X_adj = np.zeros_like(X)\n",
    "for i in range(X.shape[1]):\n",
    "    tmp = pd.DataFrame({\n",
    "        'x': site_int,\n",
    "        'y': X[:,i]\n",
    "    })\n",
    "    OLS_model = ols_f(\"y ~ C(x)\", tmp).fit()  # training the model\n",
    "    X_adj[:, i] = OLS_model.resid.values"
   ]
  },
  {
   "cell_type": "code",
   "execution_count": 26,
   "metadata": {
    "ExecuteTime": {
     "end_time": "2021-08-01T19:17:32.666545Z",
     "start_time": "2021-08-01T19:15:35.081996Z"
    }
   },
   "outputs": [
    {
     "name": "stdout",
     "output_type": "stream",
     "text": [
      "model\tinner_cv mean score\touter vc score\n",
      "Fitting 10 folds for each of 3 candidates, totalling 30 fits\n"
     ]
    },
    {
     "name": "stderr",
     "output_type": "stream",
     "text": [
      "[Parallel(n_jobs=-1)]: Using backend LokyBackend with 8 concurrent workers.\n",
      "[Parallel(n_jobs=-1)]: Done  30 out of  30 | elapsed:   11.1s finished\n"
     ]
    },
    {
     "name": "stdout",
     "output_type": "stream",
     "text": [
      "cv: 0 {'model__C': 0.1} 0.7512998189827458 0.6956521739130435\n",
      "Fitting 10 folds for each of 3 candidates, totalling 30 fits\n"
     ]
    },
    {
     "name": "stderr",
     "output_type": "stream",
     "text": [
      "[Parallel(n_jobs=-1)]: Using backend LokyBackend with 8 concurrent workers.\n",
      "[Parallel(n_jobs=-1)]: Done  30 out of  30 | elapsed:   10.6s finished\n"
     ]
    },
    {
     "name": "stdout",
     "output_type": "stream",
     "text": [
      "cv: 1 {'model__C': 0.1} 0.7602222431490724 0.653764581124072\n",
      "Fitting 10 folds for each of 3 candidates, totalling 30 fits\n"
     ]
    },
    {
     "name": "stderr",
     "output_type": "stream",
     "text": [
      "[Parallel(n_jobs=-1)]: Using backend LokyBackend with 8 concurrent workers.\n",
      "[Parallel(n_jobs=-1)]: Done  30 out of  30 | elapsed:   11.1s finished\n"
     ]
    },
    {
     "name": "stdout",
     "output_type": "stream",
     "text": [
      "cv: 2 {'model__C': 0.1} 0.7382248101760297 0.7797872340425532\n",
      "Fitting 10 folds for each of 3 candidates, totalling 30 fits\n"
     ]
    },
    {
     "name": "stderr",
     "output_type": "stream",
     "text": [
      "[Parallel(n_jobs=-1)]: Using backend LokyBackend with 8 concurrent workers.\n",
      "[Parallel(n_jobs=-1)]: Done  30 out of  30 | elapsed:   11.1s finished\n"
     ]
    },
    {
     "name": "stdout",
     "output_type": "stream",
     "text": [
      "cv: 3 {'model__C': 10} 0.7533220502732698 0.8308510638297872\n",
      "Fitting 10 folds for each of 3 candidates, totalling 30 fits\n"
     ]
    },
    {
     "name": "stderr",
     "output_type": "stream",
     "text": [
      "[Parallel(n_jobs=-1)]: Using backend LokyBackend with 8 concurrent workers.\n",
      "[Parallel(n_jobs=-1)]: Done  30 out of  30 | elapsed:   10.7s finished\n"
     ]
    },
    {
     "name": "stdout",
     "output_type": "stream",
     "text": [
      "cv: 4 {'model__C': 0.1} 0.7311433384604116 0.7856382978723404\n",
      "Fitting 10 folds for each of 3 candidates, totalling 30 fits\n"
     ]
    },
    {
     "name": "stderr",
     "output_type": "stream",
     "text": [
      "[Parallel(n_jobs=-1)]: Using backend LokyBackend with 8 concurrent workers.\n",
      "[Parallel(n_jobs=-1)]: Done  30 out of  30 | elapsed:   10.8s finished\n"
     ]
    },
    {
     "name": "stdout",
     "output_type": "stream",
     "text": [
      "cv: 5 {'model__C': 0.1} 0.7137365152609055 0.8664893617021276\n",
      "Fitting 10 folds for each of 3 candidates, totalling 30 fits\n"
     ]
    },
    {
     "name": "stderr",
     "output_type": "stream",
     "text": [
      "[Parallel(n_jobs=-1)]: Using backend LokyBackend with 8 concurrent workers.\n",
      "[Parallel(n_jobs=-1)]: Done  30 out of  30 | elapsed:   11.1s finished\n"
     ]
    },
    {
     "name": "stdout",
     "output_type": "stream",
     "text": [
      "cv: 6 {'model__C': 0.1} 0.7290465552660674 0.7478260869565218\n",
      "Fitting 10 folds for each of 3 candidates, totalling 30 fits\n"
     ]
    },
    {
     "name": "stderr",
     "output_type": "stream",
     "text": [
      "[Parallel(n_jobs=-1)]: Using backend LokyBackend with 8 concurrent workers.\n",
      "[Parallel(n_jobs=-1)]: Done  30 out of  30 | elapsed:   10.9s finished\n"
     ]
    },
    {
     "name": "stdout",
     "output_type": "stream",
     "text": [
      "cv: 7 {'model__C': 0.1} 0.7255997722461138 0.8108695652173913\n",
      "Fitting 10 folds for each of 3 candidates, totalling 30 fits\n"
     ]
    },
    {
     "name": "stderr",
     "output_type": "stream",
     "text": [
      "[Parallel(n_jobs=-1)]: Using backend LokyBackend with 8 concurrent workers.\n",
      "[Parallel(n_jobs=-1)]: Done  30 out of  30 | elapsed:   10.9s finished\n"
     ]
    },
    {
     "name": "stdout",
     "output_type": "stream",
     "text": [
      "cv: 8 {'model__C': 0.1} 0.737317238841629 0.771195652173913\n",
      "Fitting 10 folds for each of 3 candidates, totalling 30 fits\n"
     ]
    },
    {
     "name": "stderr",
     "output_type": "stream",
     "text": [
      "[Parallel(n_jobs=-1)]: Using backend LokyBackend with 8 concurrent workers.\n",
      "[Parallel(n_jobs=-1)]: Done  30 out of  30 | elapsed:   11.0s finished\n"
     ]
    },
    {
     "name": "stdout",
     "output_type": "stream",
     "text": [
      "cv: 9 {'model__C': 0.1} 0.7495317617268836 0.6157608695652174\n"
     ]
    }
   ],
   "source": [
    "outer_cv = StratifiedKFold(10)\n",
    "inner_cv = StratifiedKFold(10) \n",
    "model = Pipeline([\n",
    "    ('varthr', VarianceThreshold(0)),   # omit zero variance columns (diagonal)\n",
    "    #('fsel', SelectKBest(f_regression)),\n",
    "    ('model', LogisticRegression())])\n",
    "\n",
    "p_grid = {#'fsel__k': [500, 1000, 2000],\n",
    "          'model__C': [0.1, 1, 10]}\n",
    "\n",
    "clf = GridSearchCV(estimator=model, param_grid=p_grid, cv=StratifiedKFold(10),\n",
    "                   scoring=\"roc_auc\", verbose=True, return_train_score=False,\n",
    "                   n_jobs=-1)\n",
    "\n",
    "all_models = []\n",
    "best_params = []\n",
    "predicted = np.zeros(len(y))\n",
    "predicted_prob = np.zeros(len(y))\n",
    "nested_scores_train = np.zeros(outer_cv.get_n_splits(X_adj))\n",
    "nested_scores_test = np.zeros(outer_cv.get_n_splits(X_adj))   \n",
    "                                    \n",
    "print(\"model\\tinner_cv mean score\\touter vc score\")\n",
    "i=0\n",
    "for train, test in outer_cv.split(X, y):\n",
    "\n",
    "    clf.fit(X_adj[train], y[train])\n",
    "                                    \n",
    "    print('cv:', i, str(clf.best_params_) + \" \" + str(clf.best_score_) + \" \" + str(clf.score(X_adj[test], y[test])))\n",
    "                                    \n",
    "    all_models.append(clf.best_estimator_)\n",
    "    best_params.append(clf.best_params_)\n",
    "    \n",
    "    predicted[test] = clf.predict(X_adj[test])\n",
    "    predicted_prob[test] = clf.predict_proba(X_adj[test])[:,0]\n",
    "                                    \n",
    "    nested_scores_train[i] = clf.best_score_\n",
    "    nested_scores_test[i] = clf.score(X_adj[test], y[test])\n",
    "    i = i+1"
   ]
  },
  {
   "cell_type": "code",
   "execution_count": 27,
   "metadata": {
    "ExecuteTime": {
     "end_time": "2021-08-01T19:17:32.931014Z",
     "start_time": "2021-08-01T19:17:32.669160Z"
    }
   },
   "outputs": [
    {
     "name": "stdout",
     "output_type": "stream",
     "text": [
      "** Mean score in the inner crossvaludation (inner_cv):\t0.7389444104383128\n",
      "** Mean Nested Crossvalidation Score (outer_cv):\t0.7557834886396967\n"
     ]
    },
    {
     "data": {
      "image/png": "[encoded data removed]",
      "text/plain": [
       "<Figure size 360x144 with 1 Axes>"
      ]
     },
     "metadata": {
      "needs_background": "light"
     },
     "output_type": "display_data"
    }
   ],
   "source": [
    "print(\"** Mean score in the inner crossvaludation (inner_cv):\\t\" + str(nested_scores_train.mean()))\n",
    "print(\"** Mean Nested Crossvalidation Score (outer_cv):\\t\" + str(nested_scores_test.mean()))\n",
    "\n",
    "fpr, tpr, _ = roc_curve(y, predicted_prob, pos_label=0)\n",
    "fig, ax = plt.subplots(figsize=(5,2))\n",
    "RocCurveDisplay(fpr=fpr, tpr=tpr).plot(ax=ax) \n",
    "plt.savefig('../data_out/fig/abide_site_reg_rocplot.pdf')\n",
    "    "
   ]
  },
  {
   "cell_type": "code",
   "execution_count": 28,
   "metadata": {
    "ExecuteTime": {
     "end_time": "2021-08-01T19:17:36.932716Z",
     "start_time": "2021-08-01T19:17:32.933004Z"
    }
   },
   "outputs": [
    {
     "data": {
      "image/png": "[encoded data removed]",
      "text/plain": [
       "<Figure size 360x108 with 1 Axes>"
      ]
     },
     "metadata": {
      "needs_background": "light"
     },
     "output_type": "display_data"
    }
   ],
   "source": [
    "plt.figure(figsize=(5,1.5))\n",
    "\n",
    "pal=[sns.color_palette(\"coolwarm\", 10)[0], sns.color_palette(\"coolwarm\", 10)[-1]]\n",
    "sns.stripplot(x=site, y=predicted_prob, hue=y, palette=pal, alpha=0.2, jitter=0.2, dodge=True)\n",
    "ax=sns.boxplot(x=site, y=predicted_prob, hue=y, showfliers = False)\n",
    "for box in ax.artists:\n",
    "    box.set_facecolor((1,1,1,0))\n",
    "plt.xticks(rotation=90)\n",
    "for i in range(len(np.unique(site))):\n",
    "    plt.axvline(i+0.5, color=\"gray\", alpha=0.5, linewidth=0.5)\n",
    "plt.savefig('../data_out/fig/abide_site_reg_striplot.pdf')"
   ]
  },
  {
   "cell_type": "code",
   "execution_count": 29,
   "metadata": {
    "ExecuteTime": {
     "end_time": "2021-08-01T19:17:45.768794Z",
     "start_time": "2021-08-01T19:17:36.934602Z"
    }
   },
   "outputs": [
    {
     "name": "stderr",
     "output_type": "stream",
     "text": [
      "Permuting: 100%|██████████| 1000/1000 [00:06<00:00, 147.53it/s]\n"
     ]
    },
    {
     "data": {
      "image/svg+xml": [
       "<?xml version=\"1.0\" encoding=\"UTF-8\" standalone=\"no\"?>\n",
       "<!DOCTYPE svg PUBLIC \"-//W3C//DTD SVG 1.1//EN\"\n",
       " \"http://www.w3.org/Graphics/SVG/1.1/DTD/svg11.dtd\">\n",
       "<!-- Generated by graphviz version 2.44.1 (20200629.0846)\n",
       " -->\n",
       "<!-- Pages: 1 -->\n",
       "<svg width=\"324pt\" height=\"77pt\"\n",
       " viewBox=\"0.00 0.00 324.00 76.86\" xmlns=\"http://www.w3.org/2000/svg\" xmlns:xlink=\"http://www.w3.org/1999/xlink\">\n",
       "<g id=\"graph0\" class=\"graph\" transform=\"scale(0.97 0.97) rotate(0) translate(4 75)\">\n",
       "<polygon fill=\"white\" stroke=\"transparent\" points=\"-4,4 -4,-75 329,-75 329,4 -4,4\"/>\n",
       "<!-- c -->\n",
       "<g id=\"node1\" class=\"node\">\n",
       "<title>c</title>\n",
       "<ellipse fill=\"none\" stroke=\"black\" cx=\"27\" cy=\"-18\" rx=\"27\" ry=\"18\"/>\n",
       "<text text-anchor=\"middle\" x=\"27\" y=\"-14.3\" font-family=\"Times,serif\" font-size=\"14.00\">c</text>\n",
       "</g>\n",
       "<!-- y -->\n",
       "<g id=\"node2\" class=\"node\">\n",
       "<title>y</title>\n",
       "<ellipse fill=\"none\" stroke=\"black\" cx=\"162.5\" cy=\"-53\" rx=\"27\" ry=\"18\"/>\n",
       "<text text-anchor=\"middle\" x=\"162.5\" y=\"-49.3\" font-family=\"Times,serif\" font-size=\"14.00\">y</text>\n",
       "</g>\n",
       "<!-- c&#45;&#45;y -->\n",
       "<g id=\"edge2\" class=\"edge\">\n",
       "<title>c&#45;&#45;y</title>\n",
       "<path fill=\"none\" stroke=\"black\" d=\"M52.49,-24.42C76.57,-30.73 113.14,-40.32 137.17,-46.62\"/>\n",
       "<text text-anchor=\"middle\" x=\"87.5\" y=\"-40.8\" font-family=\"Times,serif\" font-size=\"14.00\">0.027</text>\n",
       "</g>\n",
       "<!-- yhat -->\n",
       "<g id=\"node3\" class=\"node\">\n",
       "<title>yhat</title>\n",
       "<ellipse fill=\"none\" stroke=\"black\" cx=\"298\" cy=\"-18\" rx=\"27\" ry=\"18\"/>\n",
       "<text text-anchor=\"start\" x=\"294.5\" y=\"-14.3\" font-family=\"Times,serif\" font-size=\"14.00\">ŷ</text>\n",
       "</g>\n",
       "<!-- c&#45;&#45;yhat -->\n",
       "<g id=\"edge1\" class=\"edge\">\n",
       "<title>c&#45;&#45;yhat</title>\n",
       "<path fill=\"none\" stroke=\"black\" stroke-dasharray=\"5,2\" d=\"M54.03,-15.52C72.66,-13.86 98.35,-11.85 121,-11 157.86,-9.61 167.14,-9.61 204,-11 226.65,-11.85 252.34,-13.86 270.97,-15.52\"/>\n",
       "<text text-anchor=\"middle\" x=\"162.5\" y=\"-14.8\" font-family=\"Times,serif\" font-size=\"14.00\">0.031 (p=0.22)</text>\n",
       "</g>\n",
       "<!-- y&#45;&#45;yhat -->\n",
       "<g id=\"edge3\" class=\"edge\">\n",
       "<title>y&#45;&#45;yhat</title>\n",
       "<path fill=\"none\" stroke=\"black\" d=\"M187.99,-46.58C212.07,-40.27 248.64,-30.68 272.67,-24.38\"/>\n",
       "<text text-anchor=\"middle\" x=\"237.5\" y=\"-40.8\" font-family=\"Times,serif\" font-size=\"14.00\">0.111</text>\n",
       "</g>\n",
       "</g>\n",
       "</svg>\n"
      ],
      "text/plain": [
       "<graphviz.dot.Graph at 0x7f8f0f97ca50>"
      ]
     },
     "execution_count": 29,
     "metadata": {},
     "output_type": "execute_result"
    }
   ],
   "source": [
    "plot_graph(test_partially_confounded(y, predicted, site_int, cat_c=True, random_state=42),\n",
    "          outfile_base='../data_out/fig/abide_site_reg_partial')"
   ]
  },
  {
   "cell_type": "code",
   "execution_count": 30,
   "metadata": {
    "ExecuteTime": {
     "end_time": "2021-08-01T19:17:51.250595Z",
     "start_time": "2021-08-01T19:17:45.772238Z"
    }
   },
   "outputs": [
    {
     "name": "stderr",
     "output_type": "stream",
     "text": [
      "Permuting: 100%|██████████| 1000/1000 [00:03<00:00, 271.72it/s]\n"
     ]
    },
    {
     "data": {
      "image/svg+xml": [
       "<?xml version=\"1.0\" encoding=\"UTF-8\" standalone=\"no\"?>\n",
       "<!DOCTYPE svg PUBLIC \"-//W3C//DTD SVG 1.1//EN\"\n",
       " \"http://www.w3.org/Graphics/SVG/1.1/DTD/svg11.dtd\">\n",
       "<!-- Generated by graphviz version 2.44.1 (20200629.0846)\n",
       " -->\n",
       "<!-- Pages: 1 -->\n",
       "<svg width=\"324pt\" height=\"68pt\"\n",
       " viewBox=\"0.00 0.00 324.00 68.07\" xmlns=\"http://www.w3.org/2000/svg\" xmlns:xlink=\"http://www.w3.org/1999/xlink\">\n",
       "<g id=\"graph0\" class=\"graph\" transform=\"scale(0.86 0.86) rotate(0) translate(4 75)\">\n",
       "<polygon fill=\"white\" stroke=\"transparent\" points=\"-4,4 -4,-75 372,-75 372,4 -4,4\"/>\n",
       "<!-- c -->\n",
       "<g id=\"node1\" class=\"node\">\n",
       "<title>c</title>\n",
       "<ellipse fill=\"none\" stroke=\"black\" cx=\"27\" cy=\"-18\" rx=\"27\" ry=\"18\"/>\n",
       "<text text-anchor=\"middle\" x=\"27\" y=\"-14.3\" font-family=\"Times,serif\" font-size=\"14.00\">c</text>\n",
       "</g>\n",
       "<!-- y -->\n",
       "<g id=\"node2\" class=\"node\">\n",
       "<title>y</title>\n",
       "<ellipse fill=\"none\" stroke=\"black\" cx=\"148\" cy=\"-53\" rx=\"27\" ry=\"18\"/>\n",
       "<text text-anchor=\"middle\" x=\"148\" y=\"-49.3\" font-family=\"Times,serif\" font-size=\"14.00\">y</text>\n",
       "</g>\n",
       "<!-- c&#45;&#45;y -->\n",
       "<g id=\"edge2\" class=\"edge\">\n",
       "<title>c&#45;&#45;y</title>\n",
       "<path fill=\"none\" stroke=\"black\" d=\"M52.08,-25.08C72.73,-31.16 102.32,-39.86 122.95,-45.93\"/>\n",
       "<text text-anchor=\"middle\" x=\"87.5\" y=\"-42.8\" font-family=\"Times,serif\" font-size=\"14.00\">0.027</text>\n",
       "</g>\n",
       "<!-- yhat -->\n",
       "<g id=\"node3\" class=\"node\">\n",
       "<title>yhat</title>\n",
       "<ellipse fill=\"none\" stroke=\"black\" cx=\"341\" cy=\"-18\" rx=\"27\" ry=\"18\"/>\n",
       "<text text-anchor=\"start\" x=\"337.5\" y=\"-14.3\" font-family=\"Times,serif\" font-size=\"14.00\">ŷ</text>\n",
       "</g>\n",
       "<!-- c&#45;&#45;yhat -->\n",
       "<g id=\"edge1\" class=\"edge\">\n",
       "<title>c&#45;&#45;yhat</title>\n",
       "<path fill=\"none\" stroke=\"black\" d=\"M54.03,-15.52C72.66,-13.86 98.35,-11.85 121,-11 190.75,-8.38 273.03,-13.11 314.04,-16\"/>\n",
       "<text text-anchor=\"middle\" x=\"148\" y=\"-14.8\" font-family=\"Times,serif\" font-size=\"14.00\">0.031</text>\n",
       "</g>\n",
       "<!-- y&#45;&#45;yhat -->\n",
       "<g id=\"edge3\" class=\"edge\">\n",
       "<title>y&#45;&#45;yhat</title>\n",
       "<path fill=\"none\" stroke=\"black\" stroke-dasharray=\"5,2\" d=\"M174.36,-48.35C211,-41.64 278.31,-29.3 314.84,-22.61\"/>\n",
       "<text text-anchor=\"middle\" x=\"244.5\" y=\"-47.8\" font-family=\"Times,serif\" font-size=\"14.00\">0.111 (p&lt;0.0001*)</text>\n",
       "</g>\n",
       "</g>\n",
       "</svg>\n"
      ],
      "text/plain": [
       "<graphviz.dot.Graph at 0x7f8f0e69a550>"
      ]
     },
     "execution_count": 30,
     "metadata": {},
     "output_type": "execute_result"
    }
   ],
   "source": [
    "plot_graph(test_fully_confounded(y, predicted, site_int, cat_c=True, random_state=42),\n",
    "          outfile_base='../data_out/fig/abide_site_reg_full')"
   ]
  },
  {
   "cell_type": "markdown",
   "metadata": {
    "ExecuteTime": {
     "end_time": "2021-07-31T17:31:34.153662Z",
     "start_time": "2021-07-31T17:31:33.891286Z"
    }
   },
   "source": [
    "# Combat on binned motion data"
   ]
  },
  {
   "cell_type": "code",
   "execution_count": 31,
   "metadata": {
    "ExecuteTime": {
     "end_time": "2021-08-01T19:20:30.274771Z",
     "start_time": "2021-08-01T19:17:51.253817Z"
    }
   },
   "outputs": [
    {
     "name": "stdout",
     "output_type": "stream",
     "text": [
      "model\tinner_cv mean score\touter vc score\n",
      "cv: 0 {'model__C': 0.1} 0.6645641721861234 0.7067868504772005\n",
      "cv: 1 {'model__C': 0.1} 0.6695913247742515 0.6813361611876988\n",
      "cv: 2 {'model__C': 0.1} 0.6594625984869887 0.6930851063829787\n",
      "cv: 3 {'model__C': 0.1} 0.6608973956534931 0.8074468085106383\n",
      "cv: 4 {'model__C': 0.1} 0.6629321394565297 0.7287234042553191\n",
      "cv: 5 {'model__C': 0.1} 0.7064102865932134 0.6425531914893616\n",
      "cv: 6 {'model__C': 0.1} 0.6678523035230352 0.7581521739130436\n",
      "cv: 7 {'model__C': 0.1} 0.6746544453861528 0.7472826086956521\n",
      "cv: 8 {'model__C': 0.1} 0.6961607077460735 0.6646739130434782\n",
      "cv: 9 {'model__C': 0.1} 0.6957503670918306 0.5815217391304348\n"
     ]
    }
   ],
   "source": [
    "outer_cv = StratifiedKFold(10)\n",
    "inner_cv = StratifiedKFold(10) \n",
    "model = Pipeline([\n",
    "    ('varthr', VarianceThreshold(0)),   # omit zero variance columns (diagonal)\n",
    "    #('fsel', SelectKBest(f_regression)),\n",
    "    ('model', LogisticRegression())])\n",
    "\n",
    "p_grid = {#'fsel__k': [500, 1000, 2000],\n",
    "          'model__C': [0.1, 1, 10]}\n",
    "\n",
    "clf = GridSearchCV(estimator=model, param_grid=p_grid, cv=StratifiedKFold(10),\n",
    "                   scoring=\"roc_auc\", verbose=False, return_train_score=False,\n",
    "                   n_jobs=-1)\n",
    "\n",
    "all_models = []\n",
    "best_params = []\n",
    "predicted = np.zeros(len(y))\n",
    "predicted_prob = np.zeros(len(y))\n",
    "nested_scores_train = np.zeros(outer_cv.get_n_splits(X))\n",
    "nested_scores_test = np.zeros(outer_cv.get_n_splits(X))   \n",
    "                                    \n",
    "print(\"model\\tinner_cv mean score\\touter vc score\")\n",
    "i=0\n",
    "for train, test in outer_cv.split(X, y):\n",
    "    \n",
    "    comb = CombatModel()\n",
    "    X_train_combat = comb.fit_transform(X[:,np.sum(X,0)!=0][train],\n",
    "                                   np.array([mean_fd_binned[train]]).transpose()\n",
    "                                  )\n",
    "\n",
    "\n",
    "    clf.fit(X_train_combat, y[train])\n",
    "    \n",
    "    X_test_combat = comb.transform(X[:,np.sum(X,0)!=0][test],\n",
    "                                   np.array([mean_fd_binned[test]]).transpose())\n",
    "\n",
    "                                    \n",
    "    print('cv:', i, str(clf.best_params_) + \" \" + str(clf.best_score_) + \" \" + str(clf.score(X_test_combat, y[test])))\n",
    "                                    \n",
    "    all_models.append(clf.best_estimator_)\n",
    "    best_params.append(clf.best_params_)\n",
    "    \n",
    "    predicted[test] = clf.predict(X_test_combat)\n",
    "    predicted_prob[test] = clf.predict_proba(X_test_combat)[:,0]\n",
    "                                    \n",
    "    nested_scores_train[i] = clf.best_score_\n",
    "    nested_scores_test[i] = clf.score(X_test_combat, y[test])\n",
    "    i = i+1"
   ]
  },
  {
   "cell_type": "code",
   "execution_count": 32,
   "metadata": {
    "ExecuteTime": {
     "end_time": "2021-08-01T19:20:30.525567Z",
     "start_time": "2021-08-01T19:20:30.277074Z"
    }
   },
   "outputs": [
    {
     "name": "stdout",
     "output_type": "stream",
     "text": [
      "** Mean score in the inner crossvaludation (inner_cv):\t0.6758275740897691\n",
      "** Mean Nested Crossvalidation Score (outer_cv):\t0.7011561957085806\n"
     ]
    },
    {
     "data": {
      "image/png": "[encoded data removed]",
      "text/plain": [
       "<Figure size 360x144 with 1 Axes>"
      ]
     },
     "metadata": {
      "needs_background": "light"
     },
     "output_type": "display_data"
    }
   ],
   "source": [
    "print(\"** Mean score in the inner crossvaludation (inner_cv):\\t\" + str(nested_scores_train.mean()))\n",
    "print(\"** Mean Nested Crossvalidation Score (outer_cv):\\t\" + str(nested_scores_test.mean()))\n",
    "\n",
    "fpr, tpr, _ = roc_curve(y, predicted_prob, pos_label=0)\n",
    "fig, ax = plt.subplots(figsize=(5,2))\n",
    "RocCurveDisplay(fpr=fpr, tpr=tpr).plot(ax=ax) \n",
    "plt.savefig('../data_out/fig/abide_motion_comb_rocplot.pdf')  \n",
    "    "
   ]
  },
  {
   "cell_type": "code",
   "execution_count": 33,
   "metadata": {
    "ExecuteTime": {
     "end_time": "2021-08-01T19:20:31.576275Z",
     "start_time": "2021-08-01T19:20:30.527895Z"
    }
   },
   "outputs": [
    {
     "data": {
      "image/png": "[encoded data removed]",
      "text/plain": [
       "<Figure size 360x144 with 1 Axes>"
      ]
     },
     "metadata": {
      "needs_background": "light"
     },
     "output_type": "display_data"
    }
   ],
   "source": [
    "plt.figure(figsize=(5,2))\n",
    "sns.stripplot(x=y, y=predicted_prob, hue=mean_fd_binned,\n",
    "              palette=\"coolwarm\", alpha=0.4, jitter=0.4, dodge=True)\n",
    "plt.legend([],[], frameon=False)\n",
    "sns.boxplot(x=y, y=predicted_prob, color=(1,1,1,1))\n",
    "plt.savefig('../data_out/fig/abide_motion_comb_stripplot.pdf')"
   ]
  },
  {
   "cell_type": "code",
   "execution_count": 34,
   "metadata": {
    "ExecuteTime": {
     "end_time": "2021-08-01T19:20:35.822321Z",
     "start_time": "2021-08-01T19:20:31.578789Z"
    }
   },
   "outputs": [
    {
     "name": "stderr",
     "output_type": "stream",
     "text": [
      "Permuting: 100%|██████████| 1000/1000 [00:02<00:00, 337.03it/s]\n"
     ]
    },
    {
     "data": {
      "image/svg+xml": [
       "<?xml version=\"1.0\" encoding=\"UTF-8\" standalone=\"no\"?>\n",
       "<!DOCTYPE svg PUBLIC \"-//W3C//DTD SVG 1.1//EN\"\n",
       " \"http://www.w3.org/Graphics/SVG/1.1/DTD/svg11.dtd\">\n",
       "<!-- Generated by graphviz version 2.44.1 (20200629.0846)\n",
       " -->\n",
       "<!-- Pages: 1 -->\n",
       "<svg width=\"324pt\" height=\"77pt\"\n",
       " viewBox=\"0.00 0.00 324.00 76.86\" xmlns=\"http://www.w3.org/2000/svg\" xmlns:xlink=\"http://www.w3.org/1999/xlink\">\n",
       "<g id=\"graph0\" class=\"graph\" transform=\"scale(0.97 0.97) rotate(0) translate(4 75)\">\n",
       "<polygon fill=\"white\" stroke=\"transparent\" points=\"-4,4 -4,-75 329,-75 329,4 -4,4\"/>\n",
       "<!-- c -->\n",
       "<g id=\"node1\" class=\"node\">\n",
       "<title>c</title>\n",
       "<ellipse fill=\"none\" stroke=\"black\" cx=\"27\" cy=\"-18\" rx=\"27\" ry=\"18\"/>\n",
       "<text text-anchor=\"middle\" x=\"27\" y=\"-14.3\" font-family=\"Times,serif\" font-size=\"14.00\">c</text>\n",
       "</g>\n",
       "<!-- y -->\n",
       "<g id=\"node2\" class=\"node\">\n",
       "<title>y</title>\n",
       "<ellipse fill=\"none\" stroke=\"black\" cx=\"162.5\" cy=\"-53\" rx=\"27\" ry=\"18\"/>\n",
       "<text text-anchor=\"middle\" x=\"162.5\" y=\"-49.3\" font-family=\"Times,serif\" font-size=\"14.00\">y</text>\n",
       "</g>\n",
       "<!-- c&#45;&#45;y -->\n",
       "<g id=\"edge2\" class=\"edge\">\n",
       "<title>c&#45;&#45;y</title>\n",
       "<path fill=\"none\" stroke=\"black\" d=\"M52.49,-24.42C76.57,-30.73 113.14,-40.32 137.17,-46.62\"/>\n",
       "<text text-anchor=\"middle\" x=\"87.5\" y=\"-40.8\" font-family=\"Times,serif\" font-size=\"14.00\">0.028</text>\n",
       "</g>\n",
       "<!-- yhat -->\n",
       "<g id=\"node3\" class=\"node\">\n",
       "<title>yhat</title>\n",
       "<ellipse fill=\"none\" stroke=\"black\" cx=\"298\" cy=\"-18\" rx=\"27\" ry=\"18\"/>\n",
       "<text text-anchor=\"start\" x=\"294.5\" y=\"-14.3\" font-family=\"Times,serif\" font-size=\"14.00\">ŷ</text>\n",
       "</g>\n",
       "<!-- c&#45;&#45;yhat -->\n",
       "<g id=\"edge1\" class=\"edge\">\n",
       "<title>c&#45;&#45;yhat</title>\n",
       "<path fill=\"none\" stroke=\"black\" stroke-dasharray=\"5,2\" d=\"M54.03,-15.52C72.66,-13.86 98.35,-11.85 121,-11 157.86,-9.61 167.14,-9.61 204,-11 226.65,-11.85 252.34,-13.86 270.97,-15.52\"/>\n",
       "<text text-anchor=\"middle\" x=\"162.5\" y=\"-14.8\" font-family=\"Times,serif\" font-size=\"14.00\">0.002 (p=0.54)</text>\n",
       "</g>\n",
       "<!-- y&#45;&#45;yhat -->\n",
       "<g id=\"edge3\" class=\"edge\">\n",
       "<title>y&#45;&#45;yhat</title>\n",
       "<path fill=\"none\" stroke=\"black\" d=\"M187.99,-46.58C212.07,-40.27 248.64,-30.68 272.67,-24.38\"/>\n",
       "<text text-anchor=\"middle\" x=\"237.5\" y=\"-40.8\" font-family=\"Times,serif\" font-size=\"14.00\">0.087</text>\n",
       "</g>\n",
       "</g>\n",
       "</svg>\n"
      ],
      "text/plain": [
       "<graphviz.dot.Graph at 0x7f8f4467ca10>"
      ]
     },
     "execution_count": 34,
     "metadata": {},
     "output_type": "execute_result"
    }
   ],
   "source": [
    "plot_graph(test_partially_confounded(y, predicted, mean_fd, random_state=42),\n",
    "          outfile_base='../data_out/fig/abide_motion_comb_partial')"
   ]
  },
  {
   "cell_type": "code",
   "execution_count": 35,
   "metadata": {
    "ExecuteTime": {
     "end_time": "2021-08-01T19:20:39.928951Z",
     "start_time": "2021-08-01T19:20:35.824981Z"
    }
   },
   "outputs": [
    {
     "name": "stderr",
     "output_type": "stream",
     "text": [
      "Permuting: 100%|██████████| 1000/1000 [00:02<00:00, 346.81it/s]\n"
     ]
    },
    {
     "data": {
      "image/svg+xml": [
       "<?xml version=\"1.0\" encoding=\"UTF-8\" standalone=\"no\"?>\n",
       "<!DOCTYPE svg PUBLIC \"-//W3C//DTD SVG 1.1//EN\"\n",
       " \"http://www.w3.org/Graphics/SVG/1.1/DTD/svg11.dtd\">\n",
       "<!-- Generated by graphviz version 2.44.1 (20200629.0846)\n",
       " -->\n",
       "<!-- Pages: 1 -->\n",
       "<svg width=\"324pt\" height=\"68pt\"\n",
       " viewBox=\"0.00 0.00 324.00 68.07\" xmlns=\"http://www.w3.org/2000/svg\" xmlns:xlink=\"http://www.w3.org/1999/xlink\">\n",
       "<g id=\"graph0\" class=\"graph\" transform=\"scale(0.86 0.86) rotate(0) translate(4 75)\">\n",
       "<polygon fill=\"white\" stroke=\"transparent\" points=\"-4,4 -4,-75 372,-75 372,4 -4,4\"/>\n",
       "<!-- c -->\n",
       "<g id=\"node1\" class=\"node\">\n",
       "<title>c</title>\n",
       "<ellipse fill=\"none\" stroke=\"black\" cx=\"27\" cy=\"-18\" rx=\"27\" ry=\"18\"/>\n",
       "<text text-anchor=\"middle\" x=\"27\" y=\"-14.3\" font-family=\"Times,serif\" font-size=\"14.00\">c</text>\n",
       "</g>\n",
       "<!-- y -->\n",
       "<g id=\"node2\" class=\"node\">\n",
       "<title>y</title>\n",
       "<ellipse fill=\"none\" stroke=\"black\" cx=\"148\" cy=\"-53\" rx=\"27\" ry=\"18\"/>\n",
       "<text text-anchor=\"middle\" x=\"148\" y=\"-49.3\" font-family=\"Times,serif\" font-size=\"14.00\">y</text>\n",
       "</g>\n",
       "<!-- c&#45;&#45;y -->\n",
       "<g id=\"edge2\" class=\"edge\">\n",
       "<title>c&#45;&#45;y</title>\n",
       "<path fill=\"none\" stroke=\"black\" d=\"M52.08,-25.08C72.73,-31.16 102.32,-39.86 122.95,-45.93\"/>\n",
       "<text text-anchor=\"middle\" x=\"87.5\" y=\"-42.8\" font-family=\"Times,serif\" font-size=\"14.00\">0.028</text>\n",
       "</g>\n",
       "<!-- yhat -->\n",
       "<g id=\"node3\" class=\"node\">\n",
       "<title>yhat</title>\n",
       "<ellipse fill=\"none\" stroke=\"black\" cx=\"341\" cy=\"-18\" rx=\"27\" ry=\"18\"/>\n",
       "<text text-anchor=\"start\" x=\"337.5\" y=\"-14.3\" font-family=\"Times,serif\" font-size=\"14.00\">ŷ</text>\n",
       "</g>\n",
       "<!-- c&#45;&#45;yhat -->\n",
       "<g id=\"edge1\" class=\"edge\">\n",
       "<title>c&#45;&#45;yhat</title>\n",
       "<path fill=\"none\" stroke=\"black\" d=\"M54.03,-15.52C72.66,-13.86 98.35,-11.85 121,-11 190.75,-8.38 273.03,-13.11 314.04,-16\"/>\n",
       "<text text-anchor=\"middle\" x=\"148\" y=\"-14.8\" font-family=\"Times,serif\" font-size=\"14.00\">0.002</text>\n",
       "</g>\n",
       "<!-- y&#45;&#45;yhat -->\n",
       "<g id=\"edge3\" class=\"edge\">\n",
       "<title>y&#45;&#45;yhat</title>\n",
       "<path fill=\"none\" stroke=\"black\" stroke-dasharray=\"5,2\" d=\"M174.36,-48.35C211,-41.64 278.31,-29.3 314.84,-22.61\"/>\n",
       "<text text-anchor=\"middle\" x=\"244.5\" y=\"-47.8\" font-family=\"Times,serif\" font-size=\"14.00\">0.087 (p&lt;0.0001*)</text>\n",
       "</g>\n",
       "</g>\n",
       "</svg>\n"
      ],
      "text/plain": [
       "<graphviz.dot.Graph at 0x7f8f0f963e10>"
      ]
     },
     "execution_count": 35,
     "metadata": {},
     "output_type": "execute_result"
    }
   ],
   "source": [
    "plot_graph(test_fully_confounded(y, predicted, mean_fd, random_state=42),\n",
    "          outfile_base='../data_out/fig/abide_motion_comb_full')"
   ]
  },
  {
   "cell_type": "markdown",
   "metadata": {},
   "source": [
    "# Combat on site"
   ]
  },
  {
   "cell_type": "code",
   "execution_count": 36,
   "metadata": {
    "ExecuteTime": {
     "end_time": "2021-08-01T19:23:08.544003Z",
     "start_time": "2021-08-01T19:20:39.931634Z"
    }
   },
   "outputs": [
    {
     "name": "stdout",
     "output_type": "stream",
     "text": [
      "model\tinner_cv mean score\touter vc score\n",
      "cv: 0 {'model__C': 0.1} 0.7501508477118233 0.7290562036055144\n",
      "cv: 1 {'model__C': 0.1} 0.7358902020487387 0.7576882290562036\n",
      "cv: 2 {'model__C': 0.1} 0.7447366355902941 0.7026595744680851\n",
      "cv: 3 {'model__C': 0.1} 0.7346093044263775 0.7696808510638298\n",
      "cv: 4 {'model__C': 0.1} 0.7258576084795597 0.7973404255319149\n",
      "cv: 5 {'model__C': 0.1} 0.751687881261052 0.6675531914893617\n",
      "cv: 6 {'model__C': 1} 0.7394399626106943 0.7913043478260869\n",
      "cv: 7 {'model__C': 1} 0.7423432578920385 0.7369565217391304\n",
      "cv: 8 {'model__C': 0.1} 0.7492881383125284 0.7266304347826087\n",
      "cv: 9 {'model__C': 0.1} 0.7345418589321029 0.7728260869565218\n"
     ]
    }
   ],
   "source": [
    "outer_cv = StratifiedKFold(10, shuffle=True, random_state=42)\n",
    "inner_cv = StratifiedKFold(10, shuffle=True, random_state=42) \n",
    "model = Pipeline([\n",
    "    ('varthr', VarianceThreshold(0)),   # omit zero variance columns (diagonal)\n",
    "    #('fsel', SelectKBest(f_regression)),\n",
    "    ('model', LogisticRegression())])\n",
    "\n",
    "p_grid = {#'fsel__k': [500, 1000, 2000],\n",
    "          'model__C': [0.1, 1, 10]}\n",
    "\n",
    "clf = GridSearchCV(estimator=model, param_grid=p_grid, cv=StratifiedKFold(10),\n",
    "                   scoring=\"roc_auc\", verbose=False, return_train_score=False,\n",
    "                   n_jobs=-1)\n",
    "\n",
    "all_models = []\n",
    "best_params = []\n",
    "predicted = np.zeros(len(y))\n",
    "predicted_prob = np.zeros(len(y))\n",
    "nested_scores_train = np.zeros(outer_cv.get_n_splits(X))\n",
    "nested_scores_test = np.zeros(outer_cv.get_n_splits(X))   \n",
    "                                    \n",
    "print(\"model\\tinner_cv mean score\\touter vc score\")\n",
    "i=0\n",
    "for train, test in outer_cv.split(X, y):\n",
    "    \n",
    "    comb = CombatModel()\n",
    "    X_train_combat = comb.fit_transform(X[:,np.sum(X,0)!=0][train],\n",
    "                                   np.array([site_int[train]]).transpose()\n",
    "                                  )\n",
    "\n",
    "\n",
    "    clf.fit(X_train_combat, y[train])\n",
    "    \n",
    "    X_test_combat = comb.transform(X[:,np.sum(X,0)!=0][test],\n",
    "                                   np.array([site_int[test]]).transpose())\n",
    "\n",
    "                                    \n",
    "    print('cv:', i, str(clf.best_params_) + \" \" + str(clf.best_score_) + \" \" + str(clf.score(X_test_combat, y[test])))\n",
    "                                    \n",
    "    all_models.append(clf.best_estimator_)\n",
    "    best_params.append(clf.best_params_)\n",
    "    \n",
    "    predicted[test] = clf.predict(X_test_combat)\n",
    "    predicted_prob[test] = clf.predict_proba(X_test_combat)[:,0]\n",
    "                                    \n",
    "    nested_scores_train[i] = clf.best_score_\n",
    "    nested_scores_test[i] = clf.score(X_test_combat, y[test])\n",
    "    i = i+1"
   ]
  },
  {
   "cell_type": "code",
   "execution_count": 37,
   "metadata": {
    "ExecuteTime": {
     "end_time": "2021-08-01T19:23:08.752532Z",
     "start_time": "2021-08-01T19:23:08.546076Z"
    }
   },
   "outputs": [
    {
     "name": "stdout",
     "output_type": "stream",
     "text": [
      "** Mean score in the inner crossvaludation (inner_cv):\t0.740854569726521\n",
      "** Mean Nested Crossvalidation Score (outer_cv):\t0.7451695866519257\n"
     ]
    },
    {
     "data": {
      "image/png": "[encoded data removed]",
      "text/plain": [
       "<Figure size 360x144 with 1 Axes>"
      ]
     },
     "metadata": {
      "needs_background": "light"
     },
     "output_type": "display_data"
    }
   ],
   "source": [
    "print(\"** Mean score in the inner crossvaludation (inner_cv):\\t\" + str(nested_scores_train.mean()))\n",
    "print(\"** Mean Nested Crossvalidation Score (outer_cv):\\t\" + str(nested_scores_test.mean()))\n",
    "\n",
    "fpr, tpr, _ = roc_curve(y, predicted_prob, pos_label=0)\n",
    "fig, ax = plt.subplots(figsize=(5,2))\n",
    "RocCurveDisplay(fpr=fpr, tpr=tpr).plot(ax=ax) \n",
    "plt.savefig('../data_out/fig/abide_site_comb_rocplot.pdf')  "
   ]
  },
  {
   "cell_type": "code",
   "execution_count": 38,
   "metadata": {
    "ExecuteTime": {
     "end_time": "2021-08-01T19:23:12.633347Z",
     "start_time": "2021-08-01T19:23:08.754815Z"
    }
   },
   "outputs": [
    {
     "data": {
      "image/png": "[encoded data removed]",
      "text/plain": [
       "<Figure size 360x108 with 1 Axes>"
      ]
     },
     "metadata": {
      "needs_background": "light"
     },
     "output_type": "display_data"
    }
   ],
   "source": [
    "plt.figure(figsize=(5,1.5))\n",
    "\n",
    "pal=[sns.color_palette(\"coolwarm\", 10)[0], sns.color_palette(\"coolwarm\", 10)[-1]]\n",
    "sns.stripplot(x=site, y=predicted_prob, hue=y, palette=pal, alpha=0.2, jitter=0.2, dodge=True)\n",
    "ax=sns.boxplot(x=site, y=predicted_prob, hue=y, showfliers = False)\n",
    "for box in ax.artists:\n",
    "    box.set_facecolor((1,1,1,0))\n",
    "plt.xticks(rotation=90)\n",
    "for i in range(len(np.unique(site))):\n",
    "    plt.axvline(i+0.5, color=\"gray\", alpha=0.5, linewidth=0.5)\n",
    "plt.savefig('../data_out/fig/abide_site_comb_striplot.pdf')"
   ]
  },
  {
   "cell_type": "code",
   "execution_count": 39,
   "metadata": {
    "ExecuteTime": {
     "end_time": "2021-08-01T19:23:18.831619Z",
     "start_time": "2021-08-01T19:23:12.635587Z"
    }
   },
   "outputs": [
    {
     "name": "stderr",
     "output_type": "stream",
     "text": [
      "Permuting: 100%|██████████| 1000/1000 [00:04<00:00, 200.05it/s]\n"
     ]
    },
    {
     "data": {
      "image/svg+xml": [
       "<?xml version=\"1.0\" encoding=\"UTF-8\" standalone=\"no\"?>\n",
       "<!DOCTYPE svg PUBLIC \"-//W3C//DTD SVG 1.1//EN\"\n",
       " \"http://www.w3.org/Graphics/SVG/1.1/DTD/svg11.dtd\">\n",
       "<!-- Generated by graphviz version 2.44.1 (20200629.0846)\n",
       " -->\n",
       "<!-- Pages: 1 -->\n",
       "<svg width=\"324pt\" height=\"77pt\"\n",
       " viewBox=\"0.00 0.00 324.00 76.86\" xmlns=\"http://www.w3.org/2000/svg\" xmlns:xlink=\"http://www.w3.org/1999/xlink\">\n",
       "<g id=\"graph0\" class=\"graph\" transform=\"scale(0.97 0.97) rotate(0) translate(4 75)\">\n",
       "<polygon fill=\"white\" stroke=\"transparent\" points=\"-4,4 -4,-75 329,-75 329,4 -4,4\"/>\n",
       "<!-- c -->\n",
       "<g id=\"node1\" class=\"node\">\n",
       "<title>c</title>\n",
       "<ellipse fill=\"none\" stroke=\"black\" cx=\"27\" cy=\"-18\" rx=\"27\" ry=\"18\"/>\n",
       "<text text-anchor=\"middle\" x=\"27\" y=\"-14.3\" font-family=\"Times,serif\" font-size=\"14.00\">c</text>\n",
       "</g>\n",
       "<!-- y -->\n",
       "<g id=\"node2\" class=\"node\">\n",
       "<title>y</title>\n",
       "<ellipse fill=\"none\" stroke=\"black\" cx=\"162.5\" cy=\"-53\" rx=\"27\" ry=\"18\"/>\n",
       "<text text-anchor=\"middle\" x=\"162.5\" y=\"-49.3\" font-family=\"Times,serif\" font-size=\"14.00\">y</text>\n",
       "</g>\n",
       "<!-- c&#45;&#45;y -->\n",
       "<g id=\"edge2\" class=\"edge\">\n",
       "<title>c&#45;&#45;y</title>\n",
       "<path fill=\"none\" stroke=\"black\" d=\"M52.49,-24.42C76.57,-30.73 113.14,-40.32 137.17,-46.62\"/>\n",
       "<text text-anchor=\"middle\" x=\"87.5\" y=\"-40.8\" font-family=\"Times,serif\" font-size=\"14.00\">0.027</text>\n",
       "</g>\n",
       "<!-- yhat -->\n",
       "<g id=\"node3\" class=\"node\">\n",
       "<title>yhat</title>\n",
       "<ellipse fill=\"none\" stroke=\"black\" cx=\"298\" cy=\"-18\" rx=\"27\" ry=\"18\"/>\n",
       "<text text-anchor=\"start\" x=\"294.5\" y=\"-14.3\" font-family=\"Times,serif\" font-size=\"14.00\">ŷ</text>\n",
       "</g>\n",
       "<!-- c&#45;&#45;yhat -->\n",
       "<g id=\"edge1\" class=\"edge\">\n",
       "<title>c&#45;&#45;yhat</title>\n",
       "<path fill=\"none\" stroke=\"black\" stroke-dasharray=\"5,2\" d=\"M54.03,-15.52C72.66,-13.86 98.35,-11.85 121,-11 157.86,-9.61 167.14,-9.61 204,-11 226.65,-11.85 252.34,-13.86 270.97,-15.52\"/>\n",
       "<text text-anchor=\"middle\" x=\"162.5\" y=\"-14.8\" font-family=\"Times,serif\" font-size=\"14.00\">0.033 (p=0.19)</text>\n",
       "</g>\n",
       "<!-- y&#45;&#45;yhat -->\n",
       "<g id=\"edge3\" class=\"edge\">\n",
       "<title>y&#45;&#45;yhat</title>\n",
       "<path fill=\"none\" stroke=\"black\" d=\"M187.99,-46.58C212.07,-40.27 248.64,-30.68 272.67,-24.38\"/>\n",
       "<text text-anchor=\"middle\" x=\"237.5\" y=\"-40.8\" font-family=\"Times,serif\" font-size=\"14.00\">0.132</text>\n",
       "</g>\n",
       "</g>\n",
       "</svg>\n"
      ],
      "text/plain": [
       "<graphviz.dot.Graph at 0x7f8f62b8c350>"
      ]
     },
     "execution_count": 39,
     "metadata": {},
     "output_type": "execute_result"
    }
   ],
   "source": [
    "plot_graph(test_partially_confounded(y, predicted, site_int, cat_c=True, random_state=42),\n",
    "          outfile_base='../data_out/fig/abide_site_comb_partial')"
   ]
  },
  {
   "cell_type": "code",
   "execution_count": 40,
   "metadata": {
    "ExecuteTime": {
     "end_time": "2021-08-01T19:23:22.712352Z",
     "start_time": "2021-08-01T19:23:18.833997Z"
    }
   },
   "outputs": [
    {
     "name": "stderr",
     "output_type": "stream",
     "text": [
      "Permuting: 100%|██████████| 1000/1000 [00:02<00:00, 375.23it/s]\n"
     ]
    },
    {
     "data": {
      "image/svg+xml": [
       "<?xml version=\"1.0\" encoding=\"UTF-8\" standalone=\"no\"?>\n",
       "<!DOCTYPE svg PUBLIC \"-//W3C//DTD SVG 1.1//EN\"\n",
       " \"http://www.w3.org/Graphics/SVG/1.1/DTD/svg11.dtd\">\n",
       "<!-- Generated by graphviz version 2.44.1 (20200629.0846)\n",
       " -->\n",
       "<!-- Pages: 1 -->\n",
       "<svg width=\"324pt\" height=\"68pt\"\n",
       " viewBox=\"0.00 0.00 324.00 68.07\" xmlns=\"http://www.w3.org/2000/svg\" xmlns:xlink=\"http://www.w3.org/1999/xlink\">\n",
       "<g id=\"graph0\" class=\"graph\" transform=\"scale(0.86 0.86) rotate(0) translate(4 75)\">\n",
       "<polygon fill=\"white\" stroke=\"transparent\" points=\"-4,4 -4,-75 372,-75 372,4 -4,4\"/>\n",
       "<!-- c -->\n",
       "<g id=\"node1\" class=\"node\">\n",
       "<title>c</title>\n",
       "<ellipse fill=\"none\" stroke=\"black\" cx=\"27\" cy=\"-18\" rx=\"27\" ry=\"18\"/>\n",
       "<text text-anchor=\"middle\" x=\"27\" y=\"-14.3\" font-family=\"Times,serif\" font-size=\"14.00\">c</text>\n",
       "</g>\n",
       "<!-- y -->\n",
       "<g id=\"node2\" class=\"node\">\n",
       "<title>y</title>\n",
       "<ellipse fill=\"none\" stroke=\"black\" cx=\"148\" cy=\"-53\" rx=\"27\" ry=\"18\"/>\n",
       "<text text-anchor=\"middle\" x=\"148\" y=\"-49.3\" font-family=\"Times,serif\" font-size=\"14.00\">y</text>\n",
       "</g>\n",
       "<!-- c&#45;&#45;y -->\n",
       "<g id=\"edge2\" class=\"edge\">\n",
       "<title>c&#45;&#45;y</title>\n",
       "<path fill=\"none\" stroke=\"black\" d=\"M52.08,-25.08C72.73,-31.16 102.32,-39.86 122.95,-45.93\"/>\n",
       "<text text-anchor=\"middle\" x=\"87.5\" y=\"-42.8\" font-family=\"Times,serif\" font-size=\"14.00\">0.027</text>\n",
       "</g>\n",
       "<!-- yhat -->\n",
       "<g id=\"node3\" class=\"node\">\n",
       "<title>yhat</title>\n",
       "<ellipse fill=\"none\" stroke=\"black\" cx=\"341\" cy=\"-18\" rx=\"27\" ry=\"18\"/>\n",
       "<text text-anchor=\"start\" x=\"337.5\" y=\"-14.3\" font-family=\"Times,serif\" font-size=\"14.00\">ŷ</text>\n",
       "</g>\n",
       "<!-- c&#45;&#45;yhat -->\n",
       "<g id=\"edge1\" class=\"edge\">\n",
       "<title>c&#45;&#45;yhat</title>\n",
       "<path fill=\"none\" stroke=\"black\" d=\"M54.03,-15.52C72.66,-13.86 98.35,-11.85 121,-11 190.75,-8.38 273.03,-13.11 314.04,-16\"/>\n",
       "<text text-anchor=\"middle\" x=\"148\" y=\"-14.8\" font-family=\"Times,serif\" font-size=\"14.00\">0.033</text>\n",
       "</g>\n",
       "<!-- y&#45;&#45;yhat -->\n",
       "<g id=\"edge3\" class=\"edge\">\n",
       "<title>y&#45;&#45;yhat</title>\n",
       "<path fill=\"none\" stroke=\"black\" stroke-dasharray=\"5,2\" d=\"M174.36,-48.35C211,-41.64 278.31,-29.3 314.84,-22.61\"/>\n",
       "<text text-anchor=\"middle\" x=\"244.5\" y=\"-47.8\" font-family=\"Times,serif\" font-size=\"14.00\">0.132 (p&lt;0.0001*)</text>\n",
       "</g>\n",
       "</g>\n",
       "</svg>\n"
      ],
      "text/plain": [
       "<graphviz.dot.Graph at 0x7f8f0f72a4d0>"
      ]
     },
     "execution_count": 40,
     "metadata": {},
     "output_type": "execute_result"
    }
   ],
   "source": [
    "plot_graph(test_fully_confounded(y, predicted, site_int, cat_c=True, random_state=42),\n",
    "          outfile_base='../data_out/fig/abide_site_comb_full')"
   ]
  },
  {
   "cell_type": "code",
   "execution_count": 42,
   "metadata": {
    "ExecuteTime": {
     "end_time": "2021-08-01T20:31:15.252041Z",
     "start_time": "2021-08-01T20:31:15.236377Z"
    }
   },
   "outputs": [
    {
     "data": {
      "image/png": "[encoded data removed]",
      "text/html": [
       "<div style=\"vertical-align: middle;\"><strong>coolwarm</strong> </div><div class=\"cmap\"><img alt=\"coolwarm colormap\" title=\"coolwarm\" style=\"border: 1px solid #555;\" src=\"data:image/png;base64,iVBORw0KGgoAAAANSUhEUgAAAgAAAABACAYAAABsv8+/AAAAF3RFWHRUaXRsZQBjb29sd2FybSBjb2xvcm1hcPHW9i4AAAAddEVYdERlc2NyaXB0aW9uAGNvb2x3YXJtIGNvbG9ybWFw2KgRBwAAADB0RVh0QXV0aG9yAE1hdHBsb3RsaWIgdjMuNC4yLCBodHRwczovL21hdHBsb3RsaWIub3JnrNZj3QAAADJ0RVh0U29mdHdhcmUATWF0cGxvdGxpYiB2My40LjIsIGh0dHBzOi8vbWF0cGxvdGxpYi5vcmeCcPz6AAACIUlEQVR4nO3WO3LbQBBF0QaW5TV40d6XTIwTCCo2MQQYOHrnJKr5NRip7vLr959RVbUsS1VVLetaVVXr+rzu50s7X2fnt+cu+/n5/nF+8Z315buz9/3310fzXvfrfP73nOn8mnzv+f7xfva9/bzPu9w/vnM+b36v3t+72J/fGxfvx739mt1v82tyXv13jPO5x7175y/fm53f3F/7fm333vf7o+2P7cP18371e+P9nOrvR/995/e+59ZkPZ17rN/fO+Zufe75vdr67znfv3o3tnv3Lt/t69HW3+fH/Zc579+/rLc2r82fzevf7/ePv+Pq3uTdf9rfHu/v/5y3e/v+1uc/tud3j8m84/0+72tf/x2frb+e/18BAEEEAAAEEgAAEEgAAEAgAQAAgQQAAAQSAAAQSAAAQCABAACBBAAABBIAABBIAABAIAEAAIEEAAAEEgAAEEgAAEAgAQAAgQQAAAQSAAAQSAAAQCABAACBBAAABBIAABBIAABAIAEAAIEEAAAEEgAAEEgAAEAgAQAAgQQAAAQSAAAQSAAAQCABAACBBAAABBIAABBIAABAIAEAAIEEAAAEEgAAEEgAAEAgAQAAgQQAAAQSAAAQSAAAQCABAACBBAAABBIAABBIAABAIAEAAIEEAAAEEgAAEEgAAEAgAQAAgQQAAAQSAAAQSAAAQCABAACBBAAABBIAABBIAABAIAEAAIEEAAAEEgAAEOgf6GZUalYlbg8AAAAASUVORK5CYII=\"></div><div style=\"vertical-align: middle; max-width: 514px; display: flex; justify-content: space-between;\"><div style=\"float: left;\"><div title=\"#3b4cc0ff\" style=\"display: inline-block; width: 1em; height: 1em; margin: 0; vertical-align: middle; border: 1px solid #555; background-color: #3b4cc0ff;\"></div> under</div><div style=\"margin: 0 auto; display: inline-block;\">bad <div title=\"#00000000\" style=\"display: inline-block; width: 1em; height: 1em; margin: 0; vertical-align: middle; border: 1px solid #555; background-color: #00000000;\"></div></div><div style=\"float: right;\">over <div title=\"#b40426ff\" style=\"display: inline-block; width: 1em; height: 1em; margin: 0; vertical-align: middle; border: 1px solid #555; background-color: #b40426ff;\"></div></div>"
      ],
      "text/plain": [
       "<matplotlib.colors.LinearSegmentedColormap at 0x7f8f70d4db90>"
      ]
     },
     "execution_count": 42,
     "metadata": {},
     "output_type": "execute_result"
    }
   ],
   "source": [
    "sns.color_palette(\"coolwarm\", as_cmap=True)"
   ]
  },
  {
   "cell_type": "code",
   "execution_count": 44,
   "metadata": {
    "ExecuteTime": {
     "end_time": "2021-08-01T20:32:31.730981Z",
     "start_time": "2021-08-01T20:32:31.724659Z"
    }
   },
   "outputs": [
    {
     "data": {
      "text/plain": [
       "5.19933758270342"
      ]
     },
     "execution_count": 44,
     "metadata": {},
     "output_type": "execute_result"
    }
   ],
   "source": [
    "np.max(mean_fd)"
   ]
  },
  {
   "cell_type": "code",
   "execution_count": null,
   "metadata": {
    "ExecuteTime": {
     "end_time": "2021-08-03T21:51:30.406575Z",
     "start_time": "2021-08-03T21:48:29.992Z"
    }
   },
   "outputs": [],
   "source": [
    "def workhorse(x, y):\n",
    "    df = pd.DataFrame({\n",
    "        'x': x,\n",
    "        'y': y\n",
    "    })\n",
    "    fit = logit_f('C(y) ~ x', data=df).fit(disp=0)\n",
    "    return fit.prsquared\n",
    "\n",
    "permutation_test(mean_fd, y,\n",
    "                 func=workhorse,\n",
    "                 method='approximate',\n",
    "                 num_rounds=1000,\n",
    "                 seed=42)"
   ]
  },
  {
   "cell_type": "code",
   "execution_count": 93,
   "metadata": {
    "ExecuteTime": {
     "end_time": "2021-08-04T08:39:58.550903Z",
     "start_time": "2021-08-04T08:39:54.967052Z"
    }
   },
   "outputs": [
    {
     "name": "stderr",
     "output_type": "stream",
     "text": [
      "/opt/anaconda3/lib/python3.7/site-packages/statsmodels/discrete/discrete_model.py:2290: RuntimeWarning: overflow encountered in exp\n",
      "  eXB = np.column_stack((np.ones(len(X)), np.exp(X)))\n",
      "/opt/anaconda3/lib/python3.7/site-packages/statsmodels/discrete/discrete_model.py:2291: RuntimeWarning: invalid value encountered in true_divide\n",
      "  return eXB/eXB.sum(1)[:,None]\n",
      "/opt/anaconda3/lib/python3.7/site-packages/statsmodels/base/optimizer.py:414: RuntimeWarning: invalid value encountered in greater\n",
      "  oldparams) > tol)):\n"
     ]
    },
    {
     "data": {
      "text/plain": [
       "0.0"
      ]
     },
     "execution_count": 93,
     "metadata": {},
     "output_type": "execute_result"
    }
   ],
   "source": [
    "def workhorse(x, y):\n",
    "    df_tmp=pd.DataFrame({\n",
    "        'x': site_int.astype(float),\n",
    "        'y': y.astype(int)\n",
    "    })\n",
    "    df_tmp.x = pd.to_numeric(df_tmp.x)\n",
    "    df_tmp.y = pd.to_numeric(df_tmp.y)\n",
    "    fit = logit_f('y ~ C(x)', data=df_tmp).fit(disp=0)\n",
    "    return fit.prsquared\n",
    "\n",
    "permutation_test(site_int, y,\n",
    "                 func=workhorse,\n",
    "                 method='approximate',\n",
    "                 num_rounds=1,\n",
    "                 seed=42)"
   ]
  },
  {
   "cell_type": "code",
   "execution_count": 104,
   "metadata": {
    "ExecuteTime": {
     "end_time": "2021-08-04T08:45:56.608161Z",
     "start_time": "2021-08-04T08:45:22.038734Z"
    }
   },
   "outputs": [
    {
     "name": "stderr",
     "output_type": "stream",
     "text": [
      "/opt/anaconda3/lib/python3.7/site-packages/statsmodels/base/model.py:568: ConvergenceWarning: Maximum Likelihood optimization failed to converge. Check mle_retvals\n",
      "  ConvergenceWarning)\n",
      "/opt/anaconda3/lib/python3.7/site-packages/statsmodels/base/model.py:568: ConvergenceWarning: Maximum Likelihood optimization failed to converge. Check mle_retvals\n",
      "  ConvergenceWarning)\n"
     ]
    },
    {
     "data": {
      "text/plain": [
       "0.527"
      ]
     },
     "execution_count": 104,
     "metadata": {},
     "output_type": "execute_result"
    }
   ],
   "source": [
    "df_tmp=pd.DataFrame({\n",
    "            'x': np.random.permutation(site_int).astype(int),\n",
    "            'y': y.astype(int)\n",
    "        })\n",
    "fit = logit_f('y ~ C(x)', data=df_tmp).fit(disp=0)\n",
    "unpermuted = fit.prsquared\n",
    "\n",
    "nulldist=[]\n",
    "for i in range(1000):\n",
    "    \n",
    "    df_tmp=pd.DataFrame({\n",
    "            'x': np.random.permutation(site_int).astype(int),\n",
    "            'y': y.astype(int)\n",
    "        })\n",
    "    fit = logit_f('y ~ C(x)', data=df_tmp).fit(disp=0)\n",
    "    nulldist.append(fit.prsquared)\n",
    "(nulldist <= unpermuted).sum()/len(nulldist)"
   ]
  },
  {
   "cell_type": "code",
   "execution_count": 105,
   "metadata": {
    "ExecuteTime": {
     "end_time": "2021-08-04T08:46:16.783550Z",
     "start_time": "2021-08-04T08:45:56.611135Z"
    }
   },
   "outputs": [
    {
     "data": {
      "text/plain": [
       "0.373"
      ]
     },
     "execution_count": 105,
     "metadata": {},
     "output_type": "execute_result"
    }
   ],
   "source": [
    "df_tmp=pd.DataFrame({\n",
    "            'x': np.random.permutation(mean_fd).astype(float),\n",
    "            'y': y.astype(int)\n",
    "        })\n",
    "df_tmp.x = pd.to_numeric(df_tmp.x)\n",
    "df_tmp.y = pd.to_numeric(df_tmp.y)\n",
    "fit = logit_f('y ~ x', data=df_tmp).fit(disp=0)\n",
    "unpermuted = fit.prsquared\n",
    "\n",
    "nulldist=[]\n",
    "for i in range(1000):\n",
    "    \n",
    "    df_tmp=pd.DataFrame({\n",
    "            'x': np.random.permutation(mean_fd).astype(int),\n",
    "            'y': y.astype(int)\n",
    "        })\n",
    "    df_tmp.x = pd.to_numeric(df_tmp.x)\n",
    "    df_tmp.y = pd.to_numeric(df_tmp.y)\n",
    "    fit = logit_f('y ~ x', data=df_tmp).fit(disp=0)\n",
    "    nulldist.append(fit.prsquared)\n",
    "(nulldist <= unpermuted).sum()/len(nulldist)"
   ]
  },
  {
   "cell_type": "code",
   "execution_count": 107,
   "metadata": {
    "ExecuteTime": {
     "end_time": "2021-08-04T08:49:40.893777Z",
     "start_time": "2021-08-04T08:49:40.889566Z"
    }
   },
   "outputs": [
    {
     "data": {
      "text/plain": [
       "0.00022813631490936626"
      ]
     },
     "execution_count": 107,
     "metadata": {},
     "output_type": "execute_result"
    }
   ],
   "source": [
    "unpermuted"
   ]
  },
  {
   "cell_type": "code",
   "execution_count": null,
   "metadata": {},
   "outputs": [],
   "source": []
  }
 ],
 "metadata": {
  "hide_input": false,
  "kernelspec": {
   "display_name": "Python 3",
   "language": "python",
   "name": "python3"
  },
  "language_info": {
   "codemirror_mode": {
    "name": "ipython",
    "version": 3
   },
   "file_extension": ".py",
   "mimetype": "text/x-python",
   "name": "python",
   "nbconvert_exporter": "python",
   "pygments_lexer": "ipython3",
   "version": "3.7.4"
  }
 },
 "nbformat": 4,
 "nbformat_minor": 2
}
