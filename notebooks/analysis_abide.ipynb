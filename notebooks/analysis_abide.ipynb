{
 "cells": [
  {
   "cell_type": "markdown",
   "metadata": {},
   "source": [
    "# Analysis of the ABIDE dataset\n",
    "\n",
    "### Imports"
   ]
  },
  {
   "cell_type": "code",
   "execution_count": 9,
   "metadata": {
    "ExecuteTime": {
     "end_time": "2021-08-03T20:38:07.505483Z",
     "start_time": "2021-08-03T20:38:07.492504Z"
    }
   },
   "outputs": [],
   "source": [
    "import warnings\n",
    "import os\n",
    "from os.path import join\n",
    "import numpy as np\n",
    "import pandas as pd\n",
    "from scipy.stats import kurtosis, skew\n",
    "\n",
    "import matplotlib.pyplot as plt\n",
    "import seaborn as sns\n",
    "sns.set_style(\"whitegrid\")\n",
    "\n",
    "from sklearn.model_selection import cross_val_predict, StratifiedKFold, GridSearchCV\n",
    "from sklearn.pipeline import Pipeline\n",
    "from sklearn.feature_selection import VarianceThreshold\n",
    "from sklearn.linear_model import RidgeClassifier, LogisticRegression\n",
    "from sklearn.svm import SVC\n",
    "from sklearn.preprocessing import quantile_transform\n",
    "from sklearn.metrics import r2_score, roc_curve, RocCurveDisplay, confusion_matrix, ConfusionMatrixDisplay\n",
    "from nilearn.datasets.utils import _uncompress_file, _fetch_file\n",
    "from nilearn.connectome import ConnectivityMeasure\n",
    "\n",
    "from neurocombat_sklearn import CombatModel\n",
    "\n",
    "import statsmodels.api as sm\n",
    "from statsmodels.regression.linear_model import OLS\n",
    "from statsmodels.formula.api import ols as ols_f\n",
    "from statsmodels.formula.api import mnlogit as logit_f\n",
    "\n",
    "from mlxtend.evaluate import permutation_test\n",
    "#!pip install git+https://github.com/pni-lab/mlconfound --upgrade\n",
    "#from importlib import reload\n",
    "import mlconfound\n",
    "from mlconfound.stats import test_fully_confounded, test_partially_confounded\n",
    "from mlconfound.plot import plot_graph\n",
    "#reload(mlconfound.stats)"
   ]
  },
  {
   "cell_type": "markdown",
   "metadata": {
    "ExecuteTime": {
     "end_time": "2021-07-31T18:11:08.469487Z",
     "start_time": "2021-07-31T18:11:08.452669Z"
    }
   },
   "source": [
    "## Load data"
   ]
  },
  {
   "cell_type": "code",
   "execution_count": 10,
   "metadata": {
    "ExecuteTime": {
     "end_time": "2021-08-01T19:07:13.775609Z",
     "start_time": "2021-08-01T19:07:13.772837Z"
    }
   },
   "outputs": [
    {
     "name": "stdout",
     "output_type": "stream",
     "text": [
      "Downloading data from https://osf.io/hc4md/download ...\n"
     ]
    },
    {
     "name": "stderr",
     "output_type": "stream",
     "text": [
      "Downloaded 1807450112 of 1811491701 bytes (99.8%,    0.7s remaining) ...done. (300 seconds, 5 min)\n",
      "Extracting data from ../data_in/ABIDE/download..... done.\n"
     ]
    }
   ],
   "source": [
    "data_dir = '../data_in/ABIDE'\n",
    "\n",
    "url = 'https://osf.io/hc4md/download'\n",
    "\n",
    "# Download the zip file, first\n",
    "dl_file = _fetch_file(url, data_dir=data_dir)\n",
    "\n",
    "# Second, uncompress the downloaded zip file\n",
    "_uncompress_file(dl_file, verbose=2)\n"
   ]
  },
  {
   "cell_type": "code",
   "execution_count": 11,
   "metadata": {
    "ExecuteTime": {
     "end_time": "2021-08-01T19:07:13.788158Z",
     "start_time": "2021-08-01T19:07:13.779135Z"
    }
   },
   "outputs": [],
   "source": [
    "def _get_paths(phenotypic, atlas, timeseries_dir):\n",
    "    \"\"\"\n",
    "    \"\"\"\n",
    "    timeseries = []\n",
    "    IDs_subject = []\n",
    "    diagnosis = []\n",
    "    subject_ids = phenotypic['SUB_ID']\n",
    "    mean_fd = []\n",
    "    num_fd = []\n",
    "    perc_fd = []\n",
    "    site = []\n",
    "    for index, subject_id in enumerate(subject_ids):\n",
    "        this_pheno = phenotypic[phenotypic['SUB_ID'] == subject_id]\n",
    "        this_timeseries = join(timeseries_dir, atlas,\n",
    "                               str(subject_id) + '_timeseries.txt')\n",
    "        if os.path.exists(this_timeseries):\n",
    "            timeseries.append(np.loadtxt(this_timeseries))\n",
    "            IDs_subject.append(subject_id)\n",
    "            diagnosis.append(this_pheno['DX_GROUP'].values[0])\n",
    "            mean_fd.append(this_pheno['func_mean_fd'].values[0])\n",
    "            num_fd.append(this_pheno['func_num_fd'].values[0])\n",
    "            perc_fd.append(this_pheno['func_perc_fd'].values[0])\n",
    "            site.append(this_pheno['SITE_ID'].values[0])\n",
    "    return timeseries, diagnosis, IDs_subject, mean_fd, num_fd, perc_fd, site"
   ]
  },
  {
   "cell_type": "markdown",
   "metadata": {
    "ExecuteTime": {
     "end_time": "2021-08-01T19:07:43.346661Z",
     "start_time": "2021-08-01T19:07:13.792338Z"
    },
    "pycharm": {
     "name": "#%% md\n"
    }
   },
   "source": [
    "Download the phenotypic summary information file form the preprocessed connectomes project.\n",
    "- First read:\n",
    "  http://preprocessed-connectomes-project.org/abide/download.html\n",
    "- Then download:\n",
    "  https://s3.amazonaws.com/fcp-indi/data/Projects/ABIDE_Initiative/Phenotypic_V1_0b_preprocessed1.csv\n",
    "- Copy the csv file into the data_in/ABIDE directory"
   ]
  },
  {
   "cell_type": "code",
   "execution_count": 12,
   "outputs": [
    {
     "data": {
      "text/plain": "      SUB_ID     X  subject  SITE_ID           FILE_ID  DX_GROUP  DSM_IV_TR  \\\n0      50002     1    50002     PITT       no_filename         1          1   \n1      50003     2    50003     PITT      Pitt_0050003         1          1   \n2      50004     3    50004     PITT      Pitt_0050004         1          1   \n3      50005     4    50005     PITT      Pitt_0050005         1          1   \n4      50006     5    50006     PITT      Pitt_0050006         1          1   \n...      ...   ...      ...      ...               ...       ...        ...   \n1107   51583  1108    51583      SBL       SBL_0051583         1          2   \n1108   51584  1109    51584      SBL       SBL_0051584         1          2   \n1109   51585  1110    51585      SBL       SBL_0051585         1          1   \n1110   51606  1111    51606  MAX_MUN  MaxMun_a_0051606         1          2   \n1111   51607  1112    51607  MAX_MUN  MaxMun_a_0051607         1          2   \n\n      AGE_AT_SCAN  SEX HANDEDNESS_CATEGORY  ...  qc_notes_rater_1  \\\n0           16.77    1                Ambi  ...               NaN   \n1           24.45    1                   R  ...               NaN   \n2           19.09    1                   R  ...               NaN   \n3           13.73    2                   R  ...               NaN   \n4           13.37    1                   L  ...               NaN   \n...           ...  ...                 ...  ...               ...   \n1107        35.00    1                 NaN  ...               NaN   \n1108        49.00    1                 NaN  ...               NaN   \n1109        27.00    1                 NaN  ...               NaN   \n1110        29.00    2                   R  ...               NaN   \n1111        26.00    1                   R  ...               NaN   \n\n      qc_anat_rater_2  qc_anat_notes_rater_2  qc_func_rater_2  \\\n0                  OK                    NaN             fail   \n1                  OK                    NaN               OK   \n2                  OK                    NaN               OK   \n3                  OK                    NaN            maybe   \n4                  OK                    NaN            maybe   \n...               ...                    ...              ...   \n1107               OK                    NaN               OK   \n1108               OK                    NaN            maybe   \n1109               OK                    NaN            maybe   \n1110               OK                    NaN            maybe   \n1111               OK                    NaN            maybe   \n\n            qc_func_notes_rater_2 qc_anat_rater_3 qc_anat_notes_rater_3  \\\n0          ic-parietal-cerebellum              OK                   NaN   \n1                             NaN              OK                   NaN   \n2                             NaN              OK                   NaN   \n3          ic-parietal-cerebellum              OK                   NaN   \n4              ic-parietal slight              OK                   NaN   \n...                           ...             ...                   ...   \n1107  ic-cerebellum-temporal_lobe              OK                   NaN   \n1108                vmpfc dropout              OK                   NaN   \n1109  ic-cerebellum-temporal_lobe              OK                   NaN   \n1110                ic-cerebellum              OK                   NaN   \n1111                ic-cerebellum              OK                   NaN   \n\n      qc_func_rater_3  qc_func_notes_rater_3  SUB_IN_SMP  \n0                fail              ERROR #24           1  \n1                  OK                    NaN           1  \n2                  OK                    NaN           1  \n3                  OK                    NaN           0  \n4                  OK                    NaN           1  \n...               ...                    ...         ...  \n1107               OK                    NaN           0  \n1108               OK                    NaN           0  \n1109               OK                    NaN           0  \n1110               OK                    NaN           0  \n1111               OK                    NaN           1  \n\n[1112 rows x 104 columns]",
      "text/html": "<div>\n<style scoped>\n    .dataframe tbody tr th:only-of-type {\n        vertical-align: middle;\n    }\n\n    .dataframe tbody tr th {\n        vertical-align: top;\n    }\n\n    .dataframe thead th {\n        text-align: right;\n    }\n</style>\n<table border=\"1\" class=\"dataframe\">\n  <thead>\n    <tr style=\"text-align: right;\">\n      <th></th>\n      <th>SUB_ID</th>\n      <th>X</th>\n      <th>subject</th>\n      <th>SITE_ID</th>\n      <th>FILE_ID</th>\n      <th>DX_GROUP</th>\n      <th>DSM_IV_TR</th>\n      <th>AGE_AT_SCAN</th>\n      <th>SEX</th>\n      <th>HANDEDNESS_CATEGORY</th>\n      <th>...</th>\n      <th>qc_notes_rater_1</th>\n      <th>qc_anat_rater_2</th>\n      <th>qc_anat_notes_rater_2</th>\n      <th>qc_func_rater_2</th>\n      <th>qc_func_notes_rater_2</th>\n      <th>qc_anat_rater_3</th>\n      <th>qc_anat_notes_rater_3</th>\n      <th>qc_func_rater_3</th>\n      <th>qc_func_notes_rater_3</th>\n      <th>SUB_IN_SMP</th>\n    </tr>\n  </thead>\n  <tbody>\n    <tr>\n      <th>0</th>\n      <td>50002</td>\n      <td>1</td>\n      <td>50002</td>\n      <td>PITT</td>\n      <td>no_filename</td>\n      <td>1</td>\n      <td>1</td>\n      <td>16.77</td>\n      <td>1</td>\n      <td>Ambi</td>\n      <td>...</td>\n      <td>NaN</td>\n      <td>OK</td>\n      <td>NaN</td>\n      <td>fail</td>\n      <td>ic-parietal-cerebellum</td>\n      <td>OK</td>\n      <td>NaN</td>\n      <td>fail</td>\n      <td>ERROR #24</td>\n      <td>1</td>\n    </tr>\n    <tr>\n      <th>1</th>\n      <td>50003</td>\n      <td>2</td>\n      <td>50003</td>\n      <td>PITT</td>\n      <td>Pitt_0050003</td>\n      <td>1</td>\n      <td>1</td>\n      <td>24.45</td>\n      <td>1</td>\n      <td>R</td>\n      <td>...</td>\n      <td>NaN</td>\n      <td>OK</td>\n      <td>NaN</td>\n      <td>OK</td>\n      <td>NaN</td>\n      <td>OK</td>\n      <td>NaN</td>\n      <td>OK</td>\n      <td>NaN</td>\n      <td>1</td>\n    </tr>\n    <tr>\n      <th>2</th>\n      <td>50004</td>\n      <td>3</td>\n      <td>50004</td>\n      <td>PITT</td>\n      <td>Pitt_0050004</td>\n      <td>1</td>\n      <td>1</td>\n      <td>19.09</td>\n      <td>1</td>\n      <td>R</td>\n      <td>...</td>\n      <td>NaN</td>\n      <td>OK</td>\n      <td>NaN</td>\n      <td>OK</td>\n      <td>NaN</td>\n      <td>OK</td>\n      <td>NaN</td>\n      <td>OK</td>\n      <td>NaN</td>\n      <td>1</td>\n    </tr>\n    <tr>\n      <th>3</th>\n      <td>50005</td>\n      <td>4</td>\n      <td>50005</td>\n      <td>PITT</td>\n      <td>Pitt_0050005</td>\n      <td>1</td>\n      <td>1</td>\n      <td>13.73</td>\n      <td>2</td>\n      <td>R</td>\n      <td>...</td>\n      <td>NaN</td>\n      <td>OK</td>\n      <td>NaN</td>\n      <td>maybe</td>\n      <td>ic-parietal-cerebellum</td>\n      <td>OK</td>\n      <td>NaN</td>\n      <td>OK</td>\n      <td>NaN</td>\n      <td>0</td>\n    </tr>\n    <tr>\n      <th>4</th>\n      <td>50006</td>\n      <td>5</td>\n      <td>50006</td>\n      <td>PITT</td>\n      <td>Pitt_0050006</td>\n      <td>1</td>\n      <td>1</td>\n      <td>13.37</td>\n      <td>1</td>\n      <td>L</td>\n      <td>...</td>\n      <td>NaN</td>\n      <td>OK</td>\n      <td>NaN</td>\n      <td>maybe</td>\n      <td>ic-parietal slight</td>\n      <td>OK</td>\n      <td>NaN</td>\n      <td>OK</td>\n      <td>NaN</td>\n      <td>1</td>\n    </tr>\n    <tr>\n      <th>...</th>\n      <td>...</td>\n      <td>...</td>\n      <td>...</td>\n      <td>...</td>\n      <td>...</td>\n      <td>...</td>\n      <td>...</td>\n      <td>...</td>\n      <td>...</td>\n      <td>...</td>\n      <td>...</td>\n      <td>...</td>\n      <td>...</td>\n      <td>...</td>\n      <td>...</td>\n      <td>...</td>\n      <td>...</td>\n      <td>...</td>\n      <td>...</td>\n      <td>...</td>\n      <td>...</td>\n    </tr>\n    <tr>\n      <th>1107</th>\n      <td>51583</td>\n      <td>1108</td>\n      <td>51583</td>\n      <td>SBL</td>\n      <td>SBL_0051583</td>\n      <td>1</td>\n      <td>2</td>\n      <td>35.00</td>\n      <td>1</td>\n      <td>NaN</td>\n      <td>...</td>\n      <td>NaN</td>\n      <td>OK</td>\n      <td>NaN</td>\n      <td>OK</td>\n      <td>ic-cerebellum-temporal_lobe</td>\n      <td>OK</td>\n      <td>NaN</td>\n      <td>OK</td>\n      <td>NaN</td>\n      <td>0</td>\n    </tr>\n    <tr>\n      <th>1108</th>\n      <td>51584</td>\n      <td>1109</td>\n      <td>51584</td>\n      <td>SBL</td>\n      <td>SBL_0051584</td>\n      <td>1</td>\n      <td>2</td>\n      <td>49.00</td>\n      <td>1</td>\n      <td>NaN</td>\n      <td>...</td>\n      <td>NaN</td>\n      <td>OK</td>\n      <td>NaN</td>\n      <td>maybe</td>\n      <td>vmpfc dropout</td>\n      <td>OK</td>\n      <td>NaN</td>\n      <td>OK</td>\n      <td>NaN</td>\n      <td>0</td>\n    </tr>\n    <tr>\n      <th>1109</th>\n      <td>51585</td>\n      <td>1110</td>\n      <td>51585</td>\n      <td>SBL</td>\n      <td>SBL_0051585</td>\n      <td>1</td>\n      <td>1</td>\n      <td>27.00</td>\n      <td>1</td>\n      <td>NaN</td>\n      <td>...</td>\n      <td>NaN</td>\n      <td>OK</td>\n      <td>NaN</td>\n      <td>maybe</td>\n      <td>ic-cerebellum-temporal_lobe</td>\n      <td>OK</td>\n      <td>NaN</td>\n      <td>OK</td>\n      <td>NaN</td>\n      <td>0</td>\n    </tr>\n    <tr>\n      <th>1110</th>\n      <td>51606</td>\n      <td>1111</td>\n      <td>51606</td>\n      <td>MAX_MUN</td>\n      <td>MaxMun_a_0051606</td>\n      <td>1</td>\n      <td>2</td>\n      <td>29.00</td>\n      <td>2</td>\n      <td>R</td>\n      <td>...</td>\n      <td>NaN</td>\n      <td>OK</td>\n      <td>NaN</td>\n      <td>maybe</td>\n      <td>ic-cerebellum</td>\n      <td>OK</td>\n      <td>NaN</td>\n      <td>OK</td>\n      <td>NaN</td>\n      <td>0</td>\n    </tr>\n    <tr>\n      <th>1111</th>\n      <td>51607</td>\n      <td>1112</td>\n      <td>51607</td>\n      <td>MAX_MUN</td>\n      <td>MaxMun_a_0051607</td>\n      <td>1</td>\n      <td>2</td>\n      <td>26.00</td>\n      <td>1</td>\n      <td>R</td>\n      <td>...</td>\n      <td>NaN</td>\n      <td>OK</td>\n      <td>NaN</td>\n      <td>maybe</td>\n      <td>ic-cerebellum</td>\n      <td>OK</td>\n      <td>NaN</td>\n      <td>OK</td>\n      <td>NaN</td>\n      <td>1</td>\n    </tr>\n  </tbody>\n</table>\n<p>1112 rows × 104 columns</p>\n</div>"
     },
     "execution_count": 12,
     "metadata": {},
     "output_type": "execute_result"
    }
   ],
   "source": [
    "phenotypic = pd.read_csv('../data_in/ABIDE/Phenotypic_V1_0b_preprocessed1.csv').iloc[:,2:]\n",
    "timeseries, diagnosis, IDs_subject, mean_fd, num_fd, perc_fd, site = _get_paths(phenotypic, \"BASC/regions\", '../data_in/ABIDE/')\n",
    "sites, site_int = np.unique(site, return_inverse=True)\n",
    "phenotypic\n",
    "    "
   ],
   "metadata": {
    "collapsed": false,
    "pycharm": {
     "name": "#%%\n"
    }
   }
  },
  {
   "cell_type": "code",
   "execution_count": 13,
   "metadata": {
    "ExecuteTime": {
     "end_time": "2021-08-01T19:07:43.923330Z",
     "start_time": "2021-08-01T19:07:43.348786Z"
    }
   },
   "outputs": [
    {
     "ename": "FileNotFoundError",
     "evalue": "[Errno 2] No such file or directory: '../data_out/fig/abide_motion_hist.pdf'",
     "output_type": "error",
     "traceback": [
      "\u001B[0;31m---------------------------------------------------------------------------\u001B[0m",
      "\u001B[0;31mFileNotFoundError\u001B[0m                         Traceback (most recent call last)",
      "\u001B[0;32m/tmp/ipykernel_112566/2978066853.py\u001B[0m in \u001B[0;36m<module>\u001B[0;34m\u001B[0m\n\u001B[1;32m      1\u001B[0m \u001B[0msns\u001B[0m\u001B[0;34m.\u001B[0m\u001B[0mhistplot\u001B[0m\u001B[0;34m(\u001B[0m\u001B[0mmean_fd\u001B[0m\u001B[0;34m,\u001B[0m \u001B[0mcolor\u001B[0m\u001B[0;34m=\u001B[0m\u001B[0;34m'gray'\u001B[0m\u001B[0;34m)\u001B[0m\u001B[0;34m\u001B[0m\u001B[0;34m\u001B[0m\u001B[0m\n\u001B[0;32m----> 2\u001B[0;31m \u001B[0mplt\u001B[0m\u001B[0;34m.\u001B[0m\u001B[0msavefig\u001B[0m\u001B[0;34m(\u001B[0m\u001B[0;34m'../data_out/fig/abide_motion_hist.pdf'\u001B[0m\u001B[0;34m)\u001B[0m\u001B[0;34m\u001B[0m\u001B[0;34m\u001B[0m\u001B[0m\n\u001B[0m\u001B[1;32m      3\u001B[0m \u001B[0mkurtosis\u001B[0m\u001B[0;34m(\u001B[0m\u001B[0mmean_fd\u001B[0m\u001B[0;34m)\u001B[0m\u001B[0;34m,\u001B[0m \u001B[0mskew\u001B[0m\u001B[0;34m(\u001B[0m\u001B[0mmean_fd\u001B[0m\u001B[0;34m)\u001B[0m\u001B[0;34m\u001B[0m\u001B[0;34m\u001B[0m\u001B[0m\n\u001B[1;32m      4\u001B[0m \u001B[0;34m\u001B[0m\u001B[0m\n",
      "\u001B[0;32m~/src/mlconfound/venv/lib/python3.8/site-packages/matplotlib/pyplot.py\u001B[0m in \u001B[0;36msavefig\u001B[0;34m(*args, **kwargs)\u001B[0m\n\u001B[1;32m    964\u001B[0m \u001B[0;32mdef\u001B[0m \u001B[0msavefig\u001B[0m\u001B[0;34m(\u001B[0m\u001B[0;34m*\u001B[0m\u001B[0margs\u001B[0m\u001B[0;34m,\u001B[0m \u001B[0;34m**\u001B[0m\u001B[0mkwargs\u001B[0m\u001B[0;34m)\u001B[0m\u001B[0;34m:\u001B[0m\u001B[0;34m\u001B[0m\u001B[0;34m\u001B[0m\u001B[0m\n\u001B[1;32m    965\u001B[0m     \u001B[0mfig\u001B[0m \u001B[0;34m=\u001B[0m \u001B[0mgcf\u001B[0m\u001B[0;34m(\u001B[0m\u001B[0;34m)\u001B[0m\u001B[0;34m\u001B[0m\u001B[0;34m\u001B[0m\u001B[0m\n\u001B[0;32m--> 966\u001B[0;31m     \u001B[0mres\u001B[0m \u001B[0;34m=\u001B[0m \u001B[0mfig\u001B[0m\u001B[0;34m.\u001B[0m\u001B[0msavefig\u001B[0m\u001B[0;34m(\u001B[0m\u001B[0;34m*\u001B[0m\u001B[0margs\u001B[0m\u001B[0;34m,\u001B[0m \u001B[0;34m**\u001B[0m\u001B[0mkwargs\u001B[0m\u001B[0;34m)\u001B[0m\u001B[0;34m\u001B[0m\u001B[0;34m\u001B[0m\u001B[0m\n\u001B[0m\u001B[1;32m    967\u001B[0m     \u001B[0mfig\u001B[0m\u001B[0;34m.\u001B[0m\u001B[0mcanvas\u001B[0m\u001B[0;34m.\u001B[0m\u001B[0mdraw_idle\u001B[0m\u001B[0;34m(\u001B[0m\u001B[0;34m)\u001B[0m   \u001B[0;31m# need this if 'transparent=True' to reset colors\u001B[0m\u001B[0;34m\u001B[0m\u001B[0;34m\u001B[0m\u001B[0m\n\u001B[1;32m    968\u001B[0m     \u001B[0;32mreturn\u001B[0m \u001B[0mres\u001B[0m\u001B[0;34m\u001B[0m\u001B[0;34m\u001B[0m\u001B[0m\n",
      "\u001B[0;32m~/src/mlconfound/venv/lib/python3.8/site-packages/matplotlib/figure.py\u001B[0m in \u001B[0;36msavefig\u001B[0;34m(self, fname, transparent, **kwargs)\u001B[0m\n\u001B[1;32m   3003\u001B[0m                 \u001B[0mpatch\u001B[0m\u001B[0;34m.\u001B[0m\u001B[0mset_edgecolor\u001B[0m\u001B[0;34m(\u001B[0m\u001B[0;34m'none'\u001B[0m\u001B[0;34m)\u001B[0m\u001B[0;34m\u001B[0m\u001B[0;34m\u001B[0m\u001B[0m\n\u001B[1;32m   3004\u001B[0m \u001B[0;34m\u001B[0m\u001B[0m\n\u001B[0;32m-> 3005\u001B[0;31m         \u001B[0mself\u001B[0m\u001B[0;34m.\u001B[0m\u001B[0mcanvas\u001B[0m\u001B[0;34m.\u001B[0m\u001B[0mprint_figure\u001B[0m\u001B[0;34m(\u001B[0m\u001B[0mfname\u001B[0m\u001B[0;34m,\u001B[0m \u001B[0;34m**\u001B[0m\u001B[0mkwargs\u001B[0m\u001B[0;34m)\u001B[0m\u001B[0;34m\u001B[0m\u001B[0;34m\u001B[0m\u001B[0m\n\u001B[0m\u001B[1;32m   3006\u001B[0m \u001B[0;34m\u001B[0m\u001B[0m\n\u001B[1;32m   3007\u001B[0m         \u001B[0;32mif\u001B[0m \u001B[0mtransparent\u001B[0m\u001B[0;34m:\u001B[0m\u001B[0;34m\u001B[0m\u001B[0;34m\u001B[0m\u001B[0m\n",
      "\u001B[0;32m~/src/mlconfound/venv/lib/python3.8/site-packages/matplotlib/backend_bases.py\u001B[0m in \u001B[0;36mprint_figure\u001B[0;34m(self, filename, dpi, facecolor, edgecolor, orientation, format, bbox_inches, pad_inches, bbox_extra_artists, backend, **kwargs)\u001B[0m\n\u001B[1;32m   2253\u001B[0m                 \u001B[0;31m# force the figure dpi to 72), so we need to set it again here.\u001B[0m\u001B[0;34m\u001B[0m\u001B[0;34m\u001B[0m\u001B[0;34m\u001B[0m\u001B[0m\n\u001B[1;32m   2254\u001B[0m                 \u001B[0;32mwith\u001B[0m \u001B[0mcbook\u001B[0m\u001B[0;34m.\u001B[0m\u001B[0m_setattr_cm\u001B[0m\u001B[0;34m(\u001B[0m\u001B[0mself\u001B[0m\u001B[0;34m.\u001B[0m\u001B[0mfigure\u001B[0m\u001B[0;34m,\u001B[0m \u001B[0mdpi\u001B[0m\u001B[0;34m=\u001B[0m\u001B[0mdpi\u001B[0m\u001B[0;34m)\u001B[0m\u001B[0;34m:\u001B[0m\u001B[0;34m\u001B[0m\u001B[0;34m\u001B[0m\u001B[0m\n\u001B[0;32m-> 2255\u001B[0;31m                     result = print_method(\n\u001B[0m\u001B[1;32m   2256\u001B[0m                         \u001B[0mfilename\u001B[0m\u001B[0;34m,\u001B[0m\u001B[0;34m\u001B[0m\u001B[0;34m\u001B[0m\u001B[0m\n\u001B[1;32m   2257\u001B[0m                         \u001B[0mfacecolor\u001B[0m\u001B[0;34m=\u001B[0m\u001B[0mfacecolor\u001B[0m\u001B[0;34m,\u001B[0m\u001B[0;34m\u001B[0m\u001B[0;34m\u001B[0m\u001B[0m\n",
      "\u001B[0;32m~/src/mlconfound/venv/lib/python3.8/site-packages/matplotlib/backend_bases.py\u001B[0m in \u001B[0;36mwrapper\u001B[0;34m(*args, **kwargs)\u001B[0m\n\u001B[1;32m   1667\u001B[0m             \u001B[0mkwargs\u001B[0m\u001B[0;34m.\u001B[0m\u001B[0mpop\u001B[0m\u001B[0;34m(\u001B[0m\u001B[0marg\u001B[0m\u001B[0;34m)\u001B[0m\u001B[0;34m\u001B[0m\u001B[0;34m\u001B[0m\u001B[0m\n\u001B[1;32m   1668\u001B[0m \u001B[0;34m\u001B[0m\u001B[0m\n\u001B[0;32m-> 1669\u001B[0;31m         \u001B[0;32mreturn\u001B[0m \u001B[0mfunc\u001B[0m\u001B[0;34m(\u001B[0m\u001B[0;34m*\u001B[0m\u001B[0margs\u001B[0m\u001B[0;34m,\u001B[0m \u001B[0;34m**\u001B[0m\u001B[0mkwargs\u001B[0m\u001B[0;34m)\u001B[0m\u001B[0;34m\u001B[0m\u001B[0;34m\u001B[0m\u001B[0m\n\u001B[0m\u001B[1;32m   1670\u001B[0m \u001B[0;34m\u001B[0m\u001B[0m\n\u001B[1;32m   1671\u001B[0m     \u001B[0;32mreturn\u001B[0m \u001B[0mwrapper\u001B[0m\u001B[0;34m\u001B[0m\u001B[0;34m\u001B[0m\u001B[0m\n",
      "\u001B[0;32m~/src/mlconfound/venv/lib/python3.8/site-packages/matplotlib/_api/deprecation.py\u001B[0m in \u001B[0;36mwrapper\u001B[0;34m(*inner_args, **inner_kwargs)\u001B[0m\n\u001B[1;32m    429\u001B[0m                          \u001B[0;32melse\u001B[0m \u001B[0mdeprecation_addendum\u001B[0m\u001B[0;34m,\u001B[0m\u001B[0;34m\u001B[0m\u001B[0;34m\u001B[0m\u001B[0m\n\u001B[1;32m    430\u001B[0m                 **kwargs)\n\u001B[0;32m--> 431\u001B[0;31m         \u001B[0;32mreturn\u001B[0m \u001B[0mfunc\u001B[0m\u001B[0;34m(\u001B[0m\u001B[0;34m*\u001B[0m\u001B[0minner_args\u001B[0m\u001B[0;34m,\u001B[0m \u001B[0;34m**\u001B[0m\u001B[0minner_kwargs\u001B[0m\u001B[0;34m)\u001B[0m\u001B[0;34m\u001B[0m\u001B[0;34m\u001B[0m\u001B[0m\n\u001B[0m\u001B[1;32m    432\u001B[0m \u001B[0;34m\u001B[0m\u001B[0m\n\u001B[1;32m    433\u001B[0m     \u001B[0;32mreturn\u001B[0m \u001B[0mwrapper\u001B[0m\u001B[0;34m\u001B[0m\u001B[0;34m\u001B[0m\u001B[0m\n",
      "\u001B[0;32m~/src/mlconfound/venv/lib/python3.8/site-packages/matplotlib/backends/backend_pdf.py\u001B[0m in \u001B[0;36mprint_pdf\u001B[0;34m(self, filename, dpi, bbox_inches_restore, metadata)\u001B[0m\n\u001B[1;32m   2716\u001B[0m             \u001B[0mfile\u001B[0m \u001B[0;34m=\u001B[0m \u001B[0mfilename\u001B[0m\u001B[0;34m.\u001B[0m\u001B[0m_file\u001B[0m\u001B[0;34m\u001B[0m\u001B[0;34m\u001B[0m\u001B[0m\n\u001B[1;32m   2717\u001B[0m         \u001B[0;32melse\u001B[0m\u001B[0;34m:\u001B[0m\u001B[0;34m\u001B[0m\u001B[0;34m\u001B[0m\u001B[0m\n\u001B[0;32m-> 2718\u001B[0;31m             \u001B[0mfile\u001B[0m \u001B[0;34m=\u001B[0m \u001B[0mPdfFile\u001B[0m\u001B[0;34m(\u001B[0m\u001B[0mfilename\u001B[0m\u001B[0;34m,\u001B[0m \u001B[0mmetadata\u001B[0m\u001B[0;34m=\u001B[0m\u001B[0mmetadata\u001B[0m\u001B[0;34m)\u001B[0m\u001B[0;34m\u001B[0m\u001B[0;34m\u001B[0m\u001B[0m\n\u001B[0m\u001B[1;32m   2719\u001B[0m         \u001B[0;32mtry\u001B[0m\u001B[0;34m:\u001B[0m\u001B[0;34m\u001B[0m\u001B[0;34m\u001B[0m\u001B[0m\n\u001B[1;32m   2720\u001B[0m             \u001B[0mfile\u001B[0m\u001B[0;34m.\u001B[0m\u001B[0mnewPage\u001B[0m\u001B[0;34m(\u001B[0m\u001B[0mwidth\u001B[0m\u001B[0;34m,\u001B[0m \u001B[0mheight\u001B[0m\u001B[0;34m)\u001B[0m\u001B[0;34m\u001B[0m\u001B[0;34m\u001B[0m\u001B[0m\n",
      "\u001B[0;32m~/src/mlconfound/venv/lib/python3.8/site-packages/matplotlib/backends/backend_pdf.py\u001B[0m in \u001B[0;36m__init__\u001B[0;34m(self, filename, metadata)\u001B[0m\n\u001B[1;32m    635\u001B[0m         \u001B[0mself\u001B[0m\u001B[0;34m.\u001B[0m\u001B[0moriginal_file_like\u001B[0m \u001B[0;34m=\u001B[0m \u001B[0;32mNone\u001B[0m\u001B[0;34m\u001B[0m\u001B[0;34m\u001B[0m\u001B[0m\n\u001B[1;32m    636\u001B[0m         \u001B[0mself\u001B[0m\u001B[0;34m.\u001B[0m\u001B[0mtell_base\u001B[0m \u001B[0;34m=\u001B[0m \u001B[0;36m0\u001B[0m\u001B[0;34m\u001B[0m\u001B[0;34m\u001B[0m\u001B[0m\n\u001B[0;32m--> 637\u001B[0;31m         \u001B[0mfh\u001B[0m\u001B[0;34m,\u001B[0m \u001B[0mopened\u001B[0m \u001B[0;34m=\u001B[0m \u001B[0mcbook\u001B[0m\u001B[0;34m.\u001B[0m\u001B[0mto_filehandle\u001B[0m\u001B[0;34m(\u001B[0m\u001B[0mfilename\u001B[0m\u001B[0;34m,\u001B[0m \u001B[0;34m\"wb\"\u001B[0m\u001B[0;34m,\u001B[0m \u001B[0mreturn_opened\u001B[0m\u001B[0;34m=\u001B[0m\u001B[0;32mTrue\u001B[0m\u001B[0;34m)\u001B[0m\u001B[0;34m\u001B[0m\u001B[0;34m\u001B[0m\u001B[0m\n\u001B[0m\u001B[1;32m    638\u001B[0m         \u001B[0;32mif\u001B[0m \u001B[0;32mnot\u001B[0m \u001B[0mopened\u001B[0m\u001B[0;34m:\u001B[0m\u001B[0;34m\u001B[0m\u001B[0;34m\u001B[0m\u001B[0m\n\u001B[1;32m    639\u001B[0m             \u001B[0;32mtry\u001B[0m\u001B[0;34m:\u001B[0m\u001B[0;34m\u001B[0m\u001B[0;34m\u001B[0m\u001B[0m\n",
      "\u001B[0;32m~/src/mlconfound/venv/lib/python3.8/site-packages/matplotlib/cbook/__init__.py\u001B[0m in \u001B[0;36mto_filehandle\u001B[0;34m(fname, flag, return_opened, encoding)\u001B[0m\n\u001B[1;32m    460\u001B[0m             \u001B[0mfh\u001B[0m \u001B[0;34m=\u001B[0m \u001B[0mbz2\u001B[0m\u001B[0;34m.\u001B[0m\u001B[0mBZ2File\u001B[0m\u001B[0;34m(\u001B[0m\u001B[0mfname\u001B[0m\u001B[0;34m,\u001B[0m \u001B[0mflag\u001B[0m\u001B[0;34m)\u001B[0m\u001B[0;34m\u001B[0m\u001B[0;34m\u001B[0m\u001B[0m\n\u001B[1;32m    461\u001B[0m         \u001B[0;32melse\u001B[0m\u001B[0;34m:\u001B[0m\u001B[0;34m\u001B[0m\u001B[0;34m\u001B[0m\u001B[0m\n\u001B[0;32m--> 462\u001B[0;31m             \u001B[0mfh\u001B[0m \u001B[0;34m=\u001B[0m \u001B[0mopen\u001B[0m\u001B[0;34m(\u001B[0m\u001B[0mfname\u001B[0m\u001B[0;34m,\u001B[0m \u001B[0mflag\u001B[0m\u001B[0;34m,\u001B[0m \u001B[0mencoding\u001B[0m\u001B[0;34m=\u001B[0m\u001B[0mencoding\u001B[0m\u001B[0;34m)\u001B[0m\u001B[0;34m\u001B[0m\u001B[0;34m\u001B[0m\u001B[0m\n\u001B[0m\u001B[1;32m    463\u001B[0m         \u001B[0mopened\u001B[0m \u001B[0;34m=\u001B[0m \u001B[0;32mTrue\u001B[0m\u001B[0;34m\u001B[0m\u001B[0;34m\u001B[0m\u001B[0m\n\u001B[1;32m    464\u001B[0m     \u001B[0;32melif\u001B[0m \u001B[0mhasattr\u001B[0m\u001B[0;34m(\u001B[0m\u001B[0mfname\u001B[0m\u001B[0;34m,\u001B[0m \u001B[0;34m'seek'\u001B[0m\u001B[0;34m)\u001B[0m\u001B[0;34m:\u001B[0m\u001B[0;34m\u001B[0m\u001B[0;34m\u001B[0m\u001B[0m\n",
      "\u001B[0;31mFileNotFoundError\u001B[0m: [Errno 2] No such file or directory: '../data_out/fig/abide_motion_hist.pdf'"
     ]
    },
    {
     "data": {
      "text/plain": "<Figure size 432x288 with 1 Axes>",
      "image/png": "[encoded data removed]"
     },
     "metadata": {},
     "output_type": "display_data"
    }
   ],
   "source": [
    "sns.histplot(mean_fd, color='gray')\n",
    "plt.savefig('../data_out/fig/abide_motion_hist.pdf')\n",
    "kurtosis(mean_fd), skew(mean_fd)"
   ]
  },
  {
   "cell_type": "code",
   "execution_count": null,
   "metadata": {
    "ExecuteTime": {
     "end_time": "2021-08-01T19:07:44.142044Z",
     "start_time": "2021-08-01T19:07:43.925958Z"
    }
   },
   "outputs": [],
   "source": [
    "sns.histplot(np.log(mean_fd), color='gray')\n",
    "kurtosis(np.log(mean_fd)), skew(np.log(mean_fd))"
   ]
  },
  {
   "cell_type": "code",
   "execution_count": null,
   "metadata": {
    "ExecuteTime": {
     "end_time": "2021-08-01T19:07:44.464848Z",
     "start_time": "2021-08-01T19:07:44.144550Z"
    }
   },
   "outputs": [],
   "source": [
    "rng = np.random.default_rng(42)\n",
    "mean_fd_trf = quantile_transform(np.array([mean_fd]).T, output_distribution='normal',\n",
    "                                 n_quantiles=len(mean_fd)).flatten()\n",
    "\n",
    "sns.histplot(mean_fd_trf, color='gray')\n",
    "plt.savefig('../data_out/fig/abide_motion_quanttrf_hist.pdf')\n",
    "\n",
    "kurtosis(mean_fd_trf), skew(mean_fd_trf)\n",
    "mean_fd = mean_fd_trf\n"
   ]
  },
  {
   "cell_type": "markdown",
   "metadata": {},
   "source": [
    "## Binning motion data (to be used later)"
   ]
  },
  {
   "cell_type": "code",
   "execution_count": null,
   "metadata": {
    "ExecuteTime": {
     "end_time": "2021-08-01T19:07:44.473432Z",
     "start_time": "2021-08-01T19:07:44.469383Z"
    }
   },
   "outputs": [],
   "source": [
    "# binning mean_fd\n",
    "bins = 10 # approximately 80 subject per motion group\n",
    "\n",
    "limits = np.quantile(mean_fd, np.arange(0, 1, 1/bins))\n",
    "mean_fd_binned = np.digitize(mean_fd, limits)"
   ]
  },
  {
   "cell_type": "markdown",
   "metadata": {},
   "source": [
    "## Calculate connectivity"
   ]
  },
  {
   "cell_type": "code",
   "execution_count": null,
   "metadata": {
    "ExecuteTime": {
     "end_time": "2021-08-01T19:08:30.169375Z",
     "start_time": "2021-08-01T19:07:44.477020Z"
    }
   },
   "outputs": [],
   "source": [
    "connections = ConnectivityMeasure(kind='tangent', vectorize=True, discard_diagonal=True)\n",
    "conn_coefs = connections.fit_transform(timeseries)"
   ]
  },
  {
   "cell_type": "code",
   "execution_count": null,
   "metadata": {
    "ExecuteTime": {
     "end_time": "2021-08-01T19:08:30.175223Z",
     "start_time": "2021-08-01T19:08:30.171729Z"
    }
   },
   "outputs": [],
   "source": [
    "_, y = np.unique(diagnosis, return_inverse=True)\n",
    "X = conn_coefs"
   ]
  },
  {
   "cell_type": "markdown",
   "metadata": {},
   "source": [
    "# Machine learning (raw)"
   ]
  },
  {
   "cell_type": "code",
   "execution_count": null,
   "metadata": {
    "ExecuteTime": {
     "end_time": "2021-08-01T19:10:39.155286Z",
     "start_time": "2021-08-01T19:08:30.177736Z"
    }
   },
   "outputs": [],
   "source": [
    "outer_cv = StratifiedKFold(10)\n",
    "inner_cv = StratifiedKFold(10) \n",
    "model = Pipeline([\n",
    "    ('varthr', VarianceThreshold(0)),   # omit zero variance columns (diagonal)\n",
    "    ('model', LogisticRegression())])\n",
    "\n",
    "p_grid = {'model__C': [0.1, 1, 10]}\n",
    "\n",
    "clf = GridSearchCV(estimator=model, param_grid=p_grid, cv=StratifiedKFold(10),\n",
    "                   scoring=\"roc_auc\", return_train_score=False,\n",
    "                   n_jobs=-1)\n",
    "\n",
    "all_models = []\n",
    "best_params = []\n",
    "predicted = np.zeros(len(y))\n",
    "predicted_prob = np.zeros(len(y))\n",
    "nested_scores_train = np.zeros(outer_cv.get_n_splits(X))\n",
    "nested_scores_test = np.zeros(outer_cv.get_n_splits(X))   \n",
    "                                    \n",
    "print(\"model\\tinner_cv mean score\\touter vc score\")\n",
    "i=0\n",
    "for train, test in outer_cv.split(X, y):\n",
    "\n",
    "    clf.fit(X[train], y[train])\n",
    "                                    \n",
    "    print('cv:', i, str(clf.best_params_) + \" \" + str(clf.best_score_) + \" \" + str(clf.score(X[test], y[test])))\n",
    "                                    \n",
    "    all_models.append(clf.best_estimator_)\n",
    "    best_params.append(clf.best_params_)\n",
    "    \n",
    "    predicted[test] = clf.predict(X[test])\n",
    "    predicted_prob[test] = clf.predict_proba(X[test])[:,0]\n",
    "                                    \n",
    "    nested_scores_train[i] = clf.best_score_\n",
    "    nested_scores_test[i] = clf.score(X[test], y[test])\n",
    "    i = i+1"
   ]
  },
  {
   "cell_type": "code",
   "execution_count": null,
   "metadata": {
    "ExecuteTime": {
     "end_time": "2021-08-01T19:10:39.395184Z",
     "start_time": "2021-08-01T19:10:39.157640Z"
    }
   },
   "outputs": [],
   "source": [
    "print(\"** Mean score in the inner crossvaludation (inner_cv):\\t\" + str(nested_scores_train.mean()))\n",
    "print(\"** Mean Nested Crossvalidation Score (outer_cv):\\t\" + str(nested_scores_test.mean()))\n",
    "\n",
    "fpr, tpr, _ = roc_curve(y, predicted_prob, pos_label=0)\n",
    "fig, ax = plt.subplots(figsize=(5,2))\n",
    "RocCurveDisplay(fpr=fpr, tpr=tpr).plot(ax=ax) \n",
    "plt.savefig('../data_out/fig/abide_raw_rocplot.pdf')\n"
   ]
  },
  {
   "cell_type": "code",
   "execution_count": null,
   "metadata": {
    "ExecuteTime": {
     "end_time": "2021-08-01T19:10:43.271820Z",
     "start_time": "2021-08-01T19:10:39.397308Z"
    }
   },
   "outputs": [],
   "source": [
    "plt.figure(figsize=(5,1.5))\n",
    "\n",
    "pal=[sns.color_palette(\"coolwarm\", 10)[0], sns.color_palette(\"coolwarm\", 10)[-1]]\n",
    "sns.stripplot(x=site, y=predicted_prob, hue=y, palette=pal, alpha=0.2, jitter=0.2, dodge=True)\n",
    "ax=sns.boxplot(x=site, y=predicted_prob, hue=y, showfliers = False)\n",
    "for box in ax.artists:\n",
    "    box.set_facecolor((1,1,1,0))\n",
    "plt.xticks(rotation=90)\n",
    "for i in range(len(np.unique(site))):\n",
    "    plt.axvline(i+0.5, color=\"gray\", alpha=0.5, linewidth=0.5)\n",
    "plt.savefig('../data_out/fig/abide_site_raw_striplot.pdf')"
   ]
  },
  {
   "cell_type": "code",
   "execution_count": null,
   "metadata": {
    "ExecuteTime": {
     "end_time": "2021-08-01T19:10:44.301753Z",
     "start_time": "2021-08-01T19:10:43.274005Z"
    }
   },
   "outputs": [],
   "source": [
    "plt.figure(figsize=(5,2))\n",
    "sns.stripplot(x=y, y=predicted_prob, hue=mean_fd_binned,\n",
    "              palette=\"coolwarm\", alpha=0.4, jitter=0.4, dodge=True)\n",
    "sns.boxplot(x=y, y=predicted_prob, color=(1,1,1,1))\n",
    "plt.legend([],[], frameon=False)\n",
    "plt.savefig('../data_out/fig/abide_motion_raw_stripplot.pdf')"
   ]
  },
  {
   "cell_type": "code",
   "execution_count": null,
   "metadata": {
    "ExecuteTime": {
     "end_time": "2021-08-01T19:10:49.081209Z",
     "start_time": "2021-08-01T19:10:44.304071Z"
    }
   },
   "outputs": [],
   "source": [
    "plot_graph(test_partially_confounded(y, predicted, mean_fd, random_state=42),\n",
    "          outfile_base='../data_out/fig/abide_motion_raw_partial')"
   ]
  },
  {
   "cell_type": "code",
   "execution_count": null,
   "metadata": {
    "ExecuteTime": {
     "end_time": "2021-08-01T19:10:53.212459Z",
     "start_time": "2021-08-01T19:10:49.083740Z"
    }
   },
   "outputs": [],
   "source": [
    "plot_graph(test_fully_confounded(y, predicted, mean_fd, random_state=42),\n",
    "          outfile_base='../data_out/fig/abide_motion_raw_full')"
   ]
  },
  {
   "cell_type": "code",
   "execution_count": null,
   "metadata": {
    "ExecuteTime": {
     "end_time": "2021-08-01T19:10:59.660707Z",
     "start_time": "2021-08-01T19:10:53.215364Z"
    }
   },
   "outputs": [],
   "source": [
    "plot_graph(test_partially_confounded(y, predicted, site_int, cat_c=True, random_state=42),\n",
    "          outfile_base='../data_out/fig/abide_site_raw_partial')"
   ]
  },
  {
   "cell_type": "code",
   "execution_count": null,
   "metadata": {
    "ExecuteTime": {
     "end_time": "2021-08-01T19:11:03.792354Z",
     "start_time": "2021-08-01T19:10:59.663247Z"
    }
   },
   "outputs": [],
   "source": [
    "plot_graph(test_fully_confounded(y, predicted, site_int, cat_c=True, random_state=42),\n",
    "          outfile_base='../data_out/fig/abide_site_raw_full')"
   ]
  },
  {
   "cell_type": "markdown",
   "metadata": {},
   "source": [
    "# Regress out motion from the features"
   ]
  },
  {
   "cell_type": "code",
   "execution_count": null,
   "metadata": {
    "ExecuteTime": {
     "end_time": "2021-08-01T19:11:08.732782Z",
     "start_time": "2021-08-01T19:11:03.795694Z"
    }
   },
   "outputs": [],
   "source": [
    "# regress-out motion from connectivity\n",
    "X_adj = np.zeros_like(X)\n",
    "for i in range(X.shape[1]):\n",
    "    OLS_model = OLS(X[:,i], sm.add_constant(mean_fd)).fit()  # training the model\n",
    "    X_adj[:, i] = OLS_model.resid"
   ]
  },
  {
   "cell_type": "code",
   "execution_count": null,
   "metadata": {
    "ExecuteTime": {
     "end_time": "2021-08-01T19:13:16.799521Z",
     "start_time": "2021-08-01T19:11:08.735495Z"
    }
   },
   "outputs": [],
   "source": [
    "outer_cv = StratifiedKFold(10)\n",
    "inner_cv = StratifiedKFold(10) \n",
    "model = Pipeline([\n",
    "    ('varthr', VarianceThreshold(0)),   # omit zero variance columns (diagonal)\n",
    "    #('fsel', SelectKBest(f_regression)),\n",
    "    ('model', LogisticRegression())])\n",
    "\n",
    "p_grid = {#'fsel__k': [500, 1000, 2000],\n",
    "          'model__C': [0.1, 1, 10]}\n",
    "\n",
    "clf = GridSearchCV(estimator=model, param_grid=p_grid, cv=StratifiedKFold(10),\n",
    "                   scoring=\"roc_auc\", return_train_score=False,\n",
    "                   n_jobs=-1)\n",
    "\n",
    "all_models = []\n",
    "best_params = []\n",
    "predicted = np.zeros(len(y))\n",
    "predicted_prob = np.zeros(len(y))\n",
    "nested_scores_train = np.zeros(outer_cv.get_n_splits(X_adj))\n",
    "nested_scores_test = np.zeros(outer_cv.get_n_splits(X_adj))   \n",
    "                                    \n",
    "print(\"model\\tinner_cv mean score\\touter vc score\")\n",
    "i=0\n",
    "for train, test in outer_cv.split(X, y):\n",
    "\n",
    "    clf.fit(X_adj[train], y[train])\n",
    "                                    \n",
    "    print('cv:', i, str(clf.best_params_) + \" \" + str(clf.best_score_) + \" \" + str(clf.score(X_adj[test], y[test])))\n",
    "                                    \n",
    "    all_models.append(clf.best_estimator_)\n",
    "    best_params.append(clf.best_params_)\n",
    "    \n",
    "    predicted[test] = clf.predict(X_adj[test])\n",
    "    predicted_prob[test] = clf.predict_proba(X_adj[test])[:,0]\n",
    "                                    \n",
    "    nested_scores_train[i] = clf.best_score_\n",
    "    nested_scores_test[i] = clf.score(X_adj[test], y[test])\n",
    "    i = i+1"
   ]
  },
  {
   "cell_type": "code",
   "execution_count": null,
   "metadata": {
    "ExecuteTime": {
     "end_time": "2021-08-01T19:13:17.042359Z",
     "start_time": "2021-08-01T19:13:16.801739Z"
    },
    "scrolled": true
   },
   "outputs": [],
   "source": [
    "print(\"** Mean score in the inner crossvaludation (inner_cv):\\t\" + str(nested_scores_train.mean()))\n",
    "print(\"** Mean Nested Crossvalidation Score (outer_cv):\\t\" + str(nested_scores_test.mean()))\n",
    "\n",
    "fpr, tpr, _ = roc_curve(y, predicted_prob, pos_label=0)\n",
    "fig, ax = plt.subplots(figsize=(5,2))\n",
    "RocCurveDisplay(fpr=fpr, tpr=tpr).plot(ax=ax) \n",
    "plt.savefig('../data_out/fig/abide_motion_reg_rocplot.pdf')\n",
    "    "
   ]
  },
  {
   "cell_type": "code",
   "execution_count": null,
   "metadata": {
    "ExecuteTime": {
     "end_time": "2021-08-01T19:13:18.135344Z",
     "start_time": "2021-08-01T19:13:17.044411Z"
    }
   },
   "outputs": [],
   "source": [
    "plt.figure(figsize=(5,2))\n",
    "sns.stripplot(x=y, y=predicted_prob, hue=mean_fd_binned,\n",
    "              palette=\"coolwarm\", alpha=0.4, jitter=0.4, dodge=True)\n",
    "sns.boxplot(x=y, y=predicted_prob, color=(1,1,1,1))\n",
    "plt.legend([],[], frameon=False)\n",
    "plt.savefig('../data_out/fig/abide_motion_reg_stripplot.pdf')"
   ]
  },
  {
   "cell_type": "code",
   "execution_count": null,
   "metadata": {
    "ExecuteTime": {
     "end_time": "2021-08-01T19:13:22.257490Z",
     "start_time": "2021-08-01T19:13:18.142609Z"
    }
   },
   "outputs": [],
   "source": [
    "plot_graph(test_partially_confounded(y, predicted, mean_fd, random_state=42),\n",
    "          outfile_base='../data_out/fig/abide_motion_reg_partial')"
   ]
  },
  {
   "cell_type": "code",
   "execution_count": null,
   "metadata": {
    "ExecuteTime": {
     "end_time": "2021-08-01T19:13:26.317643Z",
     "start_time": "2021-08-01T19:13:22.261618Z"
    }
   },
   "outputs": [],
   "source": [
    "plot_graph(test_fully_confounded(y, predicted, mean_fd, random_state=42),\n",
    "          outfile_base='../data_out/fig/abide_motion_reg_full')"
   ]
  },
  {
   "cell_type": "markdown",
   "metadata": {},
   "source": [
    "# Regress out site"
   ]
  },
  {
   "cell_type": "code",
   "execution_count": null,
   "metadata": {
    "ExecuteTime": {
     "end_time": "2021-08-01T19:15:35.079692Z",
     "start_time": "2021-08-01T19:13:26.320436Z"
    }
   },
   "outputs": [],
   "source": [
    "# regress-out acquisition from connectivity\n",
    "X_adj = np.zeros_like(X)\n",
    "for i in range(X.shape[1]):\n",
    "    tmp = pd.DataFrame({\n",
    "        'x': site_int,\n",
    "        'y': X[:,i]\n",
    "    })\n",
    "    OLS_model = ols_f(\"y ~ C(x)\", tmp).fit()  # training the model\n",
    "    X_adj[:, i] = OLS_model.resid.values"
   ]
  },
  {
   "cell_type": "code",
   "execution_count": null,
   "metadata": {
    "ExecuteTime": {
     "end_time": "2021-08-01T19:17:32.666545Z",
     "start_time": "2021-08-01T19:15:35.081996Z"
    }
   },
   "outputs": [],
   "source": [
    "outer_cv = StratifiedKFold(10)\n",
    "inner_cv = StratifiedKFold(10) \n",
    "model = Pipeline([\n",
    "    ('varthr', VarianceThreshold(0)),   # omit zero variance columns (diagonal)\n",
    "    #('fsel', SelectKBest(f_regression)),\n",
    "    ('model', LogisticRegression())])\n",
    "\n",
    "p_grid = {#'fsel__k': [500, 1000, 2000],\n",
    "          'model__C': [0.1, 1, 10]}\n",
    "\n",
    "clf = GridSearchCV(estimator=model, param_grid=p_grid, cv=StratifiedKFold(10),\n",
    "                   scoring=\"roc_auc\", return_train_score=False,\n",
    "                   n_jobs=-1)\n",
    "\n",
    "all_models = []\n",
    "best_params = []\n",
    "predicted = np.zeros(len(y))\n",
    "predicted_prob = np.zeros(len(y))\n",
    "nested_scores_train = np.zeros(outer_cv.get_n_splits(X_adj))\n",
    "nested_scores_test = np.zeros(outer_cv.get_n_splits(X_adj))   \n",
    "                                    \n",
    "print(\"model\\tinner_cv mean score\\touter vc score\")\n",
    "i=0\n",
    "for train, test in outer_cv.split(X, y):\n",
    "\n",
    "    clf.fit(X_adj[train], y[train])\n",
    "                                    \n",
    "    print('cv:', i, str(clf.best_params_) + \" \" + str(clf.best_score_) + \" \" + str(clf.score(X_adj[test], y[test])))\n",
    "                                    \n",
    "    all_models.append(clf.best_estimator_)\n",
    "    best_params.append(clf.best_params_)\n",
    "    \n",
    "    predicted[test] = clf.predict(X_adj[test])\n",
    "    predicted_prob[test] = clf.predict_proba(X_adj[test])[:,0]\n",
    "                                    \n",
    "    nested_scores_train[i] = clf.best_score_\n",
    "    nested_scores_test[i] = clf.score(X_adj[test], y[test])\n",
    "    i = i+1"
   ]
  },
  {
   "cell_type": "code",
   "execution_count": null,
   "metadata": {
    "ExecuteTime": {
     "end_time": "2021-08-01T19:17:32.931014Z",
     "start_time": "2021-08-01T19:17:32.669160Z"
    }
   },
   "outputs": [],
   "source": [
    "print(\"** Mean score in the inner crossvaludation (inner_cv):\\t\" + str(nested_scores_train.mean()))\n",
    "print(\"** Mean Nested Crossvalidation Score (outer_cv):\\t\" + str(nested_scores_test.mean()))\n",
    "\n",
    "fpr, tpr, _ = roc_curve(y, predicted_prob, pos_label=0)\n",
    "fig, ax = plt.subplots(figsize=(5,2))\n",
    "RocCurveDisplay(fpr=fpr, tpr=tpr).plot(ax=ax) \n",
    "plt.savefig('../data_out/fig/abide_site_reg_rocplot.pdf')\n",
    "    "
   ]
  },
  {
   "cell_type": "code",
   "execution_count": null,
   "metadata": {
    "ExecuteTime": {
     "end_time": "2021-08-01T19:17:36.932716Z",
     "start_time": "2021-08-01T19:17:32.933004Z"
    }
   },
   "outputs": [],
   "source": [
    "plt.figure(figsize=(5,1.5))\n",
    "\n",
    "pal=[sns.color_palette(\"coolwarm\", 10)[0], sns.color_palette(\"coolwarm\", 10)[-1]]\n",
    "sns.stripplot(x=site, y=predicted_prob, hue=y, palette=pal, alpha=0.2, jitter=0.2, dodge=True)\n",
    "ax=sns.boxplot(x=site, y=predicted_prob, hue=y, showfliers = False)\n",
    "for box in ax.artists:\n",
    "    box.set_facecolor((1,1,1,0))\n",
    "plt.xticks(rotation=90)\n",
    "for i in range(len(np.unique(site))):\n",
    "    plt.axvline(i+0.5, color=\"gray\", alpha=0.5, linewidth=0.5)\n",
    "plt.savefig('../data_out/fig/abide_site_reg_striplot.pdf')"
   ]
  },
  {
   "cell_type": "code",
   "execution_count": null,
   "metadata": {
    "ExecuteTime": {
     "end_time": "2021-08-01T19:17:45.768794Z",
     "start_time": "2021-08-01T19:17:36.934602Z"
    }
   },
   "outputs": [],
   "source": [
    "plot_graph(test_partially_confounded(y, predicted, site_int, cat_c=True, random_state=42),\n",
    "          outfile_base='../data_out/fig/abide_site_reg_partial')"
   ]
  },
  {
   "cell_type": "code",
   "execution_count": null,
   "metadata": {
    "ExecuteTime": {
     "end_time": "2021-08-01T19:17:51.250595Z",
     "start_time": "2021-08-01T19:17:45.772238Z"
    }
   },
   "outputs": [],
   "source": [
    "plot_graph(test_fully_confounded(y, predicted, site_int, cat_c=True, random_state=42),\n",
    "          outfile_base='../data_out/fig/abide_site_reg_full')"
   ]
  },
  {
   "cell_type": "markdown",
   "metadata": {
    "ExecuteTime": {
     "end_time": "2021-07-31T17:31:34.153662Z",
     "start_time": "2021-07-31T17:31:33.891286Z"
    }
   },
   "source": [
    "# Combat on binned motion data"
   ]
  },
  {
   "cell_type": "code",
   "execution_count": null,
   "metadata": {
    "ExecuteTime": {
     "end_time": "2021-08-01T19:20:30.274771Z",
     "start_time": "2021-08-01T19:17:51.253817Z"
    }
   },
   "outputs": [],
   "source": [
    "outer_cv = StratifiedKFold(10)\n",
    "inner_cv = StratifiedKFold(10) \n",
    "model = Pipeline([\n",
    "    ('varthr', VarianceThreshold(0)),   # omit zero variance columns (diagonal)\n",
    "    #('fsel', SelectKBest(f_regression)),\n",
    "    ('model', LogisticRegression())])\n",
    "\n",
    "p_grid = {#'fsel__k': [500, 1000, 2000],\n",
    "          'model__C': [0.1, 1, 10]}\n",
    "\n",
    "clf = GridSearchCV(estimator=model, param_grid=p_grid, cv=StratifiedKFold(10),\n",
    "                   scoring=\"roc_auc\", return_train_score=False,\n",
    "                   n_jobs=-1)\n",
    "\n",
    "all_models = []\n",
    "best_params = []\n",
    "predicted = np.zeros(len(y))\n",
    "predicted_prob = np.zeros(len(y))\n",
    "nested_scores_train = np.zeros(outer_cv.get_n_splits(X))\n",
    "nested_scores_test = np.zeros(outer_cv.get_n_splits(X))   \n",
    "                                    \n",
    "print(\"model\\tinner_cv mean score\\touter vc score\")\n",
    "i=0\n",
    "for train, test in outer_cv.split(X, y):\n",
    "    \n",
    "    comb = CombatModel()\n",
    "    X_train_combat = comb.fit_transform(X[:,np.sum(X,0)!=0][train],\n",
    "                                   np.array([mean_fd_binned[train]]).transpose()\n",
    "                                  )\n",
    "\n",
    "\n",
    "    clf.fit(X_train_combat, y[train])\n",
    "    \n",
    "    X_test_combat = comb.transform(X[:,np.sum(X,0)!=0][test],\n",
    "                                   np.array([mean_fd_binned[test]]).transpose())\n",
    "\n",
    "                                    \n",
    "    print('cv:', i, str(clf.best_params_) + \" \" + str(clf.best_score_) + \" \" + str(clf.score(X_test_combat, y[test])))\n",
    "                                    \n",
    "    all_models.append(clf.best_estimator_)\n",
    "    best_params.append(clf.best_params_)\n",
    "    \n",
    "    predicted[test] = clf.predict(X_test_combat)\n",
    "    predicted_prob[test] = clf.predict_proba(X_test_combat)[:,0]\n",
    "                                    \n",
    "    nested_scores_train[i] = clf.best_score_\n",
    "    nested_scores_test[i] = clf.score(X_test_combat, y[test])\n",
    "    i = i+1"
   ]
  },
  {
   "cell_type": "code",
   "execution_count": null,
   "metadata": {
    "ExecuteTime": {
     "end_time": "2021-08-01T19:20:30.525567Z",
     "start_time": "2021-08-01T19:20:30.277074Z"
    }
   },
   "outputs": [],
   "source": [
    "print(\"** Mean score in the inner crossvaludation (inner_cv):\\t\" + str(nested_scores_train.mean()))\n",
    "print(\"** Mean Nested Crossvalidation Score (outer_cv):\\t\" + str(nested_scores_test.mean()))\n",
    "\n",
    "fpr, tpr, _ = roc_curve(y, predicted_prob, pos_label=0)\n",
    "fig, ax = plt.subplots(figsize=(5,2))\n",
    "RocCurveDisplay(fpr=fpr, tpr=tpr).plot(ax=ax) \n",
    "plt.savefig('../data_out/fig/abide_motion_comb_rocplot.pdf')  \n",
    "    "
   ]
  },
  {
   "cell_type": "code",
   "execution_count": null,
   "metadata": {
    "ExecuteTime": {
     "end_time": "2021-08-01T19:20:31.576275Z",
     "start_time": "2021-08-01T19:20:30.527895Z"
    }
   },
   "outputs": [],
   "source": [
    "plt.figure(figsize=(5,2))\n",
    "sns.stripplot(x=y, y=predicted_prob, hue=mean_fd_binned,\n",
    "              palette=\"coolwarm\", alpha=0.4, jitter=0.4, dodge=True)\n",
    "plt.legend([],[], frameon=False)\n",
    "sns.boxplot(x=y, y=predicted_prob, color=(1,1,1,1))\n",
    "plt.savefig('../data_out/fig/abide_motion_comb_stripplot.pdf')"
   ]
  },
  {
   "cell_type": "code",
   "execution_count": null,
   "metadata": {
    "ExecuteTime": {
     "end_time": "2021-08-01T19:20:35.822321Z",
     "start_time": "2021-08-01T19:20:31.578789Z"
    }
   },
   "outputs": [],
   "source": [
    "plot_graph(test_partially_confounded(y, predicted, mean_fd, random_state=42),\n",
    "          outfile_base='../data_out/fig/abide_motion_comb_partial')"
   ]
  },
  {
   "cell_type": "code",
   "execution_count": null,
   "metadata": {
    "ExecuteTime": {
     "end_time": "2021-08-01T19:20:39.928951Z",
     "start_time": "2021-08-01T19:20:35.824981Z"
    }
   },
   "outputs": [],
   "source": [
    "plot_graph(test_fully_confounded(y, predicted, mean_fd, random_state=42),\n",
    "          outfile_base='../data_out/fig/abide_motion_comb_full')"
   ]
  },
  {
   "cell_type": "markdown",
   "metadata": {},
   "source": [
    "# Combat on site"
   ]
  },
  {
   "cell_type": "code",
   "execution_count": null,
   "metadata": {
    "ExecuteTime": {
     "end_time": "2021-08-01T19:23:08.544003Z",
     "start_time": "2021-08-01T19:20:39.931634Z"
    }
   },
   "outputs": [],
   "source": [
    "outer_cv = StratifiedKFold(10, shuffle=True, random_state=42)\n",
    "inner_cv = StratifiedKFold(10, shuffle=True, random_state=42) \n",
    "model = Pipeline([\n",
    "    ('varthr', VarianceThreshold(0)),   # omit zero variance columns (diagonal)\n",
    "    #('fsel', SelectKBest(f_regression)),\n",
    "    ('model', LogisticRegression())])\n",
    "\n",
    "p_grid = {#'fsel__k': [500, 1000, 2000],\n",
    "          'model__C': [0.1, 1, 10]}\n",
    "\n",
    "clf = GridSearchCV(estimator=model, param_grid=p_grid, cv=StratifiedKFold(10),\n",
    "                   scoring=\"roc_auc\", return_train_score=False,\n",
    "                   n_jobs=-1)\n",
    "\n",
    "all_models = []\n",
    "best_params = []\n",
    "predicted = np.zeros(len(y))\n",
    "predicted_prob = np.zeros(len(y))\n",
    "nested_scores_train = np.zeros(outer_cv.get_n_splits(X))\n",
    "nested_scores_test = np.zeros(outer_cv.get_n_splits(X))   \n",
    "                                    \n",
    "print(\"model\\tinner_cv mean score\\touter vc score\")\n",
    "i=0\n",
    "for train, test in outer_cv.split(X, y):\n",
    "    \n",
    "    comb = CombatModel()\n",
    "    X_train_combat = comb.fit_transform(X[:,np.sum(X,0)!=0][train],\n",
    "                                   np.array([site_int[train]]).transpose()\n",
    "                                  )\n",
    "\n",
    "\n",
    "    clf.fit(X_train_combat, y[train])\n",
    "    \n",
    "    X_test_combat = comb.transform(X[:,np.sum(X,0)!=0][test],\n",
    "                                   np.array([site_int[test]]).transpose())\n",
    "\n",
    "                                    \n",
    "    print('cv:', i, str(clf.best_params_) + \" \" + str(clf.best_score_) + \" \" + str(clf.score(X_test_combat, y[test])))\n",
    "                                    \n",
    "    all_models.append(clf.best_estimator_)\n",
    "    best_params.append(clf.best_params_)\n",
    "    \n",
    "    predicted[test] = clf.predict(X_test_combat)\n",
    "    predicted_prob[test] = clf.predict_proba(X_test_combat)[:,0]\n",
    "                                    \n",
    "    nested_scores_train[i] = clf.best_score_\n",
    "    nested_scores_test[i] = clf.score(X_test_combat, y[test])\n",
    "    i = i+1"
   ]
  },
  {
   "cell_type": "code",
   "execution_count": null,
   "metadata": {
    "ExecuteTime": {
     "end_time": "2021-08-01T19:23:08.752532Z",
     "start_time": "2021-08-01T19:23:08.546076Z"
    }
   },
   "outputs": [],
   "source": [
    "print(\"** Mean score in the inner crossvaludation (inner_cv):\\t\" + str(nested_scores_train.mean()))\n",
    "print(\"** Mean Nested Crossvalidation Score (outer_cv):\\t\" + str(nested_scores_test.mean()))\n",
    "\n",
    "fpr, tpr, _ = roc_curve(y, predicted_prob, pos_label=0)\n",
    "fig, ax = plt.subplots(figsize=(5,2))\n",
    "RocCurveDisplay(fpr=fpr, tpr=tpr).plot(ax=ax) \n",
    "plt.savefig('../data_out/fig/abide_site_comb_rocplot.pdf')  "
   ]
  },
  {
   "cell_type": "code",
   "execution_count": null,
   "metadata": {
    "ExecuteTime": {
     "end_time": "2021-08-01T19:23:12.633347Z",
     "start_time": "2021-08-01T19:23:08.754815Z"
    }
   },
   "outputs": [],
   "source": [
    "plt.figure(figsize=(5,1.5))\n",
    "\n",
    "pal=[sns.color_palette(\"coolwarm\", 10)[0], sns.color_palette(\"coolwarm\", 10)[-1]]\n",
    "sns.stripplot(x=site, y=predicted_prob, hue=y, palette=pal, alpha=0.2, jitter=0.2, dodge=True)\n",
    "ax=sns.boxplot(x=site, y=predicted_prob, hue=y, showfliers = False)\n",
    "for box in ax.artists:\n",
    "    box.set_facecolor((1,1,1,0))\n",
    "plt.xticks(rotation=90)\n",
    "for i in range(len(np.unique(site))):\n",
    "    plt.axvline(i+0.5, color=\"gray\", alpha=0.5, linewidth=0.5)\n",
    "plt.savefig('../data_out/fig/abide_site_comb_striplot.pdf')"
   ]
  },
  {
   "cell_type": "code",
   "execution_count": null,
   "metadata": {
    "ExecuteTime": {
     "end_time": "2021-08-01T19:23:18.831619Z",
     "start_time": "2021-08-01T19:23:12.635587Z"
    }
   },
   "outputs": [],
   "source": [
    "plot_graph(test_partially_confounded(y, predicted, site_int, cat_c=True, random_state=42),\n",
    "          outfile_base='../data_out/fig/abide_site_comb_partial')"
   ]
  },
  {
   "cell_type": "code",
   "execution_count": null,
   "metadata": {
    "ExecuteTime": {
     "end_time": "2021-08-01T19:23:22.712352Z",
     "start_time": "2021-08-01T19:23:18.833997Z"
    }
   },
   "outputs": [],
   "source": [
    "plot_graph(test_fully_confounded(y, predicted, site_int, cat_c=True, random_state=42),\n",
    "          outfile_base='../data_out/fig/abide_site_comb_full')"
   ]
  },
  {
   "cell_type": "code",
   "execution_count": null,
   "metadata": {
    "ExecuteTime": {
     "end_time": "2021-08-01T20:31:15.252041Z",
     "start_time": "2021-08-01T20:31:15.236377Z"
    }
   },
   "outputs": [],
   "source": [
    "sns.color_palette(\"coolwarm\", as_cmap=True)"
   ]
  },
  {
   "cell_type": "code",
   "execution_count": null,
   "metadata": {
    "ExecuteTime": {
     "end_time": "2021-08-01T20:32:31.730981Z",
     "start_time": "2021-08-01T20:32:31.724659Z"
    }
   },
   "outputs": [],
   "source": [
    "np.max(mean_fd)"
   ]
  },
  {
   "cell_type": "code",
   "execution_count": null,
   "metadata": {
    "ExecuteTime": {
     "end_time": "2021-08-03T21:51:30.406575Z",
     "start_time": "2021-08-03T21:48:29.992Z"
    }
   },
   "outputs": [],
   "source": [
    "def workhorse(x, y):\n",
    "    df = pd.DataFrame({\n",
    "        'x': x,\n",
    "        'y': y\n",
    "    })\n",
    "    fit = logit_f('C(y) ~ x', data=df).fit(disp=0)\n",
    "    return fit.prsquared\n",
    "\n",
    "permutation_test(mean_fd, y,\n",
    "                 func=workhorse,\n",
    "                 method='approximate',\n",
    "                 num_rounds=1000,\n",
    "                 seed=42)"
   ]
  },
  {
   "cell_type": "code",
   "execution_count": null,
   "metadata": {
    "ExecuteTime": {
     "end_time": "2021-08-04T08:39:58.550903Z",
     "start_time": "2021-08-04T08:39:54.967052Z"
    }
   },
   "outputs": [],
   "source": [
    "def workhorse(x, y):\n",
    "    df_tmp=pd.DataFrame({\n",
    "        'x': site_int.astype(float),\n",
    "        'y': y.astype(int)\n",
    "    })\n",
    "    df_tmp.x = pd.to_numeric(df_tmp.x)\n",
    "    df_tmp.y = pd.to_numeric(df_tmp.y)\n",
    "    fit = logit_f('y ~ C(x)', data=df_tmp).fit(disp=0)\n",
    "    return fit.prsquared\n",
    "\n",
    "permutation_test(site_int, y,\n",
    "                 func=workhorse,\n",
    "                 method='approximate',\n",
    "                 num_rounds=1,\n",
    "                 seed=42)"
   ]
  },
  {
   "cell_type": "code",
   "execution_count": null,
   "metadata": {
    "ExecuteTime": {
     "end_time": "2021-08-04T08:45:56.608161Z",
     "start_time": "2021-08-04T08:45:22.038734Z"
    }
   },
   "outputs": [],
   "source": [
    "df_tmp=pd.DataFrame({\n",
    "            'x': np.random.permutation(site_int).astype(int),\n",
    "            'y': y.astype(int)\n",
    "        })\n",
    "fit = logit_f('y ~ C(x)', data=df_tmp).fit(disp=0)\n",
    "unpermuted = fit.prsquared\n",
    "\n",
    "nulldist=[]\n",
    "for i in range(1000):\n",
    "    \n",
    "    df_tmp=pd.DataFrame({\n",
    "            'x': np.random.permutation(site_int).astype(int),\n",
    "            'y': y.astype(int)\n",
    "        })\n",
    "    fit = logit_f('y ~ C(x)', data=df_tmp).fit(disp=0)\n",
    "    nulldist.append(fit.prsquared)\n",
    "(nulldist <= unpermuted).sum()/len(nulldist)"
   ]
  },
  {
   "cell_type": "code",
   "execution_count": null,
   "metadata": {
    "ExecuteTime": {
     "end_time": "2021-08-04T08:46:16.783550Z",
     "start_time": "2021-08-04T08:45:56.611135Z"
    }
   },
   "outputs": [],
   "source": [
    "df_tmp=pd.DataFrame({\n",
    "            'x': np.random.permutation(mean_fd).astype(float),\n",
    "            'y': y.astype(int)\n",
    "        })\n",
    "df_tmp.x = pd.to_numeric(df_tmp.x)\n",
    "df_tmp.y = pd.to_numeric(df_tmp.y)\n",
    "fit = logit_f('y ~ x', data=df_tmp).fit(disp=0)\n",
    "unpermuted = fit.prsquared\n",
    "\n",
    "nulldist=[]\n",
    "for i in range(1000):\n",
    "    \n",
    "    df_tmp=pd.DataFrame({\n",
    "            'x': np.random.permutation(mean_fd).astype(int),\n",
    "            'y': y.astype(int)\n",
    "        })\n",
    "    df_tmp.x = pd.to_numeric(df_tmp.x)\n",
    "    df_tmp.y = pd.to_numeric(df_tmp.y)\n",
    "    fit = logit_f('y ~ x', data=df_tmp).fit(disp=0)\n",
    "    nulldist.append(fit.prsquared)\n",
    "(nulldist <= unpermuted).sum()/len(nulldist)"
   ]
  },
  {
   "cell_type": "code",
   "execution_count": null,
   "metadata": {
    "ExecuteTime": {
     "end_time": "2021-08-04T08:49:40.893777Z",
     "start_time": "2021-08-04T08:49:40.889566Z"
    }
   },
   "outputs": [],
   "source": [
    "unpermuted"
   ]
  },
  {
   "cell_type": "code",
   "execution_count": null,
   "metadata": {},
   "outputs": [],
   "source": []
  }
 ],
 "metadata": {
  "hide_input": false,
  "kernelspec": {
   "display_name": "Python 3",
   "language": "python",
   "name": "python3"
  },
  "language_info": {
   "codemirror_mode": {
    "name": "ipython",
    "version": 3
   },
   "file_extension": ".py",
   "mimetype": "text/x-python",
   "name": "python",
   "nbconvert_exporter": "python",
   "pygments_lexer": "ipython3",
   "version": "3.7.4"
  }
 },
 "nbformat": 4,
 "nbformat_minor": 2
}